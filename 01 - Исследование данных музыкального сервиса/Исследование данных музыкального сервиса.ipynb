{
 "cells": [
  {
   "cell_type": "markdown",
   "metadata": {
    "id": "E0vqbgi9ay0H"
   },
   "source": [
    "# Яндекс.Музыка"
   ]
  },
  {
   "cell_type": "markdown",
   "metadata": {
    "id": "VUC88oWjTJw2"
   },
   "source": [
    "Сравнение Москвы и Петербурга окружено мифами. Например:\n",
    " * Москва — мегаполис, подчинённый жёсткому ритму рабочей недели;\n",
    " * Петербург — культурная столица, со своими вкусами.\n",
    "\n",
    "На данных Яндекс.Музыки вы сравните поведение пользователей двух столиц.\n",
    "\n",
    "**Цель исследования** — проверьте три гипотезы:\n",
    "1. Активность пользователей зависит от дня недели. Причём в Москве и Петербурге это проявляется по-разному.\n",
    "2. В понедельник утром в Москве преобладают одни жанры, а в Петербурге — другие. Так же и вечером пятницы преобладают разные жанры — в зависимости от города. \n",
    "3. Москва и Петербург предпочитают разные жанры музыки. В Москве чаще слушают поп-музыку, в Петербурге — русский рэп.\n",
    "\n",
    "**Ход исследования**\n",
    "\n",
    "Данные о поведении пользователей вы получите из файла `yandex_music_project.csv`. О качестве данных ничего не известно. Поэтому перед проверкой гипотез понадобится обзор данных. \n",
    "\n",
    "Вы проверите данные на ошибки и оцените их влияние на исследование. Затем, на этапе предобработки вы поищете возможность исправить самые критичные ошибки данных.\n",
    " \n",
    "Таким образом, исследование пройдёт в три этапа:\n",
    " 1. Обзор данных.\n",
    " 2. Предобработка данных.\n",
    " 3. Проверка гипотез.\n",
    "\n"
   ]
  },
  {
   "cell_type": "markdown",
   "metadata": {
    "id": "Ml1hmfXC_Zcs"
   },
   "source": [
    "## Обзор данных\n",
    "\n",
    "Составьте первое представление о данных Яндекс.Музыки.\n",
    "\n",
    "\n"
   ]
  },
  {
   "cell_type": "markdown",
   "metadata": {
    "id": "57eAOGIz_Zcs"
   },
   "source": [
    "Основной инструмент аналитика — `pandas`. Импортируйте эту библиотеку."
   ]
  },
  {
   "cell_type": "code",
   "execution_count": 39,
   "metadata": {
    "id": "AXN7PHPN_Zcs"
   },
   "outputs": [],
   "source": [
    "import pandas as pd# импорт библиотеки pandas"
   ]
  },
  {
   "cell_type": "markdown",
   "metadata": {
    "id": "SG23P8tt_Zcs"
   },
   "source": [
    "Прочитайте файл `yandex_music_project.csv` из папки `/datasets` и сохраните его в переменной `df`:"
   ]
  },
  {
   "cell_type": "code",
   "execution_count": 40,
   "metadata": {
    "id": "fFVu7vqh_Zct"
   },
   "outputs": [],
   "source": [
    "df = pd.read_csv(\"/datasets/yandex_music_project.csv\")# чтение файла с данными и сохранение в df"
   ]
  },
  {
   "cell_type": "markdown",
   "metadata": {
    "id": "rDoOMd3uTqnZ"
   },
   "source": [
    "Выведите на экран первые десять строк таблицы:"
   ]
  },
  {
   "cell_type": "code",
   "execution_count": 41,
   "metadata": {
    "id": "oWTVX3gW_Zct"
   },
   "outputs": [
    {
     "data": {
      "text/html": [
       "<div>\n",
       "<style scoped>\n",
       "    .dataframe tbody tr th:only-of-type {\n",
       "        vertical-align: middle;\n",
       "    }\n",
       "\n",
       "    .dataframe tbody tr th {\n",
       "        vertical-align: top;\n",
       "    }\n",
       "\n",
       "    .dataframe thead th {\n",
       "        text-align: right;\n",
       "    }\n",
       "</style>\n",
       "<table border=\"1\" class=\"dataframe\">\n",
       "  <thead>\n",
       "    <tr style=\"text-align: right;\">\n",
       "      <th></th>\n",
       "      <th>userID</th>\n",
       "      <th>Track</th>\n",
       "      <th>artist</th>\n",
       "      <th>genre</th>\n",
       "      <th>City</th>\n",
       "      <th>time</th>\n",
       "      <th>Day</th>\n",
       "    </tr>\n",
       "  </thead>\n",
       "  <tbody>\n",
       "    <tr>\n",
       "      <th>0</th>\n",
       "      <td>FFB692EC</td>\n",
       "      <td>Kamigata To Boots</td>\n",
       "      <td>The Mass Missile</td>\n",
       "      <td>rock</td>\n",
       "      <td>Saint-Petersburg</td>\n",
       "      <td>20:28:33</td>\n",
       "      <td>Wednesday</td>\n",
       "    </tr>\n",
       "    <tr>\n",
       "      <th>1</th>\n",
       "      <td>55204538</td>\n",
       "      <td>Delayed Because of Accident</td>\n",
       "      <td>Andreas Rönnberg</td>\n",
       "      <td>rock</td>\n",
       "      <td>Moscow</td>\n",
       "      <td>14:07:09</td>\n",
       "      <td>Friday</td>\n",
       "    </tr>\n",
       "    <tr>\n",
       "      <th>2</th>\n",
       "      <td>20EC38</td>\n",
       "      <td>Funiculì funiculà</td>\n",
       "      <td>Mario Lanza</td>\n",
       "      <td>pop</td>\n",
       "      <td>Saint-Petersburg</td>\n",
       "      <td>20:58:07</td>\n",
       "      <td>Wednesday</td>\n",
       "    </tr>\n",
       "    <tr>\n",
       "      <th>3</th>\n",
       "      <td>A3DD03C9</td>\n",
       "      <td>Dragons in the Sunset</td>\n",
       "      <td>Fire + Ice</td>\n",
       "      <td>folk</td>\n",
       "      <td>Saint-Petersburg</td>\n",
       "      <td>08:37:09</td>\n",
       "      <td>Monday</td>\n",
       "    </tr>\n",
       "    <tr>\n",
       "      <th>4</th>\n",
       "      <td>E2DC1FAE</td>\n",
       "      <td>Soul People</td>\n",
       "      <td>Space Echo</td>\n",
       "      <td>dance</td>\n",
       "      <td>Moscow</td>\n",
       "      <td>08:34:34</td>\n",
       "      <td>Monday</td>\n",
       "    </tr>\n",
       "    <tr>\n",
       "      <th>5</th>\n",
       "      <td>842029A1</td>\n",
       "      <td>Преданная</td>\n",
       "      <td>IMPERVTOR</td>\n",
       "      <td>rusrap</td>\n",
       "      <td>Saint-Petersburg</td>\n",
       "      <td>13:09:41</td>\n",
       "      <td>Friday</td>\n",
       "    </tr>\n",
       "    <tr>\n",
       "      <th>6</th>\n",
       "      <td>4CB90AA5</td>\n",
       "      <td>True</td>\n",
       "      <td>Roman Messer</td>\n",
       "      <td>dance</td>\n",
       "      <td>Moscow</td>\n",
       "      <td>13:00:07</td>\n",
       "      <td>Wednesday</td>\n",
       "    </tr>\n",
       "    <tr>\n",
       "      <th>7</th>\n",
       "      <td>F03E1C1F</td>\n",
       "      <td>Feeling This Way</td>\n",
       "      <td>Polina Griffith</td>\n",
       "      <td>dance</td>\n",
       "      <td>Moscow</td>\n",
       "      <td>20:47:49</td>\n",
       "      <td>Wednesday</td>\n",
       "    </tr>\n",
       "    <tr>\n",
       "      <th>8</th>\n",
       "      <td>8FA1D3BE</td>\n",
       "      <td>И вновь продолжается бой</td>\n",
       "      <td>NaN</td>\n",
       "      <td>ruspop</td>\n",
       "      <td>Moscow</td>\n",
       "      <td>09:17:40</td>\n",
       "      <td>Friday</td>\n",
       "    </tr>\n",
       "    <tr>\n",
       "      <th>9</th>\n",
       "      <td>E772D5C0</td>\n",
       "      <td>Pessimist</td>\n",
       "      <td>NaN</td>\n",
       "      <td>dance</td>\n",
       "      <td>Saint-Petersburg</td>\n",
       "      <td>21:20:49</td>\n",
       "      <td>Wednesday</td>\n",
       "    </tr>\n",
       "  </tbody>\n",
       "</table>\n",
       "</div>"
      ],
      "text/plain": [
       "     userID                        Track            artist   genre  \\\n",
       "0  FFB692EC            Kamigata To Boots  The Mass Missile    rock   \n",
       "1  55204538  Delayed Because of Accident  Andreas Rönnberg    rock   \n",
       "2    20EC38            Funiculì funiculà       Mario Lanza     pop   \n",
       "3  A3DD03C9        Dragons in the Sunset        Fire + Ice    folk   \n",
       "4  E2DC1FAE                  Soul People        Space Echo   dance   \n",
       "5  842029A1                    Преданная         IMPERVTOR  rusrap   \n",
       "6  4CB90AA5                         True      Roman Messer   dance   \n",
       "7  F03E1C1F             Feeling This Way   Polina Griffith   dance   \n",
       "8  8FA1D3BE     И вновь продолжается бой               NaN  ruspop   \n",
       "9  E772D5C0                    Pessimist               NaN   dance   \n",
       "\n",
       "             City        time        Day  \n",
       "0  Saint-Petersburg  20:28:33  Wednesday  \n",
       "1            Moscow  14:07:09     Friday  \n",
       "2  Saint-Petersburg  20:58:07  Wednesday  \n",
       "3  Saint-Petersburg  08:37:09     Monday  \n",
       "4            Moscow  08:34:34     Monday  \n",
       "5  Saint-Petersburg  13:09:41     Friday  \n",
       "6            Moscow  13:00:07  Wednesday  \n",
       "7            Moscow  20:47:49  Wednesday  \n",
       "8            Moscow  09:17:40     Friday  \n",
       "9  Saint-Petersburg  21:20:49  Wednesday  "
      ]
     },
     "metadata": {},
     "output_type": "display_data"
    }
   ],
   "source": [
    "display(df.head(10))# получение первых 10 строк таблицы df"
   ]
  },
  {
   "cell_type": "markdown",
   "metadata": {
    "id": "EO73Kwic_Zct"
   },
   "source": [
    "Одной командой получить общую информацию о таблице:"
   ]
  },
  {
   "cell_type": "code",
   "execution_count": 42,
   "metadata": {
    "id": "DSf2kIb-_Zct"
   },
   "outputs": [
    {
     "name": "stdout",
     "output_type": "stream",
     "text": [
      "<class 'pandas.core.frame.DataFrame'>\n",
      "RangeIndex: 65079 entries, 0 to 65078\n",
      "Data columns (total 7 columns):\n",
      " #   Column    Non-Null Count  Dtype \n",
      "---  ------    --------------  ----- \n",
      " 0     userID  65079 non-null  object\n",
      " 1   Track     63848 non-null  object\n",
      " 2   artist    57876 non-null  object\n",
      " 3   genre     63881 non-null  object\n",
      " 4     City    65079 non-null  object\n",
      " 5   time      65079 non-null  object\n",
      " 6   Day       65079 non-null  object\n",
      "dtypes: object(7)\n",
      "memory usage: 3.5+ MB\n"
     ]
    }
   ],
   "source": [
    "df.info()# получение общей информации о данных в таблице df"
   ]
  },
  {
   "cell_type": "markdown",
   "metadata": {
    "id": "TaQ2Iwbr_Zct"
   },
   "source": [
    "Итак, в таблице семь столбцов. Тип данных во всех столбцах — `object`.\n",
    "\n",
    "Согласно документации к данным:\n",
    "* `userID` — идентификатор пользователя;\n",
    "* `Track` — название трека;  \n",
    "* `artist` — имя исполнителя;\n",
    "* `genre` — название жанра;\n",
    "* `City` — город пользователя;\n",
    "* `time` — время начала прослушивания;\n",
    "* `Day` — день недели.\n",
    "\n",
    "В названиях колонок видны три нарушения стиля:\n",
    "1. Строчные буквы сочетаются с прописными.\n",
    "2. Встречаются пробелы.\n",
    "3. Слова не разделены подчеркиваниями\n",
    "\n",
    "\n",
    "\n",
    "Количество значений в столбцах различается. Значит, в данных есть пропущенные значения.\n"
   ]
  },
  {
   "cell_type": "markdown",
   "metadata": {
    "id": "MCB6-dXG_Zct"
   },
   "source": [
    "**Выводы**\n",
    "\n",
    "В каждой строке таблицы — данные о прослушанном треке. Часть колонок описывает саму композицию: название, исполнителя и жанр. Остальные данные рассказывают о пользователе: из какого он города, когда он слушал музыку. \n",
    "\n",
    "Предварительно можно утверждать, что, данных достаточно для проверки гипотез. Но встречаются пропуски в данных, а в названиях колонок — расхождения с хорошим стилем.\n",
    "\n",
    "Чтобы двигаться дальше, нужно устранить проблемы в данных."
   ]
  },
  {
   "cell_type": "markdown",
   "metadata": {
    "id": "SjYF6Ub9_Zct"
   },
   "source": [
    "## Предобработка данных\n",
    "Исправьте стиль в заголовках столбцов, исключите пропуски. Затем проверьте данные на дубликаты."
   ]
  },
  {
   "cell_type": "markdown",
   "metadata": {
    "id": "dIaKXr29_Zct"
   },
   "source": [
    "### Стиль заголовков\n",
    "Выведите на экран названия столбцов:"
   ]
  },
  {
   "cell_type": "code",
   "execution_count": 43,
   "metadata": {
    "id": "oKOTdF_Q_Zct",
    "scrolled": false
   },
   "outputs": [
    {
     "data": {
      "text/plain": [
       "Index(['  userID', 'Track', 'artist', 'genre', '  City  ', 'time', 'Day'], dtype='object')"
      ]
     },
     "execution_count": 43,
     "metadata": {},
     "output_type": "execute_result"
    }
   ],
   "source": [
    "df.columns# перечень названий столбцов таблицы df"
   ]
  },
  {
   "cell_type": "markdown",
   "metadata": {
    "id": "zj5534cv_Zct"
   },
   "source": [
    "Приведите названия в соответствие с хорошим стилем:\n",
    "* несколько слов в названии запишите в «змеином_регистре»,\n",
    "* все символы сделайте строчными,\n",
    "* устраните пробелы.\n",
    "\n",
    "Для этого переименуйте колонки так:\n",
    "* `'  userID'` → `'user_id'`;\n",
    "* `'Track'` → `'track'`;\n",
    "* `'  City  '` → `'city'`;\n",
    "* `'Day'` → `'day'`."
   ]
  },
  {
   "cell_type": "code",
   "execution_count": 44,
   "metadata": {
    "id": "ISlFqs5y_Zct"
   },
   "outputs": [],
   "source": [
    "df = df.rename(\n",
    "    columns = {\n",
    "        '  userID': 'user_id',\n",
    "        'Track': 'track',\n",
    "        '  City  ': 'city',\n",
    "        'Day': 'day'\n",
    "    }\n",
    ")# переименование столбцов"
   ]
  },
  {
   "cell_type": "markdown",
   "metadata": {
    "id": "1dqbh00J_Zct"
   },
   "source": [
    "Проверьте результат. Для этого ещё раз выведите на экран названия столбцов:"
   ]
  },
  {
   "cell_type": "code",
   "execution_count": 45,
   "metadata": {
    "id": "d4NOAmTW_Zct"
   },
   "outputs": [
    {
     "data": {
      "text/plain": [
       "Index(['user_id', 'track', 'artist', 'genre', 'city', 'time', 'day'], dtype='object')"
      ]
     },
     "execution_count": 45,
     "metadata": {},
     "output_type": "execute_result"
    }
   ],
   "source": [
    "df.columns# проверка результатов - перечень названий столбцов"
   ]
  },
  {
   "cell_type": "markdown",
   "metadata": {
    "id": "5ISfbcfY_Zct"
   },
   "source": [
    "### Пропуски значений\n",
    "Сначала посчитайте, сколько в таблице пропущенных значений. Для этого достаточно двух методов `pandas`:"
   ]
  },
  {
   "cell_type": "code",
   "execution_count": 46,
   "metadata": {
    "id": "RskX29qr_Zct"
   },
   "outputs": [
    {
     "data": {
      "text/plain": [
       "user_id       0\n",
       "track      1231\n",
       "artist     7203\n",
       "genre      1198\n",
       "city          0\n",
       "time          0\n",
       "day           0\n",
       "dtype: int64"
      ]
     },
     "execution_count": 46,
     "metadata": {},
     "output_type": "execute_result"
    }
   ],
   "source": [
    "df.isna().sum() # подсчёт пропусков"
   ]
  },
  {
   "cell_type": "markdown",
   "metadata": {
    "id": "qubhgnlO_Zct"
   },
   "source": [
    "Не все пропущенные значения влияют на исследование. Так в `track` и `artist` пропуски не важны для вашей работы. Достаточно заменить их явными обозначениями.\n",
    "\n",
    "Но пропуски в `genre` могут помешать сравнению музыкальных вкусов в Москве и Санкт-Петербурге. На практике было бы правильно установить причину пропусков и восстановить данные. Такой возможности нет в учебном проекте. Придётся:\n",
    "* заполнить и эти пропуски явными обозначениями,\n",
    "* оценить, насколько они повредят расчётам. "
   ]
  },
  {
   "cell_type": "markdown",
   "metadata": {
    "id": "fSv2laPA_Zct"
   },
   "source": [
    "Замените пропущенные значения в столбцах `track`, `artist` и `genre` на строку `'unknown'`. Для этого создайте список `columns_to_replace`, переберите его элементы циклом `for` и для каждого столбца выполните замену пропущенных значений:"
   ]
  },
  {
   "cell_type": "code",
   "execution_count": 47,
   "metadata": {
    "id": "KplB5qWs_Zct"
   },
   "outputs": [],
   "source": [
    "columns_to_replace = ['track', 'artist', 'genre']\n",
    "for columns in columns_to_replace:\n",
    "    df[columns] = df[columns].fillna('unknown')# перебор названий столбцов в цикле и замена пропущенных значений на 'unknown'"
   ]
  },
  {
   "cell_type": "markdown",
   "metadata": {
    "id": "Ilsm-MZo_Zct"
   },
   "source": [
    "Убедитесь, что в таблице не осталось пропусков. Для этого ещё раз посчитайте пропущенные значения."
   ]
  },
  {
   "cell_type": "code",
   "execution_count": 48,
   "metadata": {
    "id": "Tq4nYRX4_Zct"
   },
   "outputs": [
    {
     "data": {
      "text/plain": [
       "user_id    0\n",
       "track      0\n",
       "artist     0\n",
       "genre      0\n",
       "city       0\n",
       "time       0\n",
       "day        0\n",
       "dtype: int64"
      ]
     },
     "execution_count": 48,
     "metadata": {},
     "output_type": "execute_result"
    }
   ],
   "source": [
    "df.isna().sum()# подсчёт пропусков"
   ]
  },
  {
   "cell_type": "markdown",
   "metadata": {
    "id": "BWKRtBJ3_Zct"
   },
   "source": [
    "### Дубликаты\n",
    "Посчитайте явные дубликаты в таблице одной командой:"
   ]
  },
  {
   "cell_type": "code",
   "execution_count": 49,
   "metadata": {
    "id": "36eES_S0_Zct",
    "scrolled": true
   },
   "outputs": [
    {
     "data": {
      "text/plain": [
       "3826"
      ]
     },
     "execution_count": 49,
     "metadata": {},
     "output_type": "execute_result"
    }
   ],
   "source": [
    "df.duplicated().sum()# подсчёт явных дубликатов"
   ]
  },
  {
   "cell_type": "markdown",
   "metadata": {
    "id": "Ot25h6XR_Zct"
   },
   "source": [
    "Вызовите специальный метод `pandas`, чтобы удалить явные дубликаты:"
   ]
  },
  {
   "cell_type": "code",
   "execution_count": 50,
   "metadata": {
    "id": "exFHq6tt_Zct"
   },
   "outputs": [],
   "source": [
    "df = df.drop_duplicates().reset_index(drop=True)# удаление явных дубликатов (с удалением старых индексов и формированием новых)"
   ]
  },
  {
   "cell_type": "markdown",
   "metadata": {
    "id": "Im2YwBEG_Zct"
   },
   "source": [
    "Ещё раз посчитайте явные дубликаты в таблице — убедитесь, что полностью от них избавились:"
   ]
  },
  {
   "cell_type": "code",
   "execution_count": 51,
   "metadata": {
    "id": "-8PuNWQ0_Zct"
   },
   "outputs": [
    {
     "data": {
      "text/plain": [
       "0"
      ]
     },
     "execution_count": 51,
     "metadata": {},
     "output_type": "execute_result"
    }
   ],
   "source": [
    "df.duplicated().sum()# проверка на отсутствие дубликатов"
   ]
  },
  {
   "cell_type": "markdown",
   "metadata": {
    "id": "QlFBsxAr_Zct"
   },
   "source": [
    "Теперь избавьтесь от неявных дубликатов в колонке `genre`. Например, название одного и того же жанра может быть записано немного по-разному. Такие ошибки тоже повлияют на результат исследования."
   ]
  },
  {
   "cell_type": "markdown",
   "metadata": {
    "id": "eSjWwsOh_Zct"
   },
   "source": [
    "Выведите на экран список уникальных названий жанров, отсортированный в алфавитном порядке. Для этого:\n",
    "* извлеките нужный столбец датафрейма, \n",
    "* примените к нему метод сортировки,\n",
    "* для отсортированного столбца вызовите метод, который вернёт уникальные значения из столбца."
   ]
  },
  {
   "cell_type": "code",
   "execution_count": 52,
   "metadata": {
    "id": "JIUcqzZN_Zct"
   },
   "outputs": [
    {
     "data": {
      "text/plain": [
       "array(['acid', 'acoustic', 'action', 'adult', 'africa', 'afrikaans',\n",
       "       'alternative', 'alternativepunk', 'ambient', 'americana',\n",
       "       'animated', 'anime', 'arabesk', 'arabic', 'arena',\n",
       "       'argentinetango', 'art', 'audiobook', 'author', 'avantgarde',\n",
       "       'axé', 'baile', 'balkan', 'beats', 'bigroom', 'black', 'bluegrass',\n",
       "       'blues', 'bollywood', 'bossa', 'brazilian', 'breakbeat', 'breaks',\n",
       "       'broadway', 'cantautori', 'cantopop', 'canzone', 'caribbean',\n",
       "       'caucasian', 'celtic', 'chamber', 'chanson', 'children', 'chill',\n",
       "       'chinese', 'choral', 'christian', 'christmas', 'classical',\n",
       "       'classicmetal', 'club', 'colombian', 'comedy', 'conjazz',\n",
       "       'contemporary', 'country', 'cuban', 'dance', 'dancehall',\n",
       "       'dancepop', 'dark', 'death', 'deep', 'deutschrock', 'deutschspr',\n",
       "       'dirty', 'disco', 'dnb', 'documentary', 'downbeat', 'downtempo',\n",
       "       'drum', 'dub', 'dubstep', 'eastern', 'easy', 'electronic',\n",
       "       'electropop', 'emo', 'entehno', 'epicmetal', 'estrada', 'ethnic',\n",
       "       'eurofolk', 'european', 'experimental', 'extrememetal', 'fado',\n",
       "       'fairytail', 'film', 'fitness', 'flamenco', 'folk', 'folklore',\n",
       "       'folkmetal', 'folkrock', 'folktronica', 'forró', 'frankreich',\n",
       "       'französisch', 'french', 'funk', 'future', 'gangsta', 'garage',\n",
       "       'german', 'ghazal', 'gitarre', 'glitch', 'gospel', 'gothic',\n",
       "       'grime', 'grunge', 'gypsy', 'handsup', \"hard'n'heavy\", 'hardcore',\n",
       "       'hardstyle', 'hardtechno', 'hip', 'hip-hop', 'hiphop',\n",
       "       'historisch', 'holiday', 'hop', 'horror', 'house', 'hymn', 'idm',\n",
       "       'independent', 'indian', 'indie', 'indipop', 'industrial',\n",
       "       'inspirational', 'instrumental', 'international', 'irish', 'jam',\n",
       "       'japanese', 'jazz', 'jewish', 'jpop', 'jungle', 'k-pop',\n",
       "       'karadeniz', 'karaoke', 'kayokyoku', 'korean', 'laiko', 'latin',\n",
       "       'latino', 'leftfield', 'local', 'lounge', 'loungeelectronic',\n",
       "       'lovers', 'malaysian', 'mandopop', 'marschmusik', 'meditative',\n",
       "       'mediterranean', 'melodic', 'metal', 'metalcore', 'mexican',\n",
       "       'middle', 'minimal', 'miscellaneous', 'modern', 'mood', 'mpb',\n",
       "       'muslim', 'native', 'neoklassik', 'neue', 'new', 'newage',\n",
       "       'newwave', 'nu', 'nujazz', 'numetal', 'oceania', 'old', 'opera',\n",
       "       'orchestral', 'other', 'piano', 'podcasts', 'pop', 'popdance',\n",
       "       'popelectronic', 'popeurodance', 'poprussian', 'post',\n",
       "       'posthardcore', 'postrock', 'power', 'progmetal', 'progressive',\n",
       "       'psychedelic', 'punjabi', 'punk', 'quebecois', 'ragga', 'ram',\n",
       "       'rancheras', 'rap', 'rave', 'reggae', 'reggaeton', 'regional',\n",
       "       'relax', 'religious', 'retro', 'rhythm', 'rnb', 'rnr', 'rock',\n",
       "       'rockabilly', 'rockalternative', 'rockindie', 'rockother',\n",
       "       'romance', 'roots', 'ruspop', 'rusrap', 'rusrock', 'russian',\n",
       "       'salsa', 'samba', 'scenic', 'schlager', 'self', 'sertanejo',\n",
       "       'shanson', 'shoegazing', 'showtunes', 'singer', 'ska', 'skarock',\n",
       "       'slow', 'smooth', 'soft', 'soul', 'soulful', 'sound', 'soundtrack',\n",
       "       'southern', 'specialty', 'speech', 'spiritual', 'sport',\n",
       "       'stonerrock', 'surf', 'swing', 'synthpop', 'synthrock',\n",
       "       'sängerportrait', 'tango', 'tanzorchester', 'taraftar', 'tatar',\n",
       "       'tech', 'techno', 'teen', 'thrash', 'top', 'traditional',\n",
       "       'tradjazz', 'trance', 'tribal', 'trip', 'triphop', 'tropical',\n",
       "       'türk', 'türkçe', 'ukrrock', 'unknown', 'urban', 'uzbek',\n",
       "       'variété', 'vi', 'videogame', 'vocal', 'western', 'world',\n",
       "       'worldbeat', 'ïîï', 'электроника'], dtype=object)"
      ]
     },
     "execution_count": 52,
     "metadata": {},
     "output_type": "execute_result"
    }
   ],
   "source": [
    "df['genre'].sort_values().unique()\n",
    "# Просмотр уникальных названий жанров"
   ]
  },
  {
   "cell_type": "markdown",
   "metadata": {
    "id": "qej-Qmuo_Zct"
   },
   "source": [
    "Просмотрите список и найдите неявные дубликаты названия `hiphop`. Это могут быть названия с ошибками или альтернативные названия того же жанра.\n",
    "\n",
    "Вы увидите следующие неявные дубликаты:\n",
    "* *hip*,\n",
    "* *hop*,\n",
    "* *hip-hop*.\n",
    "\n",
    "Чтобы очистить от них таблицу, напишите функцию `replace_wrong_genres()` с двумя параметрами: \n",
    "* `wrong_genres` — список дубликатов,\n",
    "* `correct_genre` — строка с правильным значением.\n",
    "\n",
    "Функция должна исправить колонку `genre` в таблице `df`: заменить каждое значение из списка `wrong_genres` на значение из `correct_genre`."
   ]
  },
  {
   "cell_type": "code",
   "execution_count": 53,
   "metadata": {
    "id": "ErNDkmns_Zct"
   },
   "outputs": [],
   "source": [
    "def replace_wrong_genres(wrong_genres, correct_genre):\n",
    "    for genre in wrong_genres:\n",
    "        df['genre'] = df['genre'].replace(genre,correct_genre) # Функция для замены неявных дубликатов"
   ]
  },
  {
   "cell_type": "markdown",
   "metadata": {
    "id": "aDoBJxbA_Zct"
   },
   "source": [
    "Вызовите `replace_wrong_genres()` и передайте ей такие аргументы, чтобы она устранила неявные дубликаты: вместо `hip`, `hop` и `hip-hop` в таблице должно быть значение `hiphop`:"
   ]
  },
  {
   "cell_type": "code",
   "execution_count": 54,
   "metadata": {
    "id": "YN5i2hpmSo09"
   },
   "outputs": [],
   "source": [
    "wrong_genres = ['hip', 'hop', 'hip-hop']\n",
    "correct_genre = str('hiphop')\n",
    "replace_wrong_genres(wrong_genres, correct_genre)# Устранение неявных дубликатов"
   ]
  },
  {
   "cell_type": "markdown",
   "metadata": {
    "id": "zQKF16_RG15m"
   },
   "source": [
    "Проверьте, что заменили неправильные названия:\n",
    "\n",
    "*   hip\n",
    "*   hop\n",
    "*   hip-hop\n",
    "\n",
    "Выведите отсортированный список уникальных значений столбца `genre`:"
   ]
  },
  {
   "cell_type": "code",
   "execution_count": 55,
   "metadata": {
    "id": "wvixALnFG15m"
   },
   "outputs": [
    {
     "data": {
      "text/plain": [
       "['acid',\n",
       " 'acoustic',\n",
       " 'action',\n",
       " 'adult',\n",
       " 'africa',\n",
       " 'afrikaans',\n",
       " 'alternative',\n",
       " 'alternativepunk',\n",
       " 'ambient',\n",
       " 'americana',\n",
       " 'animated',\n",
       " 'anime',\n",
       " 'arabesk',\n",
       " 'arabic',\n",
       " 'arena',\n",
       " 'argentinetango',\n",
       " 'art',\n",
       " 'audiobook',\n",
       " 'author',\n",
       " 'avantgarde',\n",
       " 'axé',\n",
       " 'baile',\n",
       " 'balkan',\n",
       " 'beats',\n",
       " 'bigroom',\n",
       " 'black',\n",
       " 'bluegrass',\n",
       " 'blues',\n",
       " 'bollywood',\n",
       " 'bossa',\n",
       " 'brazilian',\n",
       " 'breakbeat',\n",
       " 'breaks',\n",
       " 'broadway',\n",
       " 'cantautori',\n",
       " 'cantopop',\n",
       " 'canzone',\n",
       " 'caribbean',\n",
       " 'caucasian',\n",
       " 'celtic',\n",
       " 'chamber',\n",
       " 'chanson',\n",
       " 'children',\n",
       " 'chill',\n",
       " 'chinese',\n",
       " 'choral',\n",
       " 'christian',\n",
       " 'christmas',\n",
       " 'classical',\n",
       " 'classicmetal',\n",
       " 'club',\n",
       " 'colombian',\n",
       " 'comedy',\n",
       " 'conjazz',\n",
       " 'contemporary',\n",
       " 'country',\n",
       " 'cuban',\n",
       " 'dance',\n",
       " 'dancehall',\n",
       " 'dancepop',\n",
       " 'dark',\n",
       " 'death',\n",
       " 'deep',\n",
       " 'deutschrock',\n",
       " 'deutschspr',\n",
       " 'dirty',\n",
       " 'disco',\n",
       " 'dnb',\n",
       " 'documentary',\n",
       " 'downbeat',\n",
       " 'downtempo',\n",
       " 'drum',\n",
       " 'dub',\n",
       " 'dubstep',\n",
       " 'eastern',\n",
       " 'easy',\n",
       " 'electronic',\n",
       " 'electropop',\n",
       " 'emo',\n",
       " 'entehno',\n",
       " 'epicmetal',\n",
       " 'estrada',\n",
       " 'ethnic',\n",
       " 'eurofolk',\n",
       " 'european',\n",
       " 'experimental',\n",
       " 'extrememetal',\n",
       " 'fado',\n",
       " 'fairytail',\n",
       " 'film',\n",
       " 'fitness',\n",
       " 'flamenco',\n",
       " 'folk',\n",
       " 'folklore',\n",
       " 'folkmetal',\n",
       " 'folkrock',\n",
       " 'folktronica',\n",
       " 'forró',\n",
       " 'frankreich',\n",
       " 'französisch',\n",
       " 'french',\n",
       " 'funk',\n",
       " 'future',\n",
       " 'gangsta',\n",
       " 'garage',\n",
       " 'german',\n",
       " 'ghazal',\n",
       " 'gitarre',\n",
       " 'glitch',\n",
       " 'gospel',\n",
       " 'gothic',\n",
       " 'grime',\n",
       " 'grunge',\n",
       " 'gypsy',\n",
       " 'handsup',\n",
       " \"hard'n'heavy\",\n",
       " 'hardcore',\n",
       " 'hardstyle',\n",
       " 'hardtechno',\n",
       " 'hiphop',\n",
       " 'historisch',\n",
       " 'holiday',\n",
       " 'horror',\n",
       " 'house',\n",
       " 'hymn',\n",
       " 'idm',\n",
       " 'independent',\n",
       " 'indian',\n",
       " 'indie',\n",
       " 'indipop',\n",
       " 'industrial',\n",
       " 'inspirational',\n",
       " 'instrumental',\n",
       " 'international',\n",
       " 'irish',\n",
       " 'jam',\n",
       " 'japanese',\n",
       " 'jazz',\n",
       " 'jewish',\n",
       " 'jpop',\n",
       " 'jungle',\n",
       " 'k-pop',\n",
       " 'karadeniz',\n",
       " 'karaoke',\n",
       " 'kayokyoku',\n",
       " 'korean',\n",
       " 'laiko',\n",
       " 'latin',\n",
       " 'latino',\n",
       " 'leftfield',\n",
       " 'local',\n",
       " 'lounge',\n",
       " 'loungeelectronic',\n",
       " 'lovers',\n",
       " 'malaysian',\n",
       " 'mandopop',\n",
       " 'marschmusik',\n",
       " 'meditative',\n",
       " 'mediterranean',\n",
       " 'melodic',\n",
       " 'metal',\n",
       " 'metalcore',\n",
       " 'mexican',\n",
       " 'middle',\n",
       " 'minimal',\n",
       " 'miscellaneous',\n",
       " 'modern',\n",
       " 'mood',\n",
       " 'mpb',\n",
       " 'muslim',\n",
       " 'native',\n",
       " 'neoklassik',\n",
       " 'neue',\n",
       " 'new',\n",
       " 'newage',\n",
       " 'newwave',\n",
       " 'nu',\n",
       " 'nujazz',\n",
       " 'numetal',\n",
       " 'oceania',\n",
       " 'old',\n",
       " 'opera',\n",
       " 'orchestral',\n",
       " 'other',\n",
       " 'piano',\n",
       " 'podcasts',\n",
       " 'pop',\n",
       " 'popdance',\n",
       " 'popelectronic',\n",
       " 'popeurodance',\n",
       " 'poprussian',\n",
       " 'post',\n",
       " 'posthardcore',\n",
       " 'postrock',\n",
       " 'power',\n",
       " 'progmetal',\n",
       " 'progressive',\n",
       " 'psychedelic',\n",
       " 'punjabi',\n",
       " 'punk',\n",
       " 'quebecois',\n",
       " 'ragga',\n",
       " 'ram',\n",
       " 'rancheras',\n",
       " 'rap',\n",
       " 'rave',\n",
       " 'reggae',\n",
       " 'reggaeton',\n",
       " 'regional',\n",
       " 'relax',\n",
       " 'religious',\n",
       " 'retro',\n",
       " 'rhythm',\n",
       " 'rnb',\n",
       " 'rnr',\n",
       " 'rock',\n",
       " 'rockabilly',\n",
       " 'rockalternative',\n",
       " 'rockindie',\n",
       " 'rockother',\n",
       " 'romance',\n",
       " 'roots',\n",
       " 'ruspop',\n",
       " 'rusrap',\n",
       " 'rusrock',\n",
       " 'russian',\n",
       " 'salsa',\n",
       " 'samba',\n",
       " 'scenic',\n",
       " 'schlager',\n",
       " 'self',\n",
       " 'sertanejo',\n",
       " 'shanson',\n",
       " 'shoegazing',\n",
       " 'showtunes',\n",
       " 'singer',\n",
       " 'ska',\n",
       " 'skarock',\n",
       " 'slow',\n",
       " 'smooth',\n",
       " 'soft',\n",
       " 'soul',\n",
       " 'soulful',\n",
       " 'sound',\n",
       " 'soundtrack',\n",
       " 'southern',\n",
       " 'specialty',\n",
       " 'speech',\n",
       " 'spiritual',\n",
       " 'sport',\n",
       " 'stonerrock',\n",
       " 'surf',\n",
       " 'swing',\n",
       " 'synthpop',\n",
       " 'synthrock',\n",
       " 'sängerportrait',\n",
       " 'tango',\n",
       " 'tanzorchester',\n",
       " 'taraftar',\n",
       " 'tatar',\n",
       " 'tech',\n",
       " 'techno',\n",
       " 'teen',\n",
       " 'thrash',\n",
       " 'top',\n",
       " 'traditional',\n",
       " 'tradjazz',\n",
       " 'trance',\n",
       " 'tribal',\n",
       " 'trip',\n",
       " 'triphop',\n",
       " 'tropical',\n",
       " 'türk',\n",
       " 'türkçe',\n",
       " 'ukrrock',\n",
       " 'unknown',\n",
       " 'urban',\n",
       " 'uzbek',\n",
       " 'variété',\n",
       " 'vi',\n",
       " 'videogame',\n",
       " 'vocal',\n",
       " 'western',\n",
       " 'world',\n",
       " 'worldbeat',\n",
       " 'ïîï',\n",
       " 'электроника']"
      ]
     },
     "execution_count": 55,
     "metadata": {},
     "output_type": "execute_result"
    }
   ],
   "source": [
    "sorted(df['genre'].unique())# Проверка на неявные дубликаты"
   ]
  },
  {
   "cell_type": "markdown",
   "metadata": {
    "id": "jz6a9-7HQUDd"
   },
   "source": [
    "**Выводы**\n",
    "\n",
    "Предобработка обнаружила три проблемы в данных:\n",
    "\n",
    "- нарушения в стиле заголовков,\n",
    "- пропущенные значения,\n",
    "- дубликаты — явные и неявные.\n",
    "\n",
    "Вы исправили заголовки, чтобы упростить работу с таблицей. Без дубликатов исследование станет более точным.\n",
    "\n",
    "Пропущенные значения вы заменили на `'unknown'`. Ещё предстоит увидеть, не повредят ли исследованию пропуски в колонке `genre`.\n",
    "\n",
    "Теперь можно перейти к проверке гипотез. "
   ]
  },
  {
   "cell_type": "markdown",
   "metadata": {
    "id": "WttZHXH0SqKk"
   },
   "source": [
    "## Проверка гипотез"
   ]
  },
  {
   "cell_type": "markdown",
   "metadata": {
    "id": "Im936VVi_Zcu"
   },
   "source": [
    "### Сравнение поведения пользователей двух столиц"
   ]
  },
  {
   "cell_type": "markdown",
   "metadata": {
    "id": "nwt_MuaL_Zcu"
   },
   "source": [
    "Первая гипотеза утверждает, что пользователи по-разному слушают музыку в Москве и Санкт-Петербурге. Проверьте это предположение по данным о трёх днях недели — понедельнике, среде и пятнице. Для этого:\n",
    "\n",
    "* Разделите пользователей Москвы и Санкт-Петербурга\n",
    "* Сравните, сколько треков послушала каждая группа пользователей в понедельник, среду и пятницу.\n"
   ]
  },
  {
   "cell_type": "markdown",
   "metadata": {
    "id": "8Dw_YMmT_Zcu"
   },
   "source": [
    "Для тренировки сначала выполните каждый из расчётов по отдельности. \n",
    "\n",
    "Оцените активность пользователей в каждом городе. Сгруппируйте данные по городу и посчитайте прослушивания в каждой группе.\n",
    "\n"
   ]
  },
  {
   "cell_type": "code",
   "execution_count": 56,
   "metadata": {
    "id": "0_Qs96oh_Zcu"
   },
   "outputs": [
    {
     "data": {
      "text/plain": [
       "city\n",
       "Moscow              42741\n",
       "Saint-Petersburg    18512\n",
       "Name: time, dtype: int64"
      ]
     },
     "execution_count": 56,
     "metadata": {},
     "output_type": "execute_result"
    }
   ],
   "source": [
    "df.groupby('city')['time'].count()# Подсчёт прослушиваний в каждом городе"
   ]
  },
  {
   "cell_type": "markdown",
   "metadata": {
    "id": "dzli3w8o_Zcu"
   },
   "source": [
    "В Москве прослушиваний больше, чем в Петербурге. Из этого не следует, что московские пользователи чаще слушают музыку. Просто самих пользователей в Москве больше.\n",
    "\n",
    "Теперь сгруппируйте данные по дню недели и подсчитайте прослушивания в понедельник, среду и пятницу. Учтите, что в данных есть информация о прослушиваниях только за эти дни.\n"
   ]
  },
  {
   "cell_type": "code",
   "execution_count": 57,
   "metadata": {
    "id": "uZMKjiJz_Zcu"
   },
   "outputs": [
    {
     "data": {
      "text/plain": [
       "day\n",
       "Friday       21840\n",
       "Monday       21354\n",
       "Wednesday    18059\n",
       "Name: time, dtype: int64"
      ]
     },
     "execution_count": 57,
     "metadata": {},
     "output_type": "execute_result"
    }
   ],
   "source": [
    "df.groupby('day')['time'].count()\n",
    "# Подсчёт прослушиваний в каждый из трёх дней"
   ]
  },
  {
   "cell_type": "markdown",
   "metadata": {
    "id": "cC2tNrlL_Zcu"
   },
   "source": [
    "В среднем пользователи из двух городов менее активны по средам. Но картина может измениться, если рассмотреть каждый город в отдельности."
   ]
  },
  {
   "cell_type": "markdown",
   "metadata": {
    "id": "POzs8bGa_Zcu"
   },
   "source": [
    "Вы видели, как работает группировка по городу и по дням недели. Теперь напишите функцию, которая объединит два эти расчёта.\n",
    "\n",
    "Создайте функцию `number_tracks()`, которая посчитает прослушивания для заданного дня и города. Ей понадобятся два параметра:\n",
    "* день недели,\n",
    "* название города.\n",
    "\n",
    "В функции сохраните в переменную строки исходной таблицы, у которых значение:\n",
    "  * в колонке `day` равно параметру `day`,\n",
    "  * в колонке `city` равно параметру `city`.\n",
    "\n",
    "Для этого примените последовательную фильтрацию с логической индексацией.\n",
    "\n",
    "Затем посчитайте значения в столбце `user_id` получившейся таблицы. Результат сохраните в новую переменную. Верните эту переменную из функции."
   ]
  },
  {
   "cell_type": "code",
   "execution_count": 58,
   "metadata": {
    "id": "Nz3GdQB1_Zcu"
   },
   "outputs": [],
   "source": [
    "# <создание функции number_tracks()> и объявление функции с двумя параметрами: day, city.\n",
    "def number_tracks(day,city):\n",
    "    track_list = df[(df['day'] == day) & (df['city'] == city)]\n",
    "    track_list_count = track_list['user_id'].count()\n",
    "    return track_list_count\n",
    "# Функция возвращает число - значение track_list_count.\n",
    "# В переменной track_list сохраняются те строки таблицы df, для которых \n",
    "# значение в столбце 'day' равно параметру day и одновременно значение\n",
    "# в столбце 'city' равно параметру city (используйте последовательную фильтрацию\n",
    "# с помощью логической индексации).\n",
    "# В переменной track_list_count сохраняется число значений столбца 'user_id',\n",
    "# рассчитанное методом count() для таблицы track_list.\n",
    "# Функция для подсчёта прослушиваний для конкретного города и дня.\n",
    "# С помощью последовательной фильтрации с логической индексацией она \n",
    "# сначала получит из исходной таблицы строки с нужным днём,\n",
    "# затем из результата отфильтрует строки с нужным городом,\n",
    "# методом count() посчитает количество значений в колонке user_id. \n",
    "# Это количество функция вернёт в качестве результата"
   ]
  },
  {
   "cell_type": "markdown",
   "metadata": {
    "id": "ytf7xFrFJQ2r"
   },
   "source": [
    "Вызовите `number_tracks()` шесть раз, меняя значение параметров — так, чтобы получить данные для каждого города в каждый из трёх дней."
   ]
  },
  {
   "cell_type": "code",
   "execution_count": 59,
   "metadata": {
    "id": "rJcRATNQ_Zcu"
   },
   "outputs": [
    {
     "data": {
      "text/plain": [
       "15740"
      ]
     },
     "execution_count": 59,
     "metadata": {},
     "output_type": "execute_result"
    }
   ],
   "source": [
    "number_tracks('Monday', 'Moscow')# количество прослушиваний в Москве по понедельникам"
   ]
  },
  {
   "cell_type": "code",
   "execution_count": 60,
   "metadata": {
    "id": "hq_ncZ5T_Zcu"
   },
   "outputs": [
    {
     "data": {
      "text/plain": [
       "5614"
      ]
     },
     "execution_count": 60,
     "metadata": {},
     "output_type": "execute_result"
    }
   ],
   "source": [
    "number_tracks('Monday', 'Saint-Petersburg')# количество прослушиваний в Санкт-Петербурге по понедельникам"
   ]
  },
  {
   "cell_type": "code",
   "execution_count": 61,
   "metadata": {
    "id": "_NTy2VPU_Zcu"
   },
   "outputs": [
    {
     "data": {
      "text/plain": [
       "11056"
      ]
     },
     "execution_count": 61,
     "metadata": {},
     "output_type": "execute_result"
    }
   ],
   "source": [
    "number_tracks('Wednesday', 'Moscow')# количество прослушиваний в Москве по средам"
   ]
  },
  {
   "cell_type": "code",
   "execution_count": 62,
   "metadata": {
    "id": "j2y3TAwo_Zcu"
   },
   "outputs": [
    {
     "data": {
      "text/plain": [
       "7003"
      ]
     },
     "execution_count": 62,
     "metadata": {},
     "output_type": "execute_result"
    }
   ],
   "source": [
    "number_tracks('Wednesday', 'Saint-Petersburg')# количество прослушиваний в Санкт-Петербурге по средам"
   ]
  },
  {
   "cell_type": "code",
   "execution_count": 63,
   "metadata": {
    "id": "vYDw5u_K_Zcu"
   },
   "outputs": [
    {
     "data": {
      "text/plain": [
       "15945"
      ]
     },
     "execution_count": 63,
     "metadata": {},
     "output_type": "execute_result"
    }
   ],
   "source": [
    "number_tracks('Friday', 'Moscow')# количество прослушиваний в Москве по пятницам"
   ]
  },
  {
   "cell_type": "code",
   "execution_count": 64,
   "metadata": {
    "id": "8_yzFtW3_Zcu"
   },
   "outputs": [
    {
     "data": {
      "text/plain": [
       "5895"
      ]
     },
     "execution_count": 64,
     "metadata": {},
     "output_type": "execute_result"
    }
   ],
   "source": [
    "number_tracks('Friday', 'Saint-Petersburg')# количество прослушиваний в Санкт-Петербурге по пятницам"
   ]
  },
  {
   "cell_type": "markdown",
   "metadata": {
    "id": "7QXffbO-_Zcu"
   },
   "source": [
    "Создайте c помощью конструктора `pd.DataFrame` таблицу, где\n",
    "* названия колонок — `['city', 'monday', 'wednesday', 'friday']`;\n",
    "* данные — результаты, которые вы получили с помощью `number_tracks`."
   ]
  },
  {
   "cell_type": "code",
   "execution_count": 65,
   "metadata": {
    "id": "APAcLpOr_Zcu"
   },
   "outputs": [
    {
     "data": {
      "text/html": [
       "<div>\n",
       "<style scoped>\n",
       "    .dataframe tbody tr th:only-of-type {\n",
       "        vertical-align: middle;\n",
       "    }\n",
       "\n",
       "    .dataframe tbody tr th {\n",
       "        vertical-align: top;\n",
       "    }\n",
       "\n",
       "    .dataframe thead th {\n",
       "        text-align: right;\n",
       "    }\n",
       "</style>\n",
       "<table border=\"1\" class=\"dataframe\">\n",
       "  <thead>\n",
       "    <tr style=\"text-align: right;\">\n",
       "      <th></th>\n",
       "      <th>city</th>\n",
       "      <th>monday</th>\n",
       "      <th>wednesday</th>\n",
       "      <th>friday</th>\n",
       "    </tr>\n",
       "  </thead>\n",
       "  <tbody>\n",
       "    <tr>\n",
       "      <th>0</th>\n",
       "      <td>Moscow</td>\n",
       "      <td>15740</td>\n",
       "      <td>11056</td>\n",
       "      <td>15945</td>\n",
       "    </tr>\n",
       "    <tr>\n",
       "      <th>1</th>\n",
       "      <td>Saint-Petersburg</td>\n",
       "      <td>5614</td>\n",
       "      <td>7003</td>\n",
       "      <td>5895</td>\n",
       "    </tr>\n",
       "  </tbody>\n",
       "</table>\n",
       "</div>"
      ],
      "text/plain": [
       "               city  monday  wednesday  friday\n",
       "0            Moscow   15740      11056   15945\n",
       "1  Saint-Petersburg    5614       7003    5895"
      ]
     },
     "metadata": {},
     "output_type": "display_data"
    }
   ],
   "source": [
    "columns = ['city', 'monday', 'wednesday', 'friday']\n",
    "data = [\n",
    "    ['Moscow', 15740, 11056, 15945],\n",
    "    ['Saint-Petersburg', 5614, 7003, 5895]\n",
    "]\n",
    "table = pd.DataFrame(data = data, columns = columns)\n",
    "display(table)\n",
    "# Таблица с результатами"
   ]
  },
  {
   "cell_type": "markdown",
   "metadata": {
    "id": "-EgPIHYu_Zcu"
   },
   "source": [
    "**Выводы**\n",
    "\n",
    "Данные показывают разницу поведения пользователей:\n",
    "\n",
    "- В Москве пик прослушиваний приходится на понедельник и пятницу, а в среду заметен спад.\n",
    "- В Петербурге, наоборот, больше слушают музыку по средам. Активность в понедельник и пятницу здесь почти в равной мере уступает среде.\n",
    "\n",
    "Значит, данные говорят в пользу первой гипотезы."
   ]
  },
  {
   "cell_type": "markdown",
   "metadata": {
    "id": "atZAxtq4_Zcu"
   },
   "source": [
    "### Музыка в начале и в конце недели"
   ]
  },
  {
   "cell_type": "markdown",
   "metadata": {
    "id": "eXrQqXFH_Zcu"
   },
   "source": [
    "Согласно второй гипотезе, утром в понедельник в Москве преобладают одни жанры, а в Петербурге — другие. Так же и вечером пятницы преобладают разные жанры — в зависимости от города."
   ]
  },
  {
   "cell_type": "markdown",
   "metadata": {
    "id": "S8UcW6Hw_Zcu"
   },
   "source": [
    "Сохраните таблицы с данными в две переменные:\n",
    "* по Москве — в `moscow_general`;\n",
    "* по Санкт-Петербургу — в `spb_general`."
   ]
  },
  {
   "cell_type": "code",
   "execution_count": 66,
   "metadata": {
    "id": "qeaFfM_P_Zcu"
   },
   "outputs": [],
   "source": [
    "moscow_general = df[df['city'] == 'Moscow']\n",
    "# получение таблицы moscow_general из тех строк таблицы df, \n",
    "# для которых значение в столбце 'city' равно 'Moscow'\n"
   ]
  },
  {
   "cell_type": "code",
   "execution_count": 67,
   "metadata": {
    "id": "ORaVRKto_Zcu"
   },
   "outputs": [],
   "source": [
    "spb_general = df[df['city'] == 'Saint-Petersburg']# получение таблицы spb_general из тех строк таблицы df,\n",
    "# для которых значение в столбце 'city' равно 'Saint-Petersburg'"
   ]
  },
  {
   "cell_type": "markdown",
   "metadata": {
    "id": "MEJV-CX2_Zcu"
   },
   "source": [
    "Создайте функцию `genre_weekday()` с четырьмя параметрами:\n",
    "* таблица (датафрейм) с данными,\n",
    "* день недели,\n",
    "* начальная временная метка в формате 'hh:mm', \n",
    "* последняя временная метка в формате 'hh:mm'.\n",
    "\n",
    "Функция должна вернуть информацию о топ-10 жанров тех треков, которые прослушивали в указанный день, в промежутке между двумя отметками времени."
   ]
  },
  {
   "cell_type": "code",
   "execution_count": 68,
   "metadata": {
    "id": "laJT9BYl_Zcu"
   },
   "outputs": [],
   "source": [
    "def genre_weekday(table, day, time1, time2):\n",
    "    genre_df = table[(table['day'] == day) & (table['time'] > time1) & (table['time'] < time2)]\n",
    "    genre_df_count = genre_df.groupby('genre')['day'].count().reset_index()\n",
    "    genre_df_sorted = genre_df_count.sort_values(by='day', ascending=False)\n",
    "    return genre_df_sorted.head(10)\n",
    "# Объявление функции genre_weekday() с параметрами table, day, time1, time2,\n",
    "# которая возвращает информацию о самых популярных жанрах в указанный день в\n",
    "# заданное время:\n",
    "# 1) в переменную genre_df сохраняются те строки переданного датафрейма table, для\n",
    "#    которых одновременно:\n",
    "#    - значение в столбце day равно значению аргумента day\n",
    "#    - значение в столбце time больше значения аргумента time1\n",
    "#    - значение в столбце time меньше значения аргумента time2\n",
    "#    Используйте последовательную фильтрацию с помощью логической индексации.\n",
    "# 2) сгруппировать датафрейм genre_df по столбцу genre, взять один из его\n",
    "#    столбцов и посчитать методом count() количество записей для каждого из\n",
    "#    присутствующих жанров, получившийся Series записать в переменную\n",
    "#    genre_df_count\n",
    "# 3) отсортировать genre_df_count по убыванию встречаемости и сохранить\n",
    "#    в переменную genre_df_sorted\n",
    "# 4) вернуть Series из 10 первых значений genre_df_sorted, это будут топ-10\n",
    "#    популярных жанров (в указанный день, в заданное время)"
   ]
  },
  {
   "cell_type": "markdown",
   "metadata": {
    "id": "la2s2_PF_Zcu"
   },
   "source": [
    "Cравните результаты функции `genre_weekday()` для Москвы и Санкт-Петербурга в понедельник утром (с 7:00 до 11:00) и в пятницу вечером (с 17:00 до 23:00):"
   ]
  },
  {
   "cell_type": "code",
   "execution_count": 69,
   "metadata": {
    "id": "yz7itPUQ_Zcu"
   },
   "outputs": [
    {
     "data": {
      "text/html": [
       "<div>\n",
       "<style scoped>\n",
       "    .dataframe tbody tr th:only-of-type {\n",
       "        vertical-align: middle;\n",
       "    }\n",
       "\n",
       "    .dataframe tbody tr th {\n",
       "        vertical-align: top;\n",
       "    }\n",
       "\n",
       "    .dataframe thead th {\n",
       "        text-align: right;\n",
       "    }\n",
       "</style>\n",
       "<table border=\"1\" class=\"dataframe\">\n",
       "  <thead>\n",
       "    <tr style=\"text-align: right;\">\n",
       "      <th></th>\n",
       "      <th>genre</th>\n",
       "      <th>day</th>\n",
       "    </tr>\n",
       "  </thead>\n",
       "  <tbody>\n",
       "    <tr>\n",
       "      <th>97</th>\n",
       "      <td>pop</td>\n",
       "      <td>781</td>\n",
       "    </tr>\n",
       "    <tr>\n",
       "      <th>31</th>\n",
       "      <td>dance</td>\n",
       "      <td>549</td>\n",
       "    </tr>\n",
       "    <tr>\n",
       "      <th>43</th>\n",
       "      <td>electronic</td>\n",
       "      <td>480</td>\n",
       "    </tr>\n",
       "    <tr>\n",
       "      <th>113</th>\n",
       "      <td>rock</td>\n",
       "      <td>474</td>\n",
       "    </tr>\n",
       "    <tr>\n",
       "      <th>65</th>\n",
       "      <td>hiphop</td>\n",
       "      <td>286</td>\n",
       "    </tr>\n",
       "    <tr>\n",
       "      <th>116</th>\n",
       "      <td>ruspop</td>\n",
       "      <td>186</td>\n",
       "    </tr>\n",
       "    <tr>\n",
       "      <th>151</th>\n",
       "      <td>world</td>\n",
       "      <td>181</td>\n",
       "    </tr>\n",
       "    <tr>\n",
       "      <th>117</th>\n",
       "      <td>rusrap</td>\n",
       "      <td>175</td>\n",
       "    </tr>\n",
       "    <tr>\n",
       "      <th>2</th>\n",
       "      <td>alternative</td>\n",
       "      <td>164</td>\n",
       "    </tr>\n",
       "    <tr>\n",
       "      <th>144</th>\n",
       "      <td>unknown</td>\n",
       "      <td>161</td>\n",
       "    </tr>\n",
       "  </tbody>\n",
       "</table>\n",
       "</div>"
      ],
      "text/plain": [
       "           genre  day\n",
       "97           pop  781\n",
       "31         dance  549\n",
       "43    electronic  480\n",
       "113         rock  474\n",
       "65        hiphop  286\n",
       "116       ruspop  186\n",
       "151        world  181\n",
       "117       rusrap  175\n",
       "2    alternative  164\n",
       "144      unknown  161"
      ]
     },
     "execution_count": 69,
     "metadata": {},
     "output_type": "execute_result"
    }
   ],
   "source": [
    "genre_weekday(moscow_general, 'Monday', '07:00', '11:00')# вызов функции для утра понедельника в Москве (вместо df — таблица moscow_general)\n",
    "# объекты, хранящие время, являются строками и сравниваются как строки\n",
    "# пример вызова: genre_weekday(moscow_general, 'Monday', '07:00', '11:00')"
   ]
  },
  {
   "cell_type": "code",
   "execution_count": 70,
   "metadata": {
    "id": "kwUcHPdy_Zcu"
   },
   "outputs": [
    {
     "data": {
      "text/html": [
       "<div>\n",
       "<style scoped>\n",
       "    .dataframe tbody tr th:only-of-type {\n",
       "        vertical-align: middle;\n",
       "    }\n",
       "\n",
       "    .dataframe tbody tr th {\n",
       "        vertical-align: top;\n",
       "    }\n",
       "\n",
       "    .dataframe thead th {\n",
       "        text-align: right;\n",
       "    }\n",
       "</style>\n",
       "<table border=\"1\" class=\"dataframe\">\n",
       "  <thead>\n",
       "    <tr style=\"text-align: right;\">\n",
       "      <th></th>\n",
       "      <th>genre</th>\n",
       "      <th>day</th>\n",
       "    </tr>\n",
       "  </thead>\n",
       "  <tbody>\n",
       "    <tr>\n",
       "      <th>68</th>\n",
       "      <td>pop</td>\n",
       "      <td>218</td>\n",
       "    </tr>\n",
       "    <tr>\n",
       "      <th>19</th>\n",
       "      <td>dance</td>\n",
       "      <td>182</td>\n",
       "    </tr>\n",
       "    <tr>\n",
       "      <th>81</th>\n",
       "      <td>rock</td>\n",
       "      <td>162</td>\n",
       "    </tr>\n",
       "    <tr>\n",
       "      <th>29</th>\n",
       "      <td>electronic</td>\n",
       "      <td>147</td>\n",
       "    </tr>\n",
       "    <tr>\n",
       "      <th>47</th>\n",
       "      <td>hiphop</td>\n",
       "      <td>80</td>\n",
       "    </tr>\n",
       "    <tr>\n",
       "      <th>83</th>\n",
       "      <td>ruspop</td>\n",
       "      <td>64</td>\n",
       "    </tr>\n",
       "    <tr>\n",
       "      <th>1</th>\n",
       "      <td>alternative</td>\n",
       "      <td>58</td>\n",
       "    </tr>\n",
       "    <tr>\n",
       "      <th>84</th>\n",
       "      <td>rusrap</td>\n",
       "      <td>55</td>\n",
       "    </tr>\n",
       "    <tr>\n",
       "      <th>53</th>\n",
       "      <td>jazz</td>\n",
       "      <td>44</td>\n",
       "    </tr>\n",
       "    <tr>\n",
       "      <th>14</th>\n",
       "      <td>classical</td>\n",
       "      <td>40</td>\n",
       "    </tr>\n",
       "  </tbody>\n",
       "</table>\n",
       "</div>"
      ],
      "text/plain": [
       "          genre  day\n",
       "68          pop  218\n",
       "19        dance  182\n",
       "81         rock  162\n",
       "29   electronic  147\n",
       "47       hiphop   80\n",
       "83       ruspop   64\n",
       "1   alternative   58\n",
       "84       rusrap   55\n",
       "53         jazz   44\n",
       "14    classical   40"
      ]
     },
     "execution_count": 70,
     "metadata": {},
     "output_type": "execute_result"
    }
   ],
   "source": [
    "genre_weekday(spb_general, 'Monday', '07:00', '11:00')# вызов функции для утра понедельника в Петербурге (вместо df — таблица spb_general)"
   ]
  },
  {
   "cell_type": "code",
   "execution_count": 71,
   "metadata": {
    "id": "EzXVRE1o_Zcu"
   },
   "outputs": [
    {
     "data": {
      "text/html": [
       "<div>\n",
       "<style scoped>\n",
       "    .dataframe tbody tr th:only-of-type {\n",
       "        vertical-align: middle;\n",
       "    }\n",
       "\n",
       "    .dataframe tbody tr th {\n",
       "        vertical-align: top;\n",
       "    }\n",
       "\n",
       "    .dataframe thead th {\n",
       "        text-align: right;\n",
       "    }\n",
       "</style>\n",
       "<table border=\"1\" class=\"dataframe\">\n",
       "  <thead>\n",
       "    <tr style=\"text-align: right;\">\n",
       "      <th></th>\n",
       "      <th>genre</th>\n",
       "      <th>day</th>\n",
       "    </tr>\n",
       "  </thead>\n",
       "  <tbody>\n",
       "    <tr>\n",
       "      <th>109</th>\n",
       "      <td>pop</td>\n",
       "      <td>713</td>\n",
       "    </tr>\n",
       "    <tr>\n",
       "      <th>125</th>\n",
       "      <td>rock</td>\n",
       "      <td>517</td>\n",
       "    </tr>\n",
       "    <tr>\n",
       "      <th>36</th>\n",
       "      <td>dance</td>\n",
       "      <td>495</td>\n",
       "    </tr>\n",
       "    <tr>\n",
       "      <th>48</th>\n",
       "      <td>electronic</td>\n",
       "      <td>482</td>\n",
       "    </tr>\n",
       "    <tr>\n",
       "      <th>74</th>\n",
       "      <td>hiphop</td>\n",
       "      <td>273</td>\n",
       "    </tr>\n",
       "    <tr>\n",
       "      <th>163</th>\n",
       "      <td>world</td>\n",
       "      <td>208</td>\n",
       "    </tr>\n",
       "    <tr>\n",
       "      <th>128</th>\n",
       "      <td>ruspop</td>\n",
       "      <td>170</td>\n",
       "    </tr>\n",
       "    <tr>\n",
       "      <th>2</th>\n",
       "      <td>alternative</td>\n",
       "      <td>163</td>\n",
       "    </tr>\n",
       "    <tr>\n",
       "      <th>27</th>\n",
       "      <td>classical</td>\n",
       "      <td>163</td>\n",
       "    </tr>\n",
       "    <tr>\n",
       "      <th>129</th>\n",
       "      <td>rusrap</td>\n",
       "      <td>142</td>\n",
       "    </tr>\n",
       "  </tbody>\n",
       "</table>\n",
       "</div>"
      ],
      "text/plain": [
       "           genre  day\n",
       "109          pop  713\n",
       "125         rock  517\n",
       "36         dance  495\n",
       "48    electronic  482\n",
       "74        hiphop  273\n",
       "163        world  208\n",
       "128       ruspop  170\n",
       "2    alternative  163\n",
       "27     classical  163\n",
       "129       rusrap  142"
      ]
     },
     "execution_count": 71,
     "metadata": {},
     "output_type": "execute_result"
    }
   ],
   "source": [
    "genre_weekday(moscow_general, 'Friday', '17:00', '23:00')# вызов функции для вечера пятницы в Москве"
   ]
  },
  {
   "cell_type": "code",
   "execution_count": 72,
   "metadata": {
    "id": "JZaEKu5v_Zcu",
    "scrolled": true
   },
   "outputs": [
    {
     "data": {
      "text/html": [
       "<div>\n",
       "<style scoped>\n",
       "    .dataframe tbody tr th:only-of-type {\n",
       "        vertical-align: middle;\n",
       "    }\n",
       "\n",
       "    .dataframe tbody tr th {\n",
       "        vertical-align: top;\n",
       "    }\n",
       "\n",
       "    .dataframe thead th {\n",
       "        text-align: right;\n",
       "    }\n",
       "</style>\n",
       "<table border=\"1\" class=\"dataframe\">\n",
       "  <thead>\n",
       "    <tr style=\"text-align: right;\">\n",
       "      <th></th>\n",
       "      <th>genre</th>\n",
       "      <th>day</th>\n",
       "    </tr>\n",
       "  </thead>\n",
       "  <tbody>\n",
       "    <tr>\n",
       "      <th>82</th>\n",
       "      <td>pop</td>\n",
       "      <td>256</td>\n",
       "    </tr>\n",
       "    <tr>\n",
       "      <th>37</th>\n",
       "      <td>electronic</td>\n",
       "      <td>216</td>\n",
       "    </tr>\n",
       "    <tr>\n",
       "      <th>97</th>\n",
       "      <td>rock</td>\n",
       "      <td>216</td>\n",
       "    </tr>\n",
       "    <tr>\n",
       "      <th>26</th>\n",
       "      <td>dance</td>\n",
       "      <td>210</td>\n",
       "    </tr>\n",
       "    <tr>\n",
       "      <th>54</th>\n",
       "      <td>hiphop</td>\n",
       "      <td>97</td>\n",
       "    </tr>\n",
       "    <tr>\n",
       "      <th>2</th>\n",
       "      <td>alternative</td>\n",
       "      <td>63</td>\n",
       "    </tr>\n",
       "    <tr>\n",
       "      <th>61</th>\n",
       "      <td>jazz</td>\n",
       "      <td>61</td>\n",
       "    </tr>\n",
       "    <tr>\n",
       "      <th>21</th>\n",
       "      <td>classical</td>\n",
       "      <td>60</td>\n",
       "    </tr>\n",
       "    <tr>\n",
       "      <th>101</th>\n",
       "      <td>rusrap</td>\n",
       "      <td>59</td>\n",
       "    </tr>\n",
       "    <tr>\n",
       "      <th>126</th>\n",
       "      <td>world</td>\n",
       "      <td>54</td>\n",
       "    </tr>\n",
       "  </tbody>\n",
       "</table>\n",
       "</div>"
      ],
      "text/plain": [
       "           genre  day\n",
       "82           pop  256\n",
       "37    electronic  216\n",
       "97          rock  216\n",
       "26         dance  210\n",
       "54        hiphop   97\n",
       "2    alternative   63\n",
       "61          jazz   61\n",
       "21     classical   60\n",
       "101       rusrap   59\n",
       "126        world   54"
      ]
     },
     "execution_count": 72,
     "metadata": {},
     "output_type": "execute_result"
    }
   ],
   "source": [
    "genre_weekday(spb_general, 'Friday', '17:00', '23:00')# вызов функции для вечера пятницы в Петербурге"
   ]
  },
  {
   "cell_type": "markdown",
   "metadata": {
    "id": "wrCe4MNX_Zcu"
   },
   "source": [
    "**Выводы**\n",
    "\n",
    "Если сравнить топ-10 жанров в понедельник утром, можно сделать такие выводы:\n",
    "\n",
    "1. В Москве и Петербурге слушают похожую музыку. Единственное отличие — в московский рейтинг вошёл жанр “world”, а в петербургский — джаз и классика.\n",
    "\n",
    "2. В Москве пропущенных значений оказалось так много, что значение `'unknown'` заняло десятое место среди самых популярных жанров. Значит, пропущенные значения занимают существенную долю в данных и угрожают достоверности исследования.\n",
    "\n",
    "Вечер пятницы не меняет эту картину. Некоторые жанры поднимаются немного выше, другие спускаются, но в целом топ-10 остаётся тем же самым.\n",
    "\n",
    "Таким образом, вторая гипотеза подтвердилась лишь частично:\n",
    "* Пользователи слушают похожую музыку в начале недели и в конце.\n",
    "* Разница между Москвой и Петербургом не слишком выражена. В Москве чаще слушают русскую популярную музыку, в Петербурге — джаз.\n",
    "\n",
    "Однако пропуски в данных ставят под сомнение этот результат. В Москве их так много, что рейтинг топ-10 мог бы выглядеть иначе, если бы не утерянные  данные о жанрах."
   ]
  },
  {
   "cell_type": "markdown",
   "metadata": {
    "id": "JolODAqr_Zcu"
   },
   "source": [
    "### Жанровые предпочтения в Москве и Петербурге\n",
    "\n",
    "Гипотеза: Петербург — столица рэпа, музыку этого жанра там слушают чаще, чем в Москве.  А Москва — город контрастов, в котором, тем не менее, преобладает поп-музыка."
   ]
  },
  {
   "cell_type": "markdown",
   "metadata": {
    "id": "DlegSvaT_Zcu"
   },
   "source": [
    "Сгруппируйте таблицу `moscow_general` по жанру и посчитайте прослушивания треков каждого жанра методом `count()`. Затем отсортируйте результат в порядке убывания и сохраните его в таблице `moscow_genres`."
   ]
  },
  {
   "cell_type": "code",
   "execution_count": 73,
   "metadata": {
    "id": "r19lIPke_Zcu"
   },
   "outputs": [],
   "source": [
    "moscow_genres = moscow_general.groupby('genre')['time'].count().sort_values(ascending=False)\n",
    "\n",
    "# одной строкой: группировка таблицы moscow_general по столбцу 'genre', \n",
    "# подсчёт числа значений 'genre' в этой группировке методом count(), \n",
    "# сортировка получившегося Series в порядке убывания и сохранение в moscow_genres"
   ]
  },
  {
   "cell_type": "markdown",
   "metadata": {
    "id": "6kMuomxTiIr8"
   },
   "source": [
    "Выведите на экран первые десять строк `moscow_genres`:"
   ]
  },
  {
   "cell_type": "code",
   "execution_count": 74,
   "metadata": {
    "id": "WhCSooF8_Zcv"
   },
   "outputs": [
    {
     "data": {
      "text/plain": [
       "genre\n",
       "pop            5892\n",
       "dance          4435\n",
       "rock           3965\n",
       "electronic     3786\n",
       "hiphop         2096\n",
       "classical      1616\n",
       "world          1432\n",
       "alternative    1379\n",
       "ruspop         1372\n",
       "rusrap         1161\n",
       "Name: time, dtype: int64"
      ]
     },
     "metadata": {},
     "output_type": "display_data"
    }
   ],
   "source": [
    "display(moscow_genres.head(10))# просмотр первых 10 строк moscow_genres"
   ]
  },
  {
   "cell_type": "markdown",
   "metadata": {
    "id": "cnPG2vnN_Zcv"
   },
   "source": [
    "Теперь повторите то же и для Петербурга.\n",
    "\n",
    "Сгруппируйте таблицу `spb_general` по жанру. Посчитайте прослушивания треков каждого жанра. Результат отсортируйте в порядке убывания и сохраните в таблице `spb_genres`:\n"
   ]
  },
  {
   "cell_type": "code",
   "execution_count": 75,
   "metadata": {
    "id": "gluLIpE7_Zcv"
   },
   "outputs": [],
   "source": [
    "spb_genres = spb_general.groupby('genre')['time'].count().sort_values(ascending=False)\n",
    "\n",
    "# одной строкой: группировка таблицы spb_general по столбцу 'genre', \n",
    "# подсчёт числа значений 'genre' в этой группировке методом count(), \n",
    "# сортировка получившегося Series в порядке убывания и сохранение в spb_genres"
   ]
  },
  {
   "cell_type": "markdown",
   "metadata": {
    "id": "5Doha_ODgyQ8"
   },
   "source": [
    "Выведите на экран первые десять строк `spb_genres`:"
   ]
  },
  {
   "cell_type": "code",
   "execution_count": 76,
   "metadata": {
    "id": "uaGJHjVU_Zcv"
   },
   "outputs": [
    {
     "data": {
      "text/plain": [
       "genre\n",
       "pop            2431\n",
       "dance          1932\n",
       "rock           1879\n",
       "electronic     1736\n",
       "hiphop          960\n",
       "alternative     649\n",
       "classical       646\n",
       "rusrap          564\n",
       "ruspop          538\n",
       "world           515\n",
       "Name: time, dtype: int64"
      ]
     },
     "execution_count": 76,
     "metadata": {},
     "output_type": "execute_result"
    }
   ],
   "source": [
    "spb_genres.head(10)# просмотр первых 10 строк spb_genres"
   ]
  },
  {
   "cell_type": "markdown",
   "metadata": {
    "id": "RY51YJYu_Zcv"
   },
   "source": [
    "**Выводы**"
   ]
  },
  {
   "cell_type": "markdown",
   "metadata": {
    "id": "nVhnJEm__Zcv"
   },
   "source": [
    "Гипотеза частично подтвердилась:\n",
    "* Поп-музыка — самый популярный жанр в Москве, как и предполагала гипотеза. Более того, в топ-10 жанров встречается близкий жанр — русская популярная музыка.\n",
    "* Вопреки ожиданиям, рэп одинаково популярен в Москве и Петербурге. \n"
   ]
  },
  {
   "cell_type": "markdown",
   "metadata": {
    "id": "ykKQ0N65_Zcv"
   },
   "source": [
    "## Итоги исследования"
   ]
  },
  {
   "cell_type": "markdown",
   "metadata": {
    "id": "tjUwbHb3_Zcv"
   },
   "source": [
    "Вы проверили три гипотезы и установили:\n",
    "\n",
    "1. День недели по-разному влияет на активность пользователей в Москве и Петербурге. \n",
    "\n",
    "Первая гипотеза полностью подтвердилась.\n",
    "\n",
    "2. Музыкальные предпочтения не сильно меняются в течение недели — будь то Москва или Петербург. Небольшие различия заметны в начале недели, по понедельникам:\n",
    "* в Москве слушают музыку жанра “world”,\n",
    "* в Петербурге — джаз и классику.\n",
    "\n",
    "Таким образом, вторая гипотеза подтвердилась лишь отчасти. Этот результат мог оказаться иным, если бы не пропуски в данных.\n",
    "\n",
    "3. Во вкусах пользователей Москвы и Петербурга больше общего чем различий. Вопреки ожиданиям, предпочтения жанров в Петербурге напоминают московские.\n",
    "\n",
    "Третья гипотеза не подтвердилась. Если различия в предпочтениях и существуют, на основной массе пользователей они незаметны.\n",
    "\n",
    "**На практике исследования содержат проверки статистических гипотез.**\n",
    "Из данных одного сервиса не всегда можно сделать вывод о всех жителях города.\n",
    "Проверки статистических гипотез покажут, насколько они достоверны, исходя из имеющихся данных. \n",
    "С методами проверок гипотез вы ещё познакомитесь в следующих темах."
   ]
  }
 ],
 "metadata": {
  "ExecuteTimeLog": [
   {
    "duration": 540,
    "start_time": "2022-03-24T09:55:35.335Z"
   },
   {
    "duration": 3,
    "start_time": "2022-03-24T09:59:22.609Z"
   },
   {
    "duration": 98,
    "start_time": "2022-03-24T09:59:23.886Z"
   },
   {
    "duration": 4,
    "start_time": "2022-03-24T09:59:35.900Z"
   },
   {
    "duration": 9,
    "start_time": "2022-03-24T09:59:36.901Z"
   },
   {
    "duration": 4,
    "start_time": "2022-03-24T09:59:46.754Z"
   },
   {
    "duration": 204,
    "start_time": "2022-03-24T09:59:47.635Z"
   },
   {
    "duration": 26,
    "start_time": "2022-03-24T10:00:11.435Z"
   },
   {
    "duration": 43,
    "start_time": "2022-03-24T10:01:32.063Z"
   },
   {
    "duration": 98,
    "start_time": "2022-03-24T10:12:20.361Z"
   },
   {
    "duration": 30,
    "start_time": "2022-03-24T10:13:08.819Z"
   },
   {
    "duration": 1574,
    "start_time": "2022-03-24T10:14:24.505Z"
   },
   {
    "duration": 10,
    "start_time": "2022-03-24T10:14:46.155Z"
   },
   {
    "duration": 4,
    "start_time": "2022-03-24T10:14:51.971Z"
   },
   {
    "duration": 199,
    "start_time": "2022-03-24T10:14:52.817Z"
   },
   {
    "duration": 16,
    "start_time": "2022-03-24T10:14:53.701Z"
   },
   {
    "duration": 40,
    "start_time": "2022-03-24T10:14:55.265Z"
   },
   {
    "duration": 10,
    "start_time": "2022-03-24T10:14:58.965Z"
   },
   {
    "duration": 3,
    "start_time": "2022-03-24T10:16:13.585Z"
   },
   {
    "duration": 219,
    "start_time": "2022-03-24T10:16:14.345Z"
   },
   {
    "duration": 17,
    "start_time": "2022-03-24T10:16:15.177Z"
   },
   {
    "duration": 49,
    "start_time": "2022-03-24T10:16:16.044Z"
   },
   {
    "duration": 232,
    "start_time": "2022-03-24T10:16:18.742Z"
   },
   {
    "duration": 5,
    "start_time": "2022-03-24T10:16:44.830Z"
   },
   {
    "duration": 203,
    "start_time": "2022-03-24T10:16:45.477Z"
   },
   {
    "duration": 15,
    "start_time": "2022-03-24T10:16:46.129Z"
   },
   {
    "duration": 39,
    "start_time": "2022-03-24T10:16:46.758Z"
   },
   {
    "duration": 1914,
    "start_time": "2022-03-24T10:16:48.893Z"
   },
   {
    "duration": 4,
    "start_time": "2022-03-24T10:27:46.497Z"
   },
   {
    "duration": 186,
    "start_time": "2022-03-24T10:27:47.290Z"
   },
   {
    "duration": 16,
    "start_time": "2022-03-24T10:27:48.007Z"
   },
   {
    "duration": 40,
    "start_time": "2022-03-24T10:27:48.743Z"
   },
   {
    "duration": 6,
    "start_time": "2022-03-24T10:27:50.656Z"
   },
   {
    "duration": 12,
    "start_time": "2022-03-24T10:27:53.221Z"
   },
   {
    "duration": 5,
    "start_time": "2022-03-24T10:27:54.072Z"
   },
   {
    "duration": 35,
    "start_time": "2022-03-24T10:27:56.354Z"
   },
   {
    "duration": 3,
    "start_time": "2022-03-24T10:30:45.566Z"
   },
   {
    "duration": 187,
    "start_time": "2022-03-24T10:30:46.312Z"
   },
   {
    "duration": 16,
    "start_time": "2022-03-24T10:30:46.794Z"
   },
   {
    "duration": 43,
    "start_time": "2022-03-24T10:30:47.495Z"
   },
   {
    "duration": 5,
    "start_time": "2022-03-24T10:30:49.726Z"
   },
   {
    "duration": 10,
    "start_time": "2022-03-24T10:30:50.144Z"
   },
   {
    "duration": 5,
    "start_time": "2022-03-24T10:30:50.877Z"
   },
   {
    "duration": 36,
    "start_time": "2022-03-24T10:30:51.726Z"
   },
   {
    "duration": 10,
    "start_time": "2022-03-24T10:30:53.266Z"
   },
   {
    "duration": 35,
    "start_time": "2022-03-24T10:30:56.816Z"
   },
   {
    "duration": 19,
    "start_time": "2022-03-24T10:33:40.689Z"
   },
   {
    "duration": 38,
    "start_time": "2022-03-24T10:33:45.039Z"
   },
   {
    "duration": 13,
    "start_time": "2022-03-24T10:34:25.532Z"
   },
   {
    "duration": 4,
    "start_time": "2022-03-24T10:37:04.309Z"
   },
   {
    "duration": 177,
    "start_time": "2022-03-24T10:37:04.824Z"
   },
   {
    "duration": 20,
    "start_time": "2022-03-24T10:37:05.459Z"
   },
   {
    "duration": 42,
    "start_time": "2022-03-24T10:37:06.124Z"
   },
   {
    "duration": 5,
    "start_time": "2022-03-24T10:37:07.821Z"
   },
   {
    "duration": 13,
    "start_time": "2022-03-24T10:37:08.840Z"
   },
   {
    "duration": 5,
    "start_time": "2022-03-24T10:37:09.641Z"
   },
   {
    "duration": 38,
    "start_time": "2022-03-24T10:37:10.624Z"
   },
   {
    "duration": 26,
    "start_time": "2022-03-24T10:37:13.672Z"
   },
   {
    "duration": 38,
    "start_time": "2022-03-24T10:37:15.194Z"
   },
   {
    "duration": 503,
    "start_time": "2022-03-24T13:51:54.241Z"
   },
   {
    "duration": 211,
    "start_time": "2022-03-24T13:51:54.977Z"
   },
   {
    "duration": 28,
    "start_time": "2022-03-24T13:51:55.641Z"
   },
   {
    "duration": 43,
    "start_time": "2022-03-24T13:51:56.391Z"
   },
   {
    "duration": 5,
    "start_time": "2022-03-24T13:51:58.193Z"
   },
   {
    "duration": 15,
    "start_time": "2022-03-24T13:51:59.657Z"
   },
   {
    "duration": 5,
    "start_time": "2022-03-24T13:52:00.629Z"
   },
   {
    "duration": 35,
    "start_time": "2022-03-24T13:52:02.289Z"
   },
   {
    "duration": 24,
    "start_time": "2022-03-24T13:52:03.988Z"
   },
   {
    "duration": 34,
    "start_time": "2022-03-24T13:52:05.291Z"
   },
   {
    "duration": 99,
    "start_time": "2022-03-24T13:52:26.408Z"
   },
   {
    "duration": 102,
    "start_time": "2022-03-24T13:53:24.488Z"
   },
   {
    "duration": 95,
    "start_time": "2022-03-24T13:54:29.199Z"
   },
   {
    "duration": 12,
    "start_time": "2022-03-24T13:55:34.072Z"
   },
   {
    "duration": 102,
    "start_time": "2022-03-24T13:56:06.123Z"
   },
   {
    "duration": 10,
    "start_time": "2022-03-24T13:56:07.923Z"
   },
   {
    "duration": 121,
    "start_time": "2022-03-24T13:56:51.810Z"
   },
   {
    "duration": 93,
    "start_time": "2022-03-24T13:57:01.634Z"
   },
   {
    "duration": 304,
    "start_time": "2022-03-24T14:03:41.818Z"
   },
   {
    "duration": 63,
    "start_time": "2022-03-24T14:03:54.768Z"
   },
   {
    "duration": 64,
    "start_time": "2022-03-24T14:04:20.687Z"
   },
   {
    "duration": 232,
    "start_time": "2022-03-24T14:05:23.695Z"
   },
   {
    "duration": 71,
    "start_time": "2022-03-24T14:05:34.615Z"
   },
   {
    "duration": 8,
    "start_time": "2022-03-24T14:06:27.055Z"
   },
   {
    "duration": 66,
    "start_time": "2022-03-24T14:09:40.516Z"
   },
   {
    "duration": 8,
    "start_time": "2022-03-24T14:11:04.727Z"
   },
   {
    "duration": 5,
    "start_time": "2022-03-24T14:11:10.346Z"
   },
   {
    "duration": 46,
    "start_time": "2022-03-24T14:11:17.372Z"
   },
   {
    "duration": 194,
    "start_time": "2022-03-24T14:12:41.101Z"
   },
   {
    "duration": 6,
    "start_time": "2022-03-24T14:12:45.120Z"
   },
   {
    "duration": 3,
    "start_time": "2022-03-24T14:12:51.518Z"
   },
   {
    "duration": 3,
    "start_time": "2022-03-24T14:12:52.819Z"
   },
   {
    "duration": 5,
    "start_time": "2022-03-24T14:12:54.686Z"
   },
   {
    "duration": 6,
    "start_time": "2022-03-24T14:13:18.617Z"
   },
   {
    "duration": 5,
    "start_time": "2022-03-24T14:13:21.568Z"
   },
   {
    "duration": 11,
    "start_time": "2022-03-24T14:18:12.185Z"
   },
   {
    "duration": 11,
    "start_time": "2022-03-24T14:18:23.399Z"
   },
   {
    "duration": 15,
    "start_time": "2022-03-24T14:18:51.168Z"
   },
   {
    "duration": 15,
    "start_time": "2022-03-24T14:19:00.468Z"
   },
   {
    "duration": 5,
    "start_time": "2022-03-24T14:19:11.849Z"
   },
   {
    "duration": 19,
    "start_time": "2022-03-24T14:19:19.681Z"
   },
   {
    "duration": 18,
    "start_time": "2022-03-24T14:19:23.196Z"
   },
   {
    "duration": 10,
    "start_time": "2022-03-24T14:21:20.708Z"
   },
   {
    "duration": 70,
    "start_time": "2022-03-24T14:23:59.147Z"
   },
   {
    "duration": 83,
    "start_time": "2022-03-24T14:25:25.077Z"
   },
   {
    "duration": 9,
    "start_time": "2022-03-24T14:29:22.479Z"
   },
   {
    "duration": 4,
    "start_time": "2022-03-24T14:35:59.939Z"
   },
   {
    "duration": 7,
    "start_time": "2022-03-24T14:36:00.844Z"
   },
   {
    "duration": 5,
    "start_time": "2022-03-24T14:45:48.356Z"
   },
   {
    "duration": 4,
    "start_time": "2022-03-24T14:45:51.861Z"
   },
   {
    "duration": 14,
    "start_time": "2022-03-24T14:45:52.773Z"
   },
   {
    "duration": 4,
    "start_time": "2022-03-24T14:46:23.205Z"
   },
   {
    "duration": 12,
    "start_time": "2022-03-24T14:46:23.788Z"
   },
   {
    "duration": 10,
    "start_time": "2022-03-24T14:46:24.557Z"
   },
   {
    "duration": 4,
    "start_time": "2022-03-24T14:48:11.615Z"
   },
   {
    "duration": 21,
    "start_time": "2022-03-24T14:48:12.611Z"
   },
   {
    "duration": 518,
    "start_time": "2022-03-24T14:48:48.687Z"
   },
   {
    "duration": 216,
    "start_time": "2022-03-24T14:48:49.208Z"
   },
   {
    "duration": 32,
    "start_time": "2022-03-24T14:48:49.426Z"
   },
   {
    "duration": 41,
    "start_time": "2022-03-24T14:48:49.461Z"
   },
   {
    "duration": 5,
    "start_time": "2022-03-24T14:48:49.505Z"
   },
   {
    "duration": 16,
    "start_time": "2022-03-24T14:48:49.543Z"
   },
   {
    "duration": 7,
    "start_time": "2022-03-24T14:48:49.561Z"
   },
   {
    "duration": 38,
    "start_time": "2022-03-24T14:48:49.570Z"
   },
   {
    "duration": 48,
    "start_time": "2022-03-24T14:48:49.611Z"
   },
   {
    "duration": 34,
    "start_time": "2022-03-24T14:48:49.662Z"
   },
   {
    "duration": 125,
    "start_time": "2022-03-24T14:48:49.699Z"
   },
   {
    "duration": 171,
    "start_time": "2022-03-24T14:48:49.826Z"
   },
   {
    "duration": 145,
    "start_time": "2022-03-24T14:48:50.000Z"
   },
   {
    "duration": 14,
    "start_time": "2022-03-24T14:48:50.154Z"
   },
   {
    "duration": 5,
    "start_time": "2022-03-24T14:48:50.170Z"
   },
   {
    "duration": 213,
    "start_time": "2022-03-24T14:48:50.177Z"
   },
   {
    "duration": 0,
    "start_time": "2022-03-24T14:48:50.393Z"
   },
   {
    "duration": 0,
    "start_time": "2022-03-24T14:48:50.396Z"
   },
   {
    "duration": 0,
    "start_time": "2022-03-24T14:48:50.398Z"
   },
   {
    "duration": 0,
    "start_time": "2022-03-24T14:48:50.400Z"
   },
   {
    "duration": 0,
    "start_time": "2022-03-24T14:48:50.402Z"
   },
   {
    "duration": 0,
    "start_time": "2022-03-24T14:48:50.404Z"
   },
   {
    "duration": 0,
    "start_time": "2022-03-24T14:48:50.406Z"
   },
   {
    "duration": 0,
    "start_time": "2022-03-24T14:48:50.408Z"
   },
   {
    "duration": 0,
    "start_time": "2022-03-24T14:48:50.411Z"
   },
   {
    "duration": 0,
    "start_time": "2022-03-24T14:48:50.444Z"
   },
   {
    "duration": 0,
    "start_time": "2022-03-24T14:48:50.445Z"
   },
   {
    "duration": 0,
    "start_time": "2022-03-24T14:48:50.447Z"
   },
   {
    "duration": 0,
    "start_time": "2022-03-24T14:48:50.450Z"
   },
   {
    "duration": 0,
    "start_time": "2022-03-24T14:48:50.451Z"
   },
   {
    "duration": 0,
    "start_time": "2022-03-24T14:48:50.454Z"
   },
   {
    "duration": 0,
    "start_time": "2022-03-24T14:48:50.456Z"
   },
   {
    "duration": 0,
    "start_time": "2022-03-24T14:48:50.458Z"
   },
   {
    "duration": 0,
    "start_time": "2022-03-24T14:48:50.460Z"
   },
   {
    "duration": 0,
    "start_time": "2022-03-24T14:48:50.463Z"
   },
   {
    "duration": 0,
    "start_time": "2022-03-24T14:48:50.464Z"
   },
   {
    "duration": 0,
    "start_time": "2022-03-24T14:48:50.466Z"
   },
   {
    "duration": 0,
    "start_time": "2022-03-24T14:48:50.468Z"
   },
   {
    "duration": 15,
    "start_time": "2022-03-24T14:50:42.973Z"
   },
   {
    "duration": 9,
    "start_time": "2022-03-24T14:51:49.220Z"
   },
   {
    "duration": 4,
    "start_time": "2022-03-24T14:51:53.787Z"
   },
   {
    "duration": 10,
    "start_time": "2022-03-24T14:51:54.583Z"
   },
   {
    "duration": 15,
    "start_time": "2022-03-24T14:52:31.882Z"
   },
   {
    "duration": 482,
    "start_time": "2022-03-24T14:52:47.766Z"
   },
   {
    "duration": 207,
    "start_time": "2022-03-24T14:52:48.251Z"
   },
   {
    "duration": 27,
    "start_time": "2022-03-24T14:52:48.460Z"
   },
   {
    "duration": 85,
    "start_time": "2022-03-24T14:52:48.490Z"
   },
   {
    "duration": 5,
    "start_time": "2022-03-24T14:52:48.579Z"
   },
   {
    "duration": 21,
    "start_time": "2022-03-24T14:52:48.586Z"
   },
   {
    "duration": 35,
    "start_time": "2022-03-24T14:52:48.609Z"
   },
   {
    "duration": 35,
    "start_time": "2022-03-24T14:52:48.647Z"
   },
   {
    "duration": 24,
    "start_time": "2022-03-24T14:52:48.685Z"
   },
   {
    "duration": 63,
    "start_time": "2022-03-24T14:52:48.712Z"
   },
   {
    "duration": 156,
    "start_time": "2022-03-24T14:52:48.777Z"
   },
   {
    "duration": 172,
    "start_time": "2022-03-24T14:52:48.936Z"
   },
   {
    "duration": 102,
    "start_time": "2022-03-24T14:52:49.111Z"
   },
   {
    "duration": 24,
    "start_time": "2022-03-24T14:52:49.220Z"
   },
   {
    "duration": 3,
    "start_time": "2022-03-24T14:52:49.247Z"
   },
   {
    "duration": 19,
    "start_time": "2022-03-24T14:52:49.253Z"
   },
   {
    "duration": 10,
    "start_time": "2022-03-24T14:52:49.274Z"
   },
   {
    "duration": 3,
    "start_time": "2022-03-24T14:52:49.286Z"
   },
   {
    "duration": 7,
    "start_time": "2022-03-24T14:52:49.291Z"
   },
   {
    "duration": 4,
    "start_time": "2022-03-24T14:52:49.344Z"
   },
   {
    "duration": 8,
    "start_time": "2022-03-24T14:52:49.350Z"
   },
   {
    "duration": 5,
    "start_time": "2022-03-24T14:52:49.361Z"
   },
   {
    "duration": 5,
    "start_time": "2022-03-24T14:52:49.368Z"
   },
   {
    "duration": 6,
    "start_time": "2022-03-24T14:52:49.375Z"
   },
   {
    "duration": 5,
    "start_time": "2022-03-24T14:52:49.383Z"
   },
   {
    "duration": 7,
    "start_time": "2022-03-24T14:52:49.390Z"
   },
   {
    "duration": 4,
    "start_time": "2022-03-24T14:52:49.442Z"
   },
   {
    "duration": 7,
    "start_time": "2022-03-24T14:52:49.448Z"
   },
   {
    "duration": 5,
    "start_time": "2022-03-24T14:52:49.458Z"
   },
   {
    "duration": 11,
    "start_time": "2022-03-24T14:52:49.466Z"
   },
   {
    "duration": 7,
    "start_time": "2022-03-24T14:52:49.480Z"
   },
   {
    "duration": 5,
    "start_time": "2022-03-24T14:52:49.490Z"
   },
   {
    "duration": 7,
    "start_time": "2022-03-24T14:52:49.497Z"
   },
   {
    "duration": 9,
    "start_time": "2022-03-24T14:52:49.506Z"
   },
   {
    "duration": 3,
    "start_time": "2022-03-24T14:52:49.544Z"
   },
   {
    "duration": 9,
    "start_time": "2022-03-24T14:52:49.549Z"
   },
   {
    "duration": 6,
    "start_time": "2022-03-24T14:52:49.561Z"
   },
   {
    "duration": 6,
    "start_time": "2022-03-24T14:52:49.570Z"
   },
   {
    "duration": 17,
    "start_time": "2022-03-24T14:53:16.014Z"
   },
   {
    "duration": 4,
    "start_time": "2022-03-24T14:53:35.327Z"
   },
   {
    "duration": 13,
    "start_time": "2022-03-24T14:53:36.457Z"
   },
   {
    "duration": 15,
    "start_time": "2022-03-24T14:53:38.149Z"
   },
   {
    "duration": 4,
    "start_time": "2022-03-24T14:54:03.194Z"
   },
   {
    "duration": 209,
    "start_time": "2022-03-24T14:54:03.843Z"
   },
   {
    "duration": 17,
    "start_time": "2022-03-24T14:54:04.473Z"
   },
   {
    "duration": 41,
    "start_time": "2022-03-24T14:54:05.109Z"
   },
   {
    "duration": 6,
    "start_time": "2022-03-24T14:54:07.025Z"
   },
   {
    "duration": 12,
    "start_time": "2022-03-24T14:54:08.009Z"
   },
   {
    "duration": 5,
    "start_time": "2022-03-24T14:54:08.576Z"
   },
   {
    "duration": 50,
    "start_time": "2022-03-24T14:54:09.162Z"
   },
   {
    "duration": 26,
    "start_time": "2022-03-24T14:54:09.978Z"
   },
   {
    "duration": 34,
    "start_time": "2022-03-24T14:54:10.539Z"
   },
   {
    "duration": 101,
    "start_time": "2022-03-24T14:54:11.208Z"
   },
   {
    "duration": 112,
    "start_time": "2022-03-24T14:54:11.812Z"
   },
   {
    "duration": 90,
    "start_time": "2022-03-24T14:54:12.460Z"
   },
   {
    "duration": 15,
    "start_time": "2022-03-24T14:54:13.226Z"
   },
   {
    "duration": 5,
    "start_time": "2022-03-24T14:54:13.709Z"
   },
   {
    "duration": 27,
    "start_time": "2022-03-24T14:54:14.543Z"
   },
   {
    "duration": 16,
    "start_time": "2022-03-24T14:54:15.805Z"
   },
   {
    "duration": 103,
    "start_time": "2022-03-24T15:08:29.374Z"
   },
   {
    "duration": 14,
    "start_time": "2022-03-24T15:09:03.777Z"
   },
   {
    "duration": 16,
    "start_time": "2022-03-24T15:09:13.026Z"
   },
   {
    "duration": 16,
    "start_time": "2022-03-24T15:09:27.440Z"
   },
   {
    "duration": 15,
    "start_time": "2022-03-24T15:09:38.307Z"
   },
   {
    "duration": 18,
    "start_time": "2022-03-24T15:11:23.974Z"
   },
   {
    "duration": 17,
    "start_time": "2022-03-24T15:11:42.951Z"
   },
   {
    "duration": 5,
    "start_time": "2022-03-24T15:11:50.526Z"
   },
   {
    "duration": 5,
    "start_time": "2022-03-24T15:11:59.400Z"
   },
   {
    "duration": 4,
    "start_time": "2022-03-24T15:12:00.977Z"
   },
   {
    "duration": 6,
    "start_time": "2022-03-24T15:12:04.349Z"
   },
   {
    "duration": 6,
    "start_time": "2022-03-24T15:12:07.295Z"
   },
   {
    "duration": 216,
    "start_time": "2022-03-24T15:14:51.986Z"
   },
   {
    "duration": 27,
    "start_time": "2022-03-24T15:15:02.719Z"
   },
   {
    "duration": 211,
    "start_time": "2022-03-24T15:17:32.996Z"
   },
   {
    "duration": 680,
    "start_time": "2022-03-24T15:17:43.663Z"
   },
   {
    "duration": 742,
    "start_time": "2022-03-24T15:17:45.632Z"
   },
   {
    "duration": 681,
    "start_time": "2022-03-24T15:17:48.270Z"
   },
   {
    "duration": 686,
    "start_time": "2022-03-24T15:17:49.210Z"
   },
   {
    "duration": 741,
    "start_time": "2022-03-24T15:18:19.358Z"
   },
   {
    "duration": 742,
    "start_time": "2022-03-24T15:18:27.344Z"
   },
   {
    "duration": 705,
    "start_time": "2022-03-24T15:18:29.359Z"
   },
   {
    "duration": 34,
    "start_time": "2022-03-24T15:18:40.424Z"
   },
   {
    "duration": 32,
    "start_time": "2022-03-24T15:20:17.922Z"
   },
   {
    "duration": 82,
    "start_time": "2022-03-24T15:25:26.519Z"
   },
   {
    "duration": 51,
    "start_time": "2022-03-24T15:26:45.462Z"
   },
   {
    "duration": 10,
    "start_time": "2022-03-24T15:28:32.290Z"
   },
   {
    "duration": 53,
    "start_time": "2022-03-24T15:28:40.676Z"
   },
   {
    "duration": 10,
    "start_time": "2022-03-24T15:29:13.506Z"
   },
   {
    "duration": 18,
    "start_time": "2022-03-24T15:30:01.156Z"
   },
   {
    "duration": 16,
    "start_time": "2022-03-24T15:30:25.853Z"
   },
   {
    "duration": 26,
    "start_time": "2022-03-24T15:31:49.832Z"
   },
   {
    "duration": 91,
    "start_time": "2022-03-24T15:32:00.680Z"
   },
   {
    "duration": 89,
    "start_time": "2022-03-24T15:32:11.829Z"
   },
   {
    "duration": 23,
    "start_time": "2022-03-24T15:32:17.843Z"
   },
   {
    "duration": 52,
    "start_time": "2022-03-24T15:32:35.960Z"
   },
   {
    "duration": 397,
    "start_time": "2022-03-24T19:25:29.941Z"
   },
   {
    "duration": 172,
    "start_time": "2022-03-24T19:25:30.340Z"
   },
   {
    "duration": 19,
    "start_time": "2022-03-24T19:25:30.514Z"
   },
   {
    "duration": 35,
    "start_time": "2022-03-24T19:25:30.535Z"
   },
   {
    "duration": 8,
    "start_time": "2022-03-24T19:25:30.573Z"
   },
   {
    "duration": 27,
    "start_time": "2022-03-24T19:25:30.582Z"
   },
   {
    "duration": 19,
    "start_time": "2022-03-24T19:25:30.611Z"
   },
   {
    "duration": 46,
    "start_time": "2022-03-24T19:25:30.631Z"
   },
   {
    "duration": 19,
    "start_time": "2022-03-24T19:25:30.679Z"
   },
   {
    "duration": 85,
    "start_time": "2022-03-24T19:25:30.700Z"
   },
   {
    "duration": 92,
    "start_time": "2022-03-24T19:25:30.787Z"
   },
   {
    "duration": 85,
    "start_time": "2022-03-24T19:25:30.881Z"
   },
   {
    "duration": 73,
    "start_time": "2022-03-24T19:25:30.969Z"
   },
   {
    "duration": 12,
    "start_time": "2022-03-24T19:25:31.047Z"
   },
   {
    "duration": 28,
    "start_time": "2022-03-24T19:25:31.061Z"
   },
   {
    "duration": 20,
    "start_time": "2022-03-24T19:25:31.098Z"
   },
   {
    "duration": 16,
    "start_time": "2022-03-24T19:25:31.119Z"
   },
   {
    "duration": 36,
    "start_time": "2022-03-24T19:25:31.137Z"
   },
   {
    "duration": 50,
    "start_time": "2022-03-24T19:25:31.175Z"
   },
   {
    "duration": 173,
    "start_time": "2022-03-24T19:25:31.226Z"
   },
   {
    "duration": 0,
    "start_time": "2022-03-24T19:25:31.401Z"
   },
   {
    "duration": 0,
    "start_time": "2022-03-24T19:25:31.402Z"
   },
   {
    "duration": 0,
    "start_time": "2022-03-24T19:25:31.403Z"
   },
   {
    "duration": 0,
    "start_time": "2022-03-24T19:25:31.405Z"
   },
   {
    "duration": 0,
    "start_time": "2022-03-24T19:25:31.407Z"
   },
   {
    "duration": 0,
    "start_time": "2022-03-24T19:25:31.408Z"
   },
   {
    "duration": 0,
    "start_time": "2022-03-24T19:25:31.409Z"
   },
   {
    "duration": 0,
    "start_time": "2022-03-24T19:25:31.411Z"
   },
   {
    "duration": 0,
    "start_time": "2022-03-24T19:25:31.412Z"
   },
   {
    "duration": 0,
    "start_time": "2022-03-24T19:25:31.414Z"
   },
   {
    "duration": 0,
    "start_time": "2022-03-24T19:25:31.415Z"
   },
   {
    "duration": 0,
    "start_time": "2022-03-24T19:25:31.417Z"
   },
   {
    "duration": 0,
    "start_time": "2022-03-24T19:25:31.417Z"
   },
   {
    "duration": 0,
    "start_time": "2022-03-24T19:25:31.419Z"
   },
   {
    "duration": 0,
    "start_time": "2022-03-24T19:25:31.420Z"
   },
   {
    "duration": 0,
    "start_time": "2022-03-24T19:25:31.421Z"
   },
   {
    "duration": 0,
    "start_time": "2022-03-24T19:25:31.422Z"
   },
   {
    "duration": 0,
    "start_time": "2022-03-24T19:25:31.424Z"
   },
   {
    "duration": 139,
    "start_time": "2022-03-24T19:34:25.935Z"
   },
   {
    "duration": 4,
    "start_time": "2022-03-24T19:34:49.267Z"
   },
   {
    "duration": 4,
    "start_time": "2022-03-24T19:38:26.685Z"
   },
   {
    "duration": 76,
    "start_time": "2022-03-24T19:38:27.652Z"
   },
   {
    "duration": 14,
    "start_time": "2022-03-24T19:38:28.019Z"
   },
   {
    "duration": 4,
    "start_time": "2022-03-24T19:40:45.897Z"
   },
   {
    "duration": 13,
    "start_time": "2022-03-24T19:40:47.031Z"
   },
   {
    "duration": 15,
    "start_time": "2022-03-24T19:40:47.711Z"
   },
   {
    "duration": 14,
    "start_time": "2022-03-24T19:40:48.608Z"
   },
   {
    "duration": 14,
    "start_time": "2022-03-24T19:40:49.395Z"
   },
   {
    "duration": 13,
    "start_time": "2022-03-24T19:40:50.029Z"
   },
   {
    "duration": 15,
    "start_time": "2022-03-24T19:40:50.682Z"
   },
   {
    "duration": 3,
    "start_time": "2022-03-24T19:43:58.702Z"
   },
   {
    "duration": 12,
    "start_time": "2022-03-24T19:43:59.623Z"
   },
   {
    "duration": 13,
    "start_time": "2022-03-24T19:44:00.099Z"
   },
   {
    "duration": 13,
    "start_time": "2022-03-24T19:44:00.883Z"
   },
   {
    "duration": 12,
    "start_time": "2022-03-24T19:44:01.302Z"
   },
   {
    "duration": 15,
    "start_time": "2022-03-24T19:44:01.702Z"
   },
   {
    "duration": 13,
    "start_time": "2022-03-24T19:44:02.099Z"
   },
   {
    "duration": 3,
    "start_time": "2022-03-24T19:45:45.076Z"
   },
   {
    "duration": 180,
    "start_time": "2022-03-24T19:45:45.729Z"
   },
   {
    "duration": 11,
    "start_time": "2022-03-24T19:45:46.300Z"
   },
   {
    "duration": 32,
    "start_time": "2022-03-24T19:45:46.810Z"
   },
   {
    "duration": 3,
    "start_time": "2022-03-24T19:45:47.978Z"
   },
   {
    "duration": 9,
    "start_time": "2022-03-24T19:45:48.713Z"
   },
   {
    "duration": 4,
    "start_time": "2022-03-24T19:45:49.178Z"
   },
   {
    "duration": 30,
    "start_time": "2022-03-24T19:45:49.695Z"
   },
   {
    "duration": 22,
    "start_time": "2022-03-24T19:45:50.395Z"
   },
   {
    "duration": 27,
    "start_time": "2022-03-24T19:45:50.880Z"
   },
   {
    "duration": 70,
    "start_time": "2022-03-24T19:45:51.359Z"
   },
   {
    "duration": 80,
    "start_time": "2022-03-24T19:45:51.811Z"
   },
   {
    "duration": 68,
    "start_time": "2022-03-24T19:45:52.232Z"
   },
   {
    "duration": 10,
    "start_time": "2022-03-24T19:45:52.928Z"
   },
   {
    "duration": 3,
    "start_time": "2022-03-24T19:45:53.384Z"
   },
   {
    "duration": 17,
    "start_time": "2022-03-24T19:45:53.846Z"
   },
   {
    "duration": 16,
    "start_time": "2022-03-24T19:45:54.326Z"
   },
   {
    "duration": 63,
    "start_time": "2022-03-24T19:45:55.778Z"
   },
   {
    "duration": 62,
    "start_time": "2022-03-24T19:45:56.246Z"
   },
   {
    "duration": 6,
    "start_time": "2022-03-24T19:45:56.927Z"
   },
   {
    "duration": 19,
    "start_time": "2022-03-24T19:45:57.910Z"
   },
   {
    "duration": 18,
    "start_time": "2022-03-24T19:45:58.226Z"
   },
   {
    "duration": 19,
    "start_time": "2022-03-24T19:45:58.561Z"
   },
   {
    "duration": 20,
    "start_time": "2022-03-24T19:45:58.844Z"
   },
   {
    "duration": 13,
    "start_time": "2022-03-24T19:45:59.111Z"
   },
   {
    "duration": 13,
    "start_time": "2022-03-24T19:45:59.408Z"
   },
   {
    "duration": 5,
    "start_time": "2022-03-24T19:47:40.073Z"
   },
   {
    "duration": 13,
    "start_time": "2022-03-24T19:47:40.770Z"
   },
   {
    "duration": 13,
    "start_time": "2022-03-24T19:47:41.471Z"
   },
   {
    "duration": 4,
    "start_time": "2022-03-24T19:49:08.585Z"
   },
   {
    "duration": 12,
    "start_time": "2022-03-24T19:49:09.483Z"
   },
   {
    "duration": 12,
    "start_time": "2022-03-24T19:49:11.760Z"
   },
   {
    "duration": 13,
    "start_time": "2022-03-24T19:49:12.051Z"
   },
   {
    "duration": 13,
    "start_time": "2022-03-24T19:49:12.286Z"
   },
   {
    "duration": 13,
    "start_time": "2022-03-24T19:49:12.535Z"
   },
   {
    "duration": 12,
    "start_time": "2022-03-24T19:49:12.800Z"
   },
   {
    "duration": 35,
    "start_time": "2022-03-24T19:49:19.371Z"
   },
   {
    "duration": 35,
    "start_time": "2022-03-24T19:49:24.099Z"
   },
   {
    "duration": 39,
    "start_time": "2022-03-24T19:49:28.002Z"
   },
   {
    "duration": 4,
    "start_time": "2022-03-24T19:49:30.662Z"
   },
   {
    "duration": 13,
    "start_time": "2022-03-24T19:49:31.547Z"
   },
   {
    "duration": 4,
    "start_time": "2022-03-24T19:51:13.026Z"
   },
   {
    "duration": 12,
    "start_time": "2022-03-24T19:51:14.744Z"
   },
   {
    "duration": 15,
    "start_time": "2022-03-24T19:51:14.758Z"
   },
   {
    "duration": 4,
    "start_time": "2022-03-24T19:51:48.844Z"
   },
   {
    "duration": 11,
    "start_time": "2022-03-24T19:51:49.524Z"
   },
   {
    "duration": 449,
    "start_time": "2022-03-24T20:00:46.462Z"
   },
   {
    "duration": 167,
    "start_time": "2022-03-24T20:00:46.914Z"
   },
   {
    "duration": 28,
    "start_time": "2022-03-24T20:00:47.083Z"
   },
   {
    "duration": 33,
    "start_time": "2022-03-24T20:00:47.113Z"
   },
   {
    "duration": 4,
    "start_time": "2022-03-24T20:00:47.149Z"
   },
   {
    "duration": 20,
    "start_time": "2022-03-24T20:00:47.154Z"
   },
   {
    "duration": 26,
    "start_time": "2022-03-24T20:00:47.176Z"
   },
   {
    "duration": 31,
    "start_time": "2022-03-24T20:00:47.204Z"
   },
   {
    "duration": 22,
    "start_time": "2022-03-24T20:00:47.237Z"
   },
   {
    "duration": 49,
    "start_time": "2022-03-24T20:00:47.261Z"
   },
   {
    "duration": 75,
    "start_time": "2022-03-24T20:00:47.311Z"
   },
   {
    "duration": 94,
    "start_time": "2022-03-24T20:00:47.388Z"
   },
   {
    "duration": 82,
    "start_time": "2022-03-24T20:00:47.483Z"
   },
   {
    "duration": 11,
    "start_time": "2022-03-24T20:00:47.569Z"
   },
   {
    "duration": 20,
    "start_time": "2022-03-24T20:00:47.581Z"
   },
   {
    "duration": 11,
    "start_time": "2022-03-24T20:00:47.603Z"
   },
   {
    "duration": 13,
    "start_time": "2022-03-24T20:00:47.615Z"
   },
   {
    "duration": 40,
    "start_time": "2022-03-24T20:00:47.630Z"
   },
   {
    "duration": 62,
    "start_time": "2022-03-24T20:00:47.671Z"
   },
   {
    "duration": 4,
    "start_time": "2022-03-24T20:00:47.735Z"
   },
   {
    "duration": 26,
    "start_time": "2022-03-24T20:00:47.741Z"
   },
   {
    "duration": 15,
    "start_time": "2022-03-24T20:00:47.769Z"
   },
   {
    "duration": 13,
    "start_time": "2022-03-24T20:00:47.800Z"
   },
   {
    "duration": 19,
    "start_time": "2022-03-24T20:00:47.815Z"
   },
   {
    "duration": 13,
    "start_time": "2022-03-24T20:00:47.836Z"
   },
   {
    "duration": 14,
    "start_time": "2022-03-24T20:00:47.852Z"
   },
   {
    "duration": 15,
    "start_time": "2022-03-24T20:00:47.869Z"
   },
   {
    "duration": 3,
    "start_time": "2022-03-24T20:00:47.902Z"
   },
   {
    "duration": 9,
    "start_time": "2022-03-24T20:00:47.907Z"
   },
   {
    "duration": 11,
    "start_time": "2022-03-24T20:00:47.918Z"
   },
   {
    "duration": 13,
    "start_time": "2022-03-24T20:00:47.931Z"
   },
   {
    "duration": 10,
    "start_time": "2022-03-24T20:00:47.946Z"
   },
   {
    "duration": 16,
    "start_time": "2022-03-24T20:00:47.958Z"
   },
   {
    "duration": 21,
    "start_time": "2022-03-24T20:00:47.975Z"
   },
   {
    "duration": 19,
    "start_time": "2022-03-24T20:00:47.998Z"
   },
   {
    "duration": 20,
    "start_time": "2022-03-24T20:00:48.019Z"
   },
   {
    "duration": 14,
    "start_time": "2022-03-24T20:00:48.041Z"
   },
   {
    "duration": 26,
    "start_time": "2022-03-24T20:00:48.057Z"
   },
   {
    "duration": 3,
    "start_time": "2022-03-24T20:07:49.927Z"
   },
   {
    "duration": 18,
    "start_time": "2022-03-24T20:07:50.722Z"
   },
   {
    "duration": 16,
    "start_time": "2022-03-24T20:07:51.387Z"
   },
   {
    "duration": 17,
    "start_time": "2022-03-24T20:07:51.720Z"
   },
   {
    "duration": 17,
    "start_time": "2022-03-24T20:07:52.122Z"
   },
   {
    "duration": 18,
    "start_time": "2022-03-24T20:09:06.870Z"
   },
   {
    "duration": 17,
    "start_time": "2022-03-24T20:09:07.533Z"
   },
   {
    "duration": 192,
    "start_time": "2022-03-24T20:18:49.554Z"
   },
   {
    "duration": 70,
    "start_time": "2022-03-24T20:21:54.861Z"
   },
   {
    "duration": 10,
    "start_time": "2022-03-24T20:22:41.507Z"
   },
   {
    "duration": 11,
    "start_time": "2022-03-24T20:23:10.987Z"
   },
   {
    "duration": 11,
    "start_time": "2022-03-24T20:24:04.401Z"
   },
   {
    "duration": 15,
    "start_time": "2022-03-24T20:24:14.433Z"
   },
   {
    "duration": 10,
    "start_time": "2022-03-24T20:25:49.931Z"
   },
   {
    "duration": 16,
    "start_time": "2022-03-24T20:27:34.255Z"
   },
   {
    "duration": 22,
    "start_time": "2022-03-24T20:27:42.708Z"
   },
   {
    "duration": 10,
    "start_time": "2022-03-24T20:28:04.019Z"
   },
   {
    "duration": 9,
    "start_time": "2022-03-24T20:31:05.397Z"
   },
   {
    "duration": 13,
    "start_time": "2022-03-24T20:31:18.809Z"
   },
   {
    "duration": 11,
    "start_time": "2022-03-24T20:31:19.592Z"
   },
   {
    "duration": 22,
    "start_time": "2022-03-24T20:31:45.491Z"
   },
   {
    "duration": 21,
    "start_time": "2022-03-24T20:32:01.190Z"
   },
   {
    "duration": 14,
    "start_time": "2022-03-24T20:32:16.418Z"
   },
   {
    "duration": 11,
    "start_time": "2022-03-24T20:32:16.987Z"
   },
   {
    "duration": 5,
    "start_time": "2022-03-24T21:17:06.043Z"
   },
   {
    "duration": 5,
    "start_time": "2022-03-24T21:17:08.690Z"
   },
   {
    "duration": 4,
    "start_time": "2022-03-24T21:20:17.630Z"
   },
   {
    "duration": 48,
    "start_time": "2022-03-24T21:20:18.414Z"
   },
   {
    "duration": 46,
    "start_time": "2022-03-24T21:20:18.863Z"
   },
   {
    "duration": 43,
    "start_time": "2022-03-24T21:20:54.316Z"
   },
   {
    "duration": 45,
    "start_time": "2022-03-24T21:21:04.128Z"
   },
   {
    "duration": 46,
    "start_time": "2022-03-24T21:21:04.698Z"
   },
   {
    "duration": 48,
    "start_time": "2022-03-24T21:21:05.259Z"
   },
   {
    "duration": 5,
    "start_time": "2022-03-24T21:21:28.608Z"
   },
   {
    "duration": 43,
    "start_time": "2022-03-24T21:21:29.328Z"
   },
   {
    "duration": 49,
    "start_time": "2022-03-24T21:21:29.992Z"
   },
   {
    "duration": 53,
    "start_time": "2022-03-24T21:21:31.008Z"
   },
   {
    "duration": 42,
    "start_time": "2022-03-24T21:21:31.581Z"
   },
   {
    "duration": 439,
    "start_time": "2022-03-24T21:22:25.430Z"
   },
   {
    "duration": 180,
    "start_time": "2022-03-24T21:22:25.871Z"
   },
   {
    "duration": 19,
    "start_time": "2022-03-24T21:22:26.053Z"
   },
   {
    "duration": 56,
    "start_time": "2022-03-24T21:22:26.074Z"
   },
   {
    "duration": 4,
    "start_time": "2022-03-24T21:22:26.133Z"
   },
   {
    "duration": 20,
    "start_time": "2022-03-24T21:22:26.139Z"
   },
   {
    "duration": 12,
    "start_time": "2022-03-24T21:22:26.161Z"
   },
   {
    "duration": 39,
    "start_time": "2022-03-24T21:22:26.175Z"
   },
   {
    "duration": 22,
    "start_time": "2022-03-24T21:22:26.216Z"
   },
   {
    "duration": 27,
    "start_time": "2022-03-24T21:22:26.240Z"
   },
   {
    "duration": 93,
    "start_time": "2022-03-24T21:22:26.269Z"
   },
   {
    "duration": 100,
    "start_time": "2022-03-24T21:22:26.364Z"
   },
   {
    "duration": 80,
    "start_time": "2022-03-24T21:22:26.466Z"
   },
   {
    "duration": 10,
    "start_time": "2022-03-24T21:22:26.551Z"
   },
   {
    "duration": 4,
    "start_time": "2022-03-24T21:22:26.563Z"
   },
   {
    "duration": 32,
    "start_time": "2022-03-24T21:22:26.569Z"
   },
   {
    "duration": 11,
    "start_time": "2022-03-24T21:22:26.603Z"
   },
   {
    "duration": 37,
    "start_time": "2022-03-24T21:22:26.616Z"
   },
   {
    "duration": 63,
    "start_time": "2022-03-24T21:22:26.654Z"
   },
   {
    "duration": 4,
    "start_time": "2022-03-24T21:22:26.719Z"
   },
   {
    "duration": 28,
    "start_time": "2022-03-24T21:22:26.724Z"
   },
   {
    "duration": 18,
    "start_time": "2022-03-24T21:22:26.754Z"
   },
   {
    "duration": 32,
    "start_time": "2022-03-24T21:22:26.774Z"
   },
   {
    "duration": 17,
    "start_time": "2022-03-24T21:22:26.808Z"
   },
   {
    "duration": 24,
    "start_time": "2022-03-24T21:22:26.827Z"
   },
   {
    "duration": 18,
    "start_time": "2022-03-24T21:22:26.854Z"
   },
   {
    "duration": 36,
    "start_time": "2022-03-24T21:22:26.874Z"
   },
   {
    "duration": 15,
    "start_time": "2022-03-24T21:22:26.912Z"
   },
   {
    "duration": 12,
    "start_time": "2022-03-24T21:22:26.929Z"
   },
   {
    "duration": 6,
    "start_time": "2022-03-24T21:22:26.944Z"
   },
   {
    "duration": 72,
    "start_time": "2022-03-24T21:22:26.952Z"
   },
   {
    "duration": 40,
    "start_time": "2022-03-24T21:22:27.026Z"
   },
   {
    "duration": 60,
    "start_time": "2022-03-24T21:22:27.068Z"
   },
   {
    "duration": 42,
    "start_time": "2022-03-24T21:22:27.130Z"
   },
   {
    "duration": 3,
    "start_time": "2022-03-24T21:22:27.174Z"
   },
   {
    "duration": 25,
    "start_time": "2022-03-24T21:22:27.179Z"
   },
   {
    "duration": 13,
    "start_time": "2022-03-24T21:22:27.206Z"
   },
   {
    "duration": 6,
    "start_time": "2022-03-24T21:22:27.221Z"
   },
   {
    "duration": 72,
    "start_time": "2022-03-24T21:25:55.861Z"
   },
   {
    "duration": 35,
    "start_time": "2022-03-24T21:25:56.672Z"
   },
   {
    "duration": 25,
    "start_time": "2022-03-24T21:25:57.241Z"
   },
   {
    "duration": 34,
    "start_time": "2022-03-24T21:25:57.924Z"
   },
   {
    "duration": 151,
    "start_time": "2022-03-24T21:29:40.998Z"
   },
   {
    "duration": 35,
    "start_time": "2022-03-24T21:29:54.827Z"
   },
   {
    "duration": 25,
    "start_time": "2022-03-24T21:29:55.625Z"
   },
   {
    "duration": 34,
    "start_time": "2022-03-24T21:29:56.593Z"
   },
   {
    "duration": 5,
    "start_time": "2022-03-24T21:31:31.071Z"
   },
   {
    "duration": 2381,
    "start_time": "2022-03-24T21:31:31.870Z"
   },
   {
    "duration": 0,
    "start_time": "2022-03-24T21:31:34.254Z"
   },
   {
    "duration": 0,
    "start_time": "2022-03-24T21:31:34.255Z"
   },
   {
    "duration": 0,
    "start_time": "2022-03-24T21:31:34.256Z"
   },
   {
    "duration": 4,
    "start_time": "2022-03-24T21:32:28.817Z"
   },
   {
    "duration": 2454,
    "start_time": "2022-03-24T21:32:29.507Z"
   },
   {
    "duration": 0,
    "start_time": "2022-03-24T21:32:31.964Z"
   },
   {
    "duration": 2571,
    "start_time": "2022-03-24T21:32:32.099Z"
   },
   {
    "duration": 140,
    "start_time": "2022-03-24T21:33:57.352Z"
   },
   {
    "duration": 2483,
    "start_time": "2022-03-24T21:33:57.876Z"
   },
   {
    "duration": 0,
    "start_time": "2022-03-24T21:34:00.362Z"
   },
   {
    "duration": 0,
    "start_time": "2022-03-24T21:34:00.363Z"
   },
   {
    "duration": 14,
    "start_time": "2022-03-24T21:37:12.168Z"
   },
   {
    "duration": 2258,
    "start_time": "2022-03-24T21:37:23.702Z"
   },
   {
    "duration": 0,
    "start_time": "2022-03-24T21:37:25.962Z"
   },
   {
    "duration": 0,
    "start_time": "2022-03-24T21:37:25.964Z"
   },
   {
    "duration": 439,
    "start_time": "2022-03-24T21:37:44.393Z"
   },
   {
    "duration": 166,
    "start_time": "2022-03-24T21:37:44.835Z"
   },
   {
    "duration": 22,
    "start_time": "2022-03-24T21:37:45.003Z"
   },
   {
    "duration": 40,
    "start_time": "2022-03-24T21:37:45.028Z"
   },
   {
    "duration": 3,
    "start_time": "2022-03-24T21:37:45.071Z"
   },
   {
    "duration": 42,
    "start_time": "2022-03-24T21:37:45.076Z"
   },
   {
    "duration": 11,
    "start_time": "2022-03-24T21:37:45.120Z"
   },
   {
    "duration": 32,
    "start_time": "2022-03-24T21:37:45.133Z"
   },
   {
    "duration": 24,
    "start_time": "2022-03-24T21:37:45.167Z"
   },
   {
    "duration": 28,
    "start_time": "2022-03-24T21:37:45.201Z"
   },
   {
    "duration": 84,
    "start_time": "2022-03-24T21:37:45.231Z"
   },
   {
    "duration": 96,
    "start_time": "2022-03-24T21:37:45.317Z"
   },
   {
    "duration": 64,
    "start_time": "2022-03-24T21:37:45.415Z"
   },
   {
    "duration": 11,
    "start_time": "2022-03-24T21:37:45.500Z"
   },
   {
    "duration": 4,
    "start_time": "2022-03-24T21:37:45.512Z"
   },
   {
    "duration": 20,
    "start_time": "2022-03-24T21:37:45.518Z"
   },
   {
    "duration": 10,
    "start_time": "2022-03-24T21:37:45.540Z"
   },
   {
    "duration": 59,
    "start_time": "2022-03-24T21:37:45.552Z"
   },
   {
    "duration": 34,
    "start_time": "2022-03-24T21:37:45.613Z"
   },
   {
    "duration": 4,
    "start_time": "2022-03-24T21:37:45.649Z"
   },
   {
    "duration": 29,
    "start_time": "2022-03-24T21:37:45.655Z"
   },
   {
    "duration": 29,
    "start_time": "2022-03-24T21:37:45.686Z"
   },
   {
    "duration": 20,
    "start_time": "2022-03-24T21:37:45.716Z"
   },
   {
    "duration": 16,
    "start_time": "2022-03-24T21:37:45.738Z"
   },
   {
    "duration": 18,
    "start_time": "2022-03-24T21:37:45.756Z"
   },
   {
    "duration": 16,
    "start_time": "2022-03-24T21:37:45.802Z"
   },
   {
    "duration": 9,
    "start_time": "2022-03-24T21:37:45.819Z"
   },
   {
    "duration": 16,
    "start_time": "2022-03-24T21:37:45.830Z"
   },
   {
    "duration": 10,
    "start_time": "2022-03-24T21:37:45.848Z"
   },
   {
    "duration": 146,
    "start_time": "2022-03-24T21:37:45.860Z"
   },
   {
    "duration": 0,
    "start_time": "2022-03-24T21:37:46.009Z"
   },
   {
    "duration": 0,
    "start_time": "2022-03-24T21:37:46.010Z"
   },
   {
    "duration": 0,
    "start_time": "2022-03-24T21:37:46.012Z"
   },
   {
    "duration": 0,
    "start_time": "2022-03-24T21:37:46.013Z"
   },
   {
    "duration": 0,
    "start_time": "2022-03-24T21:37:46.014Z"
   },
   {
    "duration": 0,
    "start_time": "2022-03-24T21:37:46.015Z"
   },
   {
    "duration": 0,
    "start_time": "2022-03-24T21:37:46.016Z"
   },
   {
    "duration": 0,
    "start_time": "2022-03-24T21:37:46.017Z"
   },
   {
    "duration": 5,
    "start_time": "2022-03-24T21:38:25.298Z"
   },
   {
    "duration": 21,
    "start_time": "2022-03-24T21:38:26.197Z"
   },
   {
    "duration": 15,
    "start_time": "2022-03-24T21:38:31.866Z"
   },
   {
    "duration": 23,
    "start_time": "2022-03-24T21:38:32.263Z"
   },
   {
    "duration": 403,
    "start_time": "2022-03-24T21:38:40.331Z"
   },
   {
    "duration": 169,
    "start_time": "2022-03-24T21:38:40.737Z"
   },
   {
    "duration": 18,
    "start_time": "2022-03-24T21:38:40.910Z"
   },
   {
    "duration": 35,
    "start_time": "2022-03-24T21:38:40.931Z"
   },
   {
    "duration": 3,
    "start_time": "2022-03-24T21:38:40.968Z"
   },
   {
    "duration": 18,
    "start_time": "2022-03-24T21:38:41.001Z"
   },
   {
    "duration": 7,
    "start_time": "2022-03-24T21:38:41.021Z"
   },
   {
    "duration": 32,
    "start_time": "2022-03-24T21:38:41.030Z"
   },
   {
    "duration": 37,
    "start_time": "2022-03-24T21:38:41.064Z"
   },
   {
    "duration": 29,
    "start_time": "2022-03-24T21:38:41.103Z"
   },
   {
    "duration": 92,
    "start_time": "2022-03-24T21:38:41.134Z"
   },
   {
    "duration": 99,
    "start_time": "2022-03-24T21:38:41.228Z"
   },
   {
    "duration": 74,
    "start_time": "2022-03-24T21:38:41.332Z"
   },
   {
    "duration": 10,
    "start_time": "2022-03-24T21:38:41.408Z"
   },
   {
    "duration": 19,
    "start_time": "2022-03-24T21:38:41.420Z"
   },
   {
    "duration": 13,
    "start_time": "2022-03-24T21:38:41.441Z"
   },
   {
    "duration": 22,
    "start_time": "2022-03-24T21:38:41.456Z"
   },
   {
    "duration": 52,
    "start_time": "2022-03-24T21:38:41.480Z"
   },
   {
    "duration": 41,
    "start_time": "2022-03-24T21:38:41.534Z"
   },
   {
    "duration": 4,
    "start_time": "2022-03-24T21:38:41.578Z"
   },
   {
    "duration": 20,
    "start_time": "2022-03-24T21:38:41.602Z"
   },
   {
    "duration": 19,
    "start_time": "2022-03-24T21:38:41.624Z"
   },
   {
    "duration": 23,
    "start_time": "2022-03-24T21:38:41.645Z"
   },
   {
    "duration": 17,
    "start_time": "2022-03-24T21:38:41.700Z"
   },
   {
    "duration": 22,
    "start_time": "2022-03-24T21:38:41.720Z"
   },
   {
    "duration": 17,
    "start_time": "2022-03-24T21:38:41.744Z"
   },
   {
    "duration": 37,
    "start_time": "2022-03-24T21:38:41.763Z"
   },
   {
    "duration": 11,
    "start_time": "2022-03-24T21:38:41.803Z"
   },
   {
    "duration": 11,
    "start_time": "2022-03-24T21:38:41.817Z"
   },
   {
    "duration": 5,
    "start_time": "2022-03-24T21:38:41.830Z"
   },
   {
    "duration": 25,
    "start_time": "2022-03-24T21:38:41.837Z"
   },
   {
    "duration": 42,
    "start_time": "2022-03-24T21:38:41.864Z"
   },
   {
    "duration": 21,
    "start_time": "2022-03-24T21:38:41.908Z"
   },
   {
    "duration": 14,
    "start_time": "2022-03-24T21:38:41.931Z"
   },
   {
    "duration": 4,
    "start_time": "2022-03-24T21:38:41.947Z"
   },
   {
    "duration": 6,
    "start_time": "2022-03-24T21:38:41.953Z"
   },
   {
    "duration": 10,
    "start_time": "2022-03-24T21:38:41.961Z"
   },
   {
    "duration": 7,
    "start_time": "2022-03-24T21:38:41.974Z"
   },
   {
    "duration": 3,
    "start_time": "2022-03-24T21:44:08.419Z"
   },
   {
    "duration": 172,
    "start_time": "2022-03-24T21:44:08.920Z"
   },
   {
    "duration": 12,
    "start_time": "2022-03-24T21:44:09.405Z"
   },
   {
    "duration": 43,
    "start_time": "2022-03-24T21:44:10.039Z"
   },
   {
    "duration": 4,
    "start_time": "2022-03-24T21:44:11.319Z"
   },
   {
    "duration": 9,
    "start_time": "2022-03-24T21:44:11.953Z"
   },
   {
    "duration": 4,
    "start_time": "2022-03-24T21:44:12.405Z"
   },
   {
    "duration": 29,
    "start_time": "2022-03-24T21:44:12.839Z"
   },
   {
    "duration": 22,
    "start_time": "2022-03-24T21:44:13.521Z"
   },
   {
    "duration": 27,
    "start_time": "2022-03-24T21:44:13.987Z"
   },
   {
    "duration": 73,
    "start_time": "2022-03-24T21:44:14.436Z"
   },
   {
    "duration": 81,
    "start_time": "2022-03-24T21:44:14.882Z"
   },
   {
    "duration": 64,
    "start_time": "2022-03-24T21:44:15.336Z"
   },
   {
    "duration": 11,
    "start_time": "2022-03-24T21:44:16.039Z"
   },
   {
    "duration": 3,
    "start_time": "2022-03-24T21:44:16.486Z"
   },
   {
    "duration": 12,
    "start_time": "2022-03-24T21:44:16.904Z"
   },
   {
    "duration": 10,
    "start_time": "2022-03-24T21:44:17.386Z"
   },
   {
    "duration": 36,
    "start_time": "2022-03-24T21:44:19.170Z"
   },
   {
    "duration": 36,
    "start_time": "2022-03-24T21:44:20.410Z"
   },
   {
    "duration": 3,
    "start_time": "2022-03-24T21:44:21.204Z"
   },
   {
    "duration": 18,
    "start_time": "2022-03-24T21:44:21.951Z"
   },
   {
    "duration": 16,
    "start_time": "2022-03-24T21:44:22.321Z"
   },
   {
    "duration": 17,
    "start_time": "2022-03-24T21:44:22.771Z"
   },
   {
    "duration": 15,
    "start_time": "2022-03-24T21:44:23.021Z"
   },
   {
    "duration": 18,
    "start_time": "2022-03-24T21:44:23.285Z"
   },
   {
    "duration": 16,
    "start_time": "2022-03-24T21:44:23.557Z"
   },
   {
    "duration": 10,
    "start_time": "2022-03-24T21:44:24.351Z"
   },
   {
    "duration": 16,
    "start_time": "2022-03-24T21:44:26.020Z"
   },
   {
    "duration": 13,
    "start_time": "2022-03-24T21:44:26.386Z"
   },
   {
    "duration": 4,
    "start_time": "2022-03-24T21:44:27.001Z"
   },
   {
    "duration": 20,
    "start_time": "2022-03-24T21:44:27.585Z"
   },
   {
    "duration": 15,
    "start_time": "2022-03-24T21:44:28.634Z"
   },
   {
    "duration": 21,
    "start_time": "2022-03-24T21:44:29.116Z"
   },
   {
    "duration": 14,
    "start_time": "2022-03-24T21:44:31.632Z"
   },
   {
    "duration": 9,
    "start_time": "2022-03-24T21:45:05.953Z"
   },
   {
    "duration": 13,
    "start_time": "2022-03-24T21:45:07.054Z"
   },
   {
    "duration": 13,
    "start_time": "2022-03-24T21:45:07.303Z"
   },
   {
    "duration": 5,
    "start_time": "2022-03-24T21:45:07.801Z"
   },
   {
    "duration": 24,
    "start_time": "2022-03-24T21:45:08.455Z"
   },
   {
    "duration": 15,
    "start_time": "2022-03-24T21:45:09.333Z"
   },
   {
    "duration": 21,
    "start_time": "2022-03-24T21:45:09.750Z"
   },
   {
    "duration": 15,
    "start_time": "2022-03-24T21:45:10.605Z"
   },
   {
    "duration": 452,
    "start_time": "2022-03-24T21:49:35.777Z"
   },
   {
    "duration": 166,
    "start_time": "2022-03-24T21:49:36.231Z"
   },
   {
    "duration": 18,
    "start_time": "2022-03-24T21:49:36.401Z"
   },
   {
    "duration": 31,
    "start_time": "2022-03-24T21:49:36.421Z"
   },
   {
    "duration": 7,
    "start_time": "2022-03-24T21:49:36.454Z"
   },
   {
    "duration": 38,
    "start_time": "2022-03-24T21:49:36.463Z"
   },
   {
    "duration": 4,
    "start_time": "2022-03-24T21:49:36.503Z"
   },
   {
    "duration": 35,
    "start_time": "2022-03-24T21:49:36.508Z"
   },
   {
    "duration": 29,
    "start_time": "2022-03-24T21:49:36.545Z"
   },
   {
    "duration": 35,
    "start_time": "2022-03-24T21:49:36.577Z"
   },
   {
    "duration": 88,
    "start_time": "2022-03-24T21:49:36.614Z"
   },
   {
    "duration": 87,
    "start_time": "2022-03-24T21:49:36.703Z"
   },
   {
    "duration": 75,
    "start_time": "2022-03-24T21:49:36.792Z"
   },
   {
    "duration": 10,
    "start_time": "2022-03-24T21:49:36.869Z"
   },
   {
    "duration": 21,
    "start_time": "2022-03-24T21:49:36.881Z"
   },
   {
    "duration": 21,
    "start_time": "2022-03-24T21:49:36.904Z"
   },
   {
    "duration": 10,
    "start_time": "2022-03-24T21:49:36.927Z"
   },
   {
    "duration": 41,
    "start_time": "2022-03-24T21:49:36.939Z"
   },
   {
    "duration": 50,
    "start_time": "2022-03-24T21:49:36.982Z"
   },
   {
    "duration": 4,
    "start_time": "2022-03-24T21:49:37.034Z"
   },
   {
    "duration": 30,
    "start_time": "2022-03-24T21:49:37.040Z"
   },
   {
    "duration": 30,
    "start_time": "2022-03-24T21:49:37.072Z"
   },
   {
    "duration": 18,
    "start_time": "2022-03-24T21:49:37.104Z"
   },
   {
    "duration": 16,
    "start_time": "2022-03-24T21:49:37.124Z"
   },
   {
    "duration": 23,
    "start_time": "2022-03-24T21:49:37.142Z"
   },
   {
    "duration": 40,
    "start_time": "2022-03-24T21:49:37.167Z"
   },
   {
    "duration": 66,
    "start_time": "2022-03-24T21:49:37.209Z"
   },
   {
    "duration": 0,
    "start_time": "2022-03-24T21:49:37.278Z"
   },
   {
    "duration": 0,
    "start_time": "2022-03-24T21:49:37.279Z"
   },
   {
    "duration": 0,
    "start_time": "2022-03-24T21:49:37.302Z"
   },
   {
    "duration": 0,
    "start_time": "2022-03-24T21:49:37.303Z"
   },
   {
    "duration": 0,
    "start_time": "2022-03-24T21:49:37.304Z"
   },
   {
    "duration": 0,
    "start_time": "2022-03-24T21:49:37.305Z"
   },
   {
    "duration": 0,
    "start_time": "2022-03-24T21:49:37.306Z"
   },
   {
    "duration": 1,
    "start_time": "2022-03-24T21:49:37.307Z"
   },
   {
    "duration": 0,
    "start_time": "2022-03-24T21:49:37.309Z"
   },
   {
    "duration": 0,
    "start_time": "2022-03-24T21:49:37.310Z"
   },
   {
    "duration": 0,
    "start_time": "2022-03-24T21:49:37.311Z"
   },
   {
    "duration": 5,
    "start_time": "2022-03-24T21:49:44.784Z"
   },
   {
    "duration": 8,
    "start_time": "2022-03-24T21:49:45.480Z"
   },
   {
    "duration": 9,
    "start_time": "2022-03-24T21:50:27.931Z"
   },
   {
    "duration": 12,
    "start_time": "2022-03-24T21:50:31.415Z"
   },
   {
    "duration": 11,
    "start_time": "2022-03-24T21:50:32.073Z"
   },
   {
    "duration": 5,
    "start_time": "2022-03-24T21:50:33.248Z"
   },
   {
    "duration": 22,
    "start_time": "2022-03-24T21:50:34.178Z"
   },
   {
    "duration": 15,
    "start_time": "2022-03-24T21:50:35.393Z"
   },
   {
    "duration": 20,
    "start_time": "2022-03-24T21:50:35.762Z"
   },
   {
    "duration": 14,
    "start_time": "2022-03-24T21:50:36.881Z"
   },
   {
    "duration": 429,
    "start_time": "2022-03-24T21:57:50.560Z"
   },
   {
    "duration": 166,
    "start_time": "2022-03-24T21:57:50.991Z"
   },
   {
    "duration": 21,
    "start_time": "2022-03-24T21:57:51.158Z"
   },
   {
    "duration": 42,
    "start_time": "2022-03-24T21:57:51.180Z"
   },
   {
    "duration": 4,
    "start_time": "2022-03-24T21:57:51.224Z"
   },
   {
    "duration": 17,
    "start_time": "2022-03-24T21:57:51.230Z"
   },
   {
    "duration": 10,
    "start_time": "2022-03-24T21:57:51.249Z"
   },
   {
    "duration": 42,
    "start_time": "2022-03-24T21:57:51.260Z"
   },
   {
    "duration": 27,
    "start_time": "2022-03-24T21:57:51.304Z"
   },
   {
    "duration": 30,
    "start_time": "2022-03-24T21:57:51.333Z"
   },
   {
    "duration": 93,
    "start_time": "2022-03-24T21:57:51.364Z"
   },
   {
    "duration": 92,
    "start_time": "2022-03-24T21:57:51.458Z"
   },
   {
    "duration": 68,
    "start_time": "2022-03-24T21:57:51.552Z"
   },
   {
    "duration": 11,
    "start_time": "2022-03-24T21:57:51.624Z"
   },
   {
    "duration": 3,
    "start_time": "2022-03-24T21:57:51.637Z"
   },
   {
    "duration": 20,
    "start_time": "2022-03-24T21:57:51.642Z"
   },
   {
    "duration": 11,
    "start_time": "2022-03-24T21:57:51.664Z"
   },
   {
    "duration": 60,
    "start_time": "2022-03-24T21:57:51.677Z"
   },
   {
    "duration": 37,
    "start_time": "2022-03-24T21:57:51.738Z"
   },
   {
    "duration": 24,
    "start_time": "2022-03-24T21:57:51.777Z"
   },
   {
    "duration": 20,
    "start_time": "2022-03-24T21:57:51.803Z"
   },
   {
    "duration": 23,
    "start_time": "2022-03-24T21:57:51.825Z"
   },
   {
    "duration": 19,
    "start_time": "2022-03-24T21:57:51.851Z"
   },
   {
    "duration": 39,
    "start_time": "2022-03-24T21:57:51.872Z"
   },
   {
    "duration": 22,
    "start_time": "2022-03-24T21:57:51.912Z"
   },
   {
    "duration": 16,
    "start_time": "2022-03-24T21:57:51.936Z"
   },
   {
    "duration": 10,
    "start_time": "2022-03-24T21:57:51.953Z"
   },
   {
    "duration": 41,
    "start_time": "2022-03-24T21:57:51.965Z"
   },
   {
    "duration": 12,
    "start_time": "2022-03-24T21:57:52.008Z"
   },
   {
    "duration": 5,
    "start_time": "2022-03-24T21:57:52.022Z"
   },
   {
    "duration": 31,
    "start_time": "2022-03-24T21:57:52.029Z"
   },
   {
    "duration": 25,
    "start_time": "2022-03-24T21:57:52.061Z"
   },
   {
    "duration": 20,
    "start_time": "2022-03-24T21:57:52.101Z"
   },
   {
    "duration": 17,
    "start_time": "2022-03-24T21:57:52.123Z"
   },
   {
    "duration": 17,
    "start_time": "2022-03-24T21:57:52.141Z"
   },
   {
    "duration": 11,
    "start_time": "2022-03-24T21:57:52.160Z"
   },
   {
    "duration": 14,
    "start_time": "2022-03-24T21:57:52.173Z"
   },
   {
    "duration": 13,
    "start_time": "2022-03-24T21:57:52.189Z"
   },
   {
    "duration": 5,
    "start_time": "2022-03-24T22:03:12.265Z"
   },
   {
    "duration": 94,
    "start_time": "2022-03-24T22:03:13.410Z"
   },
   {
    "duration": 5,
    "start_time": "2022-03-24T22:03:27.694Z"
   },
   {
    "duration": 21,
    "start_time": "2022-03-24T22:03:28.358Z"
   },
   {
    "duration": 15,
    "start_time": "2022-03-24T22:03:29.759Z"
   },
   {
    "duration": 21,
    "start_time": "2022-03-24T22:03:30.242Z"
   },
   {
    "duration": 423,
    "start_time": "2022-03-24T22:09:06.510Z"
   },
   {
    "duration": 170,
    "start_time": "2022-03-24T22:09:06.935Z"
   },
   {
    "duration": 19,
    "start_time": "2022-03-24T22:09:07.107Z"
   },
   {
    "duration": 33,
    "start_time": "2022-03-24T22:09:07.129Z"
   },
   {
    "duration": 4,
    "start_time": "2022-03-24T22:09:07.164Z"
   },
   {
    "duration": 41,
    "start_time": "2022-03-24T22:09:07.171Z"
   },
   {
    "duration": 4,
    "start_time": "2022-03-24T22:09:07.214Z"
   },
   {
    "duration": 33,
    "start_time": "2022-03-24T22:09:07.220Z"
   },
   {
    "duration": 22,
    "start_time": "2022-03-24T22:09:07.255Z"
   },
   {
    "duration": 42,
    "start_time": "2022-03-24T22:09:07.279Z"
   },
   {
    "duration": 89,
    "start_time": "2022-03-24T22:09:07.323Z"
   },
   {
    "duration": 108,
    "start_time": "2022-03-24T22:09:07.414Z"
   },
   {
    "duration": 78,
    "start_time": "2022-03-24T22:09:07.524Z"
   },
   {
    "duration": 12,
    "start_time": "2022-03-24T22:09:07.607Z"
   },
   {
    "duration": 6,
    "start_time": "2022-03-24T22:09:07.621Z"
   },
   {
    "duration": 14,
    "start_time": "2022-03-24T22:09:07.629Z"
   },
   {
    "duration": 12,
    "start_time": "2022-03-24T22:09:07.645Z"
   },
   {
    "duration": 65,
    "start_time": "2022-03-24T22:09:07.659Z"
   },
   {
    "duration": 49,
    "start_time": "2022-03-24T22:09:07.726Z"
   },
   {
    "duration": 4,
    "start_time": "2022-03-24T22:09:07.777Z"
   },
   {
    "duration": 32,
    "start_time": "2022-03-24T22:09:07.783Z"
   },
   {
    "duration": 17,
    "start_time": "2022-03-24T22:09:07.817Z"
   },
   {
    "duration": 17,
    "start_time": "2022-03-24T22:09:07.836Z"
   },
   {
    "duration": 26,
    "start_time": "2022-03-24T22:09:07.855Z"
   },
   {
    "duration": 18,
    "start_time": "2022-03-24T22:09:07.902Z"
   },
   {
    "duration": 28,
    "start_time": "2022-03-24T22:09:07.922Z"
   },
   {
    "duration": 9,
    "start_time": "2022-03-24T22:09:07.952Z"
   },
   {
    "duration": 14,
    "start_time": "2022-03-24T22:09:07.963Z"
   },
   {
    "duration": 30,
    "start_time": "2022-03-24T22:09:07.979Z"
   },
   {
    "duration": 23,
    "start_time": "2022-03-24T22:09:08.011Z"
   },
   {
    "duration": 30,
    "start_time": "2022-03-24T22:09:08.036Z"
   },
   {
    "duration": 21,
    "start_time": "2022-03-24T22:09:08.069Z"
   },
   {
    "duration": 31,
    "start_time": "2022-03-24T22:09:08.093Z"
   },
   {
    "duration": 22,
    "start_time": "2022-03-24T22:09:08.127Z"
   },
   {
    "duration": 2,
    "start_time": "2022-03-24T22:09:08.152Z"
   },
   {
    "duration": 12,
    "start_time": "2022-03-24T22:09:08.156Z"
   },
   {
    "duration": 8,
    "start_time": "2022-03-24T22:09:08.170Z"
   },
   {
    "duration": 3,
    "start_time": "2022-03-24T22:09:08.200Z"
   },
   {
    "duration": 5,
    "start_time": "2022-03-24T22:11:54.297Z"
   },
   {
    "duration": 29,
    "start_time": "2022-03-24T22:11:55.063Z"
   },
   {
    "duration": 15,
    "start_time": "2022-03-24T22:11:55.431Z"
   },
   {
    "duration": 25,
    "start_time": "2022-03-24T22:11:55.990Z"
   },
   {
    "duration": 15,
    "start_time": "2022-03-24T22:11:56.464Z"
   },
   {
    "duration": 3,
    "start_time": "2022-03-24T22:18:05.245Z"
   },
   {
    "duration": 24,
    "start_time": "2022-03-24T22:18:05.250Z"
   },
   {
    "duration": 10,
    "start_time": "2022-03-24T22:18:05.276Z"
   },
   {
    "duration": 14,
    "start_time": "2022-03-24T22:18:05.288Z"
   },
   {
    "duration": 420,
    "start_time": "2022-03-25T07:03:42.248Z"
   },
   {
    "duration": 156,
    "start_time": "2022-03-25T07:03:42.900Z"
   },
   {
    "duration": 16,
    "start_time": "2022-03-25T07:03:43.397Z"
   },
   {
    "duration": 29,
    "start_time": "2022-03-25T07:03:43.914Z"
   },
   {
    "duration": 3,
    "start_time": "2022-03-25T07:03:45.603Z"
   },
   {
    "duration": 13,
    "start_time": "2022-03-25T07:03:46.394Z"
   },
   {
    "duration": 3,
    "start_time": "2022-03-25T07:03:46.881Z"
   },
   {
    "duration": 25,
    "start_time": "2022-03-25T07:03:47.513Z"
   },
   {
    "duration": 20,
    "start_time": "2022-03-25T07:03:48.494Z"
   },
   {
    "duration": 25,
    "start_time": "2022-03-25T07:03:49.131Z"
   },
   {
    "duration": 62,
    "start_time": "2022-03-25T07:03:50.227Z"
   },
   {
    "duration": 73,
    "start_time": "2022-03-25T07:03:51.297Z"
   },
   {
    "duration": 57,
    "start_time": "2022-03-25T07:03:51.845Z"
   },
   {
    "duration": 9,
    "start_time": "2022-03-25T07:03:53.732Z"
   },
   {
    "duration": 3,
    "start_time": "2022-03-25T07:03:54.279Z"
   },
   {
    "duration": 10,
    "start_time": "2022-03-25T07:03:54.797Z"
   },
   {
    "duration": 9,
    "start_time": "2022-03-25T07:03:55.296Z"
   },
   {
    "duration": 32,
    "start_time": "2022-03-25T07:03:57.068Z"
   },
   {
    "duration": 34,
    "start_time": "2022-03-25T07:03:57.635Z"
   },
   {
    "duration": 4,
    "start_time": "2022-03-25T07:03:58.682Z"
   },
   {
    "duration": 17,
    "start_time": "2022-03-25T07:03:59.327Z"
   },
   {
    "duration": 14,
    "start_time": "2022-03-25T07:03:59.598Z"
   },
   {
    "duration": 15,
    "start_time": "2022-03-25T07:03:59.863Z"
   },
   {
    "duration": 13,
    "start_time": "2022-03-25T07:04:00.162Z"
   },
   {
    "duration": 16,
    "start_time": "2022-03-25T07:04:00.414Z"
   },
   {
    "duration": 15,
    "start_time": "2022-03-25T07:04:00.651Z"
   },
   {
    "duration": 9,
    "start_time": "2022-03-25T07:04:01.257Z"
   },
   {
    "duration": 14,
    "start_time": "2022-03-25T07:04:03.031Z"
   },
   {
    "duration": 9,
    "start_time": "2022-03-25T07:04:03.343Z"
   },
   {
    "duration": 3,
    "start_time": "2022-03-25T07:04:04.052Z"
   },
   {
    "duration": 18,
    "start_time": "2022-03-25T07:04:04.746Z"
   },
   {
    "duration": 15,
    "start_time": "2022-03-25T07:04:05.129Z"
   },
   {
    "duration": 22,
    "start_time": "2022-03-25T07:04:05.557Z"
   },
   {
    "duration": 12,
    "start_time": "2022-03-25T07:04:06.019Z"
   },
   {
    "duration": 723,
    "start_time": "2022-03-25T17:04:06.006Z"
   },
   {
    "duration": 312,
    "start_time": "2022-03-25T17:04:06.735Z"
   },
   {
    "duration": 48,
    "start_time": "2022-03-25T17:04:07.051Z"
   },
   {
    "duration": 68,
    "start_time": "2022-03-25T17:04:07.102Z"
   },
   {
    "duration": 5,
    "start_time": "2022-03-25T17:04:07.175Z"
   },
   {
    "duration": 32,
    "start_time": "2022-03-25T17:04:07.186Z"
   },
   {
    "duration": 7,
    "start_time": "2022-03-25T17:04:07.221Z"
   },
   {
    "duration": 63,
    "start_time": "2022-03-25T17:04:07.268Z"
   },
   {
    "duration": 57,
    "start_time": "2022-03-25T17:04:07.333Z"
   },
   {
    "duration": 76,
    "start_time": "2022-03-25T17:04:07.395Z"
   },
   {
    "duration": 120,
    "start_time": "2022-03-25T17:04:07.474Z"
   },
   {
    "duration": 130,
    "start_time": "2022-03-25T17:04:07.598Z"
   },
   {
    "duration": 124,
    "start_time": "2022-03-25T17:04:07.730Z"
   },
   {
    "duration": 16,
    "start_time": "2022-03-25T17:04:07.868Z"
   },
   {
    "duration": 5,
    "start_time": "2022-03-25T17:04:07.887Z"
   },
   {
    "duration": 31,
    "start_time": "2022-03-25T17:04:07.894Z"
   },
   {
    "duration": 50,
    "start_time": "2022-03-25T17:04:07.928Z"
   },
   {
    "duration": 49,
    "start_time": "2022-03-25T17:04:07.981Z"
   },
   {
    "duration": 80,
    "start_time": "2022-03-25T17:04:08.033Z"
   },
   {
    "duration": 6,
    "start_time": "2022-03-25T17:04:08.116Z"
   },
   {
    "duration": 51,
    "start_time": "2022-03-25T17:04:08.126Z"
   },
   {
    "duration": 20,
    "start_time": "2022-03-25T17:04:08.183Z"
   },
   {
    "duration": 44,
    "start_time": "2022-03-25T17:04:08.205Z"
   },
   {
    "duration": 27,
    "start_time": "2022-03-25T17:04:08.268Z"
   },
   {
    "duration": 34,
    "start_time": "2022-03-25T17:04:08.304Z"
   },
   {
    "duration": 42,
    "start_time": "2022-03-25T17:04:08.341Z"
   },
   {
    "duration": 46,
    "start_time": "2022-03-25T17:04:08.386Z"
   },
   {
    "duration": 21,
    "start_time": "2022-03-25T17:04:08.435Z"
   },
   {
    "duration": 36,
    "start_time": "2022-03-25T17:04:08.459Z"
   },
   {
    "duration": 11,
    "start_time": "2022-03-25T17:04:08.499Z"
   },
   {
    "duration": 62,
    "start_time": "2022-03-25T17:04:08.513Z"
   },
   {
    "duration": 27,
    "start_time": "2022-03-25T17:04:08.578Z"
   },
   {
    "duration": 81,
    "start_time": "2022-03-25T17:04:08.608Z"
   },
   {
    "duration": 36,
    "start_time": "2022-03-25T17:04:08.693Z"
   },
   {
    "duration": 4,
    "start_time": "2022-03-25T17:04:08.731Z"
   },
   {
    "duration": 46,
    "start_time": "2022-03-25T17:04:08.737Z"
   },
   {
    "duration": 34,
    "start_time": "2022-03-25T17:04:08.786Z"
   },
   {
    "duration": 41,
    "start_time": "2022-03-25T17:04:08.823Z"
   },
   {
    "duration": 645,
    "start_time": "2022-03-25T17:06:36.662Z"
   },
   {
    "duration": 326,
    "start_time": "2022-03-25T17:06:37.314Z"
   },
   {
    "duration": 48,
    "start_time": "2022-03-25T17:06:37.644Z"
   },
   {
    "duration": 82,
    "start_time": "2022-03-25T17:06:37.695Z"
   },
   {
    "duration": 5,
    "start_time": "2022-03-25T17:06:37.781Z"
   },
   {
    "duration": 23,
    "start_time": "2022-03-25T17:06:37.788Z"
   },
   {
    "duration": 8,
    "start_time": "2022-03-25T17:06:37.814Z"
   },
   {
    "duration": 89,
    "start_time": "2022-03-25T17:06:37.826Z"
   },
   {
    "duration": 50,
    "start_time": "2022-03-25T17:06:37.918Z"
   },
   {
    "duration": 55,
    "start_time": "2022-03-25T17:06:37.971Z"
   },
   {
    "duration": 170,
    "start_time": "2022-03-25T17:06:38.031Z"
   },
   {
    "duration": 136,
    "start_time": "2022-03-25T17:06:38.204Z"
   },
   {
    "duration": 101,
    "start_time": "2022-03-25T17:06:38.343Z"
   },
   {
    "duration": 32,
    "start_time": "2022-03-25T17:06:38.450Z"
   },
   {
    "duration": 6,
    "start_time": "2022-03-25T17:06:38.487Z"
   },
   {
    "duration": 20,
    "start_time": "2022-03-25T17:06:38.496Z"
   },
   {
    "duration": 50,
    "start_time": "2022-03-25T17:06:38.519Z"
   },
   {
    "duration": 97,
    "start_time": "2022-03-25T17:06:38.572Z"
   },
   {
    "duration": 72,
    "start_time": "2022-03-25T17:06:38.672Z"
   },
   {
    "duration": 23,
    "start_time": "2022-03-25T17:06:38.747Z"
   },
   {
    "duration": 40,
    "start_time": "2022-03-25T17:06:38.774Z"
   },
   {
    "duration": 59,
    "start_time": "2022-03-25T17:06:38.817Z"
   },
   {
    "duration": 31,
    "start_time": "2022-03-25T17:06:38.879Z"
   },
   {
    "duration": 61,
    "start_time": "2022-03-25T17:06:38.913Z"
   },
   {
    "duration": 33,
    "start_time": "2022-03-25T17:06:38.977Z"
   },
   {
    "duration": 53,
    "start_time": "2022-03-25T17:06:39.014Z"
   },
   {
    "duration": 17,
    "start_time": "2022-03-25T17:06:39.070Z"
   },
   {
    "duration": 20,
    "start_time": "2022-03-25T17:06:39.091Z"
   },
   {
    "duration": 17,
    "start_time": "2022-03-25T17:06:39.113Z"
   },
   {
    "duration": 34,
    "start_time": "2022-03-25T17:06:39.134Z"
   },
   {
    "duration": 45,
    "start_time": "2022-03-25T17:06:39.172Z"
   },
   {
    "duration": 56,
    "start_time": "2022-03-25T17:06:39.220Z"
   },
   {
    "duration": 48,
    "start_time": "2022-03-25T17:06:39.279Z"
   },
   {
    "duration": 57,
    "start_time": "2022-03-25T17:06:39.330Z"
   },
   {
    "duration": 4,
    "start_time": "2022-03-25T17:06:39.391Z"
   },
   {
    "duration": 8,
    "start_time": "2022-03-25T17:06:39.397Z"
   },
   {
    "duration": 18,
    "start_time": "2022-03-25T17:06:39.407Z"
   },
   {
    "duration": 5,
    "start_time": "2022-03-25T17:06:39.428Z"
   },
   {
    "duration": 16,
    "start_time": "2022-03-25T17:09:22.764Z"
   },
   {
    "duration": 20,
    "start_time": "2022-03-25T17:09:23.922Z"
   },
   {
    "duration": 15,
    "start_time": "2022-03-25T17:09:24.205Z"
   },
   {
    "duration": 11,
    "start_time": "2022-03-25T17:09:24.693Z"
   },
   {
    "duration": 66,
    "start_time": "2022-03-25T17:09:25.139Z"
   },
   {
    "duration": 33,
    "start_time": "2022-03-25T17:09:25.723Z"
   },
   {
    "duration": 44,
    "start_time": "2022-03-25T17:09:26.071Z"
   },
   {
    "duration": 35,
    "start_time": "2022-03-25T17:09:26.421Z"
   },
   {
    "duration": 564,
    "start_time": "2022-03-25T17:09:39.451Z"
   },
   {
    "duration": 296,
    "start_time": "2022-03-25T17:09:40.019Z"
   },
   {
    "duration": 50,
    "start_time": "2022-03-25T17:09:40.318Z"
   },
   {
    "duration": 67,
    "start_time": "2022-03-25T17:09:40.372Z"
   },
   {
    "duration": 24,
    "start_time": "2022-03-25T17:09:40.450Z"
   },
   {
    "duration": 37,
    "start_time": "2022-03-25T17:09:40.477Z"
   },
   {
    "duration": 16,
    "start_time": "2022-03-25T17:09:40.518Z"
   },
   {
    "duration": 63,
    "start_time": "2022-03-25T17:09:40.537Z"
   },
   {
    "duration": 32,
    "start_time": "2022-03-25T17:09:40.603Z"
   },
   {
    "duration": 73,
    "start_time": "2022-03-25T17:09:40.638Z"
   },
   {
    "duration": 148,
    "start_time": "2022-03-25T17:09:40.713Z"
   },
   {
    "duration": 164,
    "start_time": "2022-03-25T17:09:40.867Z"
   },
   {
    "duration": 135,
    "start_time": "2022-03-25T17:09:41.034Z"
   },
   {
    "duration": 25,
    "start_time": "2022-03-25T17:09:41.178Z"
   },
   {
    "duration": 6,
    "start_time": "2022-03-25T17:09:41.206Z"
   },
   {
    "duration": 36,
    "start_time": "2022-03-25T17:09:41.215Z"
   },
   {
    "duration": 34,
    "start_time": "2022-03-25T17:09:41.253Z"
   },
   {
    "duration": 93,
    "start_time": "2022-03-25T17:09:41.290Z"
   },
   {
    "duration": 52,
    "start_time": "2022-03-25T17:09:41.386Z"
   },
   {
    "duration": 28,
    "start_time": "2022-03-25T17:09:41.441Z"
   },
   {
    "duration": 29,
    "start_time": "2022-03-25T17:09:41.473Z"
   },
   {
    "duration": 29,
    "start_time": "2022-03-25T17:09:41.505Z"
   },
   {
    "duration": 57,
    "start_time": "2022-03-25T17:09:41.537Z"
   },
   {
    "duration": 27,
    "start_time": "2022-03-25T17:09:41.598Z"
   },
   {
    "duration": 56,
    "start_time": "2022-03-25T17:09:41.629Z"
   },
   {
    "duration": 29,
    "start_time": "2022-03-25T17:09:41.688Z"
   },
   {
    "duration": 48,
    "start_time": "2022-03-25T17:09:41.720Z"
   },
   {
    "duration": 15,
    "start_time": "2022-03-25T17:09:41.771Z"
   },
   {
    "duration": 14,
    "start_time": "2022-03-25T17:09:41.789Z"
   },
   {
    "duration": 14,
    "start_time": "2022-03-25T17:09:41.806Z"
   },
   {
    "duration": 66,
    "start_time": "2022-03-25T17:09:41.823Z"
   },
   {
    "duration": 25,
    "start_time": "2022-03-25T17:09:41.892Z"
   },
   {
    "duration": 71,
    "start_time": "2022-03-25T17:09:41.920Z"
   },
   {
    "duration": 34,
    "start_time": "2022-03-25T17:09:41.994Z"
   },
   {
    "duration": 3,
    "start_time": "2022-03-25T17:09:42.031Z"
   },
   {
    "duration": 9,
    "start_time": "2022-03-25T17:09:42.036Z"
   },
   {
    "duration": 24,
    "start_time": "2022-03-25T17:09:42.047Z"
   },
   {
    "duration": 11,
    "start_time": "2022-03-25T17:09:42.075Z"
   },
   {
    "duration": 6,
    "start_time": "2022-03-25T17:13:02.425Z"
   },
   {
    "duration": 261,
    "start_time": "2022-03-25T17:13:02.975Z"
   },
   {
    "duration": 18,
    "start_time": "2022-03-25T17:13:03.336Z"
   },
   {
    "duration": 67,
    "start_time": "2022-03-25T17:13:03.730Z"
   },
   {
    "duration": 15,
    "start_time": "2022-03-25T17:13:04.687Z"
   },
   {
    "duration": 24,
    "start_time": "2022-03-25T17:13:05.259Z"
   },
   {
    "duration": 6,
    "start_time": "2022-03-25T17:13:05.642Z"
   },
   {
    "duration": 61,
    "start_time": "2022-03-25T17:13:06.026Z"
   },
   {
    "duration": 45,
    "start_time": "2022-03-25T17:13:06.595Z"
   },
   {
    "duration": 68,
    "start_time": "2022-03-25T17:13:07.011Z"
   },
   {
    "duration": 163,
    "start_time": "2022-03-25T17:13:07.414Z"
   },
   {
    "duration": 128,
    "start_time": "2022-03-25T17:13:07.794Z"
   },
   {
    "duration": 135,
    "start_time": "2022-03-25T17:13:08.193Z"
   },
   {
    "duration": 24,
    "start_time": "2022-03-25T17:13:08.813Z"
   },
   {
    "duration": 6,
    "start_time": "2022-03-25T17:13:09.230Z"
   },
   {
    "duration": 20,
    "start_time": "2022-03-25T17:13:09.643Z"
   },
   {
    "duration": 49,
    "start_time": "2022-03-25T17:13:10.049Z"
   },
   {
    "duration": 86,
    "start_time": "2022-03-25T17:13:11.279Z"
   },
   {
    "duration": 79,
    "start_time": "2022-03-25T17:13:11.708Z"
   },
   {
    "duration": 11,
    "start_time": "2022-03-25T17:13:13.364Z"
   },
   {
    "duration": 50,
    "start_time": "2022-03-25T17:13:14.043Z"
   },
   {
    "duration": 28,
    "start_time": "2022-03-25T17:13:14.606Z"
   },
   {
    "duration": 37,
    "start_time": "2022-03-25T17:13:14.860Z"
   },
   {
    "duration": 43,
    "start_time": "2022-03-25T17:13:15.076Z"
   },
   {
    "duration": 35,
    "start_time": "2022-03-25T17:13:15.324Z"
   },
   {
    "duration": 27,
    "start_time": "2022-03-25T17:13:15.526Z"
   },
   {
    "duration": 20,
    "start_time": "2022-03-25T17:13:16.028Z"
   },
   {
    "duration": 30,
    "start_time": "2022-03-25T17:13:17.524Z"
   },
   {
    "duration": 32,
    "start_time": "2022-03-25T17:13:17.765Z"
   },
   {
    "duration": 14,
    "start_time": "2022-03-25T17:13:18.160Z"
   },
   {
    "duration": 76,
    "start_time": "2022-03-25T17:13:18.594Z"
   },
   {
    "duration": 44,
    "start_time": "2022-03-25T17:13:19.928Z"
   },
   {
    "duration": 53,
    "start_time": "2022-03-25T17:14:43.988Z"
   },
   {
    "duration": 27,
    "start_time": "2022-03-25T17:14:44.653Z"
   },
   {
    "duration": 201,
    "start_time": "2022-03-25T17:16:04.903Z"
   },
   {
    "duration": 15,
    "start_time": "2022-03-25T17:16:05.182Z"
   },
   {
    "duration": 10,
    "start_time": "2022-03-25T17:16:05.601Z"
   },
   {
    "duration": 54,
    "start_time": "2022-03-25T17:16:06.962Z"
   },
   {
    "duration": 30,
    "start_time": "2022-03-25T17:16:07.779Z"
   },
   {
    "duration": 56,
    "start_time": "2022-03-25T17:16:08.830Z"
   },
   {
    "duration": 31,
    "start_time": "2022-03-25T17:16:09.301Z"
   },
   {
    "duration": 25,
    "start_time": "2022-03-25T17:16:27.734Z"
   },
   {
    "duration": 13,
    "start_time": "2022-03-25T17:16:28.032Z"
   },
   {
    "duration": 7,
    "start_time": "2022-03-25T17:16:29.161Z"
   },
   {
    "duration": 46,
    "start_time": "2022-03-25T17:16:29.584Z"
   },
   {
    "duration": 24,
    "start_time": "2022-03-25T17:16:29.782Z"
   },
   {
    "duration": 56,
    "start_time": "2022-03-25T17:16:30.047Z"
   },
   {
    "duration": 38,
    "start_time": "2022-03-25T17:16:30.248Z"
   },
   {
    "duration": 37,
    "start_time": "2022-03-25T17:21:10.465Z"
   },
   {
    "duration": 6,
    "start_time": "2022-03-25T17:23:10.407Z"
   },
   {
    "duration": 60,
    "start_time": "2022-03-25T17:23:10.874Z"
   },
   {
    "duration": 39,
    "start_time": "2022-03-25T17:23:11.094Z"
   },
   {
    "duration": 87,
    "start_time": "2022-03-25T17:23:11.342Z"
   },
   {
    "duration": 46,
    "start_time": "2022-03-25T17:23:12.439Z"
   },
   {
    "duration": 9,
    "start_time": "2022-03-25T17:23:27.325Z"
   },
   {
    "duration": 38,
    "start_time": "2022-03-25T17:23:27.791Z"
   },
   {
    "duration": 51,
    "start_time": "2022-03-25T17:23:28.059Z"
   },
   {
    "duration": 59,
    "start_time": "2022-03-25T17:23:28.538Z"
   },
   {
    "duration": 7,
    "start_time": "2022-03-25T17:23:38.057Z"
   },
   {
    "duration": 45,
    "start_time": "2022-03-25T17:23:38.442Z"
   },
   {
    "duration": 25,
    "start_time": "2022-03-25T17:23:39.121Z"
   },
   {
    "duration": 42,
    "start_time": "2022-03-25T17:23:39.404Z"
   },
   {
    "duration": 26,
    "start_time": "2022-03-25T17:23:40.404Z"
   },
   {
    "duration": 118,
    "start_time": "2022-03-25T17:23:55.375Z"
   },
   {
    "duration": 43,
    "start_time": "2022-03-25T17:23:56.069Z"
   },
   {
    "duration": 22,
    "start_time": "2022-03-25T17:23:56.804Z"
   },
   {
    "duration": 45,
    "start_time": "2022-03-25T17:23:57.754Z"
   },
   {
    "duration": 23,
    "start_time": "2022-03-25T17:23:58.534Z"
   },
   {
    "duration": 37,
    "start_time": "2022-03-25T17:24:02.086Z"
   },
   {
    "duration": 29,
    "start_time": "2022-03-25T17:24:02.690Z"
   },
   {
    "duration": 42,
    "start_time": "2022-03-25T17:24:03.022Z"
   },
   {
    "duration": 34,
    "start_time": "2022-03-25T17:24:03.337Z"
   },
   {
    "duration": 6,
    "start_time": "2022-03-25T17:24:10.507Z"
   },
   {
    "duration": 6,
    "start_time": "2022-03-25T17:25:06.553Z"
   },
   {
    "duration": 1800,
    "start_time": "2022-03-25T17:25:07.201Z"
   },
   {
    "duration": 0,
    "start_time": "2022-03-25T17:25:09.004Z"
   },
   {
    "duration": 0,
    "start_time": "2022-03-25T17:25:09.006Z"
   },
   {
    "duration": 7,
    "start_time": "2022-03-25T17:25:17.583Z"
   },
   {
    "duration": 57,
    "start_time": "2022-03-25T17:25:18.148Z"
   },
   {
    "duration": 40,
    "start_time": "2022-03-25T17:25:18.817Z"
   },
   {
    "duration": 65,
    "start_time": "2022-03-25T17:25:19.502Z"
   },
   {
    "duration": 50,
    "start_time": "2022-03-25T17:25:20.083Z"
   },
   {
    "duration": 3,
    "start_time": "2022-03-25T17:44:43.227Z"
   },
   {
    "duration": 235,
    "start_time": "2022-03-25T17:44:43.232Z"
   },
   {
    "duration": 35,
    "start_time": "2022-03-25T17:44:43.470Z"
   },
   {
    "duration": 44,
    "start_time": "2022-03-25T17:44:43.508Z"
   },
   {
    "duration": 14,
    "start_time": "2022-03-25T17:44:43.556Z"
   },
   {
    "duration": 18,
    "start_time": "2022-03-25T17:44:43.572Z"
   },
   {
    "duration": 7,
    "start_time": "2022-03-25T17:44:43.593Z"
   },
   {
    "duration": 75,
    "start_time": "2022-03-25T17:44:43.601Z"
   },
   {
    "duration": 29,
    "start_time": "2022-03-25T17:44:43.687Z"
   },
   {
    "duration": 64,
    "start_time": "2022-03-25T17:44:43.719Z"
   },
   {
    "duration": 156,
    "start_time": "2022-03-25T17:44:43.786Z"
   },
   {
    "duration": 139,
    "start_time": "2022-03-25T17:44:43.946Z"
   },
   {
    "duration": 100,
    "start_time": "2022-03-25T17:44:44.087Z"
   },
   {
    "duration": 15,
    "start_time": "2022-03-25T17:44:44.193Z"
   },
   {
    "duration": 4,
    "start_time": "2022-03-25T17:44:44.211Z"
   },
   {
    "duration": 51,
    "start_time": "2022-03-25T17:44:44.217Z"
   },
   {
    "duration": 19,
    "start_time": "2022-03-25T17:44:44.272Z"
   },
   {
    "duration": 50,
    "start_time": "2022-03-25T17:44:44.294Z"
   },
   {
    "duration": 54,
    "start_time": "2022-03-25T17:44:44.367Z"
   },
   {
    "duration": 5,
    "start_time": "2022-03-25T17:44:44.423Z"
   },
   {
    "duration": 64,
    "start_time": "2022-03-25T17:44:44.431Z"
   },
   {
    "duration": 20,
    "start_time": "2022-03-25T17:44:44.498Z"
   },
   {
    "duration": 19,
    "start_time": "2022-03-25T17:44:44.520Z"
   },
   {
    "duration": 50,
    "start_time": "2022-03-25T17:44:44.543Z"
   },
   {
    "duration": 22,
    "start_time": "2022-03-25T17:44:44.595Z"
   },
   {
    "duration": 20,
    "start_time": "2022-03-25T17:44:44.619Z"
   },
   {
    "duration": 44,
    "start_time": "2022-03-25T17:44:44.641Z"
   },
   {
    "duration": 22,
    "start_time": "2022-03-25T17:44:44.689Z"
   },
   {
    "duration": 16,
    "start_time": "2022-03-25T17:44:44.713Z"
   },
   {
    "duration": 6,
    "start_time": "2022-03-25T17:44:44.732Z"
   },
   {
    "duration": 47,
    "start_time": "2022-03-25T17:44:44.768Z"
   },
   {
    "duration": 23,
    "start_time": "2022-03-25T17:44:44.818Z"
   },
   {
    "duration": 72,
    "start_time": "2022-03-25T17:44:44.844Z"
   },
   {
    "duration": 28,
    "start_time": "2022-03-25T17:44:44.918Z"
   },
   {
    "duration": 24,
    "start_time": "2022-03-25T17:44:44.948Z"
   },
   {
    "duration": 6,
    "start_time": "2022-03-25T17:44:44.975Z"
   },
   {
    "duration": 12,
    "start_time": "2022-03-25T17:44:44.983Z"
   },
   {
    "duration": 10,
    "start_time": "2022-03-25T17:44:44.999Z"
   },
   {
    "duration": 7,
    "start_time": "2022-03-25T17:45:22.160Z"
   },
   {
    "duration": 36,
    "start_time": "2022-03-25T17:45:22.722Z"
   },
   {
    "duration": 24,
    "start_time": "2022-03-25T17:45:23.020Z"
   },
   {
    "duration": 44,
    "start_time": "2022-03-25T17:45:24.836Z"
   },
   {
    "duration": 29,
    "start_time": "2022-03-25T17:45:26.804Z"
   },
   {
    "duration": 4,
    "start_time": "2022-03-25T17:50:11.542Z"
   },
   {
    "duration": 248,
    "start_time": "2022-03-25T17:50:11.549Z"
   },
   {
    "duration": 17,
    "start_time": "2022-03-25T17:50:11.799Z"
   },
   {
    "duration": 68,
    "start_time": "2022-03-25T17:50:11.819Z"
   },
   {
    "duration": 7,
    "start_time": "2022-03-25T17:50:11.890Z"
   },
   {
    "duration": 25,
    "start_time": "2022-03-25T17:50:11.900Z"
   },
   {
    "duration": 4,
    "start_time": "2022-03-25T17:50:11.928Z"
   },
   {
    "duration": 81,
    "start_time": "2022-03-25T17:50:11.934Z"
   },
   {
    "duration": 49,
    "start_time": "2022-03-25T17:50:12.018Z"
   },
   {
    "duration": 41,
    "start_time": "2022-03-25T17:50:12.072Z"
   },
   {
    "duration": 117,
    "start_time": "2022-03-25T17:50:12.115Z"
   },
   {
    "duration": 114,
    "start_time": "2022-03-25T17:50:12.234Z"
   },
   {
    "duration": 100,
    "start_time": "2022-03-25T17:50:12.351Z"
   },
   {
    "duration": 24,
    "start_time": "2022-03-25T17:50:12.454Z"
   },
   {
    "duration": 4,
    "start_time": "2022-03-25T17:50:12.483Z"
   },
   {
    "duration": 15,
    "start_time": "2022-03-25T17:50:12.489Z"
   },
   {
    "duration": 16,
    "start_time": "2022-03-25T17:50:12.507Z"
   },
   {
    "duration": 84,
    "start_time": "2022-03-25T17:50:12.525Z"
   },
   {
    "duration": 77,
    "start_time": "2022-03-25T17:50:12.612Z"
   },
   {
    "duration": 5,
    "start_time": "2022-03-25T17:50:12.691Z"
   },
   {
    "duration": 27,
    "start_time": "2022-03-25T17:50:12.698Z"
   },
   {
    "duration": 43,
    "start_time": "2022-03-25T17:50:12.727Z"
   },
   {
    "duration": 24,
    "start_time": "2022-03-25T17:50:12.773Z"
   },
   {
    "duration": 21,
    "start_time": "2022-03-25T17:50:12.800Z"
   },
   {
    "duration": 49,
    "start_time": "2022-03-25T17:50:12.824Z"
   },
   {
    "duration": 30,
    "start_time": "2022-03-25T17:50:12.875Z"
   },
   {
    "duration": 13,
    "start_time": "2022-03-25T17:50:12.908Z"
   },
   {
    "duration": 53,
    "start_time": "2022-03-25T17:50:12.926Z"
   },
   {
    "duration": 22,
    "start_time": "2022-03-25T17:50:12.981Z"
   },
   {
    "duration": 6,
    "start_time": "2022-03-25T17:50:13.006Z"
   },
   {
    "duration": 61,
    "start_time": "2022-03-25T17:50:13.014Z"
   },
   {
    "duration": 27,
    "start_time": "2022-03-25T17:50:13.078Z"
   },
   {
    "duration": 65,
    "start_time": "2022-03-25T17:50:13.107Z"
   },
   {
    "duration": 28,
    "start_time": "2022-03-25T17:50:13.174Z"
   },
   {
    "duration": 3,
    "start_time": "2022-03-25T17:50:13.204Z"
   },
   {
    "duration": 6,
    "start_time": "2022-03-25T17:50:13.210Z"
   },
   {
    "duration": 10,
    "start_time": "2022-03-25T17:50:13.219Z"
   },
   {
    "duration": 37,
    "start_time": "2022-03-25T17:50:13.231Z"
   },
   {
    "duration": 8,
    "start_time": "2022-03-25T17:57:37.890Z"
   },
   {
    "duration": 30,
    "start_time": "2022-03-25T17:57:38.402Z"
   },
   {
    "duration": 22,
    "start_time": "2022-03-25T17:57:38.834Z"
   },
   {
    "duration": 30,
    "start_time": "2022-03-25T17:57:39.550Z"
   },
   {
    "duration": 35,
    "start_time": "2022-03-25T17:57:40.044Z"
   },
   {
    "duration": 559,
    "start_time": "2022-03-25T17:57:47.968Z"
   },
   {
    "duration": 279,
    "start_time": "2022-03-25T17:57:48.531Z"
   },
   {
    "duration": 39,
    "start_time": "2022-03-25T17:57:48.812Z"
   },
   {
    "duration": 46,
    "start_time": "2022-03-25T17:57:48.872Z"
   },
   {
    "duration": 5,
    "start_time": "2022-03-25T17:57:48.921Z"
   },
   {
    "duration": 41,
    "start_time": "2022-03-25T17:57:48.930Z"
   },
   {
    "duration": 20,
    "start_time": "2022-03-25T17:57:48.974Z"
   },
   {
    "duration": 55,
    "start_time": "2022-03-25T17:57:48.997Z"
   },
   {
    "duration": 43,
    "start_time": "2022-03-25T17:57:49.054Z"
   },
   {
    "duration": 52,
    "start_time": "2022-03-25T17:57:49.099Z"
   },
   {
    "duration": 144,
    "start_time": "2022-03-25T17:57:49.168Z"
   },
   {
    "duration": 162,
    "start_time": "2022-03-25T17:57:49.314Z"
   },
   {
    "duration": 109,
    "start_time": "2022-03-25T17:57:49.479Z"
   },
   {
    "duration": 17,
    "start_time": "2022-03-25T17:57:49.593Z"
   },
   {
    "duration": 5,
    "start_time": "2022-03-25T17:57:49.613Z"
   },
   {
    "duration": 15,
    "start_time": "2022-03-25T17:57:49.621Z"
   },
   {
    "duration": 49,
    "start_time": "2022-03-25T17:57:49.638Z"
   },
   {
    "duration": 50,
    "start_time": "2022-03-25T17:57:49.690Z"
   },
   {
    "duration": 52,
    "start_time": "2022-03-25T17:57:49.771Z"
   },
   {
    "duration": 5,
    "start_time": "2022-03-25T17:57:49.825Z"
   },
   {
    "duration": 65,
    "start_time": "2022-03-25T17:57:49.833Z"
   },
   {
    "duration": 21,
    "start_time": "2022-03-25T17:57:49.900Z"
   },
   {
    "duration": 19,
    "start_time": "2022-03-25T17:57:49.925Z"
   },
   {
    "duration": 44,
    "start_time": "2022-03-25T17:57:49.946Z"
   },
   {
    "duration": 24,
    "start_time": "2022-03-25T17:57:49.993Z"
   },
   {
    "duration": 20,
    "start_time": "2022-03-25T17:57:50.019Z"
   },
   {
    "duration": 22,
    "start_time": "2022-03-25T17:57:50.069Z"
   },
   {
    "duration": 16,
    "start_time": "2022-03-25T17:57:50.094Z"
   },
   {
    "duration": 12,
    "start_time": "2022-03-25T17:57:50.112Z"
   },
   {
    "duration": 6,
    "start_time": "2022-03-25T17:57:50.126Z"
   },
   {
    "duration": 75,
    "start_time": "2022-03-25T17:57:50.135Z"
   },
   {
    "duration": 27,
    "start_time": "2022-03-25T17:57:50.212Z"
   },
   {
    "duration": 61,
    "start_time": "2022-03-25T17:57:50.241Z"
   },
   {
    "duration": 21,
    "start_time": "2022-03-25T17:57:50.305Z"
   },
   {
    "duration": 3,
    "start_time": "2022-03-25T17:57:50.329Z"
   },
   {
    "duration": 10,
    "start_time": "2022-03-25T17:57:50.334Z"
   },
   {
    "duration": 17,
    "start_time": "2022-03-25T17:57:50.367Z"
   },
   {
    "duration": 6,
    "start_time": "2022-03-25T17:57:50.387Z"
   },
   {
    "duration": 7,
    "start_time": "2022-03-25T17:58:29.884Z"
   },
   {
    "duration": 34,
    "start_time": "2022-03-25T17:58:30.401Z"
   },
   {
    "duration": 20,
    "start_time": "2022-03-25T17:58:31.133Z"
   },
   {
    "duration": 27,
    "start_time": "2022-03-25T17:58:31.461Z"
   },
   {
    "duration": 8,
    "start_time": "2022-03-25T18:02:19.677Z"
   },
   {
    "duration": 25,
    "start_time": "2022-03-25T18:02:20.204Z"
   },
   {
    "duration": 276,
    "start_time": "2022-03-25T18:04:03.285Z"
   },
   {
    "duration": 35,
    "start_time": "2022-03-25T18:04:03.755Z"
   },
   {
    "duration": 125,
    "start_time": "2022-03-25T18:05:20.911Z"
   },
   {
    "duration": 5,
    "start_time": "2022-03-25T18:05:44.631Z"
   },
   {
    "duration": 25,
    "start_time": "2022-03-25T18:05:45.310Z"
   },
   {
    "duration": 8,
    "start_time": "2022-03-25T18:06:20.240Z"
   },
   {
    "duration": 26,
    "start_time": "2022-03-25T18:06:21.211Z"
   },
   {
    "duration": 23,
    "start_time": "2022-03-25T18:06:21.823Z"
   },
   {
    "duration": 33,
    "start_time": "2022-03-25T18:06:22.205Z"
   },
   {
    "duration": 21,
    "start_time": "2022-03-25T18:06:22.641Z"
   },
   {
    "duration": 6,
    "start_time": "2022-03-25T18:06:25.789Z"
   },
   {
    "duration": 9,
    "start_time": "2022-03-25T18:07:02.572Z"
   },
   {
    "duration": 9,
    "start_time": "2022-03-25T18:07:48.644Z"
   },
   {
    "duration": 52,
    "start_time": "2022-03-25T18:07:49.052Z"
   },
   {
    "duration": 26,
    "start_time": "2022-03-25T18:07:50.266Z"
   },
   {
    "duration": 488,
    "start_time": "2022-03-25T18:08:12.414Z"
   },
   {
    "duration": 267,
    "start_time": "2022-03-25T18:08:12.904Z"
   },
   {
    "duration": 39,
    "start_time": "2022-03-25T18:08:13.174Z"
   },
   {
    "duration": 76,
    "start_time": "2022-03-25T18:08:13.215Z"
   },
   {
    "duration": 11,
    "start_time": "2022-03-25T18:08:13.294Z"
   },
   {
    "duration": 23,
    "start_time": "2022-03-25T18:08:13.308Z"
   },
   {
    "duration": 12,
    "start_time": "2022-03-25T18:08:13.334Z"
   },
   {
    "duration": 56,
    "start_time": "2022-03-25T18:08:13.348Z"
   },
   {
    "duration": 24,
    "start_time": "2022-03-25T18:08:13.407Z"
   },
   {
    "duration": 67,
    "start_time": "2022-03-25T18:08:13.433Z"
   },
   {
    "duration": 114,
    "start_time": "2022-03-25T18:08:13.503Z"
   },
   {
    "duration": 130,
    "start_time": "2022-03-25T18:08:13.619Z"
   },
   {
    "duration": 99,
    "start_time": "2022-03-25T18:08:13.752Z"
   },
   {
    "duration": 33,
    "start_time": "2022-03-25T18:08:13.857Z"
   },
   {
    "duration": 8,
    "start_time": "2022-03-25T18:08:13.893Z"
   },
   {
    "duration": 15,
    "start_time": "2022-03-25T18:08:13.903Z"
   },
   {
    "duration": 17,
    "start_time": "2022-03-25T18:08:13.921Z"
   },
   {
    "duration": 57,
    "start_time": "2022-03-25T18:08:13.969Z"
   },
   {
    "duration": 85,
    "start_time": "2022-03-25T18:08:14.030Z"
   },
   {
    "duration": 5,
    "start_time": "2022-03-25T18:08:14.118Z"
   },
   {
    "duration": 51,
    "start_time": "2022-03-25T18:08:14.125Z"
   },
   {
    "duration": 22,
    "start_time": "2022-03-25T18:08:14.179Z"
   },
   {
    "duration": 23,
    "start_time": "2022-03-25T18:08:14.204Z"
   },
   {
    "duration": 55,
    "start_time": "2022-03-25T18:08:14.230Z"
   },
   {
    "duration": 26,
    "start_time": "2022-03-25T18:08:14.288Z"
   },
   {
    "duration": 20,
    "start_time": "2022-03-25T18:08:14.317Z"
   },
   {
    "duration": 41,
    "start_time": "2022-03-25T18:08:14.339Z"
   },
   {
    "duration": 19,
    "start_time": "2022-03-25T18:08:14.383Z"
   },
   {
    "duration": 14,
    "start_time": "2022-03-25T18:08:14.404Z"
   },
   {
    "duration": 7,
    "start_time": "2022-03-25T18:08:14.420Z"
   },
   {
    "duration": 77,
    "start_time": "2022-03-25T18:08:14.429Z"
   },
   {
    "duration": 24,
    "start_time": "2022-03-25T18:08:14.508Z"
   },
   {
    "duration": 62,
    "start_time": "2022-03-25T18:08:14.534Z"
   },
   {
    "duration": 24,
    "start_time": "2022-03-25T18:08:14.598Z"
   },
   {
    "duration": 4,
    "start_time": "2022-03-25T18:08:14.625Z"
   },
   {
    "duration": 3,
    "start_time": "2022-03-25T18:08:14.632Z"
   },
   {
    "duration": 3,
    "start_time": "2022-03-25T18:08:14.675Z"
   },
   {
    "duration": 6,
    "start_time": "2022-03-25T18:08:14.681Z"
   },
   {
    "duration": 8,
    "start_time": "2022-03-25T18:11:43.159Z"
   },
   {
    "duration": 33,
    "start_time": "2022-03-25T18:11:43.856Z"
   },
   {
    "duration": 8,
    "start_time": "2022-03-25T18:16:19.981Z"
   },
   {
    "duration": 63,
    "start_time": "2022-03-25T18:16:22.346Z"
   },
   {
    "duration": 7,
    "start_time": "2022-03-25T18:16:36.541Z"
   },
   {
    "duration": 61,
    "start_time": "2022-03-25T18:16:37.475Z"
   },
   {
    "duration": 41,
    "start_time": "2022-03-25T18:16:37.901Z"
   },
   {
    "duration": 7,
    "start_time": "2022-03-25T18:16:49.738Z"
   },
   {
    "duration": 52,
    "start_time": "2022-03-25T18:17:02.422Z"
   },
   {
    "duration": 6,
    "start_time": "2022-03-25T18:17:37.051Z"
   },
   {
    "duration": 13,
    "start_time": "2022-03-25T18:18:06.989Z"
   },
   {
    "duration": 44,
    "start_time": "2022-03-25T18:18:09.648Z"
   },
   {
    "duration": 9,
    "start_time": "2022-03-25T18:18:22.332Z"
   },
   {
    "duration": 50,
    "start_time": "2022-03-25T18:18:22.910Z"
   },
   {
    "duration": 11,
    "start_time": "2022-03-25T18:19:13.330Z"
   },
   {
    "duration": 58,
    "start_time": "2022-03-25T18:19:14.396Z"
   },
   {
    "duration": 7,
    "start_time": "2022-03-25T18:19:53.684Z"
   },
   {
    "duration": 50,
    "start_time": "2022-03-25T18:19:54.527Z"
   },
   {
    "duration": 7,
    "start_time": "2022-03-25T18:25:53.045Z"
   },
   {
    "duration": 45,
    "start_time": "2022-03-25T18:25:54.006Z"
   },
   {
    "duration": 33,
    "start_time": "2022-03-25T18:25:57.532Z"
   },
   {
    "duration": 34,
    "start_time": "2022-03-25T18:26:08.225Z"
   },
   {
    "duration": 9,
    "start_time": "2022-03-25T18:26:18.777Z"
   },
   {
    "duration": 26,
    "start_time": "2022-03-25T18:26:19.588Z"
   },
   {
    "duration": 18,
    "start_time": "2022-03-25T18:26:21.152Z"
   },
   {
    "duration": 24,
    "start_time": "2022-03-25T18:26:31.405Z"
   },
   {
    "duration": 14,
    "start_time": "2022-03-25T18:28:10.315Z"
   },
   {
    "duration": 40,
    "start_time": "2022-03-25T18:28:11.069Z"
   },
   {
    "duration": 7,
    "start_time": "2022-03-25T18:31:01.976Z"
   },
   {
    "duration": 27,
    "start_time": "2022-03-25T18:31:02.553Z"
   },
   {
    "duration": 21,
    "start_time": "2022-03-25T18:31:03.822Z"
   },
   {
    "duration": 34,
    "start_time": "2022-03-25T18:31:04.973Z"
   },
   {
    "duration": 8,
    "start_time": "2022-03-25T18:31:17.607Z"
   },
   {
    "duration": 39,
    "start_time": "2022-03-25T18:31:18.254Z"
   },
   {
    "duration": 17,
    "start_time": "2022-03-25T18:31:18.936Z"
   },
   {
    "duration": 6,
    "start_time": "2022-03-25T18:31:25.222Z"
   },
   {
    "duration": 26,
    "start_time": "2022-03-25T18:31:25.833Z"
   },
   {
    "duration": 8,
    "start_time": "2022-03-25T18:31:49.174Z"
   },
   {
    "duration": 564,
    "start_time": "2022-03-25T18:31:55.927Z"
   },
   {
    "duration": 209,
    "start_time": "2022-03-25T18:31:56.496Z"
   },
   {
    "duration": 29,
    "start_time": "2022-03-25T18:31:56.708Z"
   },
   {
    "duration": 76,
    "start_time": "2022-03-25T18:31:56.740Z"
   },
   {
    "duration": 6,
    "start_time": "2022-03-25T18:31:56.821Z"
   },
   {
    "duration": 48,
    "start_time": "2022-03-25T18:31:56.830Z"
   },
   {
    "duration": 22,
    "start_time": "2022-03-25T18:31:56.885Z"
   },
   {
    "duration": 46,
    "start_time": "2022-03-25T18:31:56.909Z"
   },
   {
    "duration": 32,
    "start_time": "2022-03-25T18:31:56.958Z"
   },
   {
    "duration": 34,
    "start_time": "2022-03-25T18:31:56.992Z"
   },
   {
    "duration": 120,
    "start_time": "2022-03-25T18:31:57.028Z"
   },
   {
    "duration": 126,
    "start_time": "2022-03-25T18:31:57.150Z"
   },
   {
    "duration": 94,
    "start_time": "2022-03-25T18:31:57.280Z"
   },
   {
    "duration": 16,
    "start_time": "2022-03-25T18:31:57.381Z"
   },
   {
    "duration": 5,
    "start_time": "2022-03-25T18:31:57.399Z"
   },
   {
    "duration": 14,
    "start_time": "2022-03-25T18:31:57.406Z"
   },
   {
    "duration": 51,
    "start_time": "2022-03-25T18:31:57.422Z"
   },
   {
    "duration": 47,
    "start_time": "2022-03-25T18:31:57.475Z"
   },
   {
    "duration": 69,
    "start_time": "2022-03-25T18:31:57.524Z"
   },
   {
    "duration": 5,
    "start_time": "2022-03-25T18:31:57.595Z"
   },
   {
    "duration": 23,
    "start_time": "2022-03-25T18:31:57.603Z"
   },
   {
    "duration": 52,
    "start_time": "2022-03-25T18:31:57.628Z"
   },
   {
    "duration": 20,
    "start_time": "2022-03-25T18:31:57.683Z"
   },
   {
    "duration": 19,
    "start_time": "2022-03-25T18:31:57.705Z"
   },
   {
    "duration": 46,
    "start_time": "2022-03-25T18:31:57.727Z"
   },
   {
    "duration": 21,
    "start_time": "2022-03-25T18:31:57.775Z"
   },
   {
    "duration": 12,
    "start_time": "2022-03-25T18:31:57.798Z"
   },
   {
    "duration": 17,
    "start_time": "2022-03-25T18:31:57.812Z"
   },
   {
    "duration": 46,
    "start_time": "2022-03-25T18:31:57.830Z"
   },
   {
    "duration": 6,
    "start_time": "2022-03-25T18:31:57.878Z"
   },
   {
    "duration": 28,
    "start_time": "2022-03-25T18:31:57.886Z"
   },
   {
    "duration": 16,
    "start_time": "2022-03-25T18:31:57.916Z"
   },
   {
    "duration": 48,
    "start_time": "2022-03-25T18:31:57.934Z"
   },
   {
    "duration": 19,
    "start_time": "2022-03-25T18:31:57.985Z"
   },
   {
    "duration": 3,
    "start_time": "2022-03-25T18:31:58.007Z"
   },
   {
    "duration": 8,
    "start_time": "2022-03-25T18:31:58.012Z"
   },
   {
    "duration": 9,
    "start_time": "2022-03-25T18:31:58.022Z"
   },
   {
    "duration": 5,
    "start_time": "2022-03-25T18:31:58.067Z"
   },
   {
    "duration": 6,
    "start_time": "2022-03-25T18:34:25.137Z"
   },
   {
    "duration": 114,
    "start_time": "2022-03-25T18:34:25.639Z"
   },
   {
    "duration": 7,
    "start_time": "2022-03-25T18:38:35.028Z"
   },
   {
    "duration": 33,
    "start_time": "2022-03-25T18:38:35.558Z"
   },
   {
    "duration": 20,
    "start_time": "2022-03-25T18:38:35.978Z"
   },
   {
    "duration": 24,
    "start_time": "2022-03-25T18:38:36.493Z"
   },
   {
    "duration": 6,
    "start_time": "2022-03-25T18:39:01.857Z"
   },
   {
    "duration": 39,
    "start_time": "2022-03-25T18:39:02.807Z"
   },
   {
    "duration": 7,
    "start_time": "2022-03-25T18:50:22.536Z"
   },
   {
    "duration": 25,
    "start_time": "2022-03-25T18:50:23.341Z"
   },
   {
    "duration": 22,
    "start_time": "2022-03-25T18:55:27.783Z"
   },
   {
    "duration": 5,
    "start_time": "2022-03-25T18:55:27.809Z"
   },
   {
    "duration": 18,
    "start_time": "2022-03-25T18:55:27.817Z"
   },
   {
    "duration": 40,
    "start_time": "2022-03-25T18:55:27.837Z"
   },
   {
    "duration": 83,
    "start_time": "2022-03-25T18:55:27.884Z"
   },
   {
    "duration": 52,
    "start_time": "2022-03-25T18:55:27.970Z"
   },
   {
    "duration": 5,
    "start_time": "2022-03-25T18:55:28.025Z"
   },
   {
    "duration": 57,
    "start_time": "2022-03-25T18:55:28.032Z"
   },
   {
    "duration": 21,
    "start_time": "2022-03-25T18:55:28.091Z"
   },
   {
    "duration": 22,
    "start_time": "2022-03-25T18:55:28.115Z"
   },
   {
    "duration": 51,
    "start_time": "2022-03-25T18:55:28.140Z"
   },
   {
    "duration": 21,
    "start_time": "2022-03-25T18:55:28.194Z"
   },
   {
    "duration": 53,
    "start_time": "2022-03-25T18:55:28.217Z"
   },
   {
    "duration": 17,
    "start_time": "2022-03-25T18:55:28.275Z"
   },
   {
    "duration": 17,
    "start_time": "2022-03-25T18:55:28.295Z"
   },
   {
    "duration": 13,
    "start_time": "2022-03-25T18:55:28.314Z"
   },
   {
    "duration": 38,
    "start_time": "2022-03-25T18:55:28.329Z"
   },
   {
    "duration": 32,
    "start_time": "2022-03-25T18:55:28.369Z"
   },
   {
    "duration": 18,
    "start_time": "2022-03-25T18:55:28.403Z"
   },
   {
    "duration": 52,
    "start_time": "2022-03-25T18:55:28.423Z"
   },
   {
    "duration": 21,
    "start_time": "2022-03-25T18:55:28.478Z"
   },
   {
    "duration": 5,
    "start_time": "2022-03-25T18:55:28.503Z"
   },
   {
    "duration": 5,
    "start_time": "2022-03-25T18:55:28.510Z"
   },
   {
    "duration": 5,
    "start_time": "2022-03-25T18:55:28.518Z"
   },
   {
    "duration": 5,
    "start_time": "2022-03-25T18:55:28.525Z"
   },
   {
    "duration": 507,
    "start_time": "2022-03-25T18:55:40.022Z"
   },
   {
    "duration": 212,
    "start_time": "2022-03-25T18:55:40.532Z"
   },
   {
    "duration": 36,
    "start_time": "2022-03-25T18:55:40.747Z"
   },
   {
    "duration": 82,
    "start_time": "2022-03-25T18:55:40.786Z"
   },
   {
    "duration": 7,
    "start_time": "2022-03-25T18:55:40.872Z"
   },
   {
    "duration": 35,
    "start_time": "2022-03-25T18:55:40.882Z"
   },
   {
    "duration": 5,
    "start_time": "2022-03-25T18:55:40.920Z"
   },
   {
    "duration": 65,
    "start_time": "2022-03-25T18:55:40.929Z"
   },
   {
    "duration": 26,
    "start_time": "2022-03-25T18:55:40.996Z"
   },
   {
    "duration": 65,
    "start_time": "2022-03-25T18:55:41.025Z"
   },
   {
    "duration": 117,
    "start_time": "2022-03-25T18:55:41.092Z"
   },
   {
    "duration": 131,
    "start_time": "2022-03-25T18:55:41.211Z"
   },
   {
    "duration": 94,
    "start_time": "2022-03-25T18:55:41.344Z"
   },
   {
    "duration": 23,
    "start_time": "2022-03-25T18:55:41.446Z"
   },
   {
    "duration": 5,
    "start_time": "2022-03-25T18:55:41.472Z"
   },
   {
    "duration": 32,
    "start_time": "2022-03-25T18:55:41.480Z"
   },
   {
    "duration": 16,
    "start_time": "2022-03-25T18:55:41.515Z"
   },
   {
    "duration": 83,
    "start_time": "2022-03-25T18:55:41.533Z"
   },
   {
    "duration": 69,
    "start_time": "2022-03-25T18:55:41.618Z"
   },
   {
    "duration": 6,
    "start_time": "2022-03-25T18:55:41.690Z"
   },
   {
    "duration": 23,
    "start_time": "2022-03-25T18:55:41.699Z"
   },
   {
    "duration": 59,
    "start_time": "2022-03-25T18:55:41.724Z"
   },
   {
    "duration": 21,
    "start_time": "2022-03-25T18:55:41.786Z"
   },
   {
    "duration": 19,
    "start_time": "2022-03-25T18:55:41.810Z"
   },
   {
    "duration": 56,
    "start_time": "2022-03-25T18:55:41.832Z"
   },
   {
    "duration": 19,
    "start_time": "2022-03-25T18:55:41.890Z"
   },
   {
    "duration": 13,
    "start_time": "2022-03-25T18:55:41.911Z"
   },
   {
    "duration": 45,
    "start_time": "2022-03-25T18:55:41.926Z"
   },
   {
    "duration": 14,
    "start_time": "2022-03-25T18:55:41.978Z"
   },
   {
    "duration": 6,
    "start_time": "2022-03-25T18:55:41.995Z"
   },
   {
    "duration": 32,
    "start_time": "2022-03-25T18:55:42.003Z"
   },
   {
    "duration": 45,
    "start_time": "2022-03-25T18:55:42.037Z"
   },
   {
    "duration": 27,
    "start_time": "2022-03-25T18:55:42.085Z"
   },
   {
    "duration": 19,
    "start_time": "2022-03-25T18:55:42.114Z"
   },
   {
    "duration": 41,
    "start_time": "2022-03-25T18:55:42.135Z"
   },
   {
    "duration": 4,
    "start_time": "2022-03-25T18:55:42.178Z"
   },
   {
    "duration": 5,
    "start_time": "2022-03-25T18:55:42.187Z"
   },
   {
    "duration": 5,
    "start_time": "2022-03-25T18:55:42.194Z"
   },
   {
    "duration": 7,
    "start_time": "2022-03-25T19:19:33.695Z"
   },
   {
    "duration": 129,
    "start_time": "2022-03-25T19:19:34.505Z"
   },
   {
    "duration": 7,
    "start_time": "2022-03-25T19:21:18.880Z"
   },
   {
    "duration": 34,
    "start_time": "2022-03-25T19:21:19.452Z"
   },
   {
    "duration": 6,
    "start_time": "2022-03-25T19:21:27.995Z"
   },
   {
    "duration": 3,
    "start_time": "2022-03-25T19:23:00.136Z"
   },
   {
    "duration": 232,
    "start_time": "2022-03-25T19:23:00.669Z"
   },
   {
    "duration": 17,
    "start_time": "2022-03-25T19:23:01.185Z"
   },
   {
    "duration": 40,
    "start_time": "2022-03-25T19:23:01.801Z"
   },
   {
    "duration": 5,
    "start_time": "2022-03-25T19:23:03.600Z"
   },
   {
    "duration": 12,
    "start_time": "2022-03-25T19:23:04.352Z"
   },
   {
    "duration": 6,
    "start_time": "2022-03-25T19:23:04.817Z"
   },
   {
    "duration": 39,
    "start_time": "2022-03-25T19:23:05.539Z"
   },
   {
    "duration": 24,
    "start_time": "2022-03-25T19:23:06.382Z"
   },
   {
    "duration": 34,
    "start_time": "2022-03-25T19:23:06.883Z"
   },
   {
    "duration": 102,
    "start_time": "2022-03-25T19:23:07.383Z"
   },
   {
    "duration": 116,
    "start_time": "2022-03-25T19:23:07.921Z"
   },
   {
    "duration": 81,
    "start_time": "2022-03-25T19:23:08.484Z"
   },
   {
    "duration": 16,
    "start_time": "2022-03-25T19:23:09.278Z"
   },
   {
    "duration": 5,
    "start_time": "2022-03-25T19:23:09.832Z"
   },
   {
    "duration": 15,
    "start_time": "2022-03-25T19:23:10.881Z"
   },
   {
    "duration": 15,
    "start_time": "2022-03-25T19:23:11.464Z"
   },
   {
    "duration": 49,
    "start_time": "2022-03-25T19:23:13.385Z"
   },
   {
    "duration": 52,
    "start_time": "2022-03-25T19:23:13.834Z"
   },
   {
    "duration": 5,
    "start_time": "2022-03-25T19:23:14.597Z"
   },
   {
    "duration": 24,
    "start_time": "2022-03-25T19:23:15.251Z"
   },
   {
    "duration": 20,
    "start_time": "2022-03-25T19:23:15.618Z"
   },
   {
    "duration": 20,
    "start_time": "2022-03-25T19:23:15.933Z"
   },
   {
    "duration": 19,
    "start_time": "2022-03-25T19:23:16.202Z"
   },
   {
    "duration": 23,
    "start_time": "2022-03-25T19:23:16.406Z"
   },
   {
    "duration": 21,
    "start_time": "2022-03-25T19:23:16.639Z"
   },
   {
    "duration": 13,
    "start_time": "2022-03-25T19:23:17.117Z"
   },
   {
    "duration": 15,
    "start_time": "2022-03-25T19:23:19.881Z"
   },
   {
    "duration": 15,
    "start_time": "2022-03-25T19:23:23.830Z"
   },
   {
    "duration": 6,
    "start_time": "2022-03-25T19:23:25.097Z"
   },
   {
    "duration": 6,
    "start_time": "2022-03-25T19:27:22.940Z"
   },
   {
    "duration": 27,
    "start_time": "2022-03-25T19:27:23.501Z"
   },
   {
    "duration": 26,
    "start_time": "2022-03-25T19:27:33.665Z"
   },
   {
    "duration": 27,
    "start_time": "2022-03-25T19:27:33.988Z"
   },
   {
    "duration": 25,
    "start_time": "2022-03-25T19:27:34.473Z"
   },
   {
    "duration": 11,
    "start_time": "2022-03-25T19:52:48.865Z"
   },
   {
    "duration": 9,
    "start_time": "2022-03-25T19:52:56.602Z"
   },
   {
    "duration": 36,
    "start_time": "2022-03-25T19:53:36.981Z"
   },
   {
    "duration": 10,
    "start_time": "2022-03-25T19:54:44.361Z"
   },
   {
    "duration": 36,
    "start_time": "2022-03-25T19:56:24.221Z"
   },
   {
    "duration": 31,
    "start_time": "2022-03-25T19:56:42.921Z"
   },
   {
    "duration": 12,
    "start_time": "2022-03-25T19:56:44.502Z"
   },
   {
    "duration": 19,
    "start_time": "2022-03-25T19:57:29.185Z"
   },
   {
    "duration": 14,
    "start_time": "2022-03-25T19:57:41.298Z"
   },
   {
    "duration": 6,
    "start_time": "2022-03-25T19:57:43.904Z"
   },
   {
    "duration": 13,
    "start_time": "2022-03-25T19:58:59.363Z"
   },
   {
    "duration": 6,
    "start_time": "2022-03-25T19:59:00.026Z"
   },
   {
    "duration": 8,
    "start_time": "2022-03-25T19:59:01.230Z"
   },
   {
    "duration": 7,
    "start_time": "2022-03-25T19:59:02.093Z"
   },
   {
    "duration": 15,
    "start_time": "2022-03-25T20:01:02.759Z"
   },
   {
    "duration": 7,
    "start_time": "2022-03-25T20:01:03.372Z"
   },
   {
    "duration": 10,
    "start_time": "2022-03-25T20:01:06.071Z"
   },
   {
    "duration": 7,
    "start_time": "2022-03-25T20:01:06.936Z"
   },
   {
    "duration": 11,
    "start_time": "2022-03-25T20:01:18.087Z"
   },
   {
    "duration": 7,
    "start_time": "2022-03-25T20:01:18.639Z"
   },
   {
    "duration": 33,
    "start_time": "2022-03-25T20:02:14.151Z"
   },
   {
    "duration": 24,
    "start_time": "2022-03-25T20:02:20.533Z"
   },
   {
    "duration": 25,
    "start_time": "2022-03-25T20:02:31.884Z"
   },
   {
    "duration": 14,
    "start_time": "2022-03-25T20:02:45.516Z"
   },
   {
    "duration": 7,
    "start_time": "2022-03-25T20:02:54.681Z"
   },
   {
    "duration": 9,
    "start_time": "2022-03-25T20:02:55.400Z"
   },
   {
    "duration": 12,
    "start_time": "2022-03-25T20:03:53.614Z"
   },
   {
    "duration": 7,
    "start_time": "2022-03-25T20:03:54.094Z"
   },
   {
    "duration": 7,
    "start_time": "2022-03-25T20:06:19.388Z"
   },
   {
    "duration": 14,
    "start_time": "2022-03-25T20:06:21.723Z"
   },
   {
    "duration": 7,
    "start_time": "2022-03-25T20:06:22.252Z"
   },
   {
    "duration": 11,
    "start_time": "2022-03-25T20:06:24.937Z"
   },
   {
    "duration": 7,
    "start_time": "2022-03-25T20:06:25.820Z"
   },
   {
    "duration": 7,
    "start_time": "2022-03-25T20:08:50.261Z"
   },
   {
    "duration": 7,
    "start_time": "2022-03-25T20:11:25.434Z"
   },
   {
    "duration": 12,
    "start_time": "2022-03-25T20:11:50.269Z"
   },
   {
    "duration": 480,
    "start_time": "2022-04-04T15:04:03.199Z"
   },
   {
    "duration": 196,
    "start_time": "2022-04-04T15:04:03.682Z"
   },
   {
    "duration": 28,
    "start_time": "2022-04-04T15:04:03.881Z"
   },
   {
    "duration": 65,
    "start_time": "2022-04-04T15:04:03.912Z"
   },
   {
    "duration": 6,
    "start_time": "2022-04-04T15:04:03.982Z"
   },
   {
    "duration": 19,
    "start_time": "2022-04-04T15:04:03.990Z"
   },
   {
    "duration": 7,
    "start_time": "2022-04-04T15:04:04.011Z"
   },
   {
    "duration": 69,
    "start_time": "2022-04-04T15:04:04.020Z"
   },
   {
    "duration": 24,
    "start_time": "2022-04-04T15:04:04.092Z"
   },
   {
    "duration": 54,
    "start_time": "2022-04-04T15:04:04.119Z"
   },
   {
    "duration": 115,
    "start_time": "2022-04-04T15:04:04.176Z"
   },
   {
    "duration": 127,
    "start_time": "2022-04-04T15:04:04.293Z"
   },
   {
    "duration": 94,
    "start_time": "2022-04-04T15:04:04.422Z"
   },
   {
    "duration": 14,
    "start_time": "2022-04-04T15:04:04.522Z"
   },
   {
    "duration": 28,
    "start_time": "2022-04-04T15:04:04.539Z"
   },
   {
    "duration": 14,
    "start_time": "2022-04-04T15:04:04.569Z"
   },
   {
    "duration": 25,
    "start_time": "2022-04-04T15:04:04.585Z"
   },
   {
    "duration": 66,
    "start_time": "2022-04-04T15:04:04.612Z"
   },
   {
    "duration": 69,
    "start_time": "2022-04-04T15:04:04.680Z"
   },
   {
    "duration": 19,
    "start_time": "2022-04-04T15:04:04.752Z"
   },
   {
    "duration": 50,
    "start_time": "2022-04-04T15:04:04.773Z"
   },
   {
    "duration": 35,
    "start_time": "2022-04-04T15:04:04.826Z"
   },
   {
    "duration": 37,
    "start_time": "2022-04-04T15:04:04.867Z"
   },
   {
    "duration": 37,
    "start_time": "2022-04-04T15:04:04.907Z"
   },
   {
    "duration": 34,
    "start_time": "2022-04-04T15:04:04.946Z"
   },
   {
    "duration": 27,
    "start_time": "2022-04-04T15:04:04.983Z"
   },
   {
    "duration": 18,
    "start_time": "2022-04-04T15:04:05.012Z"
   },
   {
    "duration": 49,
    "start_time": "2022-04-04T15:04:05.033Z"
   },
   {
    "duration": 17,
    "start_time": "2022-04-04T15:04:05.085Z"
   },
   {
    "duration": 8,
    "start_time": "2022-04-04T15:04:05.105Z"
   },
   {
    "duration": 69,
    "start_time": "2022-04-04T15:04:05.116Z"
   },
   {
    "duration": 29,
    "start_time": "2022-04-04T15:04:05.188Z"
   },
   {
    "duration": 61,
    "start_time": "2022-04-04T15:04:05.220Z"
   },
   {
    "duration": 28,
    "start_time": "2022-04-04T15:04:05.284Z"
   },
   {
    "duration": 12,
    "start_time": "2022-04-04T15:04:05.315Z"
   },
   {
    "duration": 13,
    "start_time": "2022-04-04T15:04:05.329Z"
   },
   {
    "duration": 9,
    "start_time": "2022-04-04T15:04:05.369Z"
   },
   {
    "duration": 27,
    "start_time": "2022-04-04T15:04:05.381Z"
   },
   {
    "duration": 468,
    "start_time": "2022-04-05T14:00:39.086Z"
   },
   {
    "duration": 179,
    "start_time": "2022-04-05T14:00:39.639Z"
   },
   {
    "duration": 25,
    "start_time": "2022-04-05T14:00:40.254Z"
   },
   {
    "duration": 41,
    "start_time": "2022-04-05T14:00:40.872Z"
   },
   {
    "duration": 6,
    "start_time": "2022-04-05T14:00:42.084Z"
   },
   {
    "duration": 16,
    "start_time": "2022-04-05T14:00:42.800Z"
   },
   {
    "duration": 6,
    "start_time": "2022-04-05T14:00:44.286Z"
   },
   {
    "duration": 32,
    "start_time": "2022-04-05T14:00:44.773Z"
   },
   {
    "duration": 23,
    "start_time": "2022-04-05T14:00:46.303Z"
   },
   {
    "duration": 32,
    "start_time": "2022-04-05T14:00:47.415Z"
   },
   {
    "duration": 87,
    "start_time": "2022-04-05T14:00:50.669Z"
   },
   {
    "duration": 99,
    "start_time": "2022-04-05T14:00:51.369Z"
   },
   {
    "duration": 83,
    "start_time": "2022-04-05T14:00:52.002Z"
   },
   {
    "duration": 50,
    "start_time": "2022-04-05T14:00:53.651Z"
   },
   {
    "duration": 4,
    "start_time": "2022-04-05T14:17:25.846Z"
   },
   {
    "duration": 176,
    "start_time": "2022-04-05T14:17:26.415Z"
   },
   {
    "duration": 17,
    "start_time": "2022-04-05T14:17:27.014Z"
   },
   {
    "duration": 38,
    "start_time": "2022-04-05T14:17:27.632Z"
   },
   {
    "duration": 7,
    "start_time": "2022-04-05T14:17:28.863Z"
   },
   {
    "duration": 11,
    "start_time": "2022-04-05T14:17:29.514Z"
   },
   {
    "duration": 5,
    "start_time": "2022-04-05T14:17:30.129Z"
   },
   {
    "duration": 35,
    "start_time": "2022-04-05T14:17:32.270Z"
   },
   {
    "duration": 23,
    "start_time": "2022-04-05T14:17:33.412Z"
   },
   {
    "duration": 33,
    "start_time": "2022-04-05T14:17:34.181Z"
   },
   {
    "duration": 87,
    "start_time": "2022-04-05T14:17:34.627Z"
   },
   {
    "duration": 101,
    "start_time": "2022-04-05T14:17:35.347Z"
   },
   {
    "duration": 81,
    "start_time": "2022-04-05T14:17:36.282Z"
   },
   {
    "duration": 55,
    "start_time": "2022-04-05T14:17:37.198Z"
   },
   {
    "duration": 5,
    "start_time": "2022-04-05T14:17:38.627Z"
   },
   {
    "duration": 14,
    "start_time": "2022-04-05T14:17:39.726Z"
   },
   {
    "duration": 14,
    "start_time": "2022-04-05T14:17:41.380Z"
   },
   {
    "duration": 19,
    "start_time": "2022-04-05T14:17:50.394Z"
   },
   {
    "duration": 18,
    "start_time": "2022-04-05T14:18:11.940Z"
   },
   {
    "duration": 3,
    "start_time": "2022-04-05T14:22:55.360Z"
   },
   {
    "duration": 174,
    "start_time": "2022-04-05T14:22:56.162Z"
   },
   {
    "duration": 15,
    "start_time": "2022-04-05T14:22:57.145Z"
   },
   {
    "duration": 38,
    "start_time": "2022-04-05T14:22:57.977Z"
   },
   {
    "duration": 6,
    "start_time": "2022-04-05T14:22:59.262Z"
   },
   {
    "duration": 11,
    "start_time": "2022-04-05T14:22:59.893Z"
   },
   {
    "duration": 5,
    "start_time": "2022-04-05T14:23:00.514Z"
   },
   {
    "duration": 33,
    "start_time": "2022-04-05T14:23:00.928Z"
   },
   {
    "duration": 24,
    "start_time": "2022-04-05T14:23:01.793Z"
   },
   {
    "duration": 33,
    "start_time": "2022-04-05T14:23:02.410Z"
   },
   {
    "duration": 87,
    "start_time": "2022-04-05T14:23:02.825Z"
   },
   {
    "duration": 96,
    "start_time": "2022-04-05T14:23:03.444Z"
   },
   {
    "duration": 86,
    "start_time": "2022-04-05T14:23:04.043Z"
   },
   {
    "duration": 50,
    "start_time": "2022-04-05T14:23:04.642Z"
   },
   {
    "duration": 4,
    "start_time": "2022-04-05T14:23:05.311Z"
   },
   {
    "duration": 13,
    "start_time": "2022-04-05T14:23:06.197Z"
   },
   {
    "duration": 14,
    "start_time": "2022-04-05T14:23:06.845Z"
   },
   {
    "duration": 4,
    "start_time": "2022-04-05T14:27:22.433Z"
   },
   {
    "duration": 33,
    "start_time": "2022-04-05T14:27:22.440Z"
   },
   {
    "duration": 14,
    "start_time": "2022-04-05T14:27:22.775Z"
   },
   {
    "duration": 17,
    "start_time": "2022-04-05T14:27:24.010Z"
   },
   {
    "duration": 16,
    "start_time": "2022-04-05T14:27:24.678Z"
   },
   {
    "duration": 5,
    "start_time": "2022-04-05T14:27:26.424Z"
   },
   {
    "duration": 21,
    "start_time": "2022-04-05T14:27:27.011Z"
   },
   {
    "duration": 19,
    "start_time": "2022-04-05T14:27:27.244Z"
   },
   {
    "duration": 19,
    "start_time": "2022-04-05T14:27:27.445Z"
   },
   {
    "duration": 18,
    "start_time": "2022-04-05T14:27:27.678Z"
   },
   {
    "duration": 20,
    "start_time": "2022-04-05T14:27:27.909Z"
   },
   {
    "duration": 19,
    "start_time": "2022-04-05T14:27:28.094Z"
   },
   {
    "duration": 13,
    "start_time": "2022-04-05T14:27:28.724Z"
   },
   {
    "duration": 15,
    "start_time": "2022-04-05T14:27:30.839Z"
   },
   {
    "duration": 12,
    "start_time": "2022-04-05T14:27:31.058Z"
   },
   {
    "duration": 7,
    "start_time": "2022-04-05T14:27:31.741Z"
   },
   {
    "duration": 29,
    "start_time": "2022-04-05T14:27:32.592Z"
   },
   {
    "duration": 22,
    "start_time": "2022-04-05T14:27:32.827Z"
   },
   {
    "duration": 26,
    "start_time": "2022-04-05T14:27:33.026Z"
   },
   {
    "duration": 20,
    "start_time": "2022-04-05T14:27:33.261Z"
   },
   {
    "duration": 13,
    "start_time": "2022-04-05T14:27:34.291Z"
   },
   {
    "duration": 7,
    "start_time": "2022-04-05T14:27:34.758Z"
   },
   {
    "duration": 9,
    "start_time": "2022-04-05T14:27:35.542Z"
   },
   {
    "duration": 7,
    "start_time": "2022-04-05T14:27:36.473Z"
   },
   {
    "duration": 415,
    "start_time": "2022-04-05T17:13:42.504Z"
   },
   {
    "duration": 220,
    "start_time": "2022-04-05T17:13:42.921Z"
   },
   {
    "duration": 16,
    "start_time": "2022-04-05T17:13:43.143Z"
   },
   {
    "duration": 32,
    "start_time": "2022-04-05T17:13:43.161Z"
   },
   {
    "duration": 7,
    "start_time": "2022-04-05T17:13:43.195Z"
   },
   {
    "duration": 33,
    "start_time": "2022-04-05T17:13:43.204Z"
   },
   {
    "duration": 5,
    "start_time": "2022-04-05T17:13:43.239Z"
   },
   {
    "duration": 29,
    "start_time": "2022-04-05T17:13:43.246Z"
   },
   {
    "duration": 16,
    "start_time": "2022-04-05T17:13:43.277Z"
   },
   {
    "duration": 44,
    "start_time": "2022-04-05T17:13:43.296Z"
   },
   {
    "duration": 65,
    "start_time": "2022-04-05T17:13:43.342Z"
   },
   {
    "duration": 97,
    "start_time": "2022-04-05T17:13:43.408Z"
   },
   {
    "duration": 68,
    "start_time": "2022-04-05T17:13:43.507Z"
   },
   {
    "duration": 37,
    "start_time": "2022-04-05T17:13:43.577Z"
   },
   {
    "duration": 2,
    "start_time": "2022-04-05T17:13:43.616Z"
   },
   {
    "duration": 9,
    "start_time": "2022-04-05T17:13:43.637Z"
   },
   {
    "duration": 20,
    "start_time": "2022-04-05T17:13:43.648Z"
   },
   {
    "duration": 13,
    "start_time": "2022-04-05T17:13:43.670Z"
   },
   {
    "duration": 17,
    "start_time": "2022-04-05T17:13:43.685Z"
   },
   {
    "duration": 4,
    "start_time": "2022-04-05T17:13:43.704Z"
   },
   {
    "duration": 46,
    "start_time": "2022-04-05T17:13:43.710Z"
   },
   {
    "duration": 17,
    "start_time": "2022-04-05T17:13:43.758Z"
   },
   {
    "duration": 14,
    "start_time": "2022-04-05T17:13:43.776Z"
   },
   {
    "duration": 16,
    "start_time": "2022-04-05T17:13:43.792Z"
   },
   {
    "duration": 38,
    "start_time": "2022-04-05T17:13:43.810Z"
   },
   {
    "duration": 14,
    "start_time": "2022-04-05T17:13:43.850Z"
   },
   {
    "duration": 9,
    "start_time": "2022-04-05T17:13:43.866Z"
   },
   {
    "duration": 11,
    "start_time": "2022-04-05T17:13:43.879Z"
   },
   {
    "duration": 9,
    "start_time": "2022-04-05T17:13:43.891Z"
   },
   {
    "duration": 37,
    "start_time": "2022-04-05T17:13:43.902Z"
   },
   {
    "duration": 34,
    "start_time": "2022-04-05T17:13:43.941Z"
   },
   {
    "duration": 21,
    "start_time": "2022-04-05T17:13:43.976Z"
   },
   {
    "duration": 25,
    "start_time": "2022-04-05T17:13:43.999Z"
   },
   {
    "duration": 28,
    "start_time": "2022-04-05T17:13:44.025Z"
   },
   {
    "duration": 12,
    "start_time": "2022-04-05T17:13:44.055Z"
   },
   {
    "duration": 5,
    "start_time": "2022-04-05T17:13:44.069Z"
   },
   {
    "duration": 9,
    "start_time": "2022-04-05T17:13:44.075Z"
   },
   {
    "duration": 10,
    "start_time": "2022-04-05T17:13:44.085Z"
   },
   {
    "duration": 3,
    "start_time": "2022-04-05T17:15:12.614Z"
   },
   {
    "duration": 177,
    "start_time": "2022-04-05T17:15:12.619Z"
   },
   {
    "duration": 14,
    "start_time": "2022-04-05T17:15:12.798Z"
   },
   {
    "duration": 41,
    "start_time": "2022-04-05T17:15:12.814Z"
   },
   {
    "duration": 4,
    "start_time": "2022-04-05T17:15:12.857Z"
   },
   {
    "duration": 14,
    "start_time": "2022-04-05T17:15:12.863Z"
   },
   {
    "duration": 4,
    "start_time": "2022-04-05T17:15:12.879Z"
   },
   {
    "duration": 32,
    "start_time": "2022-04-05T17:15:12.885Z"
   },
   {
    "duration": 23,
    "start_time": "2022-04-05T17:15:12.937Z"
   },
   {
    "duration": 26,
    "start_time": "2022-04-05T17:15:12.962Z"
   },
   {
    "duration": 82,
    "start_time": "2022-04-05T17:15:12.990Z"
   },
   {
    "duration": 78,
    "start_time": "2022-04-05T17:15:13.074Z"
   },
   {
    "duration": 62,
    "start_time": "2022-04-05T17:15:13.154Z"
   },
   {
    "duration": 53,
    "start_time": "2022-04-05T17:15:13.217Z"
   },
   {
    "duration": 4,
    "start_time": "2022-04-05T17:15:13.271Z"
   },
   {
    "duration": 12,
    "start_time": "2022-04-05T17:15:13.276Z"
   },
   {
    "duration": 10,
    "start_time": "2022-04-05T17:15:13.289Z"
   },
   {
    "duration": 41,
    "start_time": "2022-04-05T17:15:13.300Z"
   },
   {
    "duration": 12,
    "start_time": "2022-04-05T17:15:13.343Z"
   },
   {
    "duration": 4,
    "start_time": "2022-04-05T17:15:13.356Z"
   },
   {
    "duration": 33,
    "start_time": "2022-04-05T17:15:13.361Z"
   },
   {
    "duration": 14,
    "start_time": "2022-04-05T17:15:13.396Z"
   },
   {
    "duration": 33,
    "start_time": "2022-04-05T17:15:13.412Z"
   },
   {
    "duration": 14,
    "start_time": "2022-04-05T17:15:13.449Z"
   },
   {
    "duration": 16,
    "start_time": "2022-04-05T17:15:13.464Z"
   },
   {
    "duration": 13,
    "start_time": "2022-04-05T17:15:13.482Z"
   },
   {
    "duration": 41,
    "start_time": "2022-04-05T17:15:13.497Z"
   },
   {
    "duration": 21,
    "start_time": "2022-04-05T17:15:13.540Z"
   },
   {
    "duration": 14,
    "start_time": "2022-04-05T17:15:13.563Z"
   },
   {
    "duration": 8,
    "start_time": "2022-04-05T17:15:13.579Z"
   },
   {
    "duration": 26,
    "start_time": "2022-04-05T17:15:13.588Z"
   },
   {
    "duration": 36,
    "start_time": "2022-04-05T17:15:13.616Z"
   },
   {
    "duration": 19,
    "start_time": "2022-04-05T17:15:13.654Z"
   },
   {
    "duration": 16,
    "start_time": "2022-04-05T17:15:13.675Z"
   },
   {
    "duration": 10,
    "start_time": "2022-04-05T17:15:13.692Z"
   },
   {
    "duration": 38,
    "start_time": "2022-04-05T17:15:13.704Z"
   },
   {
    "duration": 9,
    "start_time": "2022-04-05T17:15:13.744Z"
   },
   {
    "duration": 10,
    "start_time": "2022-04-05T17:15:13.755Z"
   }
  ],
  "colab": {
   "collapsed_sections": [
    "E0vqbgi9ay0H",
    "VUC88oWjTJw2"
   ],
   "name": "yandex_music_project.ipynb",
   "provenance": []
  },
  "kernelspec": {
   "display_name": "Python 3 (ipykernel)",
   "language": "python",
   "name": "python3"
  },
  "language_info": {
   "codemirror_mode": {
    "name": "ipython",
    "version": 3
   },
   "file_extension": ".py",
   "mimetype": "text/x-python",
   "name": "python",
   "nbconvert_exporter": "python",
   "pygments_lexer": "ipython3",
   "version": "3.9.12"
  },
  "toc": {
   "base_numbering": 1,
   "nav_menu": {},
   "number_sections": true,
   "sideBar": true,
   "skip_h1_title": true,
   "title_cell": "Table of Contents",
   "title_sidebar": "Contents",
   "toc_cell": false,
   "toc_position": {
    "height": "calc(100% - 180px)",
    "left": "10px",
    "top": "150px",
    "width": "409.097px"
   },
   "toc_section_display": true,
   "toc_window_display": true
  }
 },
 "nbformat": 4,
 "nbformat_minor": 1
}
