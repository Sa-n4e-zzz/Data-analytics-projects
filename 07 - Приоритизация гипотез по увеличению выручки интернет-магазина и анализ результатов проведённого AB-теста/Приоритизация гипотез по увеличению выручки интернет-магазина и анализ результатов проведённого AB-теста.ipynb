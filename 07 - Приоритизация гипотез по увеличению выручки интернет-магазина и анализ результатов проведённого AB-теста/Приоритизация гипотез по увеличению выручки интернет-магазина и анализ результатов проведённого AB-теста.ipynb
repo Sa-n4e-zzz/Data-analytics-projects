{
 "cells": [
  {
   "cell_type": "markdown",
   "metadata": {},
   "source": [
    "# Проект Принятие решений в бизнесе"
   ]
  },
  {
   "cell_type": "markdown",
   "metadata": {},
   "source": [
    "## Информация о проекте \n",
    "\n",
    "Мы в качестве аналитика крупного интернет-магазина вместе с отделом маркетинга подготовили список гипотез для увеличения выручки.\n",
    "Необходимо приоритизировать гипотезы, запустить A/B-тест и проанализировать результаты.\n",
    "\n",
    "**Задачи:**\n",
    "\n",
    "- приоритизировать гипотезы\n",
    "- проанализировать результаты A/B-теста\n",
    "- принять решение по результатам теста "
   ]
  },
  {
   "cell_type": "markdown",
   "metadata": {},
   "source": [
    "## Загрузим данные и импортируем библиотеки"
   ]
  },
  {
   "cell_type": "code",
   "execution_count": 1,
   "metadata": {},
   "outputs": [],
   "source": [
    "import pandas as pd\n",
    "import numpy as np\n",
    "import scipy.stats as stats\n",
    "import matplotlib.pyplot as plt\n",
    "import datetime as dt\n",
    "from datetime import datetime\n",
    "from pandas.plotting import register_matplotlib_converters\n",
    "register_matplotlib_converters()\n",
    "pd.set_option('max_colwidth',150)"
   ]
  },
  {
   "cell_type": "code",
   "execution_count": 2,
   "metadata": {},
   "outputs": [],
   "source": [
    "hypothesis = pd.read_csv('/datasets/hypothesis.csv')\n",
    "orders = pd.read_csv('/datasets/orders.csv')\n",
    "visitors = pd.read_csv('/datasets/visitors.csv')"
   ]
  },
  {
   "cell_type": "markdown",
   "metadata": {},
   "source": [
    "## Первая часть. Приоритизация гипотез."
   ]
  },
  {
   "cell_type": "markdown",
   "metadata": {},
   "source": [
    "Нам даны  9 гипотез по увеличению выручки интернет-магазина с указанными параметрами Reach, Impact, Confidence, Effort.\n",
    "\n",
    "**В первой части необходимо сделать:**\n",
    "\n",
    "1)применить фреймворк ICE для приоритизации гипотез\n",
    "\n",
    "2)примените фреймворк RICE для приоритизации гипотез\n",
    "\n",
    "3)указать, как изменилась приоритизация гипотез при применении RICE вместо ICE. Объяснить, почему так произошло.\n",
    "\n",
    "**Описание данных для первой части:**\n",
    "- Hypothesis — краткое описание гипотезы;\n",
    "- Reach — охват пользователей по 10-балльной шкале;\n",
    "- Impact — влияние на пользователей по 10-балльной шкале;\n",
    "- Confidence — уверенность в гипотезе по 10-балльной шкале;\n",
    "- Efforts — затраты ресурсов на проверку гипотезы по 10-балльной шкале. \n",
    "Чем больше значение Efforts, тем дороже проверка гипотезы.\n"
   ]
  },
  {
   "cell_type": "code",
   "execution_count": 3,
   "metadata": {},
   "outputs": [
    {
     "data": {
      "text/html": [
       "<div>\n",
       "<style scoped>\n",
       "    .dataframe tbody tr th:only-of-type {\n",
       "        vertical-align: middle;\n",
       "    }\n",
       "\n",
       "    .dataframe tbody tr th {\n",
       "        vertical-align: top;\n",
       "    }\n",
       "\n",
       "    .dataframe thead th {\n",
       "        text-align: right;\n",
       "    }\n",
       "</style>\n",
       "<table border=\"1\" class=\"dataframe\">\n",
       "  <thead>\n",
       "    <tr style=\"text-align: right;\">\n",
       "      <th></th>\n",
       "      <th>Hypothesis</th>\n",
       "      <th>Reach</th>\n",
       "      <th>Impact</th>\n",
       "      <th>Confidence</th>\n",
       "      <th>Efforts</th>\n",
       "    </tr>\n",
       "  </thead>\n",
       "  <tbody>\n",
       "    <tr>\n",
       "      <th>0</th>\n",
       "      <td>Добавить два новых канала привлечения трафика, что позволит привлекать на 30% больше пользователей</td>\n",
       "      <td>3</td>\n",
       "      <td>10</td>\n",
       "      <td>8</td>\n",
       "      <td>6</td>\n",
       "    </tr>\n",
       "    <tr>\n",
       "      <th>1</th>\n",
       "      <td>Запустить собственную службу доставки, что сократит срок доставки заказов</td>\n",
       "      <td>2</td>\n",
       "      <td>5</td>\n",
       "      <td>4</td>\n",
       "      <td>10</td>\n",
       "    </tr>\n",
       "    <tr>\n",
       "      <th>2</th>\n",
       "      <td>Добавить блоки рекомендаций товаров на сайт интернет магазина, чтобы повысить конверсию и средний чек заказа</td>\n",
       "      <td>8</td>\n",
       "      <td>3</td>\n",
       "      <td>7</td>\n",
       "      <td>3</td>\n",
       "    </tr>\n",
       "    <tr>\n",
       "      <th>3</th>\n",
       "      <td>Изменить структура категорий, что увеличит конверсию, т.к. пользователи быстрее найдут нужный товар</td>\n",
       "      <td>8</td>\n",
       "      <td>3</td>\n",
       "      <td>3</td>\n",
       "      <td>8</td>\n",
       "    </tr>\n",
       "    <tr>\n",
       "      <th>4</th>\n",
       "      <td>Изменить цвет фона главной страницы, чтобы увеличить вовлеченность пользователей</td>\n",
       "      <td>3</td>\n",
       "      <td>1</td>\n",
       "      <td>1</td>\n",
       "      <td>1</td>\n",
       "    </tr>\n",
       "    <tr>\n",
       "      <th>5</th>\n",
       "      <td>Добавить страницу отзывов клиентов о магазине, что позволит увеличить количество заказов</td>\n",
       "      <td>3</td>\n",
       "      <td>2</td>\n",
       "      <td>2</td>\n",
       "      <td>3</td>\n",
       "    </tr>\n",
       "    <tr>\n",
       "      <th>6</th>\n",
       "      <td>Показать на главной странице баннеры с актуальными акциями и распродажами, чтобы увеличить конверсию</td>\n",
       "      <td>5</td>\n",
       "      <td>3</td>\n",
       "      <td>8</td>\n",
       "      <td>3</td>\n",
       "    </tr>\n",
       "    <tr>\n",
       "      <th>7</th>\n",
       "      <td>Добавить форму подписки на все основные страницы, чтобы собрать базу клиентов для email-рассылок</td>\n",
       "      <td>10</td>\n",
       "      <td>7</td>\n",
       "      <td>8</td>\n",
       "      <td>5</td>\n",
       "    </tr>\n",
       "    <tr>\n",
       "      <th>8</th>\n",
       "      <td>Запустить акцию, дающую скидку на товар в день рождения</td>\n",
       "      <td>1</td>\n",
       "      <td>9</td>\n",
       "      <td>9</td>\n",
       "      <td>5</td>\n",
       "    </tr>\n",
       "  </tbody>\n",
       "</table>\n",
       "</div>"
      ],
      "text/plain": [
       "                                                                                                     Hypothesis  \\\n",
       "0            Добавить два новых канала привлечения трафика, что позволит привлекать на 30% больше пользователей   \n",
       "1                                     Запустить собственную службу доставки, что сократит срок доставки заказов   \n",
       "2  Добавить блоки рекомендаций товаров на сайт интернет магазина, чтобы повысить конверсию и средний чек заказа   \n",
       "3           Изменить структура категорий, что увеличит конверсию, т.к. пользователи быстрее найдут нужный товар   \n",
       "4                              Изменить цвет фона главной страницы, чтобы увеличить вовлеченность пользователей   \n",
       "5                      Добавить страницу отзывов клиентов о магазине, что позволит увеличить количество заказов   \n",
       "6          Показать на главной странице баннеры с актуальными акциями и распродажами, чтобы увеличить конверсию   \n",
       "7              Добавить форму подписки на все основные страницы, чтобы собрать базу клиентов для email-рассылок   \n",
       "8                                                       Запустить акцию, дающую скидку на товар в день рождения   \n",
       "\n",
       "   Reach  Impact  Confidence  Efforts  \n",
       "0      3      10           8        6  \n",
       "1      2       5           4       10  \n",
       "2      8       3           7        3  \n",
       "3      8       3           3        8  \n",
       "4      3       1           1        1  \n",
       "5      3       2           2        3  \n",
       "6      5       3           8        3  \n",
       "7     10       7           8        5  \n",
       "8      1       9           9        5  "
      ]
     },
     "execution_count": 3,
     "metadata": {},
     "output_type": "execute_result"
    }
   ],
   "source": [
    "hypothesis"
   ]
  },
  {
   "cell_type": "markdown",
   "metadata": {},
   "source": [
    "###  применим фреймворк ICE"
   ]
  },
  {
   "cell_type": "code",
   "execution_count": 4,
   "metadata": {},
   "outputs": [
    {
     "data": {
      "text/html": [
       "<div>\n",
       "<style scoped>\n",
       "    .dataframe tbody tr th:only-of-type {\n",
       "        vertical-align: middle;\n",
       "    }\n",
       "\n",
       "    .dataframe tbody tr th {\n",
       "        vertical-align: top;\n",
       "    }\n",
       "\n",
       "    .dataframe thead th {\n",
       "        text-align: right;\n",
       "    }\n",
       "</style>\n",
       "<table border=\"1\" class=\"dataframe\">\n",
       "  <thead>\n",
       "    <tr style=\"text-align: right;\">\n",
       "      <th></th>\n",
       "      <th>Hypothesis</th>\n",
       "      <th>ICE</th>\n",
       "    </tr>\n",
       "  </thead>\n",
       "  <tbody>\n",
       "    <tr>\n",
       "      <th>8</th>\n",
       "      <td>Запустить акцию, дающую скидку на товар в день рождения</td>\n",
       "      <td>16.200000</td>\n",
       "    </tr>\n",
       "    <tr>\n",
       "      <th>0</th>\n",
       "      <td>Добавить два новых канала привлечения трафика, что позволит привлекать на 30% больше пользователей</td>\n",
       "      <td>13.333333</td>\n",
       "    </tr>\n",
       "    <tr>\n",
       "      <th>7</th>\n",
       "      <td>Добавить форму подписки на все основные страницы, чтобы собрать базу клиентов для email-рассылок</td>\n",
       "      <td>11.200000</td>\n",
       "    </tr>\n",
       "    <tr>\n",
       "      <th>6</th>\n",
       "      <td>Показать на главной странице баннеры с актуальными акциями и распродажами, чтобы увеличить конверсию</td>\n",
       "      <td>8.000000</td>\n",
       "    </tr>\n",
       "    <tr>\n",
       "      <th>2</th>\n",
       "      <td>Добавить блоки рекомендаций товаров на сайт интернет магазина, чтобы повысить конверсию и средний чек заказа</td>\n",
       "      <td>7.000000</td>\n",
       "    </tr>\n",
       "    <tr>\n",
       "      <th>1</th>\n",
       "      <td>Запустить собственную службу доставки, что сократит срок доставки заказов</td>\n",
       "      <td>2.000000</td>\n",
       "    </tr>\n",
       "    <tr>\n",
       "      <th>5</th>\n",
       "      <td>Добавить страницу отзывов клиентов о магазине, что позволит увеличить количество заказов</td>\n",
       "      <td>1.333333</td>\n",
       "    </tr>\n",
       "    <tr>\n",
       "      <th>3</th>\n",
       "      <td>Изменить структура категорий, что увеличит конверсию, т.к. пользователи быстрее найдут нужный товар</td>\n",
       "      <td>1.125000</td>\n",
       "    </tr>\n",
       "    <tr>\n",
       "      <th>4</th>\n",
       "      <td>Изменить цвет фона главной страницы, чтобы увеличить вовлеченность пользователей</td>\n",
       "      <td>1.000000</td>\n",
       "    </tr>\n",
       "  </tbody>\n",
       "</table>\n",
       "</div>"
      ],
      "text/plain": [
       "                                                                                                     Hypothesis  \\\n",
       "8                                                       Запустить акцию, дающую скидку на товар в день рождения   \n",
       "0            Добавить два новых канала привлечения трафика, что позволит привлекать на 30% больше пользователей   \n",
       "7              Добавить форму подписки на все основные страницы, чтобы собрать базу клиентов для email-рассылок   \n",
       "6          Показать на главной странице баннеры с актуальными акциями и распродажами, чтобы увеличить конверсию   \n",
       "2  Добавить блоки рекомендаций товаров на сайт интернет магазина, чтобы повысить конверсию и средний чек заказа   \n",
       "1                                     Запустить собственную службу доставки, что сократит срок доставки заказов   \n",
       "5                      Добавить страницу отзывов клиентов о магазине, что позволит увеличить количество заказов   \n",
       "3           Изменить структура категорий, что увеличит конверсию, т.к. пользователи быстрее найдут нужный товар   \n",
       "4                              Изменить цвет фона главной страницы, чтобы увеличить вовлеченность пользователей   \n",
       "\n",
       "         ICE  \n",
       "8  16.200000  \n",
       "0  13.333333  \n",
       "7  11.200000  \n",
       "6   8.000000  \n",
       "2   7.000000  \n",
       "1   2.000000  \n",
       "5   1.333333  \n",
       "3   1.125000  \n",
       "4   1.000000  "
      ]
     },
     "execution_count": 4,
     "metadata": {},
     "output_type": "execute_result"
    }
   ],
   "source": [
    "hypothesis['ICE'] = (hypothesis['Impact'] * hypothesis['Confidence']) / hypothesis['Efforts']\n",
    "hypothesis[['Hypothesis','ICE']].sort_values(by = 'ICE',ascending = False)"
   ]
  },
  {
   "cell_type": "markdown",
   "metadata": {},
   "source": [
    "Таким образом, наиболее перспективные гипотезы под номером: 8,0,7"
   ]
  },
  {
   "cell_type": "markdown",
   "metadata": {},
   "source": [
    "###  применим фреймворк RICE"
   ]
  },
  {
   "cell_type": "code",
   "execution_count": 5,
   "metadata": {
    "scrolled": true
   },
   "outputs": [
    {
     "data": {
      "text/html": [
       "<div>\n",
       "<style scoped>\n",
       "    .dataframe tbody tr th:only-of-type {\n",
       "        vertical-align: middle;\n",
       "    }\n",
       "\n",
       "    .dataframe tbody tr th {\n",
       "        vertical-align: top;\n",
       "    }\n",
       "\n",
       "    .dataframe thead th {\n",
       "        text-align: right;\n",
       "    }\n",
       "</style>\n",
       "<table border=\"1\" class=\"dataframe\">\n",
       "  <thead>\n",
       "    <tr style=\"text-align: right;\">\n",
       "      <th></th>\n",
       "      <th>Hypothesis</th>\n",
       "      <th>RICE</th>\n",
       "    </tr>\n",
       "  </thead>\n",
       "  <tbody>\n",
       "    <tr>\n",
       "      <th>7</th>\n",
       "      <td>Добавить форму подписки на все основные страницы, чтобы собрать базу клиентов для email-рассылок</td>\n",
       "      <td>112.0</td>\n",
       "    </tr>\n",
       "    <tr>\n",
       "      <th>2</th>\n",
       "      <td>Добавить блоки рекомендаций товаров на сайт интернет магазина, чтобы повысить конверсию и средний чек заказа</td>\n",
       "      <td>56.0</td>\n",
       "    </tr>\n",
       "    <tr>\n",
       "      <th>0</th>\n",
       "      <td>Добавить два новых канала привлечения трафика, что позволит привлекать на 30% больше пользователей</td>\n",
       "      <td>40.0</td>\n",
       "    </tr>\n",
       "    <tr>\n",
       "      <th>6</th>\n",
       "      <td>Показать на главной странице баннеры с актуальными акциями и распродажами, чтобы увеличить конверсию</td>\n",
       "      <td>40.0</td>\n",
       "    </tr>\n",
       "    <tr>\n",
       "      <th>8</th>\n",
       "      <td>Запустить акцию, дающую скидку на товар в день рождения</td>\n",
       "      <td>16.2</td>\n",
       "    </tr>\n",
       "    <tr>\n",
       "      <th>3</th>\n",
       "      <td>Изменить структура категорий, что увеличит конверсию, т.к. пользователи быстрее найдут нужный товар</td>\n",
       "      <td>9.0</td>\n",
       "    </tr>\n",
       "    <tr>\n",
       "      <th>1</th>\n",
       "      <td>Запустить собственную службу доставки, что сократит срок доставки заказов</td>\n",
       "      <td>4.0</td>\n",
       "    </tr>\n",
       "    <tr>\n",
       "      <th>5</th>\n",
       "      <td>Добавить страницу отзывов клиентов о магазине, что позволит увеличить количество заказов</td>\n",
       "      <td>4.0</td>\n",
       "    </tr>\n",
       "    <tr>\n",
       "      <th>4</th>\n",
       "      <td>Изменить цвет фона главной страницы, чтобы увеличить вовлеченность пользователей</td>\n",
       "      <td>3.0</td>\n",
       "    </tr>\n",
       "  </tbody>\n",
       "</table>\n",
       "</div>"
      ],
      "text/plain": [
       "                                                                                                     Hypothesis  \\\n",
       "7              Добавить форму подписки на все основные страницы, чтобы собрать базу клиентов для email-рассылок   \n",
       "2  Добавить блоки рекомендаций товаров на сайт интернет магазина, чтобы повысить конверсию и средний чек заказа   \n",
       "0            Добавить два новых канала привлечения трафика, что позволит привлекать на 30% больше пользователей   \n",
       "6          Показать на главной странице баннеры с актуальными акциями и распродажами, чтобы увеличить конверсию   \n",
       "8                                                       Запустить акцию, дающую скидку на товар в день рождения   \n",
       "3           Изменить структура категорий, что увеличит конверсию, т.к. пользователи быстрее найдут нужный товар   \n",
       "1                                     Запустить собственную службу доставки, что сократит срок доставки заказов   \n",
       "5                      Добавить страницу отзывов клиентов о магазине, что позволит увеличить количество заказов   \n",
       "4                              Изменить цвет фона главной страницы, чтобы увеличить вовлеченность пользователей   \n",
       "\n",
       "    RICE  \n",
       "7  112.0  \n",
       "2   56.0  \n",
       "0   40.0  \n",
       "6   40.0  \n",
       "8   16.2  \n",
       "3    9.0  \n",
       "1    4.0  \n",
       "5    4.0  \n",
       "4    3.0  "
      ]
     },
     "execution_count": 5,
     "metadata": {},
     "output_type": "execute_result"
    }
   ],
   "source": [
    "hypothesis['RICE'] = (hypothesis['Reach'] * hypothesis['Impact'] * hypothesis['Confidence']) / hypothesis['Efforts']\n",
    "hypothesis[['Hypothesis','RICE']].sort_values(by = 'RICE',ascending = False)"
   ]
  },
  {
   "cell_type": "markdown",
   "metadata": {},
   "source": [
    "Наиболее перспективные гипотезы под номером: 7,2,0,6"
   ]
  },
  {
   "cell_type": "markdown",
   "metadata": {},
   "source": [
    "### Изменения и причины"
   ]
  },
  {
   "cell_type": "markdown",
   "metadata": {},
   "source": [
    "- После приоритизации гипотез наиболее перспективными гипотезами в фреймворках ICE и RICE стали: 'Добавить два новых канала привлечения трафика, что позволит привлекать на 30% больше пользователей' и 'Добавить форму подписки на все основные страницы, чтобы собрать базу клиентов для email-рассылок'\n",
    "\n",
    "- Остальные результаты различаются потому, что фреймворк RICE предполагает ещё и оценку охвата. Это очень важная метрика(она дает более точный прогноз)."
   ]
  },
  {
   "cell_type": "markdown",
   "metadata": {},
   "source": [
    "## Вторая часть. Анализ A/B-теста. "
   ]
  },
  {
   "cell_type": "markdown",
   "metadata": {},
   "source": [
    "**Для того чтобы проанализировать A/B-тест необходимо:**\n",
    "\n",
    "- Построить график кумулятивной выручки по группам. Сделать выводы и предположения.\n",
    "- Построить график кумулятивного среднего чека по группам. Сделать выводы и предположения.\n",
    "- Построить график относительного изменения кумулятивного среднего чека группы B к группе A. Сделать выводы и предположения.\n",
    "- Построить график кумулятивной конверсии по группам. Сделать выводы и предположения.\n",
    "- Построить график относительного изменения кумулятивной конверсии группы B к группе A. Сделать выводы и предположения.\n",
    "- Построить точечный график количества заказов по пользователям. Сделать выводы и предположения.\n",
    "- Посчитать 95-й и 99-й перцентили количества заказов на пользователя. Выбрать границу для определения аномальных пользователей.\n",
    "- Построить точечный график стоимостей заказов. Сделать выводы и предположения.\n",
    "- Посчитать 95-й и 99-й перцентили стоимости заказов. Выбрать границу для определения аномальных заказов.\n",
    "- Посчитать статистическую значимость различий в конверсии между группами по «сырым» данным. Сделать выводы и предположения.\n",
    "- Посчитать статистическую значимость различий в среднем чеке заказа между группами по «сырым» данным. Сделать выводы и предположения.\n",
    "- Посчитать статистическую значимость различий в конверсии между группами по «очищенным» данным. Сделать выводы и предположения.\n",
    "- Посчитать статистическую значимость различий в среднем чеке заказа между группами по «очищенным» данным. Сделать выводы и предположения.\n",
    "- Принять решение по результатам теста и объяснить его. Варианты решений: 1. Остановить тест, зафиксировать победу одной из групп. 2. Остановить тест, зафиксировать отсутствие различий между группами. 3. Продолжить тест.\n",
    " \n",
    "**Описание данных:**\n",
    "\n",
    "**orders**\n",
    "- transactionId — идентификатор заказа;\n",
    "- visitorId — идентификатор пользователя, совершившего заказ;\n",
    "- date — дата, когда был совершён заказ;\n",
    "- revenue — выручка заказа;\n",
    "- group — группа A/B-теста, в которую попал заказ.\n",
    "\n",
    "**visitors**\n",
    "\n",
    "- date — дата;\n",
    "- group — группа A/B-теста;\n",
    "- visitors — количество пользователей в указанную дату в указанной группе A/B-теста"
   ]
  },
  {
   "cell_type": "markdown",
   "metadata": {},
   "source": [
    "### Изучим данные"
   ]
  },
  {
   "cell_type": "code",
   "execution_count": 6,
   "metadata": {},
   "outputs": [
    {
     "data": {
      "text/html": [
       "<div>\n",
       "<style scoped>\n",
       "    .dataframe tbody tr th:only-of-type {\n",
       "        vertical-align: middle;\n",
       "    }\n",
       "\n",
       "    .dataframe tbody tr th {\n",
       "        vertical-align: top;\n",
       "    }\n",
       "\n",
       "    .dataframe thead th {\n",
       "        text-align: right;\n",
       "    }\n",
       "</style>\n",
       "<table border=\"1\" class=\"dataframe\">\n",
       "  <thead>\n",
       "    <tr style=\"text-align: right;\">\n",
       "      <th></th>\n",
       "      <th>transactionId</th>\n",
       "      <th>visitorId</th>\n",
       "      <th>date</th>\n",
       "      <th>revenue</th>\n",
       "      <th>group</th>\n",
       "    </tr>\n",
       "  </thead>\n",
       "  <tbody>\n",
       "    <tr>\n",
       "      <th>0</th>\n",
       "      <td>3667963787</td>\n",
       "      <td>3312258926</td>\n",
       "      <td>2019-08-15</td>\n",
       "      <td>1650</td>\n",
       "      <td>B</td>\n",
       "    </tr>\n",
       "    <tr>\n",
       "      <th>1</th>\n",
       "      <td>2804400009</td>\n",
       "      <td>3642806036</td>\n",
       "      <td>2019-08-15</td>\n",
       "      <td>730</td>\n",
       "      <td>B</td>\n",
       "    </tr>\n",
       "    <tr>\n",
       "      <th>2</th>\n",
       "      <td>2961555356</td>\n",
       "      <td>4069496402</td>\n",
       "      <td>2019-08-15</td>\n",
       "      <td>400</td>\n",
       "      <td>A</td>\n",
       "    </tr>\n",
       "    <tr>\n",
       "      <th>3</th>\n",
       "      <td>3797467345</td>\n",
       "      <td>1196621759</td>\n",
       "      <td>2019-08-15</td>\n",
       "      <td>9759</td>\n",
       "      <td>B</td>\n",
       "    </tr>\n",
       "    <tr>\n",
       "      <th>4</th>\n",
       "      <td>2282983706</td>\n",
       "      <td>2322279887</td>\n",
       "      <td>2019-08-15</td>\n",
       "      <td>2308</td>\n",
       "      <td>B</td>\n",
       "    </tr>\n",
       "  </tbody>\n",
       "</table>\n",
       "</div>"
      ],
      "text/plain": [
       "   transactionId   visitorId        date  revenue group\n",
       "0     3667963787  3312258926  2019-08-15     1650     B\n",
       "1     2804400009  3642806036  2019-08-15      730     B\n",
       "2     2961555356  4069496402  2019-08-15      400     A\n",
       "3     3797467345  1196621759  2019-08-15     9759     B\n",
       "4     2282983706  2322279887  2019-08-15     2308     B"
      ]
     },
     "metadata": {},
     "output_type": "display_data"
    },
    {
     "name": "stdout",
     "output_type": "stream",
     "text": [
      "<class 'pandas.core.frame.DataFrame'>\n",
      "RangeIndex: 1197 entries, 0 to 1196\n",
      "Data columns (total 5 columns):\n",
      " #   Column         Non-Null Count  Dtype \n",
      "---  ------         --------------  ----- \n",
      " 0   transactionId  1197 non-null   int64 \n",
      " 1   visitorId      1197 non-null   int64 \n",
      " 2   date           1197 non-null   object\n",
      " 3   revenue        1197 non-null   int64 \n",
      " 4   group          1197 non-null   object\n",
      "dtypes: int64(3), object(2)\n",
      "memory usage: 46.9+ KB\n",
      "transactionId    0\n",
      "visitorId        0\n",
      "date             0\n",
      "revenue          0\n",
      "group            0\n",
      "dtype: int64\n",
      "Kоличество дубликатов: 0\n"
     ]
    }
   ],
   "source": [
    "display(orders.head(5))\n",
    "orders.info()\n",
    "print(orders.isna().sum())\n",
    "print('Kоличество дубликатов:',orders.duplicated().sum())"
   ]
  },
  {
   "cell_type": "code",
   "execution_count": 7,
   "metadata": {},
   "outputs": [
    {
     "data": {
      "text/html": [
       "<div>\n",
       "<style scoped>\n",
       "    .dataframe tbody tr th:only-of-type {\n",
       "        vertical-align: middle;\n",
       "    }\n",
       "\n",
       "    .dataframe tbody tr th {\n",
       "        vertical-align: top;\n",
       "    }\n",
       "\n",
       "    .dataframe thead th {\n",
       "        text-align: right;\n",
       "    }\n",
       "</style>\n",
       "<table border=\"1\" class=\"dataframe\">\n",
       "  <thead>\n",
       "    <tr style=\"text-align: right;\">\n",
       "      <th></th>\n",
       "      <th>date</th>\n",
       "      <th>group</th>\n",
       "      <th>visitors</th>\n",
       "    </tr>\n",
       "  </thead>\n",
       "  <tbody>\n",
       "    <tr>\n",
       "      <th>0</th>\n",
       "      <td>2019-08-01</td>\n",
       "      <td>A</td>\n",
       "      <td>719</td>\n",
       "    </tr>\n",
       "    <tr>\n",
       "      <th>1</th>\n",
       "      <td>2019-08-02</td>\n",
       "      <td>A</td>\n",
       "      <td>619</td>\n",
       "    </tr>\n",
       "    <tr>\n",
       "      <th>2</th>\n",
       "      <td>2019-08-03</td>\n",
       "      <td>A</td>\n",
       "      <td>507</td>\n",
       "    </tr>\n",
       "    <tr>\n",
       "      <th>3</th>\n",
       "      <td>2019-08-04</td>\n",
       "      <td>A</td>\n",
       "      <td>717</td>\n",
       "    </tr>\n",
       "    <tr>\n",
       "      <th>4</th>\n",
       "      <td>2019-08-05</td>\n",
       "      <td>A</td>\n",
       "      <td>756</td>\n",
       "    </tr>\n",
       "  </tbody>\n",
       "</table>\n",
       "</div>"
      ],
      "text/plain": [
       "         date group  visitors\n",
       "0  2019-08-01     A       719\n",
       "1  2019-08-02     A       619\n",
       "2  2019-08-03     A       507\n",
       "3  2019-08-04     A       717\n",
       "4  2019-08-05     A       756"
      ]
     },
     "metadata": {},
     "output_type": "display_data"
    },
    {
     "name": "stdout",
     "output_type": "stream",
     "text": [
      "<class 'pandas.core.frame.DataFrame'>\n",
      "RangeIndex: 62 entries, 0 to 61\n",
      "Data columns (total 3 columns):\n",
      " #   Column    Non-Null Count  Dtype \n",
      "---  ------    --------------  ----- \n",
      " 0   date      62 non-null     object\n",
      " 1   group     62 non-null     object\n",
      " 2   visitors  62 non-null     int64 \n",
      "dtypes: int64(1), object(2)\n",
      "memory usage: 1.6+ KB\n",
      "date        0\n",
      "group       0\n",
      "visitors    0\n",
      "dtype: int64\n",
      "Kоличество дубликатов: 0\n"
     ]
    }
   ],
   "source": [
    "display(visitors.head(5))\n",
    "visitors.info()\n",
    "print(visitors.isna().sum())\n",
    "print('Kоличество дубликатов:',visitors.duplicated().sum())"
   ]
  },
  {
   "cell_type": "markdown",
   "metadata": {},
   "source": [
    "Данные чистые, необходимо поменять тип данных в двух столбцах "
   ]
  },
  {
   "cell_type": "code",
   "execution_count": 8,
   "metadata": {},
   "outputs": [],
   "source": [
    "orders['date'] = orders['date'].map(lambda x: dt.datetime.strptime(x,'%Y-%m-%d'))\n",
    "visitors['date'] = visitors['date'].map(lambda x: dt.datetime.strptime(x,'%Y-%m-%d'))"
   ]
  },
  {
   "cell_type": "code",
   "execution_count": 9,
   "metadata": {},
   "outputs": [
    {
     "data": {
      "text/plain": [
       "557"
      ]
     },
     "execution_count": 9,
     "metadata": {},
     "output_type": "execute_result"
    }
   ],
   "source": [
    "# количетсво в группе А\n",
    "ordersA = orders.query('group == \"A\"')\n",
    "ordersA['visitorId'].count()"
   ]
  },
  {
   "cell_type": "code",
   "execution_count": 10,
   "metadata": {},
   "outputs": [
    {
     "data": {
      "text/plain": [
       "640"
      ]
     },
     "execution_count": 10,
     "metadata": {},
     "output_type": "execute_result"
    }
   ],
   "source": [
    "# количество в группе B\n",
    "ordersB = orders.query('group == \"B\"')\n",
    "ordersB['visitorId'].count()"
   ]
  },
  {
   "cell_type": "markdown",
   "metadata": {},
   "source": [
    "Проверили данные, дубликатов и пропусков  не обнаружали, перевели столбцы с датой в тип datetime.\n",
    "\n",
    "**Разберемся с количеством участников теста:**\n",
    "\n",
    "- всего участников теста 1197\n",
    "- участников группы A - 557\n",
    "- участников группы B - 640\n",
    "\n",
    "Можно заметить, что  группы по размеру разные. Это можно объяснить более эффективной работой с пользователями в группе В. Возможно, причина просто в лучшей конверсии. Разница в данном случае не значительна.\n",
    "\n",
    "**Также необходимо разобраться нет ли пересекающихся пользователей**"
   ]
  },
  {
   "cell_type": "code",
   "execution_count": 11,
   "metadata": {},
   "outputs": [
    {
     "name": "stdout",
     "output_type": "stream",
     "text": [
      "Количество пересекающихся пользователей в двух группах: 58\n",
      "Количество уникальных пользователей по группам: 1139\n"
     ]
    }
   ],
   "source": [
    "cross_vis = len(set(orders.query('group ==\"A\"')['visitorId']) & set(orders.query('group == \"B\"')['visitorId']))\n",
    "print('Количество пересекающихся пользователей в двух группах:', cross_vis)\n",
    "print('Количество уникальных пользователей по группам:',orders['visitorId'].count() - cross_vis)"
   ]
  },
  {
   "cell_type": "markdown",
   "metadata": {},
   "source": [
    "**Вывод:**\n",
    "\n",
    "У нас в двух группах присутствуют одни и те же пользователи. Это могло произойти из-за того, что пользователи делали несколько заказов, попадая в разные группы. Количество таких пользователей небольшое, поэтому нет необходимости их удалять и можно продолжать исследование.\n",
    "Мы можем удалить их из датафрейма ordes, но как удалить из visitors? "
   ]
  },
  {
   "cell_type": "markdown",
   "metadata": {},
   "source": [
    "### Построим график кумулятивной выручки по группам."
   ]
  },
  {
   "cell_type": "code",
   "execution_count": 12,
   "metadata": {},
   "outputs": [
    {
     "data": {
      "text/html": [
       "<div>\n",
       "<style scoped>\n",
       "    .dataframe tbody tr th:only-of-type {\n",
       "        vertical-align: middle;\n",
       "    }\n",
       "\n",
       "    .dataframe tbody tr th {\n",
       "        vertical-align: top;\n",
       "    }\n",
       "\n",
       "    .dataframe thead th {\n",
       "        text-align: right;\n",
       "    }\n",
       "</style>\n",
       "<table border=\"1\" class=\"dataframe\">\n",
       "  <thead>\n",
       "    <tr style=\"text-align: right;\">\n",
       "      <th></th>\n",
       "      <th>date</th>\n",
       "      <th>group</th>\n",
       "      <th>orders</th>\n",
       "      <th>buyers</th>\n",
       "      <th>revenue</th>\n",
       "      <th>visitors</th>\n",
       "    </tr>\n",
       "  </thead>\n",
       "  <tbody>\n",
       "    <tr>\n",
       "      <th>0</th>\n",
       "      <td>2019-08-01</td>\n",
       "      <td>A</td>\n",
       "      <td>24</td>\n",
       "      <td>20</td>\n",
       "      <td>148579</td>\n",
       "      <td>719</td>\n",
       "    </tr>\n",
       "    <tr>\n",
       "      <th>1</th>\n",
       "      <td>2019-08-01</td>\n",
       "      <td>B</td>\n",
       "      <td>21</td>\n",
       "      <td>20</td>\n",
       "      <td>101217</td>\n",
       "      <td>713</td>\n",
       "    </tr>\n",
       "    <tr>\n",
       "      <th>2</th>\n",
       "      <td>2019-08-02</td>\n",
       "      <td>A</td>\n",
       "      <td>44</td>\n",
       "      <td>38</td>\n",
       "      <td>242401</td>\n",
       "      <td>1338</td>\n",
       "    </tr>\n",
       "    <tr>\n",
       "      <th>3</th>\n",
       "      <td>2019-08-02</td>\n",
       "      <td>B</td>\n",
       "      <td>45</td>\n",
       "      <td>43</td>\n",
       "      <td>266748</td>\n",
       "      <td>1294</td>\n",
       "    </tr>\n",
       "    <tr>\n",
       "      <th>4</th>\n",
       "      <td>2019-08-03</td>\n",
       "      <td>A</td>\n",
       "      <td>68</td>\n",
       "      <td>62</td>\n",
       "      <td>354874</td>\n",
       "      <td>1845</td>\n",
       "    </tr>\n",
       "  </tbody>\n",
       "</table>\n",
       "</div>"
      ],
      "text/plain": [
       "        date group  orders  buyers  revenue  visitors\n",
       "0 2019-08-01     A      24      20   148579       719\n",
       "1 2019-08-01     B      21      20   101217       713\n",
       "2 2019-08-02     A      44      38   242401      1338\n",
       "3 2019-08-02     B      45      43   266748      1294\n",
       "4 2019-08-03     A      68      62   354874      1845"
      ]
     },
     "execution_count": 12,
     "metadata": {},
     "output_type": "execute_result"
    }
   ],
   "source": [
    "# создаем массив уникальных пар значений дат и групп теста\n",
    " \n",
    "datesGroups = orders[['date','group']].drop_duplicates()\n",
    " \n",
    "# получим строки таблицы orders, \n",
    "# Агрегируем значения, найдём число уникальных ID заказов и пользователей и подсчитаем сумму чеков.\n",
    "ordersAggregated = datesGroups.apply(\n",
    "lambda x: orders[np.logical_and(orders['date'] <= x['date'], orders['group'] == x['group'])].agg({\n",
    "    'date' : 'max',\n",
    "    'group' : 'max',\n",
    "    'transactionId' : pd.Series.nunique,\n",
    "    'visitorId' : pd.Series.nunique,\n",
    "    'revenue' : 'sum'}), axis=1).sort_values(by=['date','group'])\n",
    " \n",
    "visitorsAggregated = datesGroups.apply(\n",
    "lambda x: visitors[np.logical_and(visitors['date'] <= x['date'], visitors['group'] == x['group'])].agg({\n",
    "    'date' : 'max',\n",
    "    'group' : 'max',\n",
    "    'visitors' : 'sum'}), axis=1).sort_values(by=['date','group'])\n",
    " \n",
    " \n",
    "cumulativeData = ordersAggregated.merge(visitorsAggregated, left_on=['date', 'group'], right_on=['date', 'group'])\n",
    " \n",
    " \n",
    "cumulativeData.columns = ['date', 'group', 'orders', 'buyers', 'revenue', 'visitors']  \n",
    " \n",
    "cumulativeData.head()"
   ]
  },
  {
   "cell_type": "code",
   "execution_count": 13,
   "metadata": {
    "scrolled": false
   },
   "outputs": [
    {
     "data": {
      "image/png": "[encoded data removed]",
      "text/plain": [
       "<Figure size 1080x432 with 1 Axes>"
      ]
     },
     "metadata": {
      "needs_background": "light"
     },
     "output_type": "display_data"
    }
   ],
   "source": [
    "#зададим размер графика \n",
    "plt.figure(figsize=(15,6))\n",
    "# датафрейм с кумулятивным количеством заказов и кумулятивной выручкой по дням в группе А\n",
    "cumulativeRevenueA = cumulativeData[cumulativeData['group']=='A'][['date','revenue', 'orders']]\n",
    "\n",
    "# датафрейм с кумулятивным количеством заказов и кумулятивной выручкой по дням в группе B\n",
    "cumulativeRevenueB = cumulativeData[cumulativeData['group']=='B'][['date','revenue', 'orders']]\n",
    "\n",
    "# Строим график выручки группы А\n",
    "plt.plot(cumulativeRevenueA['date'], cumulativeRevenueA['revenue'], label='A')\n",
    "\n",
    "# Строим график выручки группы B\n",
    "plt.plot(cumulativeRevenueB['date'], cumulativeRevenueB['revenue'], label='B')\n",
    "\n",
    "plt.title('Кумулятивная выручка по группам A/B тестирования')\n",
    "plt.xlabel('Дата')\n",
    "plt.ylabel('Выручка')\n",
    "plt.legend(['Группа А','Группа Б'])\n",
    "plt.show()"
   ]
  },
  {
   "cell_type": "markdown",
   "metadata": {},
   "source": [
    "**Вывод**:\n",
    "\n",
    "По графику видно, что выручка постепенно растёт, однако в группе \"Б\" есть скачек. Воможно это связано либо с большим количеством заказов в тот день, либо были офомрлены дорогие заказаы."
   ]
  },
  {
   "cell_type": "markdown",
   "metadata": {},
   "source": [
    "### Построим график кумулятивного среднего чека по группам."
   ]
  },
  {
   "cell_type": "code",
   "execution_count": 14,
   "metadata": {},
   "outputs": [
    {
     "data": {
      "image/png": "[encoded data removed]",
      "text/plain": [
       "<Figure size 1080x432 with 1 Axes>"
      ]
     },
     "metadata": {
      "needs_background": "light"
     },
     "output_type": "display_data"
    }
   ],
   "source": [
    "#зададим размер графика \n",
    "plt.figure(figsize=(15,6))\n",
    "plt.plot(cumulativeRevenueA['date'], cumulativeRevenueA['revenue']/cumulativeRevenueA['orders'], label='A')\n",
    "plt.plot(cumulativeRevenueB['date'], cumulativeRevenueB['revenue']/cumulativeRevenueB['orders'], label='B')\n",
    "plt.title('Кумулятивный средний чек по группам A/B тестирования')\n",
    "plt.xlabel('Дата')\n",
    "plt.ylabel('Средний чек')\n",
    "plt.legend(['Группа А','Группа Б'])\n",
    "plt.show()"
   ]
  },
  {
   "cell_type": "markdown",
   "metadata": {},
   "source": [
    "**Выводы:**\n",
    "\n",
    "- По графику видно, что средний чек в двух группах постоянно менялся(видны калебания). В группе А он становится стабильным с середины месяца. \n",
    "- В группе Б наблюдается увеличение среднего чека, возможно это связано с оформлением дорогих или крупных заказов."
   ]
  },
  {
   "cell_type": "markdown",
   "metadata": {},
   "source": [
    "### Построим график относительного изменения кумулятивного среднего чека группы B к группе A."
   ]
  },
  {
   "cell_type": "code",
   "execution_count": 15,
   "metadata": {},
   "outputs": [
    {
     "data": {
      "image/png": "[encoded data removed]",
      "text/plain": [
       "<Figure size 1080x432 with 1 Axes>"
      ]
     },
     "metadata": {
      "needs_background": "light"
     },
     "output_type": "display_data"
    }
   ],
   "source": [
    "plt.figure(figsize=(15,6))\n",
    "# собираем данные в одном датафрейме\n",
    "mergedCumulativeRevenue = cumulativeRevenueA.merge(cumulativeRevenueB, left_on='date', right_on='date', how='left', suffixes=['A', 'B'])\n",
    "\n",
    "# cтроим отношение средних чеков\n",
    "plt.plot(mergedCumulativeRevenue['date'], (mergedCumulativeRevenue['revenueB']/mergedCumulativeRevenue['ordersB'])/(mergedCumulativeRevenue['revenueA']/mergedCumulativeRevenue['ordersA'])-1)\n",
    "\n",
    "# добавляем ось X\n",
    "plt.axhline(y=0, color='black', linestyle='--') \n",
    "plt.title('Относительное изменение кумулятивного среднего чека группы B к группе A.')\n",
    "plt.xlabel('Дата')\n",
    "plt.ylabel('Средний чек');"
   ]
  },
  {
   "cell_type": "markdown",
   "metadata": {},
   "source": [
    "**Выводы:**\n",
    "\n",
    " Резкий скачек свидетельствует о наличии или крупные заказы илм выбросов, необходимо больше информации чтобы разобраться.\n",
    "\n"
   ]
  },
  {
   "cell_type": "markdown",
   "metadata": {},
   "source": [
    "### Построим график кумулятивной конверсии по группам"
   ]
  },
  {
   "cell_type": "code",
   "execution_count": 16,
   "metadata": {},
   "outputs": [
    {
     "data": {
      "image/png": "[encoded data removed]",
      "text/plain": [
       "<Figure size 1080x432 with 1 Axes>"
      ]
     },
     "metadata": {
      "needs_background": "light"
     },
     "output_type": "display_data"
    }
   ],
   "source": [
    "plt.figure(figsize=(15,6))\n",
    "# считаем кумулятивную конверсию\n",
    "cumulativeData['conversion'] = cumulativeData['orders']/cumulativeData['visitors']\n",
    "\n",
    "# отделяем данные по группе A\n",
    "cumulativeDataA = cumulativeData[cumulativeData['group']=='A']\n",
    "\n",
    "# отделяем данные по группе B\n",
    "cumulativeDataB = cumulativeData[cumulativeData['group']=='B']\n",
    "\n",
    "# строим графики\n",
    "plt.plot(cumulativeDataA['date'], cumulativeDataA['conversion'], label='A')\n",
    "plt.plot(cumulativeDataB['date'], cumulativeDataB['conversion'], label='B')\n",
    "plt.title('Кумулятивная конверсия по группам A/B тестирования')\n",
    "plt.xlabel('Дата')\n",
    "plt.legend(['Группа А','Группа Б']);"
   ]
  },
  {
   "cell_type": "markdown",
   "metadata": {},
   "source": [
    "**Вывод:**\n",
    "\n",
    "По графику видно, что в начале месяца конверсия группы А превышала конверсия другой группы. Затем конверсия группы Б стала превышать конверсию группы А. С 18 числа показатели двух группы понемногу зафиксировались.  \n"
   ]
  },
  {
   "cell_type": "markdown",
   "metadata": {},
   "source": [
    "### Построим график относительного изменения кумулятивной конверсии группы B к группе A"
   ]
  },
  {
   "cell_type": "code",
   "execution_count": 17,
   "metadata": {},
   "outputs": [
    {
     "data": {
      "image/png": "[encoded data removed]",
      "text/plain": [
       "<Figure size 1080x432 with 1 Axes>"
      ]
     },
     "metadata": {
      "needs_background": "light"
     },
     "output_type": "display_data"
    }
   ],
   "source": [
    "plt.figure(figsize=(15,6))\n",
    "\n",
    "mergedCumulativeConversions = cumulativeDataA[['date','conversion']].merge(cumulativeDataB[['date','conversion']], left_on='date', right_on='date', how='left', suffixes=['A', 'B'])\n",
    "\n",
    "plt.plot(mergedCumulativeConversions['date'], mergedCumulativeConversions['conversionB']/mergedCumulativeConversions['conversionA']-1, label=\"Относительный прирост конверсии группы B относительно группы A\")\n",
    "plt.title('Относительное изменение кумулятивный конверсия группы B к группе A')\n",
    "plt.xlabel('Дата')\n",
    "plt.axhline(y=0, color='black', linestyle='--')\n",
    "plt.axhline(y= -0.1, color='grey', linestyle='--');\n"
   ]
  },
  {
   "cell_type": "markdown",
   "metadata": {},
   "source": [
    "**Вывод:**\n",
    "Почти с самого начала группа Б лидирует над группой А. Прирост относительно группы А примерно 10-15%"
   ]
  },
  {
   "cell_type": "markdown",
   "metadata": {},
   "source": [
    "### Построим точечный график количества заказов по пользователям"
   ]
  },
  {
   "cell_type": "code",
   "execution_count": 18,
   "metadata": {},
   "outputs": [
    {
     "data": {
      "image/png": "[encoded data removed]",
      "text/plain": [
       "<Figure size 1080x432 with 1 Axes>"
      ]
     },
     "metadata": {
      "needs_background": "light"
     },
     "output_type": "display_data"
    }
   ],
   "source": [
    "plt.figure(figsize=(15,6))\n",
    "\n",
    "ordersByUsers = (\n",
    "    orders.groupby('visitorId', as_index=False)\n",
    "    .agg({'transactionId': 'nunique'})\n",
    ")\n",
    "\n",
    "\n",
    "x_values = pd.Series(range(0,len(ordersByUsers)))\n",
    "plt.title('Точечный график количества заказов по пользователям')\n",
    "plt.ylabel('Количество заказов')\n",
    "plt.scatter(x_values, ordersByUsers['transactionId']); "
   ]
  },
  {
   "cell_type": "markdown",
   "metadata": {},
   "source": [
    "**Вывод:**\n",
    "По графику видно, что лишь маленькое количество пользователей сделали более 2 заказов. При этом, количество тех, кто сделал 1 заказ и 2 сильно различается."
   ]
  },
  {
   "cell_type": "markdown",
   "metadata": {},
   "source": [
    "### Посчитаем 95-й и 99-й перцентили количества заказов на пользователя."
   ]
  },
  {
   "cell_type": "code",
   "execution_count": 19,
   "metadata": {},
   "outputs": [
    {
     "name": "stdout",
     "output_type": "stream",
     "text": [
      "[2. 4.]\n"
     ]
    }
   ],
   "source": [
    "print(np.percentile(ordersByUsers['transactionId'], [95, 99])) "
   ]
  },
  {
   "cell_type": "markdown",
   "metadata": {},
   "source": [
    "**Выводы:**\n",
    "- не более 5% пользователей совершили больше 2 заказов\n",
    "- не более 1% пользователей совершили больше 4 заказов\n",
    "\n",
    "Границу для определения аномальных пользователей можно выбрать 2 заказа"
   ]
  },
  {
   "cell_type": "markdown",
   "metadata": {},
   "source": [
    "### Построим точечный график стоимостей заказов."
   ]
  },
  {
   "cell_type": "code",
   "execution_count": 20,
   "metadata": {},
   "outputs": [
    {
     "data": {
      "image/png": "[encoded data removed]",
      "text/plain": [
       "<Figure size 1080x720 with 1 Axes>"
      ]
     },
     "metadata": {
      "needs_background": "light"
     },
     "output_type": "display_data"
    }
   ],
   "source": [
    "plt.figure(figsize=(15,10))\n",
    "x_values = pd.Series(range(0,len(orders['revenue'])))\n",
    "plt.scatter(x_values, orders['revenue'])\n",
    "plt.title('Точечный график стоимостей заказов')\n",
    "plt.xlabel('Пользователи')\n",
    "plt.ylabel('Выручка заказа');"
   ]
  },
  {
   "cell_type": "markdown",
   "metadata": {},
   "source": [
    "**Выводы:**\n",
    "На графике видно, что больше всего заказов, которые не превышают 10 тыс.Видны явные выбросы. Следует рассмотреть график с лимитами чтобы понять в около каких значений распределилось большинство заказов."
   ]
  },
  {
   "cell_type": "code",
   "execution_count": 21,
   "metadata": {},
   "outputs": [
    {
     "data": {
      "image/png": "[encoded data removed]",
      "text/plain": [
       "<Figure size 1080x432 with 1 Axes>"
      ]
     },
     "metadata": {
      "needs_background": "light"
     },
     "output_type": "display_data"
    }
   ],
   "source": [
    "plt.figure(figsize=(15,6))\n",
    "x_values = pd.Series(range(0,len(orders['revenue'])))\n",
    "plt.scatter(x_values, orders['revenue'])\n",
    "plt.title('Точечный график стоимостей заказов')\n",
    "plt.axis([0, 1210, 0, 100000])\n",
    "plt.ylabel('Выручка заказа')\n",
    "plt.xlabel('Пользователи');"
   ]
  },
  {
   "cell_type": "markdown",
   "metadata": {},
   "source": [
    "**Выводы:**\n",
    "На графике видно, что больше всего заказов, которые стоят в районе 10к. Заказов на сумму свыше 20к мало."
   ]
  },
  {
   "cell_type": "markdown",
   "metadata": {},
   "source": [
    "### Посчитаем 95-й и 99-й перцентили стоимости заказов"
   ]
  },
  {
   "cell_type": "code",
   "execution_count": 22,
   "metadata": {},
   "outputs": [
    {
     "name": "stdout",
     "output_type": "stream",
     "text": [
      "[28000.  58233.2]\n"
     ]
    }
   ],
   "source": [
    "print(np.percentile(orders['revenue'], [ 95, 99]))"
   ]
  },
  {
   "cell_type": "markdown",
   "metadata": {},
   "source": [
    "**Выводы:**\n",
    "\n",
    "- Не более, чем 5% заказов чек дороже 28000\n",
    "- Не более, чем 1% заказов чек дороже 58000\n",
    "- Границу для определения аномальных заказов возьмем 28000"
   ]
  },
  {
   "cell_type": "markdown",
   "metadata": {},
   "source": [
    "### Посчитаем статистическую значимость различий в конверсии между группами по «сырым» данным. "
   ]
  },
  {
   "cell_type": "markdown",
   "metadata": {},
   "source": [
    "**Составим нулевую и альтернативную гипотезы**\n",
    "\n",
    "**Н0:** Статистически значимых различий в конверсии между группами по сырым данным нет.\n",
    "\n",
    "**Н1:** Статистически значимые различия в конверсии между группами по сырым данным есть.\n",
    "\n",
    "    уровень значимости: a = 0.05"
   ]
  },
  {
   "cell_type": "code",
   "execution_count": 23,
   "metadata": {},
   "outputs": [],
   "source": [
    "# группа А\n",
    "visitorsADaily = visitors[visitors['group'] == 'A'][['date', 'visitors']]\n",
    "visitorsADaily.columns = ['date', 'visitorsPerDateA']\n",
    "\n",
    "visitorsACummulative = visitorsADaily.apply(\n",
    "    lambda x: visitorsADaily[visitorsADaily['date'] <= x['date']].agg(\n",
    "        {'date': 'max', 'visitorsPerDateA': 'sum'}\n",
    "    ),\n",
    "    axis=1,\n",
    ")\n",
    "visitorsACummulative.columns = ['date', 'visitorsCummulativeA']\n",
    "\n",
    "\n",
    "ordersADaily = (\n",
    "    orders[orders['group'] == 'A'][['date', 'transactionId', 'visitorId', 'revenue']]\n",
    "    .groupby('date', as_index=False)\n",
    "    .agg({'transactionId': pd.Series.nunique, 'revenue': 'sum'})\n",
    ")\n",
    "ordersADaily.columns = ['date', 'ordersPerDateA', 'revenuePerDateA']\n",
    "\n",
    "\n",
    "ordersACummulative = ordersADaily.apply(\n",
    "    lambda x: ordersADaily[ordersADaily['date'] <= x['date']].agg(\n",
    "        {'date': 'max', 'ordersPerDateA': 'sum', 'revenuePerDateA': 'sum'}\n",
    "    ),\n",
    "    axis=1,\n",
    ").sort_values(by=['date'])\n",
    "ordersACummulative.columns = [\n",
    "    'date',\n",
    "    'ordersCummulativeA',\n",
    "    'revenueCummulativeA',\n",
    "]\n"
   ]
  },
  {
   "cell_type": "code",
   "execution_count": 24,
   "metadata": {},
   "outputs": [],
   "source": [
    "# группа  Б\n",
    "visitorsBDaily = visitors[visitors['group'] == 'B'][['date', 'visitors']]\n",
    "visitorsBDaily.columns = ['date', 'visitorsPerDateB']\n",
    "\n",
    "visitorsBCummulative = visitorsBDaily.apply(\n",
    "    lambda x: visitorsBDaily[visitorsBDaily['date'] <= x['date']].agg(\n",
    "        {'date': 'max', 'visitorsPerDateB': 'sum'}\n",
    "    ),\n",
    "    axis=1,\n",
    ")\n",
    "visitorsBCummulative.columns = ['date', 'visitorsCummulativeB']\n",
    "\n",
    "\n",
    "ordersBDaily = (\n",
    "    orders[orders['group'] == 'B'][['date', 'transactionId', 'visitorId', 'revenue']]\n",
    "    .groupby('date', as_index=False)\n",
    "    .agg({'transactionId': pd.Series.nunique, 'revenue': 'sum'})\n",
    ")\n",
    "ordersBDaily.columns = ['date', 'ordersPerDateB', 'revenuePerDateB']\n",
    "\n",
    "\n",
    "\n",
    "ordersBCummulative = ordersBDaily.apply(\n",
    "    lambda x: ordersBDaily[ordersBDaily['date'] <= x['date']].agg(\n",
    "        {'date': 'max', 'ordersPerDateB': 'sum', 'revenuePerDateB': 'sum'}\n",
    "    ),\n",
    "    axis=1,\n",
    ").sort_values(by=['date'])\n",
    "ordersBCummulative.columns = [\n",
    "    'date',\n",
    "    'ordersCummulativeB',\n",
    "    'revenueCummulativeB',\n",
    "]\n"
   ]
  },
  {
   "cell_type": "code",
   "execution_count": 25,
   "metadata": {},
   "outputs": [],
   "source": [
    "# объединям данные в общий датасет dats\n",
    "\n",
    "data = (\n",
    "    ordersADaily.merge(\n",
    "        ordersBDaily, left_on='date', right_on='date', how='left'\n",
    "    )\n",
    "    .merge(ordersACummulative, left_on='date', right_on='date', how='left')\n",
    "    .merge(ordersBCummulative, left_on='date', right_on='date', how='left')\n",
    "    .merge(visitorsADaily, left_on='date', right_on='date', how='left')\n",
    "    .merge(visitorsBDaily, left_on='date', right_on='date', how='left')\n",
    "    .merge(visitorsACummulative, left_on='date', right_on='date', how='left')\n",
    "    .merge(visitorsBCummulative, left_on='date', right_on='date', how='left')\n",
    ")"
   ]
  },
  {
   "cell_type": "code",
   "execution_count": 26,
   "metadata": {},
   "outputs": [],
   "source": [
    "# Создадим переменные рассчетов\n",
    "\n",
    "ordersByUsersA = (\n",
    "    orders[orders['group'] == 'A']\n",
    "    .groupby('visitorId', as_index=False)\n",
    "    .agg({'transactionId': pd.Series.nunique})\n",
    ")\n",
    "ordersByUsersA.columns = ['userId', 'orders']\n",
    "\n",
    "ordersByUsersB = (\n",
    "    orders[orders['group'] == 'B']\n",
    "    .groupby('visitorId', as_index=False)\n",
    "    .agg({'transactionId': pd.Series.nunique})\n",
    ")\n",
    "ordersByUsersB.columns = ['userId', 'orders']\n",
    "\n",
    "\n",
    "\n",
    "sampleA = pd.concat([ordersByUsersA['orders'],pd.Series(0,\n",
    "index=np.arange(data['visitorsPerDateA'].sum() - len(ordersByUsersA['orders'])), name='orders')],axis=0)\n",
    "\n",
    "sampleB = pd.concat([ordersByUsersB['orders'],pd.Series(0,\n",
    "index=np.arange(data['visitorsPerDateB'].sum() - len(ordersByUsersB['orders'])), name='orders')],axis=0)"
   ]
  },
  {
   "cell_type": "code",
   "execution_count": 27,
   "metadata": {},
   "outputs": [
    {
     "name": "stdout",
     "output_type": "stream",
     "text": [
      "p-value: 0.01679\n",
      "Имеются основания отвергнуть нулевую гипотезу. Статистически значимые различия в конверсии между группами по сырым данным есть.\n",
      "0.138\n"
     ]
    }
   ],
   "source": [
    "alpha = .05\n",
    "results = stats.mannwhitneyu(sampleA, sampleB)[1]\n",
    "print('p-value:','{0:.5f}'.format(results))\n",
    "if (results < alpha):\n",
    "    print('Имеются основания отвергнуть нулевую гипотезу. Статистически значимые различия в конверсии между группами по сырым данным есть.')\n",
    "else:\n",
    "    print('Недостаточно оснований для того, чтобы отвергнуть нулевую гипотезу')\n",
    "print(\"{0:.3f}\".format(sampleB.mean() / sampleA.mean() - 1))\n"
   ]
  },
  {
   "cell_type": "markdown",
   "metadata": {},
   "source": [
    "**Вывод:**\n",
    "\n",
    "Таким образом, анализ \"сырых данных\" показывает, что между группами есть статистическая значимость различий в конверсии. Относительный прирост в конверсии 13.8%. "
   ]
  },
  {
   "cell_type": "markdown",
   "metadata": {},
   "source": [
    "### Посчитаем статистическую значимость различий в среднем чеке заказа между группами по «сырым» данным."
   ]
  },
  {
   "cell_type": "markdown",
   "metadata": {},
   "source": [
    "**Составим нулевую и альтернативную гипотезы**\n",
    "\n",
    "**Н0:** Статистически значимых различий в среднем чеке между группами по сырым данным нет.\n",
    "\n",
    "**Н1:** Статистически значимые различия в среднем чеке между группами по сырым данным есть.\n",
    "    \n",
    "    уровень значимости: a = 0.05"
   ]
  },
  {
   "cell_type": "code",
   "execution_count": 28,
   "metadata": {},
   "outputs": [
    {
     "name": "stdout",
     "output_type": "stream",
     "text": [
      "p-value: 0.72929\n",
      "Недостаточно оснований для того, чтобы отвергнуть нулевую гипотезу\n",
      "0.259\n"
     ]
    }
   ],
   "source": [
    "alpha = .05\n",
    "results = stats.mannwhitneyu(orders[orders['group']=='A']['revenue'], orders[orders['group']=='B']['revenue'])[1]\n",
    "print('p-value:','{0:.5f}'.format(results))\n",
    "if (results < alpha):\n",
    "    print('Имеются основания отвергнуть нулевую гипотезу')\n",
    "else:\n",
    "    print('Недостаточно оснований для того, чтобы отвергнуть нулевую гипотезу')\n",
    "print('{0:.3f}'.format(orders[orders['group']=='B']\n",
    "['revenue'].mean()/orders[orders['group']=='A']['revenue'].mean()-1))"
   ]
  },
  {
   "cell_type": "markdown",
   "metadata": {},
   "source": [
    "**Выводы:**\n",
    "\n",
    "Так как p-value > 0.05, статистически значимых различий в среднем чеке между группами по сырым данным нет. Однако относительный прирост среднего чека почти 26 процентов. Возможно дело в выбросах, необходимо проверить на чистых данных."
   ]
  },
  {
   "cell_type": "markdown",
   "metadata": {},
   "source": [
    "### Посчитаем статистическую значимость различий в конверсии между группами по «очищенным» данным."
   ]
  },
  {
   "cell_type": "markdown",
   "metadata": {},
   "source": [
    "**Составим нулевую и альтернативную гипотезы**\n",
    "\n",
    "**Н0:** Статистически значимых различий в конверсии между группами по «очищенным» данным нет.\n",
    "\n",
    "**Н1:** Статистически значимые различия в конверсии между группами по «очищенным» данным есть.\n",
    "\n",
    "    уровень значимости: a = 0.05"
   ]
  },
  {
   "cell_type": "code",
   "execution_count": 29,
   "metadata": {},
   "outputs": [
    {
     "name": "stdout",
     "output_type": "stream",
     "text": [
      "1099    148427295\n",
      "18      199603092\n",
      "928     204675465\n",
      "23      237748145\n",
      "37      249864742\n",
      "dtype: int64\n",
      "74\n"
     ]
    }
   ],
   "source": [
    "usersWithManyOrders = pd.concat(\n",
    "    [\n",
    "        ordersByUsersA[ordersByUsersA['orders'] > 2]['userId'],\n",
    "        ordersByUsersB[ordersByUsersB['orders'] > 2]['userId'],\n",
    "    ],\n",
    "    axis=0,\n",
    ")\n",
    "usersWithExpensiveOrders = orders[orders['revenue'] > 28000]['visitorId']\n",
    "abnormalUsers = (\n",
    "    pd.concat([usersWithManyOrders, usersWithExpensiveOrders], axis=0)\n",
    "    .drop_duplicates()\n",
    "    .sort_values()\n",
    ")\n",
    "\n",
    "print(abnormalUsers.head(5))\n",
    "print(abnormalUsers.shape[0])"
   ]
  },
  {
   "cell_type": "code",
   "execution_count": 30,
   "metadata": {},
   "outputs": [],
   "source": [
    "sampleAFiltered = pd.concat(\n",
    "    [\n",
    "        ordersByUsersA[\n",
    "            np.logical_not(ordersByUsersA['userId'].isin(abnormalUsers))\n",
    "        ]['orders'],\n",
    "        pd.Series(\n",
    "            0,\n",
    "            index=np.arange(\n",
    "                data['visitorsPerDateA'].sum() - len(ordersByUsersA['orders'])\n",
    "            ),\n",
    "            name='orders',\n",
    "        ),\n",
    "    ],\n",
    "    axis=0,\n",
    ")\n",
    "\n",
    "sampleBFiltered = pd.concat(\n",
    "    [\n",
    "        ordersByUsersB[\n",
    "            np.logical_not(ordersByUsersB['userId'].isin(abnormalUsers))\n",
    "        ]['orders'],\n",
    "        pd.Series(\n",
    "            0,\n",
    "            index=np.arange(\n",
    "                data['visitorsPerDateB'].sum() - len(ordersByUsersB['orders'])\n",
    "            ),\n",
    "            name='orders',\n",
    "        ),\n",
    "    ],\n",
    "    axis=0,\n",
    ")"
   ]
  },
  {
   "cell_type": "code",
   "execution_count": 31,
   "metadata": {},
   "outputs": [
    {
     "name": "stdout",
     "output_type": "stream",
     "text": [
      "p-value: 0.01304\n",
      "Имеются основания отвергнуть нулевую гипотезу\n",
      "0.173\n"
     ]
    }
   ],
   "source": [
    "alpha = .05\n",
    "results = stats.mannwhitneyu(sampleAFiltered, sampleBFiltered)[1]\n",
    "print('p-value:','{0:.5f}'.format(results))\n",
    "if (results < alpha):\n",
    "    print('Имеются основания отвергнуть нулевую гипотезу')\n",
    "else:\n",
    "    print('Недостаточно оснований для того, чтобы отвергнуть нулевую гипотезу')\n",
    "print('{0:.3f}'.format(sampleBFiltered.mean()/sampleAFiltered.mean()-1))"
   ]
  },
  {
   "cell_type": "markdown",
   "metadata": {},
   "source": [
    "**Выводы:**\n",
    "\n",
    "- тест показыает, что статистически значимые различия в конверсии между группами по «очищенным» данным есть\n",
    "\n",
    "- по «очищенным» данным относительный прирост конверсии группы Б к конверсии группы А равен 17.3%\n",
    "- значение не сильно отличается от значений сырых данных\n",
    "\n",
    "Можно сделать вывод, что егруппа Б по показателю конверсия показала себя лучше."
   ]
  },
  {
   "cell_type": "markdown",
   "metadata": {},
   "source": [
    "### Посчитаем статистическую значимость различий в среднем чеке заказа между группами по «очищенным» данным."
   ]
  },
  {
   "cell_type": "code",
   "execution_count": 32,
   "metadata": {},
   "outputs": [
    {
     "name": "stdout",
     "output_type": "stream",
     "text": [
      "p-value: 0.73848\n",
      "Недостаточно оснований для того, чтобы отвергнуть нулевую гипотезу\n",
      "-0.020\n"
     ]
    }
   ],
   "source": [
    "alpha = .05\n",
    "results = stats.mannwhitneyu(\n",
    "            orders[\n",
    "                np.logical_and(\n",
    "                    orders['group'] == 'A',\n",
    "                    np.logical_not(orders['visitorId'].isin(abnormalUsers)),\n",
    "                )\n",
    "            ]['revenue'],\n",
    "            orders[\n",
    "                np.logical_and(\n",
    "                    orders['group'] == 'B',\n",
    "                    np.logical_not(orders['visitorId'].isin(abnormalUsers)),\n",
    "                )\n",
    "            ]['revenue'],\n",
    "        )[1]\n",
    "print('p-value:','{0:.5f}'.format(results))\n",
    "if (results < alpha):\n",
    "    print('Имеются основания отвергнуть нулевую гипотезу')\n",
    "else:\n",
    "    print('Недостаточно оснований для того, чтобы отвергнуть нулевую гипотезу')\n",
    "print(\n",
    "    \"{0:.3f}\".format(\n",
    "        orders[\n",
    "            np.logical_and(\n",
    "                orders['group'] == 'B',\n",
    "                np.logical_not(orders['visitorId'].isin(abnormalUsers)),\n",
    "            )\n",
    "        ]['revenue'].mean()\n",
    "        / orders[\n",
    "            np.logical_and(\n",
    "                orders['group'] == 'A',\n",
    "                np.logical_not(orders['visitorId'].isin(abnormalUsers)),\n",
    "            )\n",
    "        ]['revenue'].mean()\n",
    "        - 1\n",
    "    )\n",
    ")"
   ]
  },
  {
   "cell_type": "markdown",
   "metadata": {},
   "source": [
    "**Выводы:**\n",
    "\n",
    "- не обнаружено различий в среднем чеке заказа между группами\n",
    "- относительный прирост показателя группы B  показателю группы A меньше 0. Такое различие с сырыми данными по причине наличия выбросов, аномалий"
   ]
  },
  {
   "cell_type": "markdown",
   "metadata": {},
   "source": [
    "### Принимаем решение по результатам теста"
   ]
  },
  {
   "cell_type": "markdown",
   "metadata": {},
   "source": [
    "**Варианты решение:**\n",
    "\n",
    "1. Остановить тест, зафиксировать победу одной из групп. \n",
    "2. Остановить тест, зафиксировать отсутствие различий между группами. \n",
    "3. Продолжить тест.\n",
    "\n",
    "**Имеющиеся факты:**\n",
    "\n",
    "- Есть статистически значимое различие по конверсии между группами как по сырым данным, так и после фильтрации аномалий.\n",
    "- По сырым данным и по «очищенным» нет статистически значимого различия по среднему чеку между группами.\n",
    "- График различия конверсии между группами сообщает, что результаты группы B лучше группы A: имеют тенденцию к росту, либо зафиксировались около среднего значения.\n",
    "\n",
    "Таким образом, следует выбрать первое решение - Остановить тест, зафиксировать победу одной из групп. В группе B показатель конверсии увеличился, следовательно возросло количество клиентов."
   ]
  }
 ],
 "metadata": {
  "ExecuteTimeLog": [
   {
    "duration": 816,
    "start_time": "2022-10-03T17:18:45.819Z"
   },
   {
    "duration": 215,
    "start_time": "2022-10-03T17:18:48.254Z"
   },
   {
    "duration": 107,
    "start_time": "2022-10-03T17:19:06.718Z"
   },
   {
    "duration": 20,
    "start_time": "2022-10-03T17:19:20.910Z"
   },
   {
    "duration": 10,
    "start_time": "2022-10-03T17:19:32.382Z"
   },
   {
    "duration": 8,
    "start_time": "2022-10-03T17:19:41.943Z"
   },
   {
    "duration": 3,
    "start_time": "2022-10-03T17:28:28.204Z"
   },
   {
    "duration": 72,
    "start_time": "2022-10-03T17:28:28.568Z"
   },
   {
    "duration": 12,
    "start_time": "2022-10-03T17:28:29.856Z"
   },
   {
    "duration": 3,
    "start_time": "2022-10-03T17:28:46.317Z"
   },
   {
    "duration": 72,
    "start_time": "2022-10-03T17:28:46.845Z"
   },
   {
    "duration": 9,
    "start_time": "2022-10-03T17:28:48.028Z"
   },
   {
    "duration": 74,
    "start_time": "2022-10-03T17:29:15.163Z"
   },
   {
    "duration": 8,
    "start_time": "2022-10-03T17:29:23.112Z"
   },
   {
    "duration": 12,
    "start_time": "2022-10-03T17:37:22.534Z"
   },
   {
    "duration": 8,
    "start_time": "2022-10-03T17:38:53.369Z"
   },
   {
    "duration": 10,
    "start_time": "2022-10-03T17:38:54.353Z"
   },
   {
    "duration": 11,
    "start_time": "2022-10-03T17:40:46.871Z"
   },
   {
    "duration": 11,
    "start_time": "2022-10-03T17:42:04.428Z"
   },
   {
    "duration": 12,
    "start_time": "2022-10-03T17:45:18.654Z"
   },
   {
    "duration": 71,
    "start_time": "2022-10-03T17:45:40.778Z"
   },
   {
    "duration": 10,
    "start_time": "2022-10-03T17:48:21.846Z"
   },
   {
    "duration": 9,
    "start_time": "2022-10-03T17:48:22.731Z"
   },
   {
    "duration": 859,
    "start_time": "2022-10-03T18:44:05.867Z"
   },
   {
    "duration": 72,
    "start_time": "2022-10-03T18:44:06.728Z"
   },
   {
    "duration": 15,
    "start_time": "2022-10-03T18:44:06.802Z"
   },
   {
    "duration": 13,
    "start_time": "2022-10-03T18:44:06.818Z"
   },
   {
    "duration": 11,
    "start_time": "2022-10-03T18:44:06.833Z"
   },
   {
    "duration": 14,
    "start_time": "2022-10-03T18:44:06.845Z"
   },
   {
    "duration": 96,
    "start_time": "2022-10-03T18:45:08.055Z"
   },
   {
    "duration": 18,
    "start_time": "2022-10-03T18:45:21.987Z"
   },
   {
    "duration": 19,
    "start_time": "2022-10-03T18:45:51.758Z"
   },
   {
    "duration": 19,
    "start_time": "2022-10-03T18:46:49.586Z"
   },
   {
    "duration": 18,
    "start_time": "2022-10-03T18:47:02.755Z"
   },
   {
    "duration": 18,
    "start_time": "2022-10-03T18:47:34.851Z"
   },
   {
    "duration": 277,
    "start_time": "2022-10-03T19:01:33.891Z"
   },
   {
    "duration": 337,
    "start_time": "2022-10-03T19:06:03.563Z"
   },
   {
    "duration": 3,
    "start_time": "2022-10-03T19:06:16.338Z"
   },
   {
    "duration": 72,
    "start_time": "2022-10-03T19:06:16.614Z"
   },
   {
    "duration": 8,
    "start_time": "2022-10-03T19:06:17.520Z"
   },
   {
    "duration": 10,
    "start_time": "2022-10-03T19:06:18.048Z"
   },
   {
    "duration": 12,
    "start_time": "2022-10-03T19:06:18.918Z"
   },
   {
    "duration": 18,
    "start_time": "2022-10-03T19:06:20.922Z"
   },
   {
    "duration": 18,
    "start_time": "2022-10-03T19:06:21.180Z"
   },
   {
    "duration": 224,
    "start_time": "2022-10-03T19:06:21.560Z"
   },
   {
    "duration": 274,
    "start_time": "2022-10-03T19:06:21.912Z"
   },
   {
    "duration": 3,
    "start_time": "2022-10-03T19:07:07.387Z"
   },
   {
    "duration": 73,
    "start_time": "2022-10-03T19:07:07.921Z"
   },
   {
    "duration": 8,
    "start_time": "2022-10-03T19:07:08.782Z"
   },
   {
    "duration": 10,
    "start_time": "2022-10-03T19:07:09.338Z"
   },
   {
    "duration": 11,
    "start_time": "2022-10-03T19:07:10.189Z"
   },
   {
    "duration": 18,
    "start_time": "2022-10-03T19:07:12.322Z"
   },
   {
    "duration": 16,
    "start_time": "2022-10-03T19:07:12.836Z"
   },
   {
    "duration": 13,
    "start_time": "2022-10-03T19:07:13.571Z"
   },
   {
    "duration": 307,
    "start_time": "2022-10-03T19:07:14.071Z"
   },
   {
    "duration": 226,
    "start_time": "2022-10-03T19:08:11.648Z"
   },
   {
    "duration": 214,
    "start_time": "2022-10-03T19:08:18.321Z"
   },
   {
    "duration": 295,
    "start_time": "2022-10-03T19:08:19.311Z"
   },
   {
    "duration": 838,
    "start_time": "2022-10-03T19:09:27.960Z"
   },
   {
    "duration": 72,
    "start_time": "2022-10-03T19:09:28.800Z"
   },
   {
    "duration": 13,
    "start_time": "2022-10-03T19:09:28.874Z"
   },
   {
    "duration": 11,
    "start_time": "2022-10-03T19:09:28.889Z"
   },
   {
    "duration": 10,
    "start_time": "2022-10-03T19:09:28.902Z"
   },
   {
    "duration": 25,
    "start_time": "2022-10-03T19:09:28.913Z"
   },
   {
    "duration": 20,
    "start_time": "2022-10-03T19:09:28.939Z"
   },
   {
    "duration": 13,
    "start_time": "2022-10-03T19:09:28.976Z"
   },
   {
    "duration": 308,
    "start_time": "2022-10-03T19:09:28.990Z"
   },
   {
    "duration": 296,
    "start_time": "2022-10-03T19:10:09.701Z"
   },
   {
    "duration": 16,
    "start_time": "2022-10-03T19:10:40.842Z"
   },
   {
    "duration": 388,
    "start_time": "2022-10-03T19:15:48.110Z"
   },
   {
    "duration": 72,
    "start_time": "2022-10-03T19:15:48.870Z"
   },
   {
    "duration": 8,
    "start_time": "2022-10-03T19:15:50.378Z"
   },
   {
    "duration": 11,
    "start_time": "2022-10-03T19:15:51.127Z"
   },
   {
    "duration": 11,
    "start_time": "2022-10-03T19:15:52.151Z"
   },
   {
    "duration": 20,
    "start_time": "2022-10-03T19:15:58.643Z"
   },
   {
    "duration": 18,
    "start_time": "2022-10-03T19:16:01.601Z"
   },
   {
    "duration": 13,
    "start_time": "2022-10-03T19:16:02.991Z"
   },
   {
    "duration": 281,
    "start_time": "2022-10-03T19:16:04.034Z"
   },
   {
    "duration": 1129,
    "start_time": "2022-10-04T07:09:21.256Z"
   },
   {
    "duration": 250,
    "start_time": "2022-10-04T07:09:22.388Z"
   },
   {
    "duration": 11,
    "start_time": "2022-10-04T07:09:23.470Z"
   },
   {
    "duration": 13,
    "start_time": "2022-10-04T07:09:24.517Z"
   },
   {
    "duration": 10,
    "start_time": "2022-10-04T07:09:25.936Z"
   },
   {
    "duration": 18,
    "start_time": "2022-10-04T07:09:32.636Z"
   },
   {
    "duration": 18,
    "start_time": "2022-10-04T07:09:33.270Z"
   },
   {
    "duration": 13,
    "start_time": "2022-10-04T07:09:34.702Z"
   },
   {
    "duration": 288,
    "start_time": "2022-10-04T07:09:36.321Z"
   },
   {
    "duration": 4,
    "start_time": "2022-10-04T07:17:30.683Z"
   },
   {
    "duration": 86,
    "start_time": "2022-10-04T07:17:31.284Z"
   },
   {
    "duration": 7,
    "start_time": "2022-10-04T07:17:33.533Z"
   },
   {
    "duration": 9,
    "start_time": "2022-10-04T07:17:34.933Z"
   },
   {
    "duration": 11,
    "start_time": "2022-10-04T07:17:40.185Z"
   },
   {
    "duration": 16,
    "start_time": "2022-10-04T07:17:44.915Z"
   },
   {
    "duration": 16,
    "start_time": "2022-10-04T07:17:46.973Z"
   },
   {
    "duration": 11,
    "start_time": "2022-10-04T07:18:01.940Z"
   },
   {
    "duration": 1115,
    "start_time": "2022-10-04T09:58:39.159Z"
   },
   {
    "duration": 243,
    "start_time": "2022-10-04T09:58:40.276Z"
   },
   {
    "duration": 12,
    "start_time": "2022-10-04T09:58:41.184Z"
   },
   {
    "duration": 13,
    "start_time": "2022-10-04T09:58:42.066Z"
   },
   {
    "duration": 11,
    "start_time": "2022-10-04T09:58:43.152Z"
   },
   {
    "duration": 23,
    "start_time": "2022-10-04T09:58:45.461Z"
   },
   {
    "duration": 20,
    "start_time": "2022-10-04T09:58:45.901Z"
   },
   {
    "duration": 18,
    "start_time": "2022-10-04T09:58:46.686Z"
   },
   {
    "duration": 281,
    "start_time": "2022-10-04T09:58:47.405Z"
   },
   {
    "duration": 9,
    "start_time": "2022-10-04T09:59:33.383Z"
   },
   {
    "duration": 84,
    "start_time": "2022-10-04T09:59:33.624Z"
   },
   {
    "duration": 11,
    "start_time": "2022-10-04T09:59:34.446Z"
   },
   {
    "duration": 10,
    "start_time": "2022-10-04T09:59:35.004Z"
   },
   {
    "duration": 14,
    "start_time": "2022-10-04T09:59:35.811Z"
   },
   {
    "duration": 25,
    "start_time": "2022-10-04T09:59:37.940Z"
   },
   {
    "duration": 15,
    "start_time": "2022-10-04T09:59:38.186Z"
   },
   {
    "duration": 12,
    "start_time": "2022-10-04T09:59:38.758Z"
   },
   {
    "duration": 279,
    "start_time": "2022-10-04T09:59:39.380Z"
   },
   {
    "duration": 3,
    "start_time": "2022-10-04T10:11:59.647Z"
   },
   {
    "duration": 76,
    "start_time": "2022-10-04T10:11:59.963Z"
   },
   {
    "duration": 8,
    "start_time": "2022-10-04T10:12:00.968Z"
   },
   {
    "duration": 11,
    "start_time": "2022-10-04T10:12:01.652Z"
   },
   {
    "duration": 13,
    "start_time": "2022-10-04T10:12:02.701Z"
   },
   {
    "duration": 21,
    "start_time": "2022-10-04T10:12:05.268Z"
   },
   {
    "duration": 18,
    "start_time": "2022-10-04T10:12:05.885Z"
   },
   {
    "duration": 18,
    "start_time": "2022-10-04T10:12:06.369Z"
   },
   {
    "duration": 276,
    "start_time": "2022-10-04T10:12:07.278Z"
   },
   {
    "duration": 108,
    "start_time": "2022-10-04T10:12:07.597Z"
   },
   {
    "duration": 21,
    "start_time": "2022-10-04T10:12:12.116Z"
   },
   {
    "duration": 280,
    "start_time": "2022-10-04T10:13:39.337Z"
   },
   {
    "duration": 257,
    "start_time": "2022-10-04T10:13:39.736Z"
   },
   {
    "duration": 4,
    "start_time": "2022-10-04T10:14:01.895Z"
   },
   {
    "duration": 84,
    "start_time": "2022-10-04T10:14:02.327Z"
   },
   {
    "duration": 10,
    "start_time": "2022-10-04T10:14:03.244Z"
   },
   {
    "duration": 14,
    "start_time": "2022-10-04T10:14:03.831Z"
   },
   {
    "duration": 13,
    "start_time": "2022-10-04T10:14:04.619Z"
   },
   {
    "duration": 22,
    "start_time": "2022-10-04T10:14:06.325Z"
   },
   {
    "duration": 25,
    "start_time": "2022-10-04T10:14:06.568Z"
   },
   {
    "duration": 20,
    "start_time": "2022-10-04T10:14:07.054Z"
   },
   {
    "duration": 302,
    "start_time": "2022-10-04T10:14:07.575Z"
   },
   {
    "duration": 220,
    "start_time": "2022-10-04T10:14:07.879Z"
   },
   {
    "duration": 226,
    "start_time": "2022-10-04T10:14:23.626Z"
   },
   {
    "duration": 1423,
    "start_time": "2022-10-05T11:45:31.785Z"
   },
   {
    "duration": 218,
    "start_time": "2022-10-05T11:45:33.210Z"
   },
   {
    "duration": 13,
    "start_time": "2022-10-05T11:45:33.430Z"
   },
   {
    "duration": 16,
    "start_time": "2022-10-05T11:45:33.866Z"
   },
   {
    "duration": 16,
    "start_time": "2022-10-05T11:45:34.723Z"
   },
   {
    "duration": 25,
    "start_time": "2022-10-05T11:45:36.489Z"
   },
   {
    "duration": 20,
    "start_time": "2022-10-05T11:45:36.750Z"
   },
   {
    "duration": 15,
    "start_time": "2022-10-05T11:45:37.255Z"
   },
   {
    "duration": 448,
    "start_time": "2022-10-05T11:45:37.768Z"
   },
   {
    "duration": 0,
    "start_time": "2022-10-05T11:45:38.218Z"
   },
   {
    "duration": 10,
    "start_time": "2022-10-05T11:47:11.223Z"
   },
   {
    "duration": 5,
    "start_time": "2022-10-05T11:47:25.398Z"
   },
   {
    "duration": 82,
    "start_time": "2022-10-05T11:47:25.800Z"
   },
   {
    "duration": 8,
    "start_time": "2022-10-05T11:47:27.098Z"
   },
   {
    "duration": 15,
    "start_time": "2022-10-05T11:47:27.857Z"
   },
   {
    "duration": 16,
    "start_time": "2022-10-05T11:47:28.956Z"
   },
   {
    "duration": 21,
    "start_time": "2022-10-05T11:47:33.020Z"
   },
   {
    "duration": 21,
    "start_time": "2022-10-05T11:47:33.499Z"
   },
   {
    "duration": 13,
    "start_time": "2022-10-05T11:47:34.488Z"
   },
   {
    "duration": 320,
    "start_time": "2022-10-05T11:47:35.605Z"
   },
   {
    "duration": 334,
    "start_time": "2022-10-05T11:48:04.865Z"
   },
   {
    "duration": 339,
    "start_time": "2022-10-05T11:48:20.650Z"
   },
   {
    "duration": 188,
    "start_time": "2022-10-05T11:52:29.739Z"
   },
   {
    "duration": 100,
    "start_time": "2022-10-05T11:54:03.036Z"
   },
   {
    "duration": 253,
    "start_time": "2022-10-05T11:54:11.956Z"
   },
   {
    "duration": 227,
    "start_time": "2022-10-05T11:54:27.656Z"
   },
   {
    "duration": 22,
    "start_time": "2022-10-05T11:59:34.584Z"
   },
   {
    "duration": 20,
    "start_time": "2022-10-05T11:59:34.779Z"
   },
   {
    "duration": 334,
    "start_time": "2022-10-05T11:59:35.196Z"
   },
   {
    "duration": 297,
    "start_time": "2022-10-05T11:59:35.631Z"
   },
   {
    "duration": 238,
    "start_time": "2022-10-05T11:59:35.930Z"
   },
   {
    "duration": 220,
    "start_time": "2022-10-05T11:59:38.321Z"
   },
   {
    "duration": 1136,
    "start_time": "2022-10-05T12:01:43.223Z"
   },
   {
    "duration": 80,
    "start_time": "2022-10-05T12:01:44.361Z"
   },
   {
    "duration": 29,
    "start_time": "2022-10-05T12:01:44.443Z"
   },
   {
    "duration": 12,
    "start_time": "2022-10-05T12:01:44.475Z"
   },
   {
    "duration": 11,
    "start_time": "2022-10-05T12:01:44.489Z"
   },
   {
    "duration": 27,
    "start_time": "2022-10-05T12:01:44.502Z"
   },
   {
    "duration": 18,
    "start_time": "2022-10-05T12:01:44.531Z"
   },
   {
    "duration": 39,
    "start_time": "2022-10-05T12:01:44.550Z"
   },
   {
    "duration": 318,
    "start_time": "2022-10-05T12:01:44.591Z"
   },
   {
    "duration": 335,
    "start_time": "2022-10-05T12:01:44.911Z"
   },
   {
    "duration": 257,
    "start_time": "2022-10-05T12:01:45.248Z"
   },
   {
    "duration": 263,
    "start_time": "2022-10-05T12:01:58.413Z"
   },
   {
    "duration": 325,
    "start_time": "2022-10-05T12:02:08.982Z"
   },
   {
    "duration": 342,
    "start_time": "2022-10-05T12:02:40.374Z"
   },
   {
    "duration": 326,
    "start_time": "2022-10-05T12:03:02.120Z"
   },
   {
    "duration": 370,
    "start_time": "2022-10-05T12:05:33.097Z"
   },
   {
    "duration": 372,
    "start_time": "2022-10-05T12:05:44.955Z"
   },
   {
    "duration": 369,
    "start_time": "2022-10-05T12:07:53.871Z"
   },
   {
    "duration": 312,
    "start_time": "2022-10-05T12:16:26.206Z"
   },
   {
    "duration": 225,
    "start_time": "2022-10-05T12:17:45.576Z"
   },
   {
    "duration": 244,
    "start_time": "2022-10-05T12:18:37.804Z"
   },
   {
    "duration": 267,
    "start_time": "2022-10-05T12:20:01.632Z"
   },
   {
    "duration": 258,
    "start_time": "2022-10-05T12:20:54.039Z"
   },
   {
    "duration": 238,
    "start_time": "2022-10-05T12:20:56.836Z"
   },
   {
    "duration": 338,
    "start_time": "2022-10-05T12:32:50.362Z"
   },
   {
    "duration": 316,
    "start_time": "2022-10-05T12:33:05.422Z"
   },
   {
    "duration": 268,
    "start_time": "2022-10-05T12:33:47.415Z"
   },
   {
    "duration": 350,
    "start_time": "2022-10-05T12:33:50.517Z"
   },
   {
    "duration": 275,
    "start_time": "2022-10-05T12:34:00.937Z"
   },
   {
    "duration": 307,
    "start_time": "2022-10-05T12:34:05.421Z"
   },
   {
    "duration": 468,
    "start_time": "2022-10-05T12:34:09.870Z"
   },
   {
    "duration": 340,
    "start_time": "2022-10-05T12:34:43.488Z"
   },
   {
    "duration": 347,
    "start_time": "2022-10-05T12:34:58.203Z"
   },
   {
    "duration": 389,
    "start_time": "2022-10-05T12:35:21.748Z"
   },
   {
    "duration": 295,
    "start_time": "2022-10-05T12:35:31.037Z"
   },
   {
    "duration": 400,
    "start_time": "2022-10-05T12:35:43.245Z"
   },
   {
    "duration": 344,
    "start_time": "2022-10-05T12:35:50.518Z"
   },
   {
    "duration": 1216,
    "start_time": "2022-10-05T13:32:47.397Z"
   },
   {
    "duration": 82,
    "start_time": "2022-10-05T13:32:48.615Z"
   },
   {
    "duration": 12,
    "start_time": "2022-10-05T13:32:48.700Z"
   },
   {
    "duration": 19,
    "start_time": "2022-10-05T13:32:48.714Z"
   },
   {
    "duration": 30,
    "start_time": "2022-10-05T13:32:48.735Z"
   },
   {
    "duration": 40,
    "start_time": "2022-10-05T13:32:48.766Z"
   },
   {
    "duration": 35,
    "start_time": "2022-10-05T13:32:48.808Z"
   },
   {
    "duration": 28,
    "start_time": "2022-10-05T13:32:48.845Z"
   },
   {
    "duration": 345,
    "start_time": "2022-10-05T13:32:48.875Z"
   },
   {
    "duration": 329,
    "start_time": "2022-10-05T13:32:49.222Z"
   },
   {
    "duration": 236,
    "start_time": "2022-10-05T13:32:49.553Z"
   },
   {
    "duration": 376,
    "start_time": "2022-10-05T13:32:49.791Z"
   },
   {
    "duration": 297,
    "start_time": "2022-10-05T13:32:50.169Z"
   },
   {
    "duration": 256,
    "start_time": "2022-10-05T13:32:50.469Z"
   },
   {
    "duration": 351,
    "start_time": "2022-10-05T13:33:14.180Z"
   },
   {
    "duration": 334,
    "start_time": "2022-10-05T13:34:32.805Z"
   },
   {
    "duration": 441,
    "start_time": "2022-10-05T13:34:50.421Z"
   },
   {
    "duration": 318,
    "start_time": "2022-10-05T13:34:56.356Z"
   },
   {
    "duration": 9,
    "start_time": "2022-10-05T13:42:49.537Z"
   },
   {
    "duration": 23,
    "start_time": "2022-10-05T13:45:59.287Z"
   },
   {
    "duration": 226,
    "start_time": "2022-10-05T13:46:26.090Z"
   },
   {
    "duration": 143,
    "start_time": "2022-10-05T13:47:24.652Z"
   },
   {
    "duration": 188,
    "start_time": "2022-10-05T13:47:41.969Z"
   },
   {
    "duration": 166,
    "start_time": "2022-10-05T13:49:04.538Z"
   },
   {
    "duration": 5,
    "start_time": "2022-10-05T13:56:32.772Z"
   },
   {
    "duration": 11,
    "start_time": "2022-10-05T13:57:29.520Z"
   },
   {
    "duration": 1598,
    "start_time": "2022-10-05T13:57:48.931Z"
   },
   {
    "duration": 7,
    "start_time": "2022-10-05T13:58:05.040Z"
   },
   {
    "duration": 4,
    "start_time": "2022-10-05T13:58:15.670Z"
   },
   {
    "duration": 156,
    "start_time": "2022-10-05T13:58:52.369Z"
   },
   {
    "duration": 6,
    "start_time": "2022-10-05T13:59:22.129Z"
   },
   {
    "duration": 4,
    "start_time": "2022-10-05T13:59:28.953Z"
   },
   {
    "duration": 85,
    "start_time": "2022-10-05T14:04:56.854Z"
   },
   {
    "duration": 102,
    "start_time": "2022-10-05T14:05:00.925Z"
   },
   {
    "duration": 5,
    "start_time": "2022-10-05T14:09:44.436Z"
   },
   {
    "duration": 90,
    "start_time": "2022-10-05T14:09:45.040Z"
   },
   {
    "duration": 16,
    "start_time": "2022-10-05T14:09:47.375Z"
   },
   {
    "duration": 12,
    "start_time": "2022-10-05T14:09:48.286Z"
   },
   {
    "duration": 11,
    "start_time": "2022-10-05T14:09:49.934Z"
   },
   {
    "duration": 24,
    "start_time": "2022-10-05T14:09:53.537Z"
   },
   {
    "duration": 18,
    "start_time": "2022-10-05T14:09:54.018Z"
   },
   {
    "duration": 16,
    "start_time": "2022-10-05T14:09:54.913Z"
   },
   {
    "duration": 311,
    "start_time": "2022-10-05T14:09:55.718Z"
   },
   {
    "duration": 226,
    "start_time": "2022-10-05T14:09:56.161Z"
   },
   {
    "duration": 265,
    "start_time": "2022-10-05T14:09:57.683Z"
   },
   {
    "duration": 326,
    "start_time": "2022-10-05T14:09:58.913Z"
   },
   {
    "duration": 264,
    "start_time": "2022-10-05T14:10:01.333Z"
   },
   {
    "duration": 382,
    "start_time": "2022-10-05T14:10:02.866Z"
   },
   {
    "duration": 157,
    "start_time": "2022-10-05T14:10:05.952Z"
   },
   {
    "duration": 4,
    "start_time": "2022-10-05T14:10:08.569Z"
   },
   {
    "duration": 9,
    "start_time": "2022-10-05T14:16:01.708Z"
   },
   {
    "duration": 11,
    "start_time": "2022-10-05T14:16:45.803Z"
   },
   {
    "duration": 11,
    "start_time": "2022-10-05T14:16:51.650Z"
   },
   {
    "duration": 145,
    "start_time": "2022-10-05T14:16:58.301Z"
   },
   {
    "duration": 159,
    "start_time": "2022-10-05T14:18:38.057Z"
   },
   {
    "duration": 257,
    "start_time": "2022-10-05T14:18:54.002Z"
   },
   {
    "duration": 182,
    "start_time": "2022-10-05T14:21:22.026Z"
   },
   {
    "duration": 197,
    "start_time": "2022-10-05T14:21:51.562Z"
   },
   {
    "duration": 191,
    "start_time": "2022-10-05T14:22:25.781Z"
   },
   {
    "duration": 184,
    "start_time": "2022-10-05T14:22:34.025Z"
   },
   {
    "duration": 162,
    "start_time": "2022-10-05T14:22:44.767Z"
   },
   {
    "duration": 153,
    "start_time": "2022-10-05T14:22:56.216Z"
   },
   {
    "duration": 200,
    "start_time": "2022-10-05T14:23:01.933Z"
   },
   {
    "duration": 178,
    "start_time": "2022-10-05T14:23:07.584Z"
   },
   {
    "duration": 221,
    "start_time": "2022-10-05T14:23:12.035Z"
   },
   {
    "duration": 172,
    "start_time": "2022-10-05T14:23:27.566Z"
   },
   {
    "duration": 170,
    "start_time": "2022-10-05T14:23:33.841Z"
   },
   {
    "duration": 167,
    "start_time": "2022-10-05T14:23:39.603Z"
   },
   {
    "duration": 145,
    "start_time": "2022-10-05T14:23:49.342Z"
   },
   {
    "duration": 148,
    "start_time": "2022-10-05T14:23:55.317Z"
   },
   {
    "duration": 156,
    "start_time": "2022-10-05T14:24:10.071Z"
   },
   {
    "duration": 164,
    "start_time": "2022-10-05T14:25:04.013Z"
   },
   {
    "duration": 292,
    "start_time": "2022-10-05T14:25:17.835Z"
   },
   {
    "duration": 175,
    "start_time": "2022-10-05T14:25:25.627Z"
   },
   {
    "duration": 162,
    "start_time": "2022-10-05T14:25:42.502Z"
   },
   {
    "duration": 179,
    "start_time": "2022-10-05T14:25:50.766Z"
   },
   {
    "duration": 175,
    "start_time": "2022-10-05T14:25:58.043Z"
   },
   {
    "duration": 172,
    "start_time": "2022-10-05T14:26:03.014Z"
   },
   {
    "duration": 175,
    "start_time": "2022-10-05T14:26:13.376Z"
   },
   {
    "duration": 167,
    "start_time": "2022-10-05T14:26:17.713Z"
   },
   {
    "duration": 175,
    "start_time": "2022-10-05T14:26:22.434Z"
   },
   {
    "duration": 203,
    "start_time": "2022-10-05T14:26:28.450Z"
   },
   {
    "duration": 173,
    "start_time": "2022-10-05T14:26:39.003Z"
   },
   {
    "duration": 218,
    "start_time": "2022-10-05T14:27:11.774Z"
   },
   {
    "duration": 173,
    "start_time": "2022-10-05T14:27:21.133Z"
   },
   {
    "duration": 169,
    "start_time": "2022-10-05T14:27:33.059Z"
   },
   {
    "duration": 4,
    "start_time": "2022-10-05T14:34:59.566Z"
   },
   {
    "duration": 148,
    "start_time": "2022-10-05T14:35:38.431Z"
   },
   {
    "duration": 0,
    "start_time": "2022-10-05T14:35:49.045Z"
   },
   {
    "duration": 1616,
    "start_time": "2022-10-05T14:36:01.989Z"
   },
   {
    "duration": 81,
    "start_time": "2022-10-05T14:36:03.608Z"
   },
   {
    "duration": 12,
    "start_time": "2022-10-05T14:36:03.690Z"
   },
   {
    "duration": 11,
    "start_time": "2022-10-05T14:36:03.703Z"
   },
   {
    "duration": 10,
    "start_time": "2022-10-05T14:36:03.716Z"
   },
   {
    "duration": 23,
    "start_time": "2022-10-05T14:36:03.727Z"
   },
   {
    "duration": 44,
    "start_time": "2022-10-05T14:36:03.752Z"
   },
   {
    "duration": 12,
    "start_time": "2022-10-05T14:36:03.798Z"
   },
   {
    "duration": 307,
    "start_time": "2022-10-05T14:36:03.812Z"
   },
   {
    "duration": 302,
    "start_time": "2022-10-05T14:36:04.120Z"
   },
   {
    "duration": 219,
    "start_time": "2022-10-05T14:36:04.424Z"
   },
   {
    "duration": 332,
    "start_time": "2022-10-05T14:36:04.644Z"
   },
   {
    "duration": 251,
    "start_time": "2022-10-05T14:36:04.977Z"
   },
   {
    "duration": 326,
    "start_time": "2022-10-05T14:36:05.231Z"
   },
   {
    "duration": 164,
    "start_time": "2022-10-05T14:36:05.559Z"
   },
   {
    "duration": 4,
    "start_time": "2022-10-05T14:36:05.724Z"
   },
   {
    "duration": 177,
    "start_time": "2022-10-05T14:36:05.730Z"
   },
   {
    "duration": 5160,
    "start_time": "2022-10-05T14:36:05.908Z"
   },
   {
    "duration": 9,
    "start_time": "2022-10-05T14:40:38.127Z"
   },
   {
    "duration": 10,
    "start_time": "2022-10-05T14:41:45.361Z"
   },
   {
    "duration": 4,
    "start_time": "2022-10-05T14:41:53.143Z"
   },
   {
    "duration": 14,
    "start_time": "2022-10-05T14:52:26.858Z"
   },
   {
    "duration": 210,
    "start_time": "2022-10-05T14:52:36.411Z"
   },
   {
    "duration": 13,
    "start_time": "2022-10-05T14:52:42.524Z"
   },
   {
    "duration": 288,
    "start_time": "2022-10-05T14:52:47.127Z"
   },
   {
    "duration": 176,
    "start_time": "2022-10-05T16:19:23.588Z"
   },
   {
    "duration": 10,
    "start_time": "2022-10-05T16:51:35.756Z"
   },
   {
    "duration": 1227,
    "start_time": "2022-10-05T16:52:40.851Z"
   },
   {
    "duration": 31,
    "start_time": "2022-10-05T16:54:21.785Z"
   },
   {
    "duration": 173,
    "start_time": "2022-10-05T16:56:32.414Z"
   },
   {
    "duration": 20,
    "start_time": "2022-10-05T16:58:17.247Z"
   },
   {
    "duration": 49,
    "start_time": "2022-10-05T17:16:01.042Z"
   },
   {
    "duration": 68,
    "start_time": "2022-10-05T17:18:10.409Z"
   },
   {
    "duration": 71,
    "start_time": "2022-10-05T17:18:42.642Z"
   },
   {
    "duration": 57,
    "start_time": "2022-10-05T17:19:43.394Z"
   },
   {
    "duration": 58,
    "start_time": "2022-10-05T17:20:24.489Z"
   },
   {
    "duration": 65,
    "start_time": "2022-10-05T17:21:05.943Z"
   },
   {
    "duration": 60,
    "start_time": "2022-10-05T17:21:23.750Z"
   },
   {
    "duration": 103,
    "start_time": "2022-10-05T17:21:45.475Z"
   },
   {
    "duration": 129,
    "start_time": "2022-10-05T17:22:02.292Z"
   },
   {
    "duration": 104,
    "start_time": "2022-10-05T17:22:04.908Z"
   },
   {
    "duration": 115,
    "start_time": "2022-10-05T17:22:39.433Z"
   },
   {
    "duration": 130,
    "start_time": "2022-10-05T17:23:55.250Z"
   },
   {
    "duration": 98,
    "start_time": "2022-10-05T17:23:55.550Z"
   },
   {
    "duration": 21,
    "start_time": "2022-10-05T17:25:52.207Z"
   },
   {
    "duration": 22,
    "start_time": "2022-10-05T17:25:55.623Z"
   },
   {
    "duration": 21,
    "start_time": "2022-10-05T17:26:27.173Z"
   },
   {
    "duration": 44,
    "start_time": "2022-10-05T17:30:19.560Z"
   },
   {
    "duration": 172,
    "start_time": "2022-10-05T17:30:32.657Z"
   },
   {
    "duration": 20,
    "start_time": "2022-10-05T17:34:07.859Z"
   },
   {
    "duration": 19,
    "start_time": "2022-10-05T17:34:57.258Z"
   },
   {
    "duration": 136,
    "start_time": "2022-10-05T17:35:16.315Z"
   },
   {
    "duration": 45,
    "start_time": "2022-10-05T17:47:28.908Z"
   },
   {
    "duration": 29,
    "start_time": "2022-10-05T17:47:48.536Z"
   },
   {
    "duration": 25,
    "start_time": "2022-10-05T17:48:38.516Z"
   },
   {
    "duration": 88,
    "start_time": "2022-10-05T17:49:18.669Z"
   },
   {
    "duration": 22,
    "start_time": "2022-10-05T17:53:59.467Z"
   },
   {
    "duration": 24,
    "start_time": "2022-10-05T17:54:08.799Z"
   },
   {
    "duration": 99,
    "start_time": "2022-10-05T17:56:59.150Z"
   },
   {
    "duration": 110,
    "start_time": "2022-10-05T17:56:59.362Z"
   },
   {
    "duration": 20,
    "start_time": "2022-10-05T17:56:59.582Z"
   },
   {
    "duration": 147,
    "start_time": "2022-10-05T17:56:59.891Z"
   },
   {
    "duration": 26,
    "start_time": "2022-10-05T17:57:00.110Z"
   },
   {
    "duration": 77,
    "start_time": "2022-10-05T17:57:13.080Z"
   },
   {
    "duration": 35,
    "start_time": "2022-10-05T17:57:24.248Z"
   },
   {
    "duration": 24,
    "start_time": "2022-10-05T17:57:33.186Z"
   },
   {
    "duration": 115,
    "start_time": "2022-10-05T17:59:49.646Z"
   },
   {
    "duration": 32,
    "start_time": "2022-10-05T18:00:52.038Z"
   },
   {
    "duration": 2,
    "start_time": "2022-10-05T18:01:55.088Z"
   },
   {
    "duration": 195,
    "start_time": "2022-10-05T18:02:10.817Z"
   },
   {
    "duration": 45,
    "start_time": "2022-10-05T18:02:12.306Z"
   },
   {
    "duration": 12,
    "start_time": "2022-10-05T18:07:28.032Z"
   },
   {
    "duration": 114,
    "start_time": "2022-10-05T18:16:02.887Z"
   },
   {
    "duration": 112,
    "start_time": "2022-10-05T18:16:03.095Z"
   },
   {
    "duration": 27,
    "start_time": "2022-10-05T18:16:03.313Z"
   },
   {
    "duration": 138,
    "start_time": "2022-10-05T18:16:03.511Z"
   },
   {
    "duration": 25,
    "start_time": "2022-10-05T18:16:03.733Z"
   },
   {
    "duration": 11,
    "start_time": "2022-10-05T18:16:04.842Z"
   },
   {
    "duration": 78,
    "start_time": "2022-10-05T18:16:34.524Z"
   },
   {
    "duration": 100,
    "start_time": "2022-10-05T18:16:50.634Z"
   },
   {
    "duration": 99,
    "start_time": "2022-10-05T18:16:50.863Z"
   },
   {
    "duration": 22,
    "start_time": "2022-10-05T18:16:51.079Z"
   },
   {
    "duration": 136,
    "start_time": "2022-10-05T18:16:51.332Z"
   },
   {
    "duration": 24,
    "start_time": "2022-10-05T18:16:51.563Z"
   },
   {
    "duration": 13,
    "start_time": "2022-10-05T18:16:54.086Z"
   },
   {
    "duration": 1282,
    "start_time": "2022-10-05T18:18:49.500Z"
   },
   {
    "duration": 1134,
    "start_time": "2022-10-05T18:19:12.949Z"
   },
   {
    "duration": 1158,
    "start_time": "2022-10-05T18:19:33.948Z"
   },
   {
    "duration": 1227,
    "start_time": "2022-10-05T18:19:52.540Z"
   },
   {
    "duration": 1205,
    "start_time": "2022-10-05T18:21:25.734Z"
   },
   {
    "duration": 3,
    "start_time": "2022-10-05T18:21:45.307Z"
   },
   {
    "duration": 80,
    "start_time": "2022-10-05T18:21:45.534Z"
   },
   {
    "duration": 8,
    "start_time": "2022-10-05T18:21:46.220Z"
   },
   {
    "duration": 15,
    "start_time": "2022-10-05T18:21:46.608Z"
   },
   {
    "duration": 11,
    "start_time": "2022-10-05T18:21:47.340Z"
   },
   {
    "duration": 18,
    "start_time": "2022-10-05T18:21:48.862Z"
   },
   {
    "duration": 23,
    "start_time": "2022-10-05T18:21:49.062Z"
   },
   {
    "duration": 20,
    "start_time": "2022-10-05T18:21:49.555Z"
   },
   {
    "duration": 306,
    "start_time": "2022-10-05T18:21:50.120Z"
   },
   {
    "duration": 223,
    "start_time": "2022-10-05T18:21:50.428Z"
   },
   {
    "duration": 240,
    "start_time": "2022-10-05T18:21:51.621Z"
   },
   {
    "duration": 299,
    "start_time": "2022-10-05T18:21:52.714Z"
   },
   {
    "duration": 253,
    "start_time": "2022-10-05T18:21:53.589Z"
   },
   {
    "duration": 353,
    "start_time": "2022-10-05T18:21:54.381Z"
   },
   {
    "duration": 154,
    "start_time": "2022-10-05T18:21:55.153Z"
   },
   {
    "duration": 4,
    "start_time": "2022-10-05T18:21:56.022Z"
   },
   {
    "duration": 161,
    "start_time": "2022-10-05T18:21:56.786Z"
   },
   {
    "duration": 4,
    "start_time": "2022-10-05T18:21:57.523Z"
   },
   {
    "duration": 100,
    "start_time": "2022-10-05T18:21:58.455Z"
   },
   {
    "duration": 96,
    "start_time": "2022-10-05T18:21:58.664Z"
   },
   {
    "duration": 22,
    "start_time": "2022-10-05T18:21:59.122Z"
   },
   {
    "duration": 144,
    "start_time": "2022-10-05T18:21:59.522Z"
   },
   {
    "duration": 25,
    "start_time": "2022-10-05T18:22:00.137Z"
   },
   {
    "duration": 15,
    "start_time": "2022-10-05T18:22:02.090Z"
   },
   {
    "duration": 1203,
    "start_time": "2022-10-05T18:22:04.723Z"
   },
   {
    "duration": 9,
    "start_time": "2022-10-05T18:22:39.401Z"
   },
   {
    "duration": 10,
    "start_time": "2022-10-05T18:22:50.189Z"
   },
   {
    "duration": 13,
    "start_time": "2022-10-05T18:23:34.824Z"
   },
   {
    "duration": 12,
    "start_time": "2022-10-05T18:24:19.496Z"
   },
   {
    "duration": 11,
    "start_time": "2022-10-05T18:24:32.870Z"
   },
   {
    "duration": 10,
    "start_time": "2022-10-05T18:24:39.022Z"
   },
   {
    "duration": 9,
    "start_time": "2022-10-05T18:25:25.473Z"
   },
   {
    "duration": 25,
    "start_time": "2022-10-05T18:26:49.024Z"
   },
   {
    "duration": 1310,
    "start_time": "2022-10-05T18:41:26.489Z"
   },
   {
    "duration": 10,
    "start_time": "2022-10-05T18:41:57.673Z"
   },
   {
    "duration": 1366,
    "start_time": "2022-10-05T18:42:21.957Z"
   },
   {
    "duration": 15,
    "start_time": "2022-10-05T18:42:44.891Z"
   },
   {
    "duration": 1068,
    "start_time": "2022-10-05T19:14:45.231Z"
   },
   {
    "duration": 80,
    "start_time": "2022-10-05T19:14:46.301Z"
   },
   {
    "duration": 17,
    "start_time": "2022-10-05T19:14:46.383Z"
   },
   {
    "duration": 17,
    "start_time": "2022-10-05T19:14:46.402Z"
   },
   {
    "duration": 12,
    "start_time": "2022-10-05T19:14:46.422Z"
   },
   {
    "duration": 20,
    "start_time": "2022-10-05T19:14:46.436Z"
   },
   {
    "duration": 48,
    "start_time": "2022-10-05T19:14:46.457Z"
   },
   {
    "duration": 14,
    "start_time": "2022-10-05T19:14:46.506Z"
   },
   {
    "duration": 335,
    "start_time": "2022-10-05T19:14:46.522Z"
   },
   {
    "duration": 322,
    "start_time": "2022-10-05T19:14:46.859Z"
   },
   {
    "duration": 240,
    "start_time": "2022-10-05T19:14:47.183Z"
   },
   {
    "duration": 316,
    "start_time": "2022-10-05T19:14:47.424Z"
   },
   {
    "duration": 253,
    "start_time": "2022-10-05T19:14:47.742Z"
   },
   {
    "duration": 366,
    "start_time": "2022-10-05T19:14:47.998Z"
   },
   {
    "duration": 168,
    "start_time": "2022-10-05T19:14:48.366Z"
   },
   {
    "duration": 6,
    "start_time": "2022-10-05T19:14:48.536Z"
   },
   {
    "duration": 202,
    "start_time": "2022-10-05T19:14:48.543Z"
   },
   {
    "duration": 4,
    "start_time": "2022-10-05T19:14:48.747Z"
   },
   {
    "duration": 123,
    "start_time": "2022-10-05T19:14:48.753Z"
   },
   {
    "duration": 128,
    "start_time": "2022-10-05T19:14:48.878Z"
   },
   {
    "duration": 41,
    "start_time": "2022-10-05T19:14:49.009Z"
   },
   {
    "duration": 218,
    "start_time": "2022-10-05T19:14:49.052Z"
   },
   {
    "duration": 46,
    "start_time": "2022-10-05T19:14:49.272Z"
   },
   {
    "duration": 15,
    "start_time": "2022-10-05T19:14:49.320Z"
   },
   {
    "duration": 11,
    "start_time": "2022-10-05T19:14:49.337Z"
   },
   {
    "duration": 37,
    "start_time": "2022-10-05T19:14:49.352Z"
   },
   {
    "duration": 30,
    "start_time": "2022-10-05T19:14:49.391Z"
   },
   {
    "duration": 16,
    "start_time": "2022-10-05T19:14:49.423Z"
   },
   {
    "duration": 4,
    "start_time": "2022-10-05T19:25:05.746Z"
   },
   {
    "duration": 77,
    "start_time": "2022-10-05T19:25:06.116Z"
   },
   {
    "duration": 8,
    "start_time": "2022-10-05T19:25:07.064Z"
   },
   {
    "duration": 12,
    "start_time": "2022-10-05T19:25:07.922Z"
   },
   {
    "duration": 14,
    "start_time": "2022-10-05T19:25:08.281Z"
   },
   {
    "duration": 19,
    "start_time": "2022-10-05T19:25:09.916Z"
   },
   {
    "duration": 20,
    "start_time": "2022-10-05T19:25:10.103Z"
   },
   {
    "duration": 14,
    "start_time": "2022-10-05T19:25:10.546Z"
   },
   {
    "duration": 322,
    "start_time": "2022-10-05T19:25:11.015Z"
   },
   {
    "duration": 249,
    "start_time": "2022-10-05T19:25:11.382Z"
   },
   {
    "duration": 315,
    "start_time": "2022-10-05T19:25:12.032Z"
   },
   {
    "duration": 342,
    "start_time": "2022-10-05T19:25:12.675Z"
   },
   {
    "duration": 233,
    "start_time": "2022-10-05T19:25:13.306Z"
   },
   {
    "duration": 312,
    "start_time": "2022-10-05T19:25:14.248Z"
   },
   {
    "duration": 148,
    "start_time": "2022-10-05T19:25:14.839Z"
   },
   {
    "duration": 4,
    "start_time": "2022-10-05T19:25:15.483Z"
   },
   {
    "duration": 151,
    "start_time": "2022-10-05T19:25:16.098Z"
   },
   {
    "duration": 5,
    "start_time": "2022-10-05T19:25:16.764Z"
   },
   {
    "duration": 108,
    "start_time": "2022-10-05T19:25:17.598Z"
   },
   {
    "duration": 101,
    "start_time": "2022-10-05T19:25:17.807Z"
   },
   {
    "duration": 23,
    "start_time": "2022-10-05T19:25:18.023Z"
   },
   {
    "duration": 154,
    "start_time": "2022-10-05T19:25:18.258Z"
   },
   {
    "duration": 26,
    "start_time": "2022-10-05T19:25:18.470Z"
   },
   {
    "duration": 11,
    "start_time": "2022-10-05T19:25:19.530Z"
   },
   {
    "duration": 9,
    "start_time": "2022-10-05T19:25:20.474Z"
   },
   {
    "duration": 8,
    "start_time": "2022-10-05T19:25:20.706Z"
   },
   {
    "duration": 29,
    "start_time": "2022-10-05T19:25:20.982Z"
   },
   {
    "duration": 15,
    "start_time": "2022-10-05T19:25:22.212Z"
   },
   {
    "duration": 1115,
    "start_time": "2022-10-06T18:48:40.265Z"
   },
   {
    "duration": 78,
    "start_time": "2022-10-06T18:48:41.382Z"
   },
   {
    "duration": 14,
    "start_time": "2022-10-06T18:48:41.462Z"
   },
   {
    "duration": 13,
    "start_time": "2022-10-06T18:48:41.478Z"
   },
   {
    "duration": 12,
    "start_time": "2022-10-06T18:48:41.493Z"
   },
   {
    "duration": 23,
    "start_time": "2022-10-06T18:48:41.507Z"
   },
   {
    "duration": 16,
    "start_time": "2022-10-06T18:48:41.532Z"
   },
   {
    "duration": 43,
    "start_time": "2022-10-06T18:48:41.550Z"
   },
   {
    "duration": 337,
    "start_time": "2022-10-06T18:48:41.595Z"
   },
   {
    "duration": 327,
    "start_time": "2022-10-06T18:48:41.935Z"
   },
   {
    "duration": 213,
    "start_time": "2022-10-06T18:48:42.264Z"
   },
   {
    "duration": 339,
    "start_time": "2022-10-06T18:48:42.479Z"
   },
   {
    "duration": 243,
    "start_time": "2022-10-06T18:48:42.820Z"
   },
   {
    "duration": 341,
    "start_time": "2022-10-06T18:48:43.065Z"
   },
   {
    "duration": 163,
    "start_time": "2022-10-06T18:48:43.408Z"
   },
   {
    "duration": 4,
    "start_time": "2022-10-06T18:48:43.573Z"
   },
   {
    "duration": 167,
    "start_time": "2022-10-06T18:48:43.578Z"
   },
   {
    "duration": 5,
    "start_time": "2022-10-06T18:48:43.746Z"
   },
   {
    "duration": 106,
    "start_time": "2022-10-06T18:48:43.752Z"
   },
   {
    "duration": 106,
    "start_time": "2022-10-06T18:48:43.860Z"
   },
   {
    "duration": 34,
    "start_time": "2022-10-06T18:48:43.967Z"
   },
   {
    "duration": 143,
    "start_time": "2022-10-06T18:48:44.002Z"
   },
   {
    "duration": 24,
    "start_time": "2022-10-06T18:48:44.147Z"
   },
   {
    "duration": 28,
    "start_time": "2022-10-06T18:48:44.173Z"
   },
   {
    "duration": 9,
    "start_time": "2022-10-06T18:48:44.202Z"
   },
   {
    "duration": 8,
    "start_time": "2022-10-06T18:48:44.213Z"
   },
   {
    "duration": 24,
    "start_time": "2022-10-06T18:48:44.223Z"
   },
   {
    "duration": 40,
    "start_time": "2022-10-06T18:48:44.249Z"
   },
   {
    "duration": 1422,
    "start_time": "2022-10-06T19:36:26.120Z"
   },
   {
    "duration": 192,
    "start_time": "2022-10-06T19:36:27.544Z"
   },
   {
    "duration": 16,
    "start_time": "2022-10-06T19:36:27.738Z"
   },
   {
    "duration": 15,
    "start_time": "2022-10-06T19:36:28.170Z"
   },
   {
    "duration": 14,
    "start_time": "2022-10-06T19:36:28.969Z"
   },
   {
    "duration": 21,
    "start_time": "2022-10-06T19:36:31.072Z"
   },
   {
    "duration": 22,
    "start_time": "2022-10-06T19:36:31.314Z"
   },
   {
    "duration": 13,
    "start_time": "2022-10-06T19:36:31.794Z"
   },
   {
    "duration": 323,
    "start_time": "2022-10-06T19:36:33.777Z"
   },
   {
    "duration": 334,
    "start_time": "2022-10-06T19:36:34.102Z"
   },
   {
    "duration": 199,
    "start_time": "2022-10-06T19:36:35.836Z"
   },
   {
    "duration": 391,
    "start_time": "2022-10-06T19:36:37.281Z"
   },
   {
    "duration": 315,
    "start_time": "2022-10-06T19:36:47.270Z"
   },
   {
    "duration": 221,
    "start_time": "2022-10-06T19:36:52.603Z"
   },
   {
    "duration": 347,
    "start_time": "2022-10-06T19:36:58.595Z"
   },
   {
    "duration": 149,
    "start_time": "2022-10-06T19:37:05.053Z"
   },
   {
    "duration": 182,
    "start_time": "2022-10-06T19:37:10.234Z"
   },
   {
    "duration": 163,
    "start_time": "2022-10-06T19:38:13.888Z"
   },
   {
    "duration": 191,
    "start_time": "2022-10-06T19:38:43.354Z"
   },
   {
    "duration": 178,
    "start_time": "2022-10-06T19:39:13.306Z"
   },
   {
    "duration": 147,
    "start_time": "2022-10-06T19:39:20.003Z"
   },
   {
    "duration": 131,
    "start_time": "2022-10-06T19:39:27.471Z"
   },
   {
    "duration": 158,
    "start_time": "2022-10-06T19:39:38.037Z"
   },
   {
    "duration": 64,
    "start_time": "2022-10-06T19:40:39.570Z"
   },
   {
    "duration": 3,
    "start_time": "2022-10-06T19:43:02.483Z"
   },
   {
    "duration": 86,
    "start_time": "2022-10-06T19:43:02.900Z"
   },
   {
    "duration": 8,
    "start_time": "2022-10-06T19:43:03.952Z"
   },
   {
    "duration": 9,
    "start_time": "2022-10-06T19:43:04.752Z"
   },
   {
    "duration": 11,
    "start_time": "2022-10-06T19:43:05.435Z"
   },
   {
    "duration": 17,
    "start_time": "2022-10-06T19:43:07.378Z"
   },
   {
    "duration": 17,
    "start_time": "2022-10-06T19:43:07.629Z"
   },
   {
    "duration": 13,
    "start_time": "2022-10-06T19:43:08.071Z"
   },
   {
    "duration": 297,
    "start_time": "2022-10-06T19:43:09.044Z"
   },
   {
    "duration": 215,
    "start_time": "2022-10-06T19:43:09.342Z"
   },
   {
    "duration": 228,
    "start_time": "2022-10-06T19:43:10.401Z"
   },
   {
    "duration": 316,
    "start_time": "2022-10-06T19:43:11.342Z"
   },
   {
    "duration": 228,
    "start_time": "2022-10-06T19:43:12.044Z"
   },
   {
    "duration": 45,
    "start_time": "2022-10-06T19:43:33.036Z"
   },
   {
    "duration": 4,
    "start_time": "2022-10-06T19:47:45.690Z"
   },
   {
    "duration": 72,
    "start_time": "2022-10-06T19:47:46.422Z"
   },
   {
    "duration": 8,
    "start_time": "2022-10-06T19:47:47.238Z"
   },
   {
    "duration": 14,
    "start_time": "2022-10-06T19:47:47.725Z"
   },
   {
    "duration": 12,
    "start_time": "2022-10-06T19:47:48.427Z"
   },
   {
    "duration": 31,
    "start_time": "2022-10-06T19:47:50.372Z"
   },
   {
    "duration": 15,
    "start_time": "2022-10-06T19:47:50.632Z"
   },
   {
    "duration": 30,
    "start_time": "2022-10-06T19:47:51.102Z"
   },
   {
    "duration": 313,
    "start_time": "2022-10-06T19:47:51.785Z"
   },
   {
    "duration": 294,
    "start_time": "2022-10-06T19:47:52.100Z"
   },
   {
    "duration": 219,
    "start_time": "2022-10-06T19:47:53.508Z"
   },
   {
    "duration": 341,
    "start_time": "2022-10-06T19:47:54.433Z"
   },
   {
    "duration": 240,
    "start_time": "2022-10-06T19:47:55.190Z"
   },
   {
    "duration": 278,
    "start_time": "2022-10-06T19:47:59.769Z"
   },
   {
    "duration": 140,
    "start_time": "2022-10-06T19:48:00.855Z"
   },
   {
    "duration": 4,
    "start_time": "2022-10-06T19:48:01.556Z"
   },
   {
    "duration": 160,
    "start_time": "2022-10-06T19:48:02.325Z"
   },
   {
    "duration": 142,
    "start_time": "2022-10-06T19:48:02.857Z"
   },
   {
    "duration": 4,
    "start_time": "2022-10-06T19:48:08.672Z"
   },
   {
    "duration": 107,
    "start_time": "2022-10-06T19:48:10.021Z"
   },
   {
    "duration": 106,
    "start_time": "2022-10-06T19:48:10.281Z"
   },
   {
    "duration": 34,
    "start_time": "2022-10-06T19:48:10.789Z"
   },
   {
    "duration": 151,
    "start_time": "2022-10-06T19:48:11.439Z"
   },
   {
    "duration": 21,
    "start_time": "2022-10-06T19:48:12.054Z"
   },
   {
    "duration": 23,
    "start_time": "2022-10-06T19:48:13.600Z"
   },
   {
    "duration": 13,
    "start_time": "2022-10-06T19:48:16.106Z"
   },
   {
    "duration": 8,
    "start_time": "2022-10-06T19:48:16.631Z"
   },
   {
    "duration": 21,
    "start_time": "2022-10-06T19:48:17.360Z"
   },
   {
    "duration": 13,
    "start_time": "2022-10-06T19:48:18.333Z"
   },
   {
    "duration": 9,
    "start_time": "2022-10-06T19:53:32.682Z"
   },
   {
    "duration": 8,
    "start_time": "2022-10-06T19:53:36.155Z"
   },
   {
    "duration": 1317,
    "start_time": "2022-10-06T20:02:47.256Z"
   },
   {
    "duration": 7,
    "start_time": "2022-10-06T20:03:14.871Z"
   },
   {
    "duration": 6,
    "start_time": "2022-10-06T20:04:19.240Z"
   },
   {
    "duration": 7,
    "start_time": "2022-10-06T20:13:06.974Z"
   },
   {
    "duration": 6,
    "start_time": "2022-10-06T20:13:08.373Z"
   },
   {
    "duration": 5,
    "start_time": "2022-10-06T20:13:44.157Z"
   },
   {
    "duration": 7,
    "start_time": "2022-10-06T20:13:51.571Z"
   },
   {
    "duration": 5,
    "start_time": "2022-10-06T20:13:57.754Z"
   },
   {
    "duration": 8,
    "start_time": "2022-10-06T20:14:03.990Z"
   },
   {
    "duration": 4,
    "start_time": "2022-10-06T20:14:20.756Z"
   },
   {
    "duration": 15,
    "start_time": "2022-10-06T20:15:27.306Z"
   },
   {
    "duration": 16,
    "start_time": "2022-10-06T20:15:27.706Z"
   },
   {
    "duration": 5,
    "start_time": "2022-10-06T20:15:28.123Z"
   },
   {
    "duration": 5,
    "start_time": "2022-10-06T20:17:36.854Z"
   },
   {
    "duration": 84,
    "start_time": "2022-10-06T20:17:37.338Z"
   },
   {
    "duration": 11,
    "start_time": "2022-10-06T20:17:38.428Z"
   },
   {
    "duration": 13,
    "start_time": "2022-10-06T20:17:39.025Z"
   },
   {
    "duration": 10,
    "start_time": "2022-10-06T20:17:40.567Z"
   },
   {
    "duration": 20,
    "start_time": "2022-10-06T20:17:42.425Z"
   },
   {
    "duration": 16,
    "start_time": "2022-10-06T20:17:42.660Z"
   },
   {
    "duration": 11,
    "start_time": "2022-10-06T20:17:43.333Z"
   },
   {
    "duration": 7,
    "start_time": "2022-10-06T20:17:43.751Z"
   },
   {
    "duration": 5,
    "start_time": "2022-10-06T20:17:44.302Z"
   },
   {
    "duration": 5,
    "start_time": "2022-10-06T20:17:44.830Z"
   },
   {
    "duration": 22,
    "start_time": "2022-10-06T20:18:20.498Z"
   },
   {
    "duration": 6,
    "start_time": "2022-10-06T20:18:32.056Z"
   },
   {
    "duration": 586,
    "start_time": "2022-10-06T20:22:45.836Z"
   },
   {
    "duration": 12,
    "start_time": "2022-10-06T20:23:12.171Z"
   },
   {
    "duration": 13,
    "start_time": "2022-10-06T20:23:19.655Z"
   },
   {
    "duration": 4,
    "start_time": "2022-10-06T20:23:33.869Z"
   },
   {
    "duration": 84,
    "start_time": "2022-10-06T20:23:34.286Z"
   },
   {
    "duration": 10,
    "start_time": "2022-10-06T20:23:34.963Z"
   },
   {
    "duration": 20,
    "start_time": "2022-10-06T20:23:35.469Z"
   },
   {
    "duration": 9,
    "start_time": "2022-10-06T20:23:36.154Z"
   },
   {
    "duration": 28,
    "start_time": "2022-10-06T20:23:38.204Z"
   },
   {
    "duration": 22,
    "start_time": "2022-10-06T20:23:38.482Z"
   },
   {
    "duration": 13,
    "start_time": "2022-10-06T20:23:39.352Z"
   },
   {
    "duration": 8,
    "start_time": "2022-10-06T20:23:39.895Z"
   },
   {
    "duration": 9,
    "start_time": "2022-10-06T20:23:52.370Z"
   },
   {
    "duration": 1131,
    "start_time": "2022-10-06T20:54:53.994Z"
   },
   {
    "duration": 73,
    "start_time": "2022-10-06T20:54:55.127Z"
   },
   {
    "duration": 15,
    "start_time": "2022-10-06T20:54:55.201Z"
   },
   {
    "duration": 24,
    "start_time": "2022-10-06T20:54:55.218Z"
   },
   {
    "duration": 11,
    "start_time": "2022-10-06T20:54:55.243Z"
   },
   {
    "duration": 25,
    "start_time": "2022-10-06T20:54:55.256Z"
   },
   {
    "duration": 38,
    "start_time": "2022-10-06T20:54:55.283Z"
   },
   {
    "duration": 25,
    "start_time": "2022-10-06T20:54:55.323Z"
   },
   {
    "duration": 50,
    "start_time": "2022-10-06T20:54:55.349Z"
   },
   {
    "duration": 0,
    "start_time": "2022-10-06T20:54:55.401Z"
   },
   {
    "duration": 0,
    "start_time": "2022-10-06T20:54:55.402Z"
   },
   {
    "duration": 0,
    "start_time": "2022-10-06T20:54:55.403Z"
   },
   {
    "duration": 0,
    "start_time": "2022-10-06T20:54:55.405Z"
   },
   {
    "duration": 0,
    "start_time": "2022-10-06T20:54:55.406Z"
   },
   {
    "duration": 0,
    "start_time": "2022-10-06T20:54:55.408Z"
   },
   {
    "duration": 0,
    "start_time": "2022-10-06T20:54:55.409Z"
   },
   {
    "duration": 0,
    "start_time": "2022-10-06T20:54:55.410Z"
   },
   {
    "duration": 0,
    "start_time": "2022-10-06T20:54:55.413Z"
   },
   {
    "duration": 0,
    "start_time": "2022-10-06T20:54:55.414Z"
   },
   {
    "duration": 0,
    "start_time": "2022-10-06T20:54:55.416Z"
   },
   {
    "duration": 0,
    "start_time": "2022-10-06T20:54:55.417Z"
   },
   {
    "duration": 0,
    "start_time": "2022-10-06T20:54:55.418Z"
   },
   {
    "duration": 0,
    "start_time": "2022-10-06T20:54:55.419Z"
   },
   {
    "duration": 0,
    "start_time": "2022-10-06T20:54:55.420Z"
   },
   {
    "duration": 0,
    "start_time": "2022-10-06T20:54:55.422Z"
   },
   {
    "duration": 0,
    "start_time": "2022-10-06T20:54:55.424Z"
   },
   {
    "duration": 0,
    "start_time": "2022-10-06T20:54:55.425Z"
   },
   {
    "duration": 0,
    "start_time": "2022-10-06T20:54:55.426Z"
   },
   {
    "duration": 0,
    "start_time": "2022-10-06T20:54:55.428Z"
   },
   {
    "duration": 0,
    "start_time": "2022-10-06T20:54:55.429Z"
   },
   {
    "duration": 0,
    "start_time": "2022-10-06T20:54:55.429Z"
   },
   {
    "duration": 0,
    "start_time": "2022-10-06T20:54:55.430Z"
   },
   {
    "duration": 0,
    "start_time": "2022-10-06T20:54:55.431Z"
   },
   {
    "duration": 0,
    "start_time": "2022-10-06T20:54:55.432Z"
   },
   {
    "duration": 43,
    "start_time": "2022-10-06T20:55:38.234Z"
   },
   {
    "duration": 127,
    "start_time": "2022-10-06T20:55:42.896Z"
   },
   {
    "duration": 5,
    "start_time": "2022-10-06T20:56:35.365Z"
   },
   {
    "duration": 7,
    "start_time": "2022-10-06T20:57:00.050Z"
   },
   {
    "duration": 109,
    "start_time": "2022-10-06T21:01:13.922Z"
   },
   {
    "duration": 9,
    "start_time": "2022-10-06T21:01:36.710Z"
   },
   {
    "duration": 7,
    "start_time": "2022-10-06T21:01:48.164Z"
   },
   {
    "duration": 7,
    "start_time": "2022-10-06T21:01:51.151Z"
   },
   {
    "duration": 7,
    "start_time": "2022-10-06T21:02:02.527Z"
   },
   {
    "duration": 7,
    "start_time": "2022-10-06T21:02:13.182Z"
   },
   {
    "duration": 6,
    "start_time": "2022-10-06T21:02:18.682Z"
   },
   {
    "duration": 6,
    "start_time": "2022-10-06T21:02:23.100Z"
   },
   {
    "duration": 3,
    "start_time": "2022-10-06T21:02:27.681Z"
   },
   {
    "duration": 82,
    "start_time": "2022-10-06T21:02:28.210Z"
   },
   {
    "duration": 8,
    "start_time": "2022-10-06T21:02:28.938Z"
   },
   {
    "duration": 12,
    "start_time": "2022-10-06T21:02:29.399Z"
   },
   {
    "duration": 12,
    "start_time": "2022-10-06T21:02:30.092Z"
   },
   {
    "duration": 19,
    "start_time": "2022-10-06T21:02:31.940Z"
   },
   {
    "duration": 17,
    "start_time": "2022-10-06T21:02:32.155Z"
   },
   {
    "duration": 13,
    "start_time": "2022-10-06T21:02:32.681Z"
   },
   {
    "duration": 7,
    "start_time": "2022-10-06T21:02:32.927Z"
   },
   {
    "duration": 7,
    "start_time": "2022-10-06T21:02:33.198Z"
   },
   {
    "duration": 8,
    "start_time": "2022-10-06T21:02:56.620Z"
   },
   {
    "duration": 1305,
    "start_time": "2022-10-06T21:03:04.491Z"
   },
   {
    "duration": 87,
    "start_time": "2022-10-06T21:03:05.798Z"
   },
   {
    "duration": 11,
    "start_time": "2022-10-06T21:03:05.886Z"
   },
   {
    "duration": 13,
    "start_time": "2022-10-06T21:03:05.899Z"
   },
   {
    "duration": 16,
    "start_time": "2022-10-06T21:03:05.913Z"
   },
   {
    "duration": 21,
    "start_time": "2022-10-06T21:03:05.930Z"
   },
   {
    "duration": 20,
    "start_time": "2022-10-06T21:03:05.952Z"
   },
   {
    "duration": 47,
    "start_time": "2022-10-06T21:03:05.974Z"
   },
   {
    "duration": 9,
    "start_time": "2022-10-06T21:03:06.023Z"
   },
   {
    "duration": 10,
    "start_time": "2022-10-06T21:03:06.034Z"
   },
   {
    "duration": 11,
    "start_time": "2022-10-06T21:03:06.045Z"
   },
   {
    "duration": 7,
    "start_time": "2022-10-06T21:03:06.057Z"
   },
   {
    "duration": 13,
    "start_time": "2022-10-06T21:03:06.065Z"
   },
   {
    "duration": 382,
    "start_time": "2022-10-06T21:03:06.079Z"
   },
   {
    "duration": 0,
    "start_time": "2022-10-06T21:03:06.463Z"
   },
   {
    "duration": 0,
    "start_time": "2022-10-06T21:03:06.465Z"
   },
   {
    "duration": 0,
    "start_time": "2022-10-06T21:03:06.467Z"
   },
   {
    "duration": 0,
    "start_time": "2022-10-06T21:03:06.468Z"
   },
   {
    "duration": 0,
    "start_time": "2022-10-06T21:03:06.469Z"
   },
   {
    "duration": 0,
    "start_time": "2022-10-06T21:03:06.471Z"
   },
   {
    "duration": 0,
    "start_time": "2022-10-06T21:03:06.472Z"
   },
   {
    "duration": 0,
    "start_time": "2022-10-06T21:03:06.473Z"
   },
   {
    "duration": 0,
    "start_time": "2022-10-06T21:03:06.475Z"
   },
   {
    "duration": 0,
    "start_time": "2022-10-06T21:03:06.476Z"
   },
   {
    "duration": 0,
    "start_time": "2022-10-06T21:03:06.477Z"
   },
   {
    "duration": 0,
    "start_time": "2022-10-06T21:03:06.478Z"
   },
   {
    "duration": 0,
    "start_time": "2022-10-06T21:03:06.480Z"
   },
   {
    "duration": 0,
    "start_time": "2022-10-06T21:03:06.480Z"
   },
   {
    "duration": 0,
    "start_time": "2022-10-06T21:03:06.482Z"
   },
   {
    "duration": 0,
    "start_time": "2022-10-06T21:03:06.483Z"
   },
   {
    "duration": 0,
    "start_time": "2022-10-06T21:03:06.484Z"
   },
   {
    "duration": 0,
    "start_time": "2022-10-06T21:03:06.485Z"
   },
   {
    "duration": 0,
    "start_time": "2022-10-06T21:03:06.487Z"
   },
   {
    "duration": 1,
    "start_time": "2022-10-06T21:03:06.487Z"
   },
   {
    "duration": 3,
    "start_time": "2022-10-06T21:04:13.995Z"
   },
   {
    "duration": 74,
    "start_time": "2022-10-06T21:04:14.725Z"
   },
   {
    "duration": 10,
    "start_time": "2022-10-06T21:04:15.722Z"
   },
   {
    "duration": 10,
    "start_time": "2022-10-06T21:04:16.472Z"
   },
   {
    "duration": 11,
    "start_time": "2022-10-06T21:04:17.446Z"
   },
   {
    "duration": 19,
    "start_time": "2022-10-06T21:04:19.955Z"
   },
   {
    "duration": 16,
    "start_time": "2022-10-06T21:04:20.393Z"
   },
   {
    "duration": 13,
    "start_time": "2022-10-06T21:04:26.130Z"
   },
   {
    "duration": 8,
    "start_time": "2022-10-06T21:04:26.705Z"
   },
   {
    "duration": 7,
    "start_time": "2022-10-06T21:04:27.280Z"
   },
   {
    "duration": 9,
    "start_time": "2022-10-06T21:04:28.848Z"
   },
   {
    "duration": 5,
    "start_time": "2022-10-06T21:04:30.664Z"
   },
   {
    "duration": 7,
    "start_time": "2022-10-06T21:04:31.005Z"
   },
   {
    "duration": 266,
    "start_time": "2022-10-06T21:04:32.148Z"
   },
   {
    "duration": 18,
    "start_time": "2022-10-06T21:04:32.657Z"
   },
   {
    "duration": 3,
    "start_time": "2022-10-06T21:05:41.981Z"
   },
   {
    "duration": 73,
    "start_time": "2022-10-06T21:05:42.529Z"
   },
   {
    "duration": 9,
    "start_time": "2022-10-06T21:05:43.278Z"
   },
   {
    "duration": 10,
    "start_time": "2022-10-06T21:05:43.762Z"
   },
   {
    "duration": 14,
    "start_time": "2022-10-06T21:05:44.531Z"
   },
   {
    "duration": 20,
    "start_time": "2022-10-06T21:05:46.531Z"
   },
   {
    "duration": 15,
    "start_time": "2022-10-06T21:05:46.771Z"
   },
   {
    "duration": 12,
    "start_time": "2022-10-06T21:05:47.546Z"
   },
   {
    "duration": 7,
    "start_time": "2022-10-06T21:05:47.933Z"
   },
   {
    "duration": 6,
    "start_time": "2022-10-06T21:05:48.263Z"
   },
   {
    "duration": 19,
    "start_time": "2022-10-06T21:06:01.105Z"
   },
   {
    "duration": 7,
    "start_time": "2022-10-06T21:06:01.963Z"
   },
   {
    "duration": 420,
    "start_time": "2022-10-06T21:06:04.497Z"
   },
   {
    "duration": 318,
    "start_time": "2022-10-06T21:06:04.919Z"
   },
   {
    "duration": 206,
    "start_time": "2022-10-06T21:06:05.761Z"
   },
   {
    "duration": 311,
    "start_time": "2022-10-06T21:06:06.722Z"
   },
   {
    "duration": 223,
    "start_time": "2022-10-06T21:06:07.858Z"
   },
   {
    "duration": 315,
    "start_time": "2022-10-06T21:06:09.008Z"
   },
   {
    "duration": 141,
    "start_time": "2022-10-06T21:06:11.123Z"
   },
   {
    "duration": 4,
    "start_time": "2022-10-06T21:06:11.823Z"
   },
   {
    "duration": 167,
    "start_time": "2022-10-06T21:06:12.545Z"
   },
   {
    "duration": 149,
    "start_time": "2022-10-06T21:06:13.026Z"
   },
   {
    "duration": 4,
    "start_time": "2022-10-06T21:06:14.346Z"
   },
   {
    "duration": 92,
    "start_time": "2022-10-06T21:06:15.522Z"
   },
   {
    "duration": 98,
    "start_time": "2022-10-06T21:06:15.821Z"
   },
   {
    "duration": 28,
    "start_time": "2022-10-06T21:06:16.105Z"
   },
   {
    "duration": 141,
    "start_time": "2022-10-06T21:06:16.697Z"
   },
   {
    "duration": 37,
    "start_time": "2022-10-06T21:06:16.954Z"
   },
   {
    "duration": 10,
    "start_time": "2022-10-06T21:06:19.436Z"
   },
   {
    "duration": 9,
    "start_time": "2022-10-06T21:06:20.937Z"
   },
   {
    "duration": 7,
    "start_time": "2022-10-06T21:06:21.768Z"
   },
   {
    "duration": 21,
    "start_time": "2022-10-06T21:06:22.046Z"
   },
   {
    "duration": 23,
    "start_time": "2022-10-06T21:06:23.096Z"
   },
   {
    "duration": 3,
    "start_time": "2022-10-06T21:25:07.712Z"
   },
   {
    "duration": 71,
    "start_time": "2022-10-06T21:25:08.599Z"
   },
   {
    "duration": 8,
    "start_time": "2022-10-06T21:25:10.262Z"
   },
   {
    "duration": 9,
    "start_time": "2022-10-06T21:25:11.126Z"
   },
   {
    "duration": 10,
    "start_time": "2022-10-06T21:25:12.114Z"
   },
   {
    "duration": 20,
    "start_time": "2022-10-06T21:25:14.130Z"
   },
   {
    "duration": 22,
    "start_time": "2022-10-06T21:25:14.404Z"
   },
   {
    "duration": 12,
    "start_time": "2022-10-06T21:25:14.904Z"
   },
   {
    "duration": 7,
    "start_time": "2022-10-06T21:25:15.143Z"
   },
   {
    "duration": 7,
    "start_time": "2022-10-06T21:25:15.393Z"
   },
   {
    "duration": 6,
    "start_time": "2022-10-06T21:25:16.624Z"
   },
   {
    "duration": 6,
    "start_time": "2022-10-06T21:25:31.108Z"
   },
   {
    "duration": 7,
    "start_time": "2022-10-06T21:25:56.608Z"
   },
   {
    "duration": 5,
    "start_time": "2022-10-06T21:25:57.580Z"
   },
   {
    "duration": 286,
    "start_time": "2022-10-06T21:25:59.438Z"
   },
   {
    "duration": 260,
    "start_time": "2022-10-06T21:26:00.022Z"
   },
   {
    "duration": 8,
    "start_time": "2022-10-06T21:26:47.824Z"
   },
   {
    "duration": 7,
    "start_time": "2022-10-06T21:27:23.165Z"
   },
   {
    "duration": 6,
    "start_time": "2022-10-06T21:27:42.976Z"
   },
   {
    "duration": 6,
    "start_time": "2022-10-06T21:28:00.632Z"
   },
   {
    "duration": 9,
    "start_time": "2022-10-06T21:28:09.475Z"
   },
   {
    "duration": 9,
    "start_time": "2022-10-06T21:31:07.025Z"
   },
   {
    "duration": 10,
    "start_time": "2022-10-06T21:31:17.149Z"
   },
   {
    "duration": 7,
    "start_time": "2022-10-06T21:32:16.398Z"
   },
   {
    "duration": 8,
    "start_time": "2022-10-06T21:33:50.899Z"
   },
   {
    "duration": 3,
    "start_time": "2022-10-06T21:34:55.607Z"
   },
   {
    "duration": 73,
    "start_time": "2022-10-06T21:34:56.548Z"
   },
   {
    "duration": 7,
    "start_time": "2022-10-06T21:34:57.822Z"
   },
   {
    "duration": 10,
    "start_time": "2022-10-06T21:34:58.548Z"
   },
   {
    "duration": 10,
    "start_time": "2022-10-06T21:34:59.648Z"
   },
   {
    "duration": 17,
    "start_time": "2022-10-06T21:35:02.481Z"
   },
   {
    "duration": 16,
    "start_time": "2022-10-06T21:35:02.831Z"
   },
   {
    "duration": 12,
    "start_time": "2022-10-06T21:35:09.660Z"
   },
   {
    "duration": 6,
    "start_time": "2022-10-06T21:35:10.329Z"
   },
   {
    "duration": 7,
    "start_time": "2022-10-06T21:35:11.164Z"
   },
   {
    "duration": 9,
    "start_time": "2022-10-06T21:35:12.913Z"
   },
   {
    "duration": 8,
    "start_time": "2022-10-06T21:37:15.140Z"
   },
   {
    "duration": 5,
    "start_time": "2022-10-06T21:54:04.524Z"
   },
   {
    "duration": 102,
    "start_time": "2022-10-06T21:54:04.574Z"
   },
   {
    "duration": 91,
    "start_time": "2022-10-06T21:54:04.839Z"
   },
   {
    "duration": 19,
    "start_time": "2022-10-06T21:54:05.105Z"
   },
   {
    "duration": 126,
    "start_time": "2022-10-06T21:54:05.632Z"
   },
   {
    "duration": 22,
    "start_time": "2022-10-06T21:54:05.957Z"
   },
   {
    "duration": 10,
    "start_time": "2022-10-06T21:54:07.157Z"
   },
   {
    "duration": 8,
    "start_time": "2022-10-06T21:54:08.348Z"
   },
   {
    "duration": 8,
    "start_time": "2022-10-06T21:54:08.831Z"
   },
   {
    "duration": 20,
    "start_time": "2022-10-06T21:54:09.098Z"
   },
   {
    "duration": 12,
    "start_time": "2022-10-06T21:54:09.864Z"
   },
   {
    "duration": 1009,
    "start_time": "2022-10-07T17:24:04.655Z"
   },
   {
    "duration": 74,
    "start_time": "2022-10-07T17:24:05.666Z"
   },
   {
    "duration": 12,
    "start_time": "2022-10-07T17:24:05.742Z"
   },
   {
    "duration": 11,
    "start_time": "2022-10-07T17:24:05.756Z"
   },
   {
    "duration": 10,
    "start_time": "2022-10-07T17:24:05.768Z"
   },
   {
    "duration": 19,
    "start_time": "2022-10-07T17:24:05.780Z"
   },
   {
    "duration": 18,
    "start_time": "2022-10-07T17:24:05.801Z"
   },
   {
    "duration": 13,
    "start_time": "2022-10-07T17:24:05.821Z"
   },
   {
    "duration": 8,
    "start_time": "2022-10-07T17:24:05.836Z"
   },
   {
    "duration": 5,
    "start_time": "2022-10-07T17:24:05.846Z"
   },
   {
    "duration": 7,
    "start_time": "2022-10-07T17:24:05.853Z"
   },
   {
    "duration": 137,
    "start_time": "2022-10-07T17:24:05.862Z"
   },
   {
    "duration": 0,
    "start_time": "2022-10-07T17:24:06.001Z"
   },
   {
    "duration": 0,
    "start_time": "2022-10-07T17:24:06.002Z"
   },
   {
    "duration": 0,
    "start_time": "2022-10-07T17:24:06.008Z"
   },
   {
    "duration": 0,
    "start_time": "2022-10-07T17:24:06.009Z"
   },
   {
    "duration": 0,
    "start_time": "2022-10-07T17:24:06.010Z"
   },
   {
    "duration": 0,
    "start_time": "2022-10-07T17:24:06.011Z"
   },
   {
    "duration": 0,
    "start_time": "2022-10-07T17:24:06.012Z"
   },
   {
    "duration": 0,
    "start_time": "2022-10-07T17:24:06.013Z"
   },
   {
    "duration": 0,
    "start_time": "2022-10-07T17:24:06.014Z"
   },
   {
    "duration": 0,
    "start_time": "2022-10-07T17:24:06.015Z"
   },
   {
    "duration": 0,
    "start_time": "2022-10-07T17:24:06.016Z"
   },
   {
    "duration": 0,
    "start_time": "2022-10-07T17:24:06.017Z"
   },
   {
    "duration": 0,
    "start_time": "2022-10-07T17:24:06.018Z"
   },
   {
    "duration": 0,
    "start_time": "2022-10-07T17:24:06.019Z"
   },
   {
    "duration": 0,
    "start_time": "2022-10-07T17:24:06.021Z"
   },
   {
    "duration": 0,
    "start_time": "2022-10-07T17:24:06.022Z"
   },
   {
    "duration": 0,
    "start_time": "2022-10-07T17:24:06.023Z"
   },
   {
    "duration": 0,
    "start_time": "2022-10-07T17:24:06.024Z"
   },
   {
    "duration": 0,
    "start_time": "2022-10-07T17:24:06.025Z"
   },
   {
    "duration": 0,
    "start_time": "2022-10-07T17:24:06.026Z"
   },
   {
    "duration": 0,
    "start_time": "2022-10-07T17:24:06.027Z"
   },
   {
    "duration": 288,
    "start_time": "2022-10-07T17:26:36.629Z"
   },
   {
    "duration": 304,
    "start_time": "2022-10-07T17:26:36.919Z"
   },
   {
    "duration": 210,
    "start_time": "2022-10-07T17:26:37.225Z"
   },
   {
    "duration": 292,
    "start_time": "2022-10-07T17:26:37.436Z"
   },
   {
    "duration": 220,
    "start_time": "2022-10-07T17:26:37.730Z"
   },
   {
    "duration": 276,
    "start_time": "2022-10-07T17:26:37.951Z"
   },
   {
    "duration": 154,
    "start_time": "2022-10-07T17:26:38.228Z"
   },
   {
    "duration": 3,
    "start_time": "2022-10-07T17:26:38.383Z"
   },
   {
    "duration": 168,
    "start_time": "2022-10-07T17:26:38.388Z"
   },
   {
    "duration": 147,
    "start_time": "2022-10-07T17:26:38.558Z"
   },
   {
    "duration": 4,
    "start_time": "2022-10-07T17:26:38.709Z"
   },
   {
    "duration": 107,
    "start_time": "2022-10-07T17:26:38.715Z"
   },
   {
    "duration": 102,
    "start_time": "2022-10-07T17:26:38.824Z"
   },
   {
    "duration": 21,
    "start_time": "2022-10-07T17:26:38.929Z"
   },
   {
    "duration": 145,
    "start_time": "2022-10-07T17:26:38.952Z"
   },
   {
    "duration": 28,
    "start_time": "2022-10-07T17:26:39.098Z"
   },
   {
    "duration": 10,
    "start_time": "2022-10-07T17:26:39.127Z"
   },
   {
    "duration": 9,
    "start_time": "2022-10-07T17:26:39.138Z"
   },
   {
    "duration": 12,
    "start_time": "2022-10-07T17:26:39.148Z"
   },
   {
    "duration": 22,
    "start_time": "2022-10-07T17:26:39.161Z"
   },
   {
    "duration": 34,
    "start_time": "2022-10-07T17:26:39.185Z"
   },
   {
    "duration": 1239,
    "start_time": "2022-10-07T18:24:42.817Z"
   },
   {
    "duration": 247,
    "start_time": "2022-10-07T18:24:44.057Z"
   },
   {
    "duration": 10,
    "start_time": "2022-10-07T18:24:44.475Z"
   },
   {
    "duration": 12,
    "start_time": "2022-10-07T18:24:45.257Z"
   },
   {
    "duration": 12,
    "start_time": "2022-10-07T18:24:46.163Z"
   },
   {
    "duration": 21,
    "start_time": "2022-10-07T18:24:48.478Z"
   },
   {
    "duration": 20,
    "start_time": "2022-10-07T18:24:48.741Z"
   },
   {
    "duration": 14,
    "start_time": "2022-10-07T18:24:49.381Z"
   },
   {
    "duration": 8,
    "start_time": "2022-10-07T18:24:49.841Z"
   },
   {
    "duration": 6,
    "start_time": "2022-10-07T18:24:50.090Z"
   },
   {
    "duration": 8,
    "start_time": "2022-10-07T18:24:51.298Z"
   },
   {
    "duration": 93,
    "start_time": "2022-10-07T18:24:51.775Z"
   },
   {
    "duration": 9,
    "start_time": "2022-10-07T18:26:52.199Z"
   },
   {
    "duration": 161,
    "start_time": "2022-10-07T18:30:02.914Z"
   },
   {
    "duration": 148,
    "start_time": "2022-10-07T18:30:44.530Z"
   },
   {
    "duration": 145,
    "start_time": "2022-10-07T18:32:25.073Z"
   },
   {
    "duration": 175,
    "start_time": "2022-10-07T18:33:52.614Z"
   },
   {
    "duration": 173,
    "start_time": "2022-10-07T18:34:51.249Z"
   },
   {
    "duration": 188,
    "start_time": "2022-10-07T18:35:00.798Z"
   },
   {
    "duration": 163,
    "start_time": "2022-10-07T18:35:22.628Z"
   },
   {
    "duration": 25,
    "start_time": "2022-10-07T18:39:56.827Z"
   },
   {
    "duration": 18,
    "start_time": "2022-10-07T18:41:06.589Z"
   },
   {
    "duration": 9,
    "start_time": "2022-10-07T18:41:36.915Z"
   },
   {
    "duration": 18,
    "start_time": "2022-10-07T18:42:09.998Z"
   },
   {
    "duration": 3,
    "start_time": "2022-10-07T18:42:31.779Z"
   },
   {
    "duration": 75,
    "start_time": "2022-10-07T18:42:32.239Z"
   },
   {
    "duration": 9,
    "start_time": "2022-10-07T18:42:32.934Z"
   },
   {
    "duration": 14,
    "start_time": "2022-10-07T18:42:33.374Z"
   },
   {
    "duration": 11,
    "start_time": "2022-10-07T18:42:34.046Z"
   },
   {
    "duration": 18,
    "start_time": "2022-10-07T18:42:35.897Z"
   },
   {
    "duration": 18,
    "start_time": "2022-10-07T18:42:36.141Z"
   },
   {
    "duration": 17,
    "start_time": "2022-10-07T18:42:36.578Z"
   },
   {
    "duration": 7,
    "start_time": "2022-10-07T18:42:36.805Z"
   },
   {
    "duration": 6,
    "start_time": "2022-10-07T18:42:37.054Z"
   },
   {
    "duration": 10,
    "start_time": "2022-10-07T18:42:37.645Z"
   },
   {
    "duration": 19,
    "start_time": "2022-10-07T18:42:38.295Z"
   },
   {
    "duration": 3,
    "start_time": "2022-10-07T18:43:33.796Z"
   },
   {
    "duration": 73,
    "start_time": "2022-10-07T18:43:34.246Z"
   },
   {
    "duration": 7,
    "start_time": "2022-10-07T18:43:34.896Z"
   },
   {
    "duration": 9,
    "start_time": "2022-10-07T18:43:35.383Z"
   },
   {
    "duration": 11,
    "start_time": "2022-10-07T18:43:36.080Z"
   },
   {
    "duration": 19,
    "start_time": "2022-10-07T18:43:37.796Z"
   },
   {
    "duration": 17,
    "start_time": "2022-10-07T18:43:38.038Z"
   },
   {
    "duration": 12,
    "start_time": "2022-10-07T18:43:38.463Z"
   },
   {
    "duration": 7,
    "start_time": "2022-10-07T18:43:38.671Z"
   },
   {
    "duration": 6,
    "start_time": "2022-10-07T18:43:38.870Z"
   },
   {
    "duration": 9,
    "start_time": "2022-10-07T18:43:39.336Z"
   },
   {
    "duration": 20,
    "start_time": "2022-10-07T18:43:39.539Z"
   },
   {
    "duration": 7,
    "start_time": "2022-10-07T18:45:23.857Z"
   },
   {
    "duration": 8,
    "start_time": "2022-10-07T18:45:27.813Z"
   },
   {
    "duration": 9,
    "start_time": "2022-10-07T18:47:14.891Z"
   },
   {
    "duration": 8,
    "start_time": "2022-10-07T18:47:21.410Z"
   },
   {
    "duration": 10,
    "start_time": "2022-10-07T18:48:18.747Z"
   },
   {
    "duration": 10,
    "start_time": "2022-10-07T18:48:31.055Z"
   },
   {
    "duration": 4,
    "start_time": "2022-10-07T18:50:10.696Z"
   },
   {
    "duration": 72,
    "start_time": "2022-10-07T18:50:12.846Z"
   },
   {
    "duration": 1006,
    "start_time": "2022-10-07T18:50:20.381Z"
   },
   {
    "duration": 74,
    "start_time": "2022-10-07T18:50:21.390Z"
   },
   {
    "duration": 10,
    "start_time": "2022-10-07T18:50:21.466Z"
   },
   {
    "duration": 11,
    "start_time": "2022-10-07T18:50:21.478Z"
   },
   {
    "duration": 9,
    "start_time": "2022-10-07T18:50:21.491Z"
   },
   {
    "duration": 21,
    "start_time": "2022-10-07T18:50:21.501Z"
   },
   {
    "duration": 17,
    "start_time": "2022-10-07T18:50:21.524Z"
   },
   {
    "duration": 13,
    "start_time": "2022-10-07T18:50:21.543Z"
   },
   {
    "duration": 9,
    "start_time": "2022-10-07T18:50:21.557Z"
   },
   {
    "duration": 8,
    "start_time": "2022-10-07T18:50:21.569Z"
   },
   {
    "duration": 10,
    "start_time": "2022-10-07T18:50:21.578Z"
   },
   {
    "duration": 312,
    "start_time": "2022-10-07T18:50:21.590Z"
   },
   {
    "duration": 288,
    "start_time": "2022-10-07T18:50:21.903Z"
   },
   {
    "duration": 221,
    "start_time": "2022-10-07T18:50:22.193Z"
   },
   {
    "duration": 331,
    "start_time": "2022-10-07T18:50:22.416Z"
   },
   {
    "duration": 244,
    "start_time": "2022-10-07T18:50:22.749Z"
   },
   {
    "duration": 329,
    "start_time": "2022-10-07T18:50:22.995Z"
   },
   {
    "duration": 151,
    "start_time": "2022-10-07T18:50:23.326Z"
   },
   {
    "duration": 5,
    "start_time": "2022-10-07T18:50:23.478Z"
   },
   {
    "duration": 187,
    "start_time": "2022-10-07T18:50:23.484Z"
   },
   {
    "duration": 163,
    "start_time": "2022-10-07T18:50:23.672Z"
   },
   {
    "duration": 4,
    "start_time": "2022-10-07T18:50:23.837Z"
   },
   {
    "duration": 110,
    "start_time": "2022-10-07T18:50:23.843Z"
   },
   {
    "duration": 107,
    "start_time": "2022-10-07T18:50:23.954Z"
   },
   {
    "duration": 20,
    "start_time": "2022-10-07T18:50:24.063Z"
   },
   {
    "duration": 159,
    "start_time": "2022-10-07T18:50:24.084Z"
   },
   {
    "duration": 25,
    "start_time": "2022-10-07T18:50:24.245Z"
   },
   {
    "duration": 11,
    "start_time": "2022-10-07T18:50:24.273Z"
   },
   {
    "duration": 9,
    "start_time": "2022-10-07T18:50:24.285Z"
   },
   {
    "duration": 11,
    "start_time": "2022-10-07T18:50:24.296Z"
   },
   {
    "duration": 22,
    "start_time": "2022-10-07T18:50:24.333Z"
   },
   {
    "duration": 13,
    "start_time": "2022-10-07T18:50:24.356Z"
   },
   {
    "duration": 1098,
    "start_time": "2022-10-07T18:54:31.211Z"
   },
   {
    "duration": 74,
    "start_time": "2022-10-07T18:54:32.311Z"
   },
   {
    "duration": 10,
    "start_time": "2022-10-07T18:54:32.387Z"
   },
   {
    "duration": 13,
    "start_time": "2022-10-07T18:54:32.399Z"
   },
   {
    "duration": 11,
    "start_time": "2022-10-07T18:54:32.413Z"
   },
   {
    "duration": 28,
    "start_time": "2022-10-07T18:54:32.426Z"
   },
   {
    "duration": 15,
    "start_time": "2022-10-07T18:54:32.456Z"
   },
   {
    "duration": 12,
    "start_time": "2022-10-07T18:54:32.472Z"
   },
   {
    "duration": 17,
    "start_time": "2022-10-07T18:54:32.486Z"
   },
   {
    "duration": 6,
    "start_time": "2022-10-07T18:54:32.506Z"
   },
   {
    "duration": 23,
    "start_time": "2022-10-07T18:54:32.514Z"
   },
   {
    "duration": 322,
    "start_time": "2022-10-07T18:54:32.538Z"
   },
   {
    "duration": 304,
    "start_time": "2022-10-07T18:54:32.861Z"
   },
   {
    "duration": 219,
    "start_time": "2022-10-07T18:54:33.166Z"
   },
   {
    "duration": 304,
    "start_time": "2022-10-07T18:54:33.387Z"
   },
   {
    "duration": 220,
    "start_time": "2022-10-07T18:54:33.692Z"
   },
   {
    "duration": 320,
    "start_time": "2022-10-07T18:54:33.913Z"
   },
   {
    "duration": 142,
    "start_time": "2022-10-07T18:54:34.235Z"
   },
   {
    "duration": 5,
    "start_time": "2022-10-07T18:54:34.378Z"
   },
   {
    "duration": 180,
    "start_time": "2022-10-07T18:54:34.384Z"
   },
   {
    "duration": 160,
    "start_time": "2022-10-07T18:54:34.566Z"
   },
   {
    "duration": 5,
    "start_time": "2022-10-07T18:54:34.732Z"
   },
   {
    "duration": 109,
    "start_time": "2022-10-07T18:54:34.738Z"
   },
   {
    "duration": 98,
    "start_time": "2022-10-07T18:54:34.848Z"
   },
   {
    "duration": 18,
    "start_time": "2022-10-07T18:54:34.948Z"
   },
   {
    "duration": 138,
    "start_time": "2022-10-07T18:54:34.968Z"
   },
   {
    "duration": 31,
    "start_time": "2022-10-07T18:54:35.108Z"
   },
   {
    "duration": 10,
    "start_time": "2022-10-07T18:54:35.142Z"
   },
   {
    "duration": 12,
    "start_time": "2022-10-07T18:54:35.154Z"
   },
   {
    "duration": 7,
    "start_time": "2022-10-07T18:54:35.167Z"
   },
   {
    "duration": 24,
    "start_time": "2022-10-07T18:54:35.176Z"
   },
   {
    "duration": 38,
    "start_time": "2022-10-07T18:54:35.202Z"
   },
   {
    "duration": 1287,
    "start_time": "2022-10-08T18:05:56.336Z"
   },
   {
    "duration": 101,
    "start_time": "2022-10-08T18:05:57.626Z"
   },
   {
    "duration": 13,
    "start_time": "2022-10-08T18:05:57.729Z"
   },
   {
    "duration": 18,
    "start_time": "2022-10-08T18:05:57.745Z"
   },
   {
    "duration": 19,
    "start_time": "2022-10-08T18:05:57.765Z"
   },
   {
    "duration": 29,
    "start_time": "2022-10-08T18:05:57.786Z"
   },
   {
    "duration": 45,
    "start_time": "2022-10-08T18:05:57.817Z"
   },
   {
    "duration": 14,
    "start_time": "2022-10-08T18:05:57.864Z"
   },
   {
    "duration": 16,
    "start_time": "2022-10-08T18:05:57.880Z"
   },
   {
    "duration": 14,
    "start_time": "2022-10-08T18:05:57.899Z"
   },
   {
    "duration": 12,
    "start_time": "2022-10-08T18:05:57.916Z"
   },
   {
    "duration": 349,
    "start_time": "2022-10-08T18:05:57.955Z"
   },
   {
    "duration": 338,
    "start_time": "2022-10-08T18:05:58.305Z"
   },
   {
    "duration": 243,
    "start_time": "2022-10-08T18:05:58.653Z"
   },
   {
    "duration": 311,
    "start_time": "2022-10-08T18:05:58.898Z"
   },
   {
    "duration": 257,
    "start_time": "2022-10-08T18:05:59.211Z"
   },
   {
    "duration": 320,
    "start_time": "2022-10-08T18:05:59.470Z"
   },
   {
    "duration": 175,
    "start_time": "2022-10-08T18:05:59.792Z"
   },
   {
    "duration": 6,
    "start_time": "2022-10-08T18:05:59.969Z"
   },
   {
    "duration": 214,
    "start_time": "2022-10-08T18:05:59.977Z"
   },
   {
    "duration": 186,
    "start_time": "2022-10-08T18:06:00.193Z"
   },
   {
    "duration": 5,
    "start_time": "2022-10-08T18:06:00.381Z"
   },
   {
    "duration": 125,
    "start_time": "2022-10-08T18:06:00.388Z"
   },
   {
    "duration": 119,
    "start_time": "2022-10-08T18:06:00.515Z"
   },
   {
    "duration": 39,
    "start_time": "2022-10-08T18:06:00.636Z"
   },
   {
    "duration": 217,
    "start_time": "2022-10-08T18:06:00.678Z"
   },
   {
    "duration": 28,
    "start_time": "2022-10-08T18:06:00.897Z"
   },
   {
    "duration": 35,
    "start_time": "2022-10-08T18:06:00.928Z"
   },
   {
    "duration": 82,
    "start_time": "2022-10-08T18:06:00.965Z"
   },
   {
    "duration": 24,
    "start_time": "2022-10-08T18:06:01.049Z"
   },
   {
    "duration": 40,
    "start_time": "2022-10-08T18:06:01.075Z"
   },
   {
    "duration": 29,
    "start_time": "2022-10-08T18:06:01.117Z"
   },
   {
    "duration": 1131,
    "start_time": "2023-01-25T18:47:51.609Z"
   },
   {
    "duration": 77,
    "start_time": "2023-01-25T18:47:52.741Z"
   },
   {
    "duration": 13,
    "start_time": "2023-01-25T18:47:52.819Z"
   },
   {
    "duration": 14,
    "start_time": "2023-01-25T18:47:52.835Z"
   },
   {
    "duration": 14,
    "start_time": "2023-01-25T18:47:52.851Z"
   },
   {
    "duration": 27,
    "start_time": "2023-01-25T18:47:52.866Z"
   },
   {
    "duration": 21,
    "start_time": "2023-01-25T18:47:52.895Z"
   },
   {
    "duration": 19,
    "start_time": "2023-01-25T18:47:52.918Z"
   },
   {
    "duration": 9,
    "start_time": "2023-01-25T18:47:52.939Z"
   },
   {
    "duration": 13,
    "start_time": "2023-01-25T18:47:52.951Z"
   },
   {
    "duration": 8,
    "start_time": "2023-01-25T18:47:52.993Z"
   },
   {
    "duration": 335,
    "start_time": "2023-01-25T18:47:53.003Z"
   },
   {
    "duration": 341,
    "start_time": "2023-01-25T18:47:53.340Z"
   },
   {
    "duration": 228,
    "start_time": "2023-01-25T18:47:53.682Z"
   },
   {
    "duration": 310,
    "start_time": "2023-01-25T18:47:53.912Z"
   },
   {
    "duration": 248,
    "start_time": "2023-01-25T18:47:54.224Z"
   },
   {
    "duration": 351,
    "start_time": "2023-01-25T18:47:54.473Z"
   },
   {
    "duration": 157,
    "start_time": "2023-01-25T18:47:54.826Z"
   },
   {
    "duration": 9,
    "start_time": "2023-01-25T18:47:54.985Z"
   },
   {
    "duration": 199,
    "start_time": "2023-01-25T18:47:54.995Z"
   },
   {
    "duration": 179,
    "start_time": "2023-01-25T18:47:55.196Z"
   },
   {
    "duration": 5,
    "start_time": "2023-01-25T18:47:55.376Z"
   },
   {
    "duration": 133,
    "start_time": "2023-01-25T18:47:55.392Z"
   },
   {
    "duration": 108,
    "start_time": "2023-01-25T18:47:55.526Z"
   },
   {
    "duration": 23,
    "start_time": "2023-01-25T18:47:55.635Z"
   },
   {
    "duration": 144,
    "start_time": "2023-01-25T18:47:55.660Z"
   },
   {
    "duration": 21,
    "start_time": "2023-01-25T18:47:55.805Z"
   },
   {
    "duration": 11,
    "start_time": "2023-01-25T18:47:55.828Z"
   },
   {
    "duration": 32,
    "start_time": "2023-01-25T18:47:55.840Z"
   },
   {
    "duration": 21,
    "start_time": "2023-01-25T18:47:55.873Z"
   },
   {
    "duration": 32,
    "start_time": "2023-01-25T18:47:55.895Z"
   },
   {
    "duration": 27,
    "start_time": "2023-01-25T18:47:55.929Z"
   }
  ],
  "kernelspec": {
   "display_name": "Python 3 (ipykernel)",
   "language": "python",
   "name": "python3"
  },
  "language_info": {
   "codemirror_mode": {
    "name": "ipython",
    "version": 3
   },
   "file_extension": ".py",
   "mimetype": "text/x-python",
   "name": "python",
   "nbconvert_exporter": "python",
   "pygments_lexer": "ipython3",
   "version": "3.9.5"
  },
  "toc": {
   "base_numbering": 1,
   "nav_menu": {},
   "number_sections": true,
   "sideBar": true,
   "skip_h1_title": true,
   "title_cell": "Table of Contents",
   "title_sidebar": "Contents",
   "toc_cell": false,
   "toc_position": {},
   "toc_section_display": true,
   "toc_window_display": false
  }
 },
 "nbformat": 4,
 "nbformat_minor": 2
}
