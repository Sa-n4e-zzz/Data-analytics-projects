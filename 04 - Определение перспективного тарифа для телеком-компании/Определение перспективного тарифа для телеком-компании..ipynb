{
 "cells": [
  {
   "cell_type": "markdown",
   "metadata": {},
   "source": [
    "# Определение перспективного тарифа для телеком-компании\n",
    "\n",
    "На основании данных 500 пользователей «Мегалайна» необходимо проанализировать поведение клиентов и сделать вывод — какой тариф лучше.\n",
    "\n",
    "Тариф «Смарт»\n",
    " - Ежемесячная плата: 550 рублей\n",
    " - Включено 500 минут разговора, 50 сообщений и 15 Гб интернет-трафика\n",
    " - Стоимость услуг сверх тарифного пакета:\n",
    " - минута разговора: 3 рубля\n",
    " - сообщение: 3 рубля\n",
    " - 1 Гб интернет-трафика: 200 рублей\n",
    " \n",
    "Тариф «Ультра»\n",
    " - Ежемесячная плата: 1950 рублей\n",
    " - Включено 3000 минут разговора, 1000 сообщений и 30 Гб интернет-трафика\n",
    " - Стоимость услуг сверх тарифного пакета:\n",
    " - минута разговора: 1 рубль\n",
    " - сообщение: 1 рубль\n",
    " - 1 Гб интернет-трафика: 150 рублей\n",
    "\n",
    "Также необходимо учитывать:\n",
    "- «Мегалайн» всегда округляет секунды до минут, а мегабайты — до гигабайт. Каждый звонок округляется отдельно: даже если он длился всего 1 секунду, будет засчитан как 1 минута.\n",
    "\n",
    "- Для веб-трафика отдельные сессии не считаются. Вместо этого общая сумма за месяц округляется в бо́льшую сторону. Если абонент использует 1025 мегабайт в этом месяце, с него возьмут плату за 2 гигабайта. Примите, что неиспользованные за предыдущий месяц звонки, смс, интернет на следующий месяц не переносятся.\n",
    "\n",
    "\n",
    "В процессе выполнения проекта необходимо сделать следующие шаги:\n",
    "\n",
    "   1) изучить исходные данные\n",
    "\n",
    "   2) предобработать их\n",
    "\n",
    "   3) проанализировать данные\n",
    "\n",
    "   4) проверить гипотезы\n",
    "\n",
    "   5) сделать вывод"
   ]
  },
  {
   "cell_type": "markdown",
   "metadata": {},
   "source": [
    "## Изучение данных"
   ]
  },
  {
   "cell_type": "markdown",
   "metadata": {},
   "source": [
    "Описание данных\n",
    "\n",
    "Таблица users (информация о пользователях):\n",
    " - user_id — уникальный идентификатор пользователя\n",
    " - first_name — имя пользователя\n",
    " - last_name — фамилия пользователя\n",
    " - age — возраст пользователя (годы)\n",
    " - reg_date — дата подключения тарифа (день, месяц, год)\n",
    " - churn_date — дата прекращения пользования тарифом (если значение пропущено, то тариф ещё действовал на момент выгрузки данных)\n",
    " - city — город проживания пользователя\n",
    " - tariff — название тарифного плана\n",
    " \n",
    "Таблица calls (информация о звонках):\n",
    " - id — уникальный номер звонка\n",
    " - call_date — дата звонка\n",
    " - duration — длительность звонка в минутах\n",
    " - user_id — идентификатор пользователя, сделавшего звонок\n",
    " - Таблица messages (информация о сообщениях):\n",
    " - id — уникальный номер сообщения\n",
    " - message_date — дата сообщения\n",
    " - user_id — идентификатор пользователя, отправившего сообщение\n",
    " \n",
    "Таблица internet (информация об интернет-сессиях):\n",
    " - id — уникальный номер сессии\n",
    " - mb_used — объём потраченного за сессию интернет-трафика (в мегабайтах)\n",
    " - session_date — дата интернет-сессии\n",
    " - user_id — идентификатор пользователя\n",
    " \n",
    "Таблица tariffs (информация о тарифах):\n",
    " - tariff_name — название тарифа\n",
    " - rub_monthly_fee — ежемесячная абонентская плата в рублях\n",
    " - minutes_included — количество минут разговора в месяц, включённых в абонентскую плату\n",
    " - messages_included — количество сообщений в месяц, включённых в абонентскую плату\n",
    " - mb_per_month_included — объём интернет-трафика, включённого в абонентскую плату (в мегабайтах)\n",
    " - rub_per_minute — стоимость минуты разговора сверх тарифного пакета (например, если в тарифе 100 минут разговора в месяц, то со 101 минуты будет взиматься плата)\n",
    " - rub_per_message — стоимость отправки сообщения сверх тарифного пакета\n",
    " - rub_per_gb — стоимость дополнительного гигабайта интернет-трафика сверх тарифного пакета (1 гигабайт = 1024 мегабайта)"
   ]
  },
  {
   "cell_type": "markdown",
   "metadata": {},
   "source": [
    "### Добавляем библиотеки,которые понадобятся нам для проекта"
   ]
  },
  {
   "cell_type": "code",
   "execution_count": 1,
   "metadata": {},
   "outputs": [],
   "source": [
    "import pandas as pd\n",
    "import numpy as np\n",
    "import matplotlib.pyplot as plt\n",
    "from scipy import stats as st\n",
    "from datetime import datetime as dt"
   ]
  },
  {
   "cell_type": "markdown",
   "metadata": {},
   "source": [
    "### прочитаем файлы"
   ]
  },
  {
   "cell_type": "code",
   "execution_count": 2,
   "metadata": {},
   "outputs": [],
   "source": [
    "calls = pd.read_csv('/datasets/calls.csv', parse_dates = ['call_date'])\n",
    "internet = pd.read_csv('/datasets/internet.csv', parse_dates = ['session_date'])\n",
    "messages = pd.read_csv('/datasets/messages.csv', parse_dates = ['message_date'])\n",
    "tariff = pd.read_csv('/datasets/tariffs.csv')\n",
    "users = pd.read_csv('/datasets/users.csv', parse_dates = ['churn_date', 'reg_date'])"
   ]
  },
  {
   "cell_type": "markdown",
   "metadata": {},
   "source": [
    "### Изучим каждую таблицу, проверим на дубликаты и пропуски"
   ]
  },
  {
   "cell_type": "code",
   "execution_count": 3,
   "metadata": {},
   "outputs": [
    {
     "data": {
      "text/html": [
       "<div>\n",
       "<style scoped>\n",
       "    .dataframe tbody tr th:only-of-type {\n",
       "        vertical-align: middle;\n",
       "    }\n",
       "\n",
       "    .dataframe tbody tr th {\n",
       "        vertical-align: top;\n",
       "    }\n",
       "\n",
       "    .dataframe thead th {\n",
       "        text-align: right;\n",
       "    }\n",
       "</style>\n",
       "<table border=\"1\" class=\"dataframe\">\n",
       "  <thead>\n",
       "    <tr style=\"text-align: right;\">\n",
       "      <th></th>\n",
       "      <th>id</th>\n",
       "      <th>call_date</th>\n",
       "      <th>duration</th>\n",
       "      <th>user_id</th>\n",
       "    </tr>\n",
       "  </thead>\n",
       "  <tbody>\n",
       "    <tr>\n",
       "      <th>0</th>\n",
       "      <td>1000_0</td>\n",
       "      <td>2018-07-25</td>\n",
       "      <td>0.00</td>\n",
       "      <td>1000</td>\n",
       "    </tr>\n",
       "    <tr>\n",
       "      <th>1</th>\n",
       "      <td>1000_1</td>\n",
       "      <td>2018-08-17</td>\n",
       "      <td>0.00</td>\n",
       "      <td>1000</td>\n",
       "    </tr>\n",
       "    <tr>\n",
       "      <th>2</th>\n",
       "      <td>1000_2</td>\n",
       "      <td>2018-06-11</td>\n",
       "      <td>2.85</td>\n",
       "      <td>1000</td>\n",
       "    </tr>\n",
       "    <tr>\n",
       "      <th>3</th>\n",
       "      <td>1000_3</td>\n",
       "      <td>2018-09-21</td>\n",
       "      <td>13.80</td>\n",
       "      <td>1000</td>\n",
       "    </tr>\n",
       "    <tr>\n",
       "      <th>4</th>\n",
       "      <td>1000_4</td>\n",
       "      <td>2018-12-15</td>\n",
       "      <td>5.18</td>\n",
       "      <td>1000</td>\n",
       "    </tr>\n",
       "    <tr>\n",
       "      <th>...</th>\n",
       "      <td>...</td>\n",
       "      <td>...</td>\n",
       "      <td>...</td>\n",
       "      <td>...</td>\n",
       "    </tr>\n",
       "    <tr>\n",
       "      <th>202602</th>\n",
       "      <td>1499_215</td>\n",
       "      <td>2018-12-26</td>\n",
       "      <td>0.76</td>\n",
       "      <td>1499</td>\n",
       "    </tr>\n",
       "    <tr>\n",
       "      <th>202603</th>\n",
       "      <td>1499_216</td>\n",
       "      <td>2018-10-18</td>\n",
       "      <td>18.83</td>\n",
       "      <td>1499</td>\n",
       "    </tr>\n",
       "    <tr>\n",
       "      <th>202604</th>\n",
       "      <td>1499_217</td>\n",
       "      <td>2018-11-10</td>\n",
       "      <td>10.81</td>\n",
       "      <td>1499</td>\n",
       "    </tr>\n",
       "    <tr>\n",
       "      <th>202605</th>\n",
       "      <td>1499_218</td>\n",
       "      <td>2018-10-06</td>\n",
       "      <td>4.27</td>\n",
       "      <td>1499</td>\n",
       "    </tr>\n",
       "    <tr>\n",
       "      <th>202606</th>\n",
       "      <td>1499_219</td>\n",
       "      <td>2018-12-14</td>\n",
       "      <td>19.62</td>\n",
       "      <td>1499</td>\n",
       "    </tr>\n",
       "  </tbody>\n",
       "</table>\n",
       "<p>202607 rows × 4 columns</p>\n",
       "</div>"
      ],
      "text/plain": [
       "              id  call_date  duration  user_id\n",
       "0         1000_0 2018-07-25      0.00     1000\n",
       "1         1000_1 2018-08-17      0.00     1000\n",
       "2         1000_2 2018-06-11      2.85     1000\n",
       "3         1000_3 2018-09-21     13.80     1000\n",
       "4         1000_4 2018-12-15      5.18     1000\n",
       "...          ...        ...       ...      ...\n",
       "202602  1499_215 2018-12-26      0.76     1499\n",
       "202603  1499_216 2018-10-18     18.83     1499\n",
       "202604  1499_217 2018-11-10     10.81     1499\n",
       "202605  1499_218 2018-10-06      4.27     1499\n",
       "202606  1499_219 2018-12-14     19.62     1499\n",
       "\n",
       "[202607 rows x 4 columns]"
      ]
     },
     "metadata": {},
     "output_type": "display_data"
    },
    {
     "name": "stdout",
     "output_type": "stream",
     "text": [
      "<class 'pandas.core.frame.DataFrame'>\n",
      "RangeIndex: 202607 entries, 0 to 202606\n",
      "Data columns (total 4 columns):\n",
      " #   Column     Non-Null Count   Dtype         \n",
      "---  ------     --------------   -----         \n",
      " 0   id         202607 non-null  object        \n",
      " 1   call_date  202607 non-null  datetime64[ns]\n",
      " 2   duration   202607 non-null  float64       \n",
      " 3   user_id    202607 non-null  int64         \n",
      "dtypes: datetime64[ns](1), float64(1), int64(1), object(1)\n",
      "memory usage: 6.2+ MB\n"
     ]
    },
    {
     "data": {
      "text/plain": [
       "id           0\n",
       "call_date    0\n",
       "duration     0\n",
       "user_id      0\n",
       "dtype: int64"
      ]
     },
     "metadata": {},
     "output_type": "display_data"
    },
    {
     "data": {
      "text/html": [
       "<div>\n",
       "<style scoped>\n",
       "    .dataframe tbody tr th:only-of-type {\n",
       "        vertical-align: middle;\n",
       "    }\n",
       "\n",
       "    .dataframe tbody tr th {\n",
       "        vertical-align: top;\n",
       "    }\n",
       "\n",
       "    .dataframe thead th {\n",
       "        text-align: right;\n",
       "    }\n",
       "</style>\n",
       "<table border=\"1\" class=\"dataframe\">\n",
       "  <thead>\n",
       "    <tr style=\"text-align: right;\">\n",
       "      <th></th>\n",
       "      <th>duration</th>\n",
       "      <th>user_id</th>\n",
       "    </tr>\n",
       "  </thead>\n",
       "  <tbody>\n",
       "    <tr>\n",
       "      <th>count</th>\n",
       "      <td>202607.000000</td>\n",
       "      <td>202607.000000</td>\n",
       "    </tr>\n",
       "    <tr>\n",
       "      <th>mean</th>\n",
       "      <td>6.755887</td>\n",
       "      <td>1253.940619</td>\n",
       "    </tr>\n",
       "    <tr>\n",
       "      <th>std</th>\n",
       "      <td>5.843365</td>\n",
       "      <td>144.722751</td>\n",
       "    </tr>\n",
       "    <tr>\n",
       "      <th>min</th>\n",
       "      <td>0.000000</td>\n",
       "      <td>1000.000000</td>\n",
       "    </tr>\n",
       "    <tr>\n",
       "      <th>25%</th>\n",
       "      <td>1.300000</td>\n",
       "      <td>1126.000000</td>\n",
       "    </tr>\n",
       "    <tr>\n",
       "      <th>50%</th>\n",
       "      <td>6.000000</td>\n",
       "      <td>1260.000000</td>\n",
       "    </tr>\n",
       "    <tr>\n",
       "      <th>75%</th>\n",
       "      <td>10.700000</td>\n",
       "      <td>1379.000000</td>\n",
       "    </tr>\n",
       "    <tr>\n",
       "      <th>max</th>\n",
       "      <td>38.000000</td>\n",
       "      <td>1499.000000</td>\n",
       "    </tr>\n",
       "  </tbody>\n",
       "</table>\n",
       "</div>"
      ],
      "text/plain": [
       "            duration        user_id\n",
       "count  202607.000000  202607.000000\n",
       "mean        6.755887    1253.940619\n",
       "std         5.843365     144.722751\n",
       "min         0.000000    1000.000000\n",
       "25%         1.300000    1126.000000\n",
       "50%         6.000000    1260.000000\n",
       "75%        10.700000    1379.000000\n",
       "max        38.000000    1499.000000"
      ]
     },
     "metadata": {},
     "output_type": "display_data"
    },
    {
     "data": {
      "text/plain": [
       "0"
      ]
     },
     "execution_count": 3,
     "metadata": {},
     "output_type": "execute_result"
    }
   ],
   "source": [
    "display(calls)\n",
    "calls.info()\n",
    "display(calls.isna().sum())\n",
    "display(calls.describe())\n",
    "calls.duplicated().sum()"
   ]
  },
  {
   "cell_type": "code",
   "execution_count": 4,
   "metadata": {},
   "outputs": [
    {
     "data": {
      "text/html": [
       "<div>\n",
       "<style scoped>\n",
       "    .dataframe tbody tr th:only-of-type {\n",
       "        vertical-align: middle;\n",
       "    }\n",
       "\n",
       "    .dataframe tbody tr th {\n",
       "        vertical-align: top;\n",
       "    }\n",
       "\n",
       "    .dataframe thead th {\n",
       "        text-align: right;\n",
       "    }\n",
       "</style>\n",
       "<table border=\"1\" class=\"dataframe\">\n",
       "  <thead>\n",
       "    <tr style=\"text-align: right;\">\n",
       "      <th></th>\n",
       "      <th>Unnamed: 0</th>\n",
       "      <th>id</th>\n",
       "      <th>mb_used</th>\n",
       "      <th>session_date</th>\n",
       "      <th>user_id</th>\n",
       "    </tr>\n",
       "  </thead>\n",
       "  <tbody>\n",
       "    <tr>\n",
       "      <th>0</th>\n",
       "      <td>0</td>\n",
       "      <td>1000_0</td>\n",
       "      <td>112.95</td>\n",
       "      <td>2018-11-25</td>\n",
       "      <td>1000</td>\n",
       "    </tr>\n",
       "    <tr>\n",
       "      <th>1</th>\n",
       "      <td>1</td>\n",
       "      <td>1000_1</td>\n",
       "      <td>1052.81</td>\n",
       "      <td>2018-09-07</td>\n",
       "      <td>1000</td>\n",
       "    </tr>\n",
       "    <tr>\n",
       "      <th>2</th>\n",
       "      <td>2</td>\n",
       "      <td>1000_2</td>\n",
       "      <td>1197.26</td>\n",
       "      <td>2018-06-25</td>\n",
       "      <td>1000</td>\n",
       "    </tr>\n",
       "    <tr>\n",
       "      <th>3</th>\n",
       "      <td>3</td>\n",
       "      <td>1000_3</td>\n",
       "      <td>550.27</td>\n",
       "      <td>2018-08-22</td>\n",
       "      <td>1000</td>\n",
       "    </tr>\n",
       "    <tr>\n",
       "      <th>4</th>\n",
       "      <td>4</td>\n",
       "      <td>1000_4</td>\n",
       "      <td>302.56</td>\n",
       "      <td>2018-09-24</td>\n",
       "      <td>1000</td>\n",
       "    </tr>\n",
       "    <tr>\n",
       "      <th>...</th>\n",
       "      <td>...</td>\n",
       "      <td>...</td>\n",
       "      <td>...</td>\n",
       "      <td>...</td>\n",
       "      <td>...</td>\n",
       "    </tr>\n",
       "    <tr>\n",
       "      <th>149391</th>\n",
       "      <td>149391</td>\n",
       "      <td>1499_152</td>\n",
       "      <td>318.90</td>\n",
       "      <td>2018-10-03</td>\n",
       "      <td>1499</td>\n",
       "    </tr>\n",
       "    <tr>\n",
       "      <th>149392</th>\n",
       "      <td>149392</td>\n",
       "      <td>1499_153</td>\n",
       "      <td>490.13</td>\n",
       "      <td>2018-12-14</td>\n",
       "      <td>1499</td>\n",
       "    </tr>\n",
       "    <tr>\n",
       "      <th>149393</th>\n",
       "      <td>149393</td>\n",
       "      <td>1499_154</td>\n",
       "      <td>0.00</td>\n",
       "      <td>2018-10-27</td>\n",
       "      <td>1499</td>\n",
       "    </tr>\n",
       "    <tr>\n",
       "      <th>149394</th>\n",
       "      <td>149394</td>\n",
       "      <td>1499_155</td>\n",
       "      <td>1246.32</td>\n",
       "      <td>2018-11-26</td>\n",
       "      <td>1499</td>\n",
       "    </tr>\n",
       "    <tr>\n",
       "      <th>149395</th>\n",
       "      <td>149395</td>\n",
       "      <td>1499_156</td>\n",
       "      <td>544.37</td>\n",
       "      <td>2018-10-26</td>\n",
       "      <td>1499</td>\n",
       "    </tr>\n",
       "  </tbody>\n",
       "</table>\n",
       "<p>149396 rows × 5 columns</p>\n",
       "</div>"
      ],
      "text/plain": [
       "        Unnamed: 0        id  mb_used session_date  user_id\n",
       "0                0    1000_0   112.95   2018-11-25     1000\n",
       "1                1    1000_1  1052.81   2018-09-07     1000\n",
       "2                2    1000_2  1197.26   2018-06-25     1000\n",
       "3                3    1000_3   550.27   2018-08-22     1000\n",
       "4                4    1000_4   302.56   2018-09-24     1000\n",
       "...            ...       ...      ...          ...      ...\n",
       "149391      149391  1499_152   318.90   2018-10-03     1499\n",
       "149392      149392  1499_153   490.13   2018-12-14     1499\n",
       "149393      149393  1499_154     0.00   2018-10-27     1499\n",
       "149394      149394  1499_155  1246.32   2018-11-26     1499\n",
       "149395      149395  1499_156   544.37   2018-10-26     1499\n",
       "\n",
       "[149396 rows x 5 columns]"
      ]
     },
     "metadata": {},
     "output_type": "display_data"
    },
    {
     "name": "stdout",
     "output_type": "stream",
     "text": [
      "<class 'pandas.core.frame.DataFrame'>\n",
      "RangeIndex: 149396 entries, 0 to 149395\n",
      "Data columns (total 5 columns):\n",
      " #   Column        Non-Null Count   Dtype         \n",
      "---  ------        --------------   -----         \n",
      " 0   Unnamed: 0    149396 non-null  int64         \n",
      " 1   id            149396 non-null  object        \n",
      " 2   mb_used       149396 non-null  float64       \n",
      " 3   session_date  149396 non-null  datetime64[ns]\n",
      " 4   user_id       149396 non-null  int64         \n",
      "dtypes: datetime64[ns](1), float64(1), int64(2), object(1)\n",
      "memory usage: 5.7+ MB\n"
     ]
    },
    {
     "data": {
      "text/plain": [
       "Unnamed: 0      0\n",
       "id              0\n",
       "mb_used         0\n",
       "session_date    0\n",
       "user_id         0\n",
       "dtype: int64"
      ]
     },
     "metadata": {},
     "output_type": "display_data"
    },
    {
     "data": {
      "text/html": [
       "<div>\n",
       "<style scoped>\n",
       "    .dataframe tbody tr th:only-of-type {\n",
       "        vertical-align: middle;\n",
       "    }\n",
       "\n",
       "    .dataframe tbody tr th {\n",
       "        vertical-align: top;\n",
       "    }\n",
       "\n",
       "    .dataframe thead th {\n",
       "        text-align: right;\n",
       "    }\n",
       "</style>\n",
       "<table border=\"1\" class=\"dataframe\">\n",
       "  <thead>\n",
       "    <tr style=\"text-align: right;\">\n",
       "      <th></th>\n",
       "      <th>Unnamed: 0</th>\n",
       "      <th>mb_used</th>\n",
       "      <th>user_id</th>\n",
       "    </tr>\n",
       "  </thead>\n",
       "  <tbody>\n",
       "    <tr>\n",
       "      <th>count</th>\n",
       "      <td>149396.000000</td>\n",
       "      <td>149396.000000</td>\n",
       "      <td>149396.000000</td>\n",
       "    </tr>\n",
       "    <tr>\n",
       "      <th>mean</th>\n",
       "      <td>74697.500000</td>\n",
       "      <td>370.192426</td>\n",
       "      <td>1252.099842</td>\n",
       "    </tr>\n",
       "    <tr>\n",
       "      <th>std</th>\n",
       "      <td>43127.054745</td>\n",
       "      <td>278.300951</td>\n",
       "      <td>144.050823</td>\n",
       "    </tr>\n",
       "    <tr>\n",
       "      <th>min</th>\n",
       "      <td>0.000000</td>\n",
       "      <td>0.000000</td>\n",
       "      <td>1000.000000</td>\n",
       "    </tr>\n",
       "    <tr>\n",
       "      <th>25%</th>\n",
       "      <td>37348.750000</td>\n",
       "      <td>138.187500</td>\n",
       "      <td>1130.000000</td>\n",
       "    </tr>\n",
       "    <tr>\n",
       "      <th>50%</th>\n",
       "      <td>74697.500000</td>\n",
       "      <td>348.015000</td>\n",
       "      <td>1251.000000</td>\n",
       "    </tr>\n",
       "    <tr>\n",
       "      <th>75%</th>\n",
       "      <td>112046.250000</td>\n",
       "      <td>559.552500</td>\n",
       "      <td>1380.000000</td>\n",
       "    </tr>\n",
       "    <tr>\n",
       "      <th>max</th>\n",
       "      <td>149395.000000</td>\n",
       "      <td>1724.830000</td>\n",
       "      <td>1499.000000</td>\n",
       "    </tr>\n",
       "  </tbody>\n",
       "</table>\n",
       "</div>"
      ],
      "text/plain": [
       "          Unnamed: 0        mb_used        user_id\n",
       "count  149396.000000  149396.000000  149396.000000\n",
       "mean    74697.500000     370.192426    1252.099842\n",
       "std     43127.054745     278.300951     144.050823\n",
       "min         0.000000       0.000000    1000.000000\n",
       "25%     37348.750000     138.187500    1130.000000\n",
       "50%     74697.500000     348.015000    1251.000000\n",
       "75%    112046.250000     559.552500    1380.000000\n",
       "max    149395.000000    1724.830000    1499.000000"
      ]
     },
     "metadata": {},
     "output_type": "display_data"
    },
    {
     "data": {
      "text/plain": [
       "0"
      ]
     },
     "execution_count": 4,
     "metadata": {},
     "output_type": "execute_result"
    }
   ],
   "source": [
    "display(internet)\n",
    "internet.info()\n",
    "display(internet.isna().sum())\n",
    "display(internet.describe())\n",
    "internet.duplicated().sum()"
   ]
  },
  {
   "cell_type": "code",
   "execution_count": 5,
   "metadata": {},
   "outputs": [
    {
     "data": {
      "text/html": [
       "<div>\n",
       "<style scoped>\n",
       "    .dataframe tbody tr th:only-of-type {\n",
       "        vertical-align: middle;\n",
       "    }\n",
       "\n",
       "    .dataframe tbody tr th {\n",
       "        vertical-align: top;\n",
       "    }\n",
       "\n",
       "    .dataframe thead th {\n",
       "        text-align: right;\n",
       "    }\n",
       "</style>\n",
       "<table border=\"1\" class=\"dataframe\">\n",
       "  <thead>\n",
       "    <tr style=\"text-align: right;\">\n",
       "      <th></th>\n",
       "      <th>id</th>\n",
       "      <th>message_date</th>\n",
       "      <th>user_id</th>\n",
       "    </tr>\n",
       "  </thead>\n",
       "  <tbody>\n",
       "    <tr>\n",
       "      <th>0</th>\n",
       "      <td>1000_0</td>\n",
       "      <td>2018-06-27</td>\n",
       "      <td>1000</td>\n",
       "    </tr>\n",
       "    <tr>\n",
       "      <th>1</th>\n",
       "      <td>1000_1</td>\n",
       "      <td>2018-10-08</td>\n",
       "      <td>1000</td>\n",
       "    </tr>\n",
       "    <tr>\n",
       "      <th>2</th>\n",
       "      <td>1000_2</td>\n",
       "      <td>2018-08-04</td>\n",
       "      <td>1000</td>\n",
       "    </tr>\n",
       "    <tr>\n",
       "      <th>3</th>\n",
       "      <td>1000_3</td>\n",
       "      <td>2018-06-16</td>\n",
       "      <td>1000</td>\n",
       "    </tr>\n",
       "    <tr>\n",
       "      <th>4</th>\n",
       "      <td>1000_4</td>\n",
       "      <td>2018-12-05</td>\n",
       "      <td>1000</td>\n",
       "    </tr>\n",
       "    <tr>\n",
       "      <th>...</th>\n",
       "      <td>...</td>\n",
       "      <td>...</td>\n",
       "      <td>...</td>\n",
       "    </tr>\n",
       "    <tr>\n",
       "      <th>123031</th>\n",
       "      <td>1499_179</td>\n",
       "      <td>2018-12-12</td>\n",
       "      <td>1499</td>\n",
       "    </tr>\n",
       "    <tr>\n",
       "      <th>123032</th>\n",
       "      <td>1499_180</td>\n",
       "      <td>2018-09-28</td>\n",
       "      <td>1499</td>\n",
       "    </tr>\n",
       "    <tr>\n",
       "      <th>123033</th>\n",
       "      <td>1499_181</td>\n",
       "      <td>2018-09-27</td>\n",
       "      <td>1499</td>\n",
       "    </tr>\n",
       "    <tr>\n",
       "      <th>123034</th>\n",
       "      <td>1499_182</td>\n",
       "      <td>2018-11-15</td>\n",
       "      <td>1499</td>\n",
       "    </tr>\n",
       "    <tr>\n",
       "      <th>123035</th>\n",
       "      <td>1499_183</td>\n",
       "      <td>2018-11-16</td>\n",
       "      <td>1499</td>\n",
       "    </tr>\n",
       "  </tbody>\n",
       "</table>\n",
       "<p>123036 rows × 3 columns</p>\n",
       "</div>"
      ],
      "text/plain": [
       "              id message_date  user_id\n",
       "0         1000_0   2018-06-27     1000\n",
       "1         1000_1   2018-10-08     1000\n",
       "2         1000_2   2018-08-04     1000\n",
       "3         1000_3   2018-06-16     1000\n",
       "4         1000_4   2018-12-05     1000\n",
       "...          ...          ...      ...\n",
       "123031  1499_179   2018-12-12     1499\n",
       "123032  1499_180   2018-09-28     1499\n",
       "123033  1499_181   2018-09-27     1499\n",
       "123034  1499_182   2018-11-15     1499\n",
       "123035  1499_183   2018-11-16     1499\n",
       "\n",
       "[123036 rows x 3 columns]"
      ]
     },
     "metadata": {},
     "output_type": "display_data"
    },
    {
     "name": "stdout",
     "output_type": "stream",
     "text": [
      "<class 'pandas.core.frame.DataFrame'>\n",
      "RangeIndex: 123036 entries, 0 to 123035\n",
      "Data columns (total 3 columns):\n",
      " #   Column        Non-Null Count   Dtype         \n",
      "---  ------        --------------   -----         \n",
      " 0   id            123036 non-null  object        \n",
      " 1   message_date  123036 non-null  datetime64[ns]\n",
      " 2   user_id       123036 non-null  int64         \n",
      "dtypes: datetime64[ns](1), int64(1), object(1)\n",
      "memory usage: 2.8+ MB\n"
     ]
    },
    {
     "data": {
      "text/plain": [
       "id              0\n",
       "message_date    0\n",
       "user_id         0\n",
       "dtype: int64"
      ]
     },
     "metadata": {},
     "output_type": "display_data"
    },
    {
     "data": {
      "text/html": [
       "<div>\n",
       "<style scoped>\n",
       "    .dataframe tbody tr th:only-of-type {\n",
       "        vertical-align: middle;\n",
       "    }\n",
       "\n",
       "    .dataframe tbody tr th {\n",
       "        vertical-align: top;\n",
       "    }\n",
       "\n",
       "    .dataframe thead th {\n",
       "        text-align: right;\n",
       "    }\n",
       "</style>\n",
       "<table border=\"1\" class=\"dataframe\">\n",
       "  <thead>\n",
       "    <tr style=\"text-align: right;\">\n",
       "      <th></th>\n",
       "      <th>user_id</th>\n",
       "    </tr>\n",
       "  </thead>\n",
       "  <tbody>\n",
       "    <tr>\n",
       "      <th>count</th>\n",
       "      <td>123036.000000</td>\n",
       "    </tr>\n",
       "    <tr>\n",
       "      <th>mean</th>\n",
       "      <td>1256.989410</td>\n",
       "    </tr>\n",
       "    <tr>\n",
       "      <th>std</th>\n",
       "      <td>143.523967</td>\n",
       "    </tr>\n",
       "    <tr>\n",
       "      <th>min</th>\n",
       "      <td>1000.000000</td>\n",
       "    </tr>\n",
       "    <tr>\n",
       "      <th>25%</th>\n",
       "      <td>1134.000000</td>\n",
       "    </tr>\n",
       "    <tr>\n",
       "      <th>50%</th>\n",
       "      <td>1271.000000</td>\n",
       "    </tr>\n",
       "    <tr>\n",
       "      <th>75%</th>\n",
       "      <td>1381.000000</td>\n",
       "    </tr>\n",
       "    <tr>\n",
       "      <th>max</th>\n",
       "      <td>1499.000000</td>\n",
       "    </tr>\n",
       "  </tbody>\n",
       "</table>\n",
       "</div>"
      ],
      "text/plain": [
       "             user_id\n",
       "count  123036.000000\n",
       "mean     1256.989410\n",
       "std       143.523967\n",
       "min      1000.000000\n",
       "25%      1134.000000\n",
       "50%      1271.000000\n",
       "75%      1381.000000\n",
       "max      1499.000000"
      ]
     },
     "metadata": {},
     "output_type": "display_data"
    },
    {
     "data": {
      "text/plain": [
       "0"
      ]
     },
     "execution_count": 5,
     "metadata": {},
     "output_type": "execute_result"
    }
   ],
   "source": [
    "display(messages)\n",
    "messages.info()\n",
    "display(messages.isna().sum())\n",
    "display(messages.describe())\n",
    "messages.duplicated().sum()"
   ]
  },
  {
   "cell_type": "code",
   "execution_count": 6,
   "metadata": {},
   "outputs": [
    {
     "data": {
      "text/html": [
       "<div>\n",
       "<style scoped>\n",
       "    .dataframe tbody tr th:only-of-type {\n",
       "        vertical-align: middle;\n",
       "    }\n",
       "\n",
       "    .dataframe tbody tr th {\n",
       "        vertical-align: top;\n",
       "    }\n",
       "\n",
       "    .dataframe thead th {\n",
       "        text-align: right;\n",
       "    }\n",
       "</style>\n",
       "<table border=\"1\" class=\"dataframe\">\n",
       "  <thead>\n",
       "    <tr style=\"text-align: right;\">\n",
       "      <th></th>\n",
       "      <th>messages_included</th>\n",
       "      <th>mb_per_month_included</th>\n",
       "      <th>minutes_included</th>\n",
       "      <th>rub_monthly_fee</th>\n",
       "      <th>rub_per_gb</th>\n",
       "      <th>rub_per_message</th>\n",
       "      <th>rub_per_minute</th>\n",
       "      <th>tariff_name</th>\n",
       "    </tr>\n",
       "  </thead>\n",
       "  <tbody>\n",
       "    <tr>\n",
       "      <th>0</th>\n",
       "      <td>50</td>\n",
       "      <td>15360</td>\n",
       "      <td>500</td>\n",
       "      <td>550</td>\n",
       "      <td>200</td>\n",
       "      <td>3</td>\n",
       "      <td>3</td>\n",
       "      <td>smart</td>\n",
       "    </tr>\n",
       "    <tr>\n",
       "      <th>1</th>\n",
       "      <td>1000</td>\n",
       "      <td>30720</td>\n",
       "      <td>3000</td>\n",
       "      <td>1950</td>\n",
       "      <td>150</td>\n",
       "      <td>1</td>\n",
       "      <td>1</td>\n",
       "      <td>ultra</td>\n",
       "    </tr>\n",
       "  </tbody>\n",
       "</table>\n",
       "</div>"
      ],
      "text/plain": [
       "   messages_included  mb_per_month_included  minutes_included  \\\n",
       "0                 50                  15360               500   \n",
       "1               1000                  30720              3000   \n",
       "\n",
       "   rub_monthly_fee  rub_per_gb  rub_per_message  rub_per_minute tariff_name  \n",
       "0              550         200                3               3       smart  \n",
       "1             1950         150                1               1       ultra  "
      ]
     },
     "metadata": {},
     "output_type": "display_data"
    },
    {
     "name": "stdout",
     "output_type": "stream",
     "text": [
      "<class 'pandas.core.frame.DataFrame'>\n",
      "RangeIndex: 2 entries, 0 to 1\n",
      "Data columns (total 8 columns):\n",
      " #   Column                 Non-Null Count  Dtype \n",
      "---  ------                 --------------  ----- \n",
      " 0   messages_included      2 non-null      int64 \n",
      " 1   mb_per_month_included  2 non-null      int64 \n",
      " 2   minutes_included       2 non-null      int64 \n",
      " 3   rub_monthly_fee        2 non-null      int64 \n",
      " 4   rub_per_gb             2 non-null      int64 \n",
      " 5   rub_per_message        2 non-null      int64 \n",
      " 6   rub_per_minute         2 non-null      int64 \n",
      " 7   tariff_name            2 non-null      object\n",
      "dtypes: int64(7), object(1)\n",
      "memory usage: 256.0+ bytes\n"
     ]
    },
    {
     "data": {
      "text/plain": [
       "messages_included        0\n",
       "mb_per_month_included    0\n",
       "minutes_included         0\n",
       "rub_monthly_fee          0\n",
       "rub_per_gb               0\n",
       "rub_per_message          0\n",
       "rub_per_minute           0\n",
       "tariff_name              0\n",
       "dtype: int64"
      ]
     },
     "metadata": {},
     "output_type": "display_data"
    },
    {
     "data": {
      "text/html": [
       "<div>\n",
       "<style scoped>\n",
       "    .dataframe tbody tr th:only-of-type {\n",
       "        vertical-align: middle;\n",
       "    }\n",
       "\n",
       "    .dataframe tbody tr th {\n",
       "        vertical-align: top;\n",
       "    }\n",
       "\n",
       "    .dataframe thead th {\n",
       "        text-align: right;\n",
       "    }\n",
       "</style>\n",
       "<table border=\"1\" class=\"dataframe\">\n",
       "  <thead>\n",
       "    <tr style=\"text-align: right;\">\n",
       "      <th></th>\n",
       "      <th>messages_included</th>\n",
       "      <th>mb_per_month_included</th>\n",
       "      <th>minutes_included</th>\n",
       "      <th>rub_monthly_fee</th>\n",
       "      <th>rub_per_gb</th>\n",
       "      <th>rub_per_message</th>\n",
       "      <th>rub_per_minute</th>\n",
       "    </tr>\n",
       "  </thead>\n",
       "  <tbody>\n",
       "    <tr>\n",
       "      <th>count</th>\n",
       "      <td>2.000000</td>\n",
       "      <td>2.000000</td>\n",
       "      <td>2.000000</td>\n",
       "      <td>2.000000</td>\n",
       "      <td>2.000000</td>\n",
       "      <td>2.000000</td>\n",
       "      <td>2.000000</td>\n",
       "    </tr>\n",
       "    <tr>\n",
       "      <th>mean</th>\n",
       "      <td>525.000000</td>\n",
       "      <td>23040.000000</td>\n",
       "      <td>1750.000000</td>\n",
       "      <td>1250.000000</td>\n",
       "      <td>175.000000</td>\n",
       "      <td>2.000000</td>\n",
       "      <td>2.000000</td>\n",
       "    </tr>\n",
       "    <tr>\n",
       "      <th>std</th>\n",
       "      <td>671.751442</td>\n",
       "      <td>10861.160159</td>\n",
       "      <td>1767.766953</td>\n",
       "      <td>989.949494</td>\n",
       "      <td>35.355339</td>\n",
       "      <td>1.414214</td>\n",
       "      <td>1.414214</td>\n",
       "    </tr>\n",
       "    <tr>\n",
       "      <th>min</th>\n",
       "      <td>50.000000</td>\n",
       "      <td>15360.000000</td>\n",
       "      <td>500.000000</td>\n",
       "      <td>550.000000</td>\n",
       "      <td>150.000000</td>\n",
       "      <td>1.000000</td>\n",
       "      <td>1.000000</td>\n",
       "    </tr>\n",
       "    <tr>\n",
       "      <th>25%</th>\n",
       "      <td>287.500000</td>\n",
       "      <td>19200.000000</td>\n",
       "      <td>1125.000000</td>\n",
       "      <td>900.000000</td>\n",
       "      <td>162.500000</td>\n",
       "      <td>1.500000</td>\n",
       "      <td>1.500000</td>\n",
       "    </tr>\n",
       "    <tr>\n",
       "      <th>50%</th>\n",
       "      <td>525.000000</td>\n",
       "      <td>23040.000000</td>\n",
       "      <td>1750.000000</td>\n",
       "      <td>1250.000000</td>\n",
       "      <td>175.000000</td>\n",
       "      <td>2.000000</td>\n",
       "      <td>2.000000</td>\n",
       "    </tr>\n",
       "    <tr>\n",
       "      <th>75%</th>\n",
       "      <td>762.500000</td>\n",
       "      <td>26880.000000</td>\n",
       "      <td>2375.000000</td>\n",
       "      <td>1600.000000</td>\n",
       "      <td>187.500000</td>\n",
       "      <td>2.500000</td>\n",
       "      <td>2.500000</td>\n",
       "    </tr>\n",
       "    <tr>\n",
       "      <th>max</th>\n",
       "      <td>1000.000000</td>\n",
       "      <td>30720.000000</td>\n",
       "      <td>3000.000000</td>\n",
       "      <td>1950.000000</td>\n",
       "      <td>200.000000</td>\n",
       "      <td>3.000000</td>\n",
       "      <td>3.000000</td>\n",
       "    </tr>\n",
       "  </tbody>\n",
       "</table>\n",
       "</div>"
      ],
      "text/plain": [
       "       messages_included  mb_per_month_included  minutes_included  \\\n",
       "count           2.000000               2.000000          2.000000   \n",
       "mean          525.000000           23040.000000       1750.000000   \n",
       "std           671.751442           10861.160159       1767.766953   \n",
       "min            50.000000           15360.000000        500.000000   \n",
       "25%           287.500000           19200.000000       1125.000000   \n",
       "50%           525.000000           23040.000000       1750.000000   \n",
       "75%           762.500000           26880.000000       2375.000000   \n",
       "max          1000.000000           30720.000000       3000.000000   \n",
       "\n",
       "       rub_monthly_fee  rub_per_gb  rub_per_message  rub_per_minute  \n",
       "count         2.000000    2.000000         2.000000        2.000000  \n",
       "mean       1250.000000  175.000000         2.000000        2.000000  \n",
       "std         989.949494   35.355339         1.414214        1.414214  \n",
       "min         550.000000  150.000000         1.000000        1.000000  \n",
       "25%         900.000000  162.500000         1.500000        1.500000  \n",
       "50%        1250.000000  175.000000         2.000000        2.000000  \n",
       "75%        1600.000000  187.500000         2.500000        2.500000  \n",
       "max        1950.000000  200.000000         3.000000        3.000000  "
      ]
     },
     "metadata": {},
     "output_type": "display_data"
    },
    {
     "data": {
      "text/plain": [
       "0"
      ]
     },
     "execution_count": 6,
     "metadata": {},
     "output_type": "execute_result"
    }
   ],
   "source": [
    "display(tariff)\n",
    "tariff.info()\n",
    "display(tariff.isna().sum())\n",
    "display(tariff.describe())\n",
    "tariff.duplicated().sum()"
   ]
  },
  {
   "cell_type": "code",
   "execution_count": 7,
   "metadata": {},
   "outputs": [
    {
     "data": {
      "text/html": [
       "<div>\n",
       "<style scoped>\n",
       "    .dataframe tbody tr th:only-of-type {\n",
       "        vertical-align: middle;\n",
       "    }\n",
       "\n",
       "    .dataframe tbody tr th {\n",
       "        vertical-align: top;\n",
       "    }\n",
       "\n",
       "    .dataframe thead th {\n",
       "        text-align: right;\n",
       "    }\n",
       "</style>\n",
       "<table border=\"1\" class=\"dataframe\">\n",
       "  <thead>\n",
       "    <tr style=\"text-align: right;\">\n",
       "      <th></th>\n",
       "      <th>user_id</th>\n",
       "      <th>age</th>\n",
       "      <th>churn_date</th>\n",
       "      <th>city</th>\n",
       "      <th>first_name</th>\n",
       "      <th>last_name</th>\n",
       "      <th>reg_date</th>\n",
       "      <th>tariff</th>\n",
       "    </tr>\n",
       "  </thead>\n",
       "  <tbody>\n",
       "    <tr>\n",
       "      <th>0</th>\n",
       "      <td>1000</td>\n",
       "      <td>52</td>\n",
       "      <td>NaT</td>\n",
       "      <td>Краснодар</td>\n",
       "      <td>Рафаил</td>\n",
       "      <td>Верещагин</td>\n",
       "      <td>2018-05-25</td>\n",
       "      <td>ultra</td>\n",
       "    </tr>\n",
       "    <tr>\n",
       "      <th>1</th>\n",
       "      <td>1001</td>\n",
       "      <td>41</td>\n",
       "      <td>NaT</td>\n",
       "      <td>Москва</td>\n",
       "      <td>Иван</td>\n",
       "      <td>Ежов</td>\n",
       "      <td>2018-11-01</td>\n",
       "      <td>smart</td>\n",
       "    </tr>\n",
       "    <tr>\n",
       "      <th>2</th>\n",
       "      <td>1002</td>\n",
       "      <td>59</td>\n",
       "      <td>NaT</td>\n",
       "      <td>Стерлитамак</td>\n",
       "      <td>Евгений</td>\n",
       "      <td>Абрамович</td>\n",
       "      <td>2018-06-17</td>\n",
       "      <td>smart</td>\n",
       "    </tr>\n",
       "    <tr>\n",
       "      <th>3</th>\n",
       "      <td>1003</td>\n",
       "      <td>23</td>\n",
       "      <td>NaT</td>\n",
       "      <td>Москва</td>\n",
       "      <td>Белла</td>\n",
       "      <td>Белякова</td>\n",
       "      <td>2018-08-17</td>\n",
       "      <td>ultra</td>\n",
       "    </tr>\n",
       "    <tr>\n",
       "      <th>4</th>\n",
       "      <td>1004</td>\n",
       "      <td>68</td>\n",
       "      <td>NaT</td>\n",
       "      <td>Новокузнецк</td>\n",
       "      <td>Татьяна</td>\n",
       "      <td>Авдеенко</td>\n",
       "      <td>2018-05-14</td>\n",
       "      <td>ultra</td>\n",
       "    </tr>\n",
       "    <tr>\n",
       "      <th>...</th>\n",
       "      <td>...</td>\n",
       "      <td>...</td>\n",
       "      <td>...</td>\n",
       "      <td>...</td>\n",
       "      <td>...</td>\n",
       "      <td>...</td>\n",
       "      <td>...</td>\n",
       "      <td>...</td>\n",
       "    </tr>\n",
       "    <tr>\n",
       "      <th>495</th>\n",
       "      <td>1495</td>\n",
       "      <td>65</td>\n",
       "      <td>NaT</td>\n",
       "      <td>Иркутск</td>\n",
       "      <td>Авксентий</td>\n",
       "      <td>Фокин</td>\n",
       "      <td>2018-08-28</td>\n",
       "      <td>ultra</td>\n",
       "    </tr>\n",
       "    <tr>\n",
       "      <th>496</th>\n",
       "      <td>1496</td>\n",
       "      <td>36</td>\n",
       "      <td>NaT</td>\n",
       "      <td>Вологда</td>\n",
       "      <td>Трифон</td>\n",
       "      <td>Блохин</td>\n",
       "      <td>2018-01-27</td>\n",
       "      <td>smart</td>\n",
       "    </tr>\n",
       "    <tr>\n",
       "      <th>497</th>\n",
       "      <td>1497</td>\n",
       "      <td>32</td>\n",
       "      <td>NaT</td>\n",
       "      <td>Челябинск</td>\n",
       "      <td>Каролина</td>\n",
       "      <td>Агеева</td>\n",
       "      <td>2018-10-09</td>\n",
       "      <td>smart</td>\n",
       "    </tr>\n",
       "    <tr>\n",
       "      <th>498</th>\n",
       "      <td>1498</td>\n",
       "      <td>68</td>\n",
       "      <td>2018-10-25</td>\n",
       "      <td>Владикавказ</td>\n",
       "      <td>Всеволод</td>\n",
       "      <td>Акимчин</td>\n",
       "      <td>2018-07-19</td>\n",
       "      <td>smart</td>\n",
       "    </tr>\n",
       "    <tr>\n",
       "      <th>499</th>\n",
       "      <td>1499</td>\n",
       "      <td>35</td>\n",
       "      <td>NaT</td>\n",
       "      <td>Пермь</td>\n",
       "      <td>Гектор</td>\n",
       "      <td>Корнилов</td>\n",
       "      <td>2018-09-27</td>\n",
       "      <td>smart</td>\n",
       "    </tr>\n",
       "  </tbody>\n",
       "</table>\n",
       "<p>500 rows × 8 columns</p>\n",
       "</div>"
      ],
      "text/plain": [
       "     user_id  age churn_date         city first_name  last_name   reg_date  \\\n",
       "0       1000   52        NaT    Краснодар     Рафаил  Верещагин 2018-05-25   \n",
       "1       1001   41        NaT       Москва       Иван       Ежов 2018-11-01   \n",
       "2       1002   59        NaT  Стерлитамак    Евгений  Абрамович 2018-06-17   \n",
       "3       1003   23        NaT       Москва      Белла   Белякова 2018-08-17   \n",
       "4       1004   68        NaT  Новокузнецк    Татьяна   Авдеенко 2018-05-14   \n",
       "..       ...  ...        ...          ...        ...        ...        ...   \n",
       "495     1495   65        NaT      Иркутск  Авксентий      Фокин 2018-08-28   \n",
       "496     1496   36        NaT      Вологда     Трифон     Блохин 2018-01-27   \n",
       "497     1497   32        NaT    Челябинск   Каролина     Агеева 2018-10-09   \n",
       "498     1498   68 2018-10-25  Владикавказ   Всеволод    Акимчин 2018-07-19   \n",
       "499     1499   35        NaT        Пермь     Гектор   Корнилов 2018-09-27   \n",
       "\n",
       "    tariff  \n",
       "0    ultra  \n",
       "1    smart  \n",
       "2    smart  \n",
       "3    ultra  \n",
       "4    ultra  \n",
       "..     ...  \n",
       "495  ultra  \n",
       "496  smart  \n",
       "497  smart  \n",
       "498  smart  \n",
       "499  smart  \n",
       "\n",
       "[500 rows x 8 columns]"
      ]
     },
     "metadata": {},
     "output_type": "display_data"
    },
    {
     "name": "stdout",
     "output_type": "stream",
     "text": [
      "<class 'pandas.core.frame.DataFrame'>\n",
      "RangeIndex: 500 entries, 0 to 499\n",
      "Data columns (total 8 columns):\n",
      " #   Column      Non-Null Count  Dtype         \n",
      "---  ------      --------------  -----         \n",
      " 0   user_id     500 non-null    int64         \n",
      " 1   age         500 non-null    int64         \n",
      " 2   churn_date  38 non-null     datetime64[ns]\n",
      " 3   city        500 non-null    object        \n",
      " 4   first_name  500 non-null    object        \n",
      " 5   last_name   500 non-null    object        \n",
      " 6   reg_date    500 non-null    datetime64[ns]\n",
      " 7   tariff      500 non-null    object        \n",
      "dtypes: datetime64[ns](2), int64(2), object(4)\n",
      "memory usage: 31.4+ KB\n"
     ]
    },
    {
     "data": {
      "text/plain": [
       "user_id         0\n",
       "age             0\n",
       "churn_date    462\n",
       "city            0\n",
       "first_name      0\n",
       "last_name       0\n",
       "reg_date        0\n",
       "tariff          0\n",
       "dtype: int64"
      ]
     },
     "metadata": {},
     "output_type": "display_data"
    },
    {
     "data": {
      "text/html": [
       "<div>\n",
       "<style scoped>\n",
       "    .dataframe tbody tr th:only-of-type {\n",
       "        vertical-align: middle;\n",
       "    }\n",
       "\n",
       "    .dataframe tbody tr th {\n",
       "        vertical-align: top;\n",
       "    }\n",
       "\n",
       "    .dataframe thead th {\n",
       "        text-align: right;\n",
       "    }\n",
       "</style>\n",
       "<table border=\"1\" class=\"dataframe\">\n",
       "  <thead>\n",
       "    <tr style=\"text-align: right;\">\n",
       "      <th></th>\n",
       "      <th>user_id</th>\n",
       "      <th>age</th>\n",
       "    </tr>\n",
       "  </thead>\n",
       "  <tbody>\n",
       "    <tr>\n",
       "      <th>count</th>\n",
       "      <td>500.000000</td>\n",
       "      <td>500.00000</td>\n",
       "    </tr>\n",
       "    <tr>\n",
       "      <th>mean</th>\n",
       "      <td>1249.500000</td>\n",
       "      <td>46.58800</td>\n",
       "    </tr>\n",
       "    <tr>\n",
       "      <th>std</th>\n",
       "      <td>144.481833</td>\n",
       "      <td>16.66763</td>\n",
       "    </tr>\n",
       "    <tr>\n",
       "      <th>min</th>\n",
       "      <td>1000.000000</td>\n",
       "      <td>18.00000</td>\n",
       "    </tr>\n",
       "    <tr>\n",
       "      <th>25%</th>\n",
       "      <td>1124.750000</td>\n",
       "      <td>32.00000</td>\n",
       "    </tr>\n",
       "    <tr>\n",
       "      <th>50%</th>\n",
       "      <td>1249.500000</td>\n",
       "      <td>46.00000</td>\n",
       "    </tr>\n",
       "    <tr>\n",
       "      <th>75%</th>\n",
       "      <td>1374.250000</td>\n",
       "      <td>62.00000</td>\n",
       "    </tr>\n",
       "    <tr>\n",
       "      <th>max</th>\n",
       "      <td>1499.000000</td>\n",
       "      <td>75.00000</td>\n",
       "    </tr>\n",
       "  </tbody>\n",
       "</table>\n",
       "</div>"
      ],
      "text/plain": [
       "           user_id        age\n",
       "count   500.000000  500.00000\n",
       "mean   1249.500000   46.58800\n",
       "std     144.481833   16.66763\n",
       "min    1000.000000   18.00000\n",
       "25%    1124.750000   32.00000\n",
       "50%    1249.500000   46.00000\n",
       "75%    1374.250000   62.00000\n",
       "max    1499.000000   75.00000"
      ]
     },
     "metadata": {},
     "output_type": "display_data"
    },
    {
     "data": {
      "text/plain": [
       "0"
      ]
     },
     "execution_count": 7,
     "metadata": {},
     "output_type": "execute_result"
    }
   ],
   "source": [
    "display(users)\n",
    "users.info()\n",
    "display(users.isna().sum())\n",
    "display(users.describe())\n",
    "users.duplicated().sum()"
   ]
  },
  {
   "cell_type": "markdown",
   "metadata": {},
   "source": [
    "### Вывод\n",
    "дубликаты отсутствуют,пропуски отсутсвуют(В данных вы найдёте звонки с нулевой продолжительностью. Это не ошибка: нулями обозначены пропущенные звонки, поэтому их не нужно удалять.), с помощью parse_dates изменили необходимые нам  столбцы на тип datetime64, необходиммо поменять в некоторых столбцах тип данных на другой."
   ]
  },
  {
   "cell_type": "markdown",
   "metadata": {},
   "source": [
    "## Предобработка данных"
   ]
  },
  {
   "cell_type": "markdown",
   "metadata": {},
   "source": [
    "### Изменим тип данных, так как «Мегалайн» всегда округляет секунды до минут, а мегабайты — до гигабайт. Также переименуем столбец, чтобы было легче обьединять таблицы"
   ]
  },
  {
   "cell_type": "code",
   "execution_count": 8,
   "metadata": {},
   "outputs": [],
   "source": [
    "calls['duration'] = np.ceil(calls['duration'])\n",
    "internet['id'] = internet['id'].astype(int)\n",
    "internet['gb_used'] = (internet['mb_used']/1024)\n",
    "#заранее создадим столбец с  гб\n",
    "calls['id'] = calls['id'].astype(int)\n",
    "calls['duration'] = calls['duration'].astype(int)\n",
    "messages['id'] = messages['id'].astype(int)                                      \n",
    "tariff = tariff.rename(columns={'tariff_name':'tariff'})\n",
    "tariff['gb_per_month_included'] = (tariff['mb_per_month_included']/1024)\n",
    "tariff.drop(columns=['mb_per_month_included'],inplace = True)\n",
    "#заранее перевили в гб и удалили колонку с мб"
   ]
  },
  {
   "cell_type": "markdown",
   "metadata": {},
   "source": [
    "### Добавим столбец с номером месяца для дальшейших исследований. Посчитаем для каждого пользователя количество сделанных звонков, израсходованных минут разговора по месяцам, количество отправленных сообщений по месяцам,а также объем израсходованного интернет-трафика по месяцам."
   ]
  },
  {
   "cell_type": "code",
   "execution_count": 9,
   "metadata": {},
   "outputs": [],
   "source": [
    "calls['month'] = calls['call_date'].dt.month_name()\n",
    "messages['month'] = messages['message_date'].dt.month_name()\n",
    "internet['month'] = internet['session_date'].dt.month_name()\n",
    "user_calls = calls.groupby(['user_id', 'month']).agg({'duration':'sum', 'id': 'count'}).reset_index().rename(columns = {'duration':'month_calls_duration', 'id':'calls_total_in_month'})\n",
    "user_messages = messages.groupby(['user_id', 'month']).agg({'id' : 'count'}).reset_index().rename(columns={'id': 'sms_month'})\n",
    "user_internet = internet.groupby(['user_id', 'month']).agg({'gb_used':'sum'}).reset_index().rename(columns={'gb_used':'internet_month'})\n",
    "user_internet['internet_month'] = np.ceil(user_internet['internet_month'])#округлили трафик за месяц\n"
   ]
  },
  {
   "cell_type": "code",
   "execution_count": 10,
   "metadata": {},
   "outputs": [
    {
     "data": {
      "text/html": [
       "<div>\n",
       "<style scoped>\n",
       "    .dataframe tbody tr th:only-of-type {\n",
       "        vertical-align: middle;\n",
       "    }\n",
       "\n",
       "    .dataframe tbody tr th {\n",
       "        vertical-align: top;\n",
       "    }\n",
       "\n",
       "    .dataframe thead th {\n",
       "        text-align: right;\n",
       "    }\n",
       "</style>\n",
       "<table border=\"1\" class=\"dataframe\">\n",
       "  <thead>\n",
       "    <tr style=\"text-align: right;\">\n",
       "      <th></th>\n",
       "      <th>user_id</th>\n",
       "      <th>month</th>\n",
       "      <th>month_calls_duration</th>\n",
       "      <th>calls_total_in_month</th>\n",
       "    </tr>\n",
       "  </thead>\n",
       "  <tbody>\n",
       "    <tr>\n",
       "      <th>0</th>\n",
       "      <td>1000</td>\n",
       "      <td>August</td>\n",
       "      <td>408</td>\n",
       "      <td>52</td>\n",
       "    </tr>\n",
       "    <tr>\n",
       "      <th>1</th>\n",
       "      <td>1000</td>\n",
       "      <td>December</td>\n",
       "      <td>333</td>\n",
       "      <td>46</td>\n",
       "    </tr>\n",
       "    <tr>\n",
       "      <th>2</th>\n",
       "      <td>1000</td>\n",
       "      <td>July</td>\n",
       "      <td>340</td>\n",
       "      <td>47</td>\n",
       "    </tr>\n",
       "    <tr>\n",
       "      <th>3</th>\n",
       "      <td>1000</td>\n",
       "      <td>June</td>\n",
       "      <td>172</td>\n",
       "      <td>43</td>\n",
       "    </tr>\n",
       "    <tr>\n",
       "      <th>4</th>\n",
       "      <td>1000</td>\n",
       "      <td>May</td>\n",
       "      <td>159</td>\n",
       "      <td>22</td>\n",
       "    </tr>\n",
       "    <tr>\n",
       "      <th>...</th>\n",
       "      <td>...</td>\n",
       "      <td>...</td>\n",
       "      <td>...</td>\n",
       "      <td>...</td>\n",
       "    </tr>\n",
       "    <tr>\n",
       "      <th>3169</th>\n",
       "      <td>1498</td>\n",
       "      <td>September</td>\n",
       "      <td>471</td>\n",
       "      <td>59</td>\n",
       "    </tr>\n",
       "    <tr>\n",
       "      <th>3170</th>\n",
       "      <td>1499</td>\n",
       "      <td>December</td>\n",
       "      <td>492</td>\n",
       "      <td>69</td>\n",
       "    </tr>\n",
       "    <tr>\n",
       "      <th>3171</th>\n",
       "      <td>1499</td>\n",
       "      <td>November</td>\n",
       "      <td>612</td>\n",
       "      <td>74</td>\n",
       "    </tr>\n",
       "    <tr>\n",
       "      <th>3172</th>\n",
       "      <td>1499</td>\n",
       "      <td>October</td>\n",
       "      <td>449</td>\n",
       "      <td>68</td>\n",
       "    </tr>\n",
       "    <tr>\n",
       "      <th>3173</th>\n",
       "      <td>1499</td>\n",
       "      <td>September</td>\n",
       "      <td>70</td>\n",
       "      <td>9</td>\n",
       "    </tr>\n",
       "  </tbody>\n",
       "</table>\n",
       "<p>3174 rows × 4 columns</p>\n",
       "</div>"
      ],
      "text/plain": [
       "      user_id      month  month_calls_duration  calls_total_in_month\n",
       "0        1000     August                   408                    52\n",
       "1        1000   December                   333                    46\n",
       "2        1000       July                   340                    47\n",
       "3        1000       June                   172                    43\n",
       "4        1000        May                   159                    22\n",
       "...       ...        ...                   ...                   ...\n",
       "3169     1498  September                   471                    59\n",
       "3170     1499   December                   492                    69\n",
       "3171     1499   November                   612                    74\n",
       "3172     1499    October                   449                    68\n",
       "3173     1499  September                    70                     9\n",
       "\n",
       "[3174 rows x 4 columns]"
      ]
     },
     "metadata": {},
     "output_type": "display_data"
    },
    {
     "data": {
      "text/html": [
       "<div>\n",
       "<style scoped>\n",
       "    .dataframe tbody tr th:only-of-type {\n",
       "        vertical-align: middle;\n",
       "    }\n",
       "\n",
       "    .dataframe tbody tr th {\n",
       "        vertical-align: top;\n",
       "    }\n",
       "\n",
       "    .dataframe thead th {\n",
       "        text-align: right;\n",
       "    }\n",
       "</style>\n",
       "<table border=\"1\" class=\"dataframe\">\n",
       "  <thead>\n",
       "    <tr style=\"text-align: right;\">\n",
       "      <th></th>\n",
       "      <th>user_id</th>\n",
       "      <th>month</th>\n",
       "      <th>sms_month</th>\n",
       "    </tr>\n",
       "  </thead>\n",
       "  <tbody>\n",
       "    <tr>\n",
       "      <th>0</th>\n",
       "      <td>1000</td>\n",
       "      <td>August</td>\n",
       "      <td>81</td>\n",
       "    </tr>\n",
       "    <tr>\n",
       "      <th>1</th>\n",
       "      <td>1000</td>\n",
       "      <td>December</td>\n",
       "      <td>70</td>\n",
       "    </tr>\n",
       "    <tr>\n",
       "      <th>2</th>\n",
       "      <td>1000</td>\n",
       "      <td>July</td>\n",
       "      <td>75</td>\n",
       "    </tr>\n",
       "    <tr>\n",
       "      <th>3</th>\n",
       "      <td>1000</td>\n",
       "      <td>June</td>\n",
       "      <td>60</td>\n",
       "    </tr>\n",
       "    <tr>\n",
       "      <th>4</th>\n",
       "      <td>1000</td>\n",
       "      <td>May</td>\n",
       "      <td>22</td>\n",
       "    </tr>\n",
       "    <tr>\n",
       "      <th>...</th>\n",
       "      <td>...</td>\n",
       "      <td>...</td>\n",
       "      <td>...</td>\n",
       "    </tr>\n",
       "    <tr>\n",
       "      <th>2712</th>\n",
       "      <td>1498</td>\n",
       "      <td>September</td>\n",
       "      <td>44</td>\n",
       "    </tr>\n",
       "    <tr>\n",
       "      <th>2713</th>\n",
       "      <td>1499</td>\n",
       "      <td>December</td>\n",
       "      <td>66</td>\n",
       "    </tr>\n",
       "    <tr>\n",
       "      <th>2714</th>\n",
       "      <td>1499</td>\n",
       "      <td>November</td>\n",
       "      <td>59</td>\n",
       "    </tr>\n",
       "    <tr>\n",
       "      <th>2715</th>\n",
       "      <td>1499</td>\n",
       "      <td>October</td>\n",
       "      <td>48</td>\n",
       "    </tr>\n",
       "    <tr>\n",
       "      <th>2716</th>\n",
       "      <td>1499</td>\n",
       "      <td>September</td>\n",
       "      <td>11</td>\n",
       "    </tr>\n",
       "  </tbody>\n",
       "</table>\n",
       "<p>2717 rows × 3 columns</p>\n",
       "</div>"
      ],
      "text/plain": [
       "      user_id      month  sms_month\n",
       "0        1000     August         81\n",
       "1        1000   December         70\n",
       "2        1000       July         75\n",
       "3        1000       June         60\n",
       "4        1000        May         22\n",
       "...       ...        ...        ...\n",
       "2712     1498  September         44\n",
       "2713     1499   December         66\n",
       "2714     1499   November         59\n",
       "2715     1499    October         48\n",
       "2716     1499  September         11\n",
       "\n",
       "[2717 rows x 3 columns]"
      ]
     },
     "metadata": {},
     "output_type": "display_data"
    },
    {
     "data": {
      "text/html": [
       "<div>\n",
       "<style scoped>\n",
       "    .dataframe tbody tr th:only-of-type {\n",
       "        vertical-align: middle;\n",
       "    }\n",
       "\n",
       "    .dataframe tbody tr th {\n",
       "        vertical-align: top;\n",
       "    }\n",
       "\n",
       "    .dataframe thead th {\n",
       "        text-align: right;\n",
       "    }\n",
       "</style>\n",
       "<table border=\"1\" class=\"dataframe\">\n",
       "  <thead>\n",
       "    <tr style=\"text-align: right;\">\n",
       "      <th></th>\n",
       "      <th>user_id</th>\n",
       "      <th>month</th>\n",
       "      <th>internet_month</th>\n",
       "    </tr>\n",
       "  </thead>\n",
       "  <tbody>\n",
       "    <tr>\n",
       "      <th>0</th>\n",
       "      <td>1000</td>\n",
       "      <td>August</td>\n",
       "      <td>14.0</td>\n",
       "    </tr>\n",
       "    <tr>\n",
       "      <th>1</th>\n",
       "      <td>1000</td>\n",
       "      <td>December</td>\n",
       "      <td>10.0</td>\n",
       "    </tr>\n",
       "    <tr>\n",
       "      <th>2</th>\n",
       "      <td>1000</td>\n",
       "      <td>July</td>\n",
       "      <td>14.0</td>\n",
       "    </tr>\n",
       "    <tr>\n",
       "      <th>3</th>\n",
       "      <td>1000</td>\n",
       "      <td>June</td>\n",
       "      <td>23.0</td>\n",
       "    </tr>\n",
       "    <tr>\n",
       "      <th>4</th>\n",
       "      <td>1000</td>\n",
       "      <td>May</td>\n",
       "      <td>3.0</td>\n",
       "    </tr>\n",
       "    <tr>\n",
       "      <th>...</th>\n",
       "      <td>...</td>\n",
       "      <td>...</td>\n",
       "      <td>...</td>\n",
       "    </tr>\n",
       "    <tr>\n",
       "      <th>3198</th>\n",
       "      <td>1498</td>\n",
       "      <td>September</td>\n",
       "      <td>22.0</td>\n",
       "    </tr>\n",
       "    <tr>\n",
       "      <th>3199</th>\n",
       "      <td>1499</td>\n",
       "      <td>December</td>\n",
       "      <td>13.0</td>\n",
       "    </tr>\n",
       "    <tr>\n",
       "      <th>3200</th>\n",
       "      <td>1499</td>\n",
       "      <td>November</td>\n",
       "      <td>18.0</td>\n",
       "    </tr>\n",
       "    <tr>\n",
       "      <th>3201</th>\n",
       "      <td>1499</td>\n",
       "      <td>October</td>\n",
       "      <td>18.0</td>\n",
       "    </tr>\n",
       "    <tr>\n",
       "      <th>3202</th>\n",
       "      <td>1499</td>\n",
       "      <td>September</td>\n",
       "      <td>2.0</td>\n",
       "    </tr>\n",
       "  </tbody>\n",
       "</table>\n",
       "<p>3203 rows × 3 columns</p>\n",
       "</div>"
      ],
      "text/plain": [
       "      user_id      month  internet_month\n",
       "0        1000     August            14.0\n",
       "1        1000   December            10.0\n",
       "2        1000       July            14.0\n",
       "3        1000       June            23.0\n",
       "4        1000        May             3.0\n",
       "...       ...        ...             ...\n",
       "3198     1498  September            22.0\n",
       "3199     1499   December            13.0\n",
       "3200     1499   November            18.0\n",
       "3201     1499    October            18.0\n",
       "3202     1499  September             2.0\n",
       "\n",
       "[3203 rows x 3 columns]"
      ]
     },
     "execution_count": 10,
     "metadata": {},
     "output_type": "execute_result"
    }
   ],
   "source": [
    "display(user_calls)\n",
    "display(user_messages)\n",
    "user_internet"
   ]
  },
  {
   "cell_type": "markdown",
   "metadata": {},
   "source": [
    "## Анализ даннных"
   ]
  },
  {
   "cell_type": "markdown",
   "metadata": {},
   "source": [
    "### Создадим новую таблицу\n",
    "- используем метод set_index() для установки индекса датафреймов из существующих столбцов\n",
    "- соединим таблицы user_internet, user_message и user_calls в новую таблицу df"
   ]
  },
  {
   "cell_type": "code",
   "execution_count": 11,
   "metadata": {},
   "outputs": [
    {
     "data": {
      "text/html": [
       "<div>\n",
       "<style scoped>\n",
       "    .dataframe tbody tr th:only-of-type {\n",
       "        vertical-align: middle;\n",
       "    }\n",
       "\n",
       "    .dataframe tbody tr th {\n",
       "        vertical-align: top;\n",
       "    }\n",
       "\n",
       "    .dataframe thead th {\n",
       "        text-align: right;\n",
       "    }\n",
       "</style>\n",
       "<table border=\"1\" class=\"dataframe\">\n",
       "  <thead>\n",
       "    <tr style=\"text-align: right;\">\n",
       "      <th></th>\n",
       "      <th>month</th>\n",
       "      <th>internet_month</th>\n",
       "      <th>sms_month</th>\n",
       "      <th>month_calls_duration</th>\n",
       "      <th>calls_total_in_month</th>\n",
       "    </tr>\n",
       "    <tr>\n",
       "      <th>user_id</th>\n",
       "      <th></th>\n",
       "      <th></th>\n",
       "      <th></th>\n",
       "      <th></th>\n",
       "      <th></th>\n",
       "    </tr>\n",
       "  </thead>\n",
       "  <tbody>\n",
       "    <tr>\n",
       "      <th>1000</th>\n",
       "      <td>August</td>\n",
       "      <td>14.0</td>\n",
       "      <td>81.0</td>\n",
       "      <td>408.0</td>\n",
       "      <td>52.0</td>\n",
       "    </tr>\n",
       "    <tr>\n",
       "      <th>1000</th>\n",
       "      <td>December</td>\n",
       "      <td>10.0</td>\n",
       "      <td>70.0</td>\n",
       "      <td>333.0</td>\n",
       "      <td>46.0</td>\n",
       "    </tr>\n",
       "    <tr>\n",
       "      <th>1000</th>\n",
       "      <td>July</td>\n",
       "      <td>14.0</td>\n",
       "      <td>75.0</td>\n",
       "      <td>340.0</td>\n",
       "      <td>47.0</td>\n",
       "    </tr>\n",
       "    <tr>\n",
       "      <th>1000</th>\n",
       "      <td>June</td>\n",
       "      <td>23.0</td>\n",
       "      <td>60.0</td>\n",
       "      <td>172.0</td>\n",
       "      <td>43.0</td>\n",
       "    </tr>\n",
       "    <tr>\n",
       "      <th>1000</th>\n",
       "      <td>May</td>\n",
       "      <td>3.0</td>\n",
       "      <td>22.0</td>\n",
       "      <td>159.0</td>\n",
       "      <td>22.0</td>\n",
       "    </tr>\n",
       "    <tr>\n",
       "      <th>...</th>\n",
       "      <td>...</td>\n",
       "      <td>...</td>\n",
       "      <td>...</td>\n",
       "      <td>...</td>\n",
       "      <td>...</td>\n",
       "    </tr>\n",
       "    <tr>\n",
       "      <th>1498</th>\n",
       "      <td>September</td>\n",
       "      <td>22.0</td>\n",
       "      <td>44.0</td>\n",
       "      <td>471.0</td>\n",
       "      <td>59.0</td>\n",
       "    </tr>\n",
       "    <tr>\n",
       "      <th>1499</th>\n",
       "      <td>December</td>\n",
       "      <td>13.0</td>\n",
       "      <td>66.0</td>\n",
       "      <td>492.0</td>\n",
       "      <td>69.0</td>\n",
       "    </tr>\n",
       "    <tr>\n",
       "      <th>1499</th>\n",
       "      <td>November</td>\n",
       "      <td>18.0</td>\n",
       "      <td>59.0</td>\n",
       "      <td>612.0</td>\n",
       "      <td>74.0</td>\n",
       "    </tr>\n",
       "    <tr>\n",
       "      <th>1499</th>\n",
       "      <td>October</td>\n",
       "      <td>18.0</td>\n",
       "      <td>48.0</td>\n",
       "      <td>449.0</td>\n",
       "      <td>68.0</td>\n",
       "    </tr>\n",
       "    <tr>\n",
       "      <th>1499</th>\n",
       "      <td>September</td>\n",
       "      <td>2.0</td>\n",
       "      <td>11.0</td>\n",
       "      <td>70.0</td>\n",
       "      <td>9.0</td>\n",
       "    </tr>\n",
       "  </tbody>\n",
       "</table>\n",
       "<p>3214 rows × 5 columns</p>\n",
       "</div>"
      ],
      "text/plain": [
       "             month  internet_month  sms_month  month_calls_duration  \\\n",
       "user_id                                                               \n",
       "1000        August            14.0       81.0                 408.0   \n",
       "1000      December            10.0       70.0                 333.0   \n",
       "1000          July            14.0       75.0                 340.0   \n",
       "1000          June            23.0       60.0                 172.0   \n",
       "1000           May             3.0       22.0                 159.0   \n",
       "...            ...             ...        ...                   ...   \n",
       "1498     September            22.0       44.0                 471.0   \n",
       "1499      December            13.0       66.0                 492.0   \n",
       "1499      November            18.0       59.0                 612.0   \n",
       "1499       October            18.0       48.0                 449.0   \n",
       "1499     September             2.0       11.0                  70.0   \n",
       "\n",
       "         calls_total_in_month  \n",
       "user_id                        \n",
       "1000                     52.0  \n",
       "1000                     46.0  \n",
       "1000                     47.0  \n",
       "1000                     43.0  \n",
       "1000                     22.0  \n",
       "...                       ...  \n",
       "1498                     59.0  \n",
       "1499                     69.0  \n",
       "1499                     74.0  \n",
       "1499                     68.0  \n",
       "1499                      9.0  \n",
       "\n",
       "[3214 rows x 5 columns]"
      ]
     },
     "execution_count": 11,
     "metadata": {},
     "output_type": "execute_result"
    }
   ],
   "source": [
    "user_internet = user_internet.set_index(['user_id', 'month'])\n",
    "user_messages = user_messages.set_index(['user_id', 'month'])\n",
    "user_calls = user_calls.set_index(['user_id', 'month'])\n",
    "df = user_internet.join([user_messages, user_calls], how='outer').reset_index(level=['month'])\n",
    "df"
   ]
  },
  {
   "cell_type": "markdown",
   "metadata": {},
   "source": [
    "- соединим таблицу df с таблицей users и tariff\n",
    "- заменим знаечния Nan на 0"
   ]
  },
  {
   "cell_type": "code",
   "execution_count": 12,
   "metadata": {},
   "outputs": [
    {
     "name": "stdout",
     "output_type": "stream",
     "text": [
      "<class 'pandas.core.frame.DataFrame'>\n",
      "Int64Index: 3216 entries, 0 to 3215\n",
      "Data columns (total 20 columns):\n",
      " #   Column                 Non-Null Count  Dtype         \n",
      "---  ------                 --------------  -----         \n",
      " 0   user_id                3216 non-null   int64         \n",
      " 1   age                    3216 non-null   int64         \n",
      " 2   churn_date             189 non-null    datetime64[ns]\n",
      " 3   city                   3216 non-null   object        \n",
      " 4   first_name             3216 non-null   object        \n",
      " 5   last_name              3216 non-null   object        \n",
      " 6   reg_date               3216 non-null   datetime64[ns]\n",
      " 7   tariff                 3216 non-null   object        \n",
      " 8   month                  3214 non-null   object        \n",
      " 9   internet_month         3203 non-null   float64       \n",
      " 10  sms_month              2717 non-null   float64       \n",
      " 11  month_calls_duration   3174 non-null   float64       \n",
      " 12  calls_total_in_month   3174 non-null   float64       \n",
      " 13  messages_included      3216 non-null   int64         \n",
      " 14  minutes_included       3216 non-null   int64         \n",
      " 15  rub_monthly_fee        3216 non-null   int64         \n",
      " 16  rub_per_gb             3216 non-null   int64         \n",
      " 17  rub_per_message        3216 non-null   int64         \n",
      " 18  rub_per_minute         3216 non-null   int64         \n",
      " 19  gb_per_month_included  3216 non-null   float64       \n",
      "dtypes: datetime64[ns](2), float64(5), int64(8), object(5)\n",
      "memory usage: 527.6+ KB\n",
      "<class 'pandas.core.frame.DataFrame'>\n",
      "Int64Index: 3216 entries, 0 to 3215\n",
      "Data columns (total 20 columns):\n",
      " #   Column                 Non-Null Count  Dtype         \n",
      "---  ------                 --------------  -----         \n",
      " 0   user_id                3216 non-null   int64         \n",
      " 1   age                    3216 non-null   int64         \n",
      " 2   churn_date             3216 non-null   object        \n",
      " 3   city                   3216 non-null   object        \n",
      " 4   first_name             3216 non-null   object        \n",
      " 5   last_name              3216 non-null   object        \n",
      " 6   reg_date               3216 non-null   datetime64[ns]\n",
      " 7   tariff                 3216 non-null   object        \n",
      " 8   month                  3216 non-null   object        \n",
      " 9   internet_month         3216 non-null   float64       \n",
      " 10  sms_month              3216 non-null   float64       \n",
      " 11  month_calls_duration   3216 non-null   float64       \n",
      " 12  calls_total_in_month   3216 non-null   float64       \n",
      " 13  messages_included      3216 non-null   int64         \n",
      " 14  minutes_included       3216 non-null   int64         \n",
      " 15  rub_monthly_fee        3216 non-null   int64         \n",
      " 16  rub_per_gb             3216 non-null   int64         \n",
      " 17  rub_per_message        3216 non-null   int64         \n",
      " 18  rub_per_minute         3216 non-null   int64         \n",
      " 19  gb_per_month_included  3216 non-null   float64       \n",
      "dtypes: datetime64[ns](1), float64(5), int64(8), object(6)\n",
      "memory usage: 527.6+ KB\n"
     ]
    },
    {
     "data": {
      "text/html": [
       "<div>\n",
       "<style scoped>\n",
       "    .dataframe tbody tr th:only-of-type {\n",
       "        vertical-align: middle;\n",
       "    }\n",
       "\n",
       "    .dataframe tbody tr th {\n",
       "        vertical-align: top;\n",
       "    }\n",
       "\n",
       "    .dataframe thead th {\n",
       "        text-align: right;\n",
       "    }\n",
       "</style>\n",
       "<table border=\"1\" class=\"dataframe\">\n",
       "  <thead>\n",
       "    <tr style=\"text-align: right;\">\n",
       "      <th></th>\n",
       "      <th>user_id</th>\n",
       "      <th>age</th>\n",
       "      <th>churn_date</th>\n",
       "      <th>city</th>\n",
       "      <th>first_name</th>\n",
       "      <th>last_name</th>\n",
       "      <th>reg_date</th>\n",
       "      <th>tariff</th>\n",
       "      <th>month</th>\n",
       "      <th>internet_month</th>\n",
       "      <th>sms_month</th>\n",
       "      <th>month_calls_duration</th>\n",
       "      <th>calls_total_in_month</th>\n",
       "      <th>messages_included</th>\n",
       "      <th>minutes_included</th>\n",
       "      <th>rub_monthly_fee</th>\n",
       "      <th>rub_per_gb</th>\n",
       "      <th>rub_per_message</th>\n",
       "      <th>rub_per_minute</th>\n",
       "      <th>gb_per_month_included</th>\n",
       "    </tr>\n",
       "  </thead>\n",
       "  <tbody>\n",
       "    <tr>\n",
       "      <th>0</th>\n",
       "      <td>1000</td>\n",
       "      <td>52</td>\n",
       "      <td>0</td>\n",
       "      <td>Краснодар</td>\n",
       "      <td>Рафаил</td>\n",
       "      <td>Верещагин</td>\n",
       "      <td>2018-05-25</td>\n",
       "      <td>ultra</td>\n",
       "      <td>August</td>\n",
       "      <td>14.0</td>\n",
       "      <td>81.0</td>\n",
       "      <td>408.0</td>\n",
       "      <td>52.0</td>\n",
       "      <td>1000</td>\n",
       "      <td>3000</td>\n",
       "      <td>1950</td>\n",
       "      <td>150</td>\n",
       "      <td>1</td>\n",
       "      <td>1</td>\n",
       "      <td>30.0</td>\n",
       "    </tr>\n",
       "    <tr>\n",
       "      <th>1</th>\n",
       "      <td>1000</td>\n",
       "      <td>52</td>\n",
       "      <td>0</td>\n",
       "      <td>Краснодар</td>\n",
       "      <td>Рафаил</td>\n",
       "      <td>Верещагин</td>\n",
       "      <td>2018-05-25</td>\n",
       "      <td>ultra</td>\n",
       "      <td>December</td>\n",
       "      <td>10.0</td>\n",
       "      <td>70.0</td>\n",
       "      <td>333.0</td>\n",
       "      <td>46.0</td>\n",
       "      <td>1000</td>\n",
       "      <td>3000</td>\n",
       "      <td>1950</td>\n",
       "      <td>150</td>\n",
       "      <td>1</td>\n",
       "      <td>1</td>\n",
       "      <td>30.0</td>\n",
       "    </tr>\n",
       "    <tr>\n",
       "      <th>2</th>\n",
       "      <td>1000</td>\n",
       "      <td>52</td>\n",
       "      <td>0</td>\n",
       "      <td>Краснодар</td>\n",
       "      <td>Рафаил</td>\n",
       "      <td>Верещагин</td>\n",
       "      <td>2018-05-25</td>\n",
       "      <td>ultra</td>\n",
       "      <td>July</td>\n",
       "      <td>14.0</td>\n",
       "      <td>75.0</td>\n",
       "      <td>340.0</td>\n",
       "      <td>47.0</td>\n",
       "      <td>1000</td>\n",
       "      <td>3000</td>\n",
       "      <td>1950</td>\n",
       "      <td>150</td>\n",
       "      <td>1</td>\n",
       "      <td>1</td>\n",
       "      <td>30.0</td>\n",
       "    </tr>\n",
       "    <tr>\n",
       "      <th>3</th>\n",
       "      <td>1000</td>\n",
       "      <td>52</td>\n",
       "      <td>0</td>\n",
       "      <td>Краснодар</td>\n",
       "      <td>Рафаил</td>\n",
       "      <td>Верещагин</td>\n",
       "      <td>2018-05-25</td>\n",
       "      <td>ultra</td>\n",
       "      <td>June</td>\n",
       "      <td>23.0</td>\n",
       "      <td>60.0</td>\n",
       "      <td>172.0</td>\n",
       "      <td>43.0</td>\n",
       "      <td>1000</td>\n",
       "      <td>3000</td>\n",
       "      <td>1950</td>\n",
       "      <td>150</td>\n",
       "      <td>1</td>\n",
       "      <td>1</td>\n",
       "      <td>30.0</td>\n",
       "    </tr>\n",
       "    <tr>\n",
       "      <th>4</th>\n",
       "      <td>1000</td>\n",
       "      <td>52</td>\n",
       "      <td>0</td>\n",
       "      <td>Краснодар</td>\n",
       "      <td>Рафаил</td>\n",
       "      <td>Верещагин</td>\n",
       "      <td>2018-05-25</td>\n",
       "      <td>ultra</td>\n",
       "      <td>May</td>\n",
       "      <td>3.0</td>\n",
       "      <td>22.0</td>\n",
       "      <td>159.0</td>\n",
       "      <td>22.0</td>\n",
       "      <td>1000</td>\n",
       "      <td>3000</td>\n",
       "      <td>1950</td>\n",
       "      <td>150</td>\n",
       "      <td>1</td>\n",
       "      <td>1</td>\n",
       "      <td>30.0</td>\n",
       "    </tr>\n",
       "    <tr>\n",
       "      <th>...</th>\n",
       "      <td>...</td>\n",
       "      <td>...</td>\n",
       "      <td>...</td>\n",
       "      <td>...</td>\n",
       "      <td>...</td>\n",
       "      <td>...</td>\n",
       "      <td>...</td>\n",
       "      <td>...</td>\n",
       "      <td>...</td>\n",
       "      <td>...</td>\n",
       "      <td>...</td>\n",
       "      <td>...</td>\n",
       "      <td>...</td>\n",
       "      <td>...</td>\n",
       "      <td>...</td>\n",
       "      <td>...</td>\n",
       "      <td>...</td>\n",
       "      <td>...</td>\n",
       "      <td>...</td>\n",
       "      <td>...</td>\n",
       "    </tr>\n",
       "    <tr>\n",
       "      <th>3211</th>\n",
       "      <td>1498</td>\n",
       "      <td>68</td>\n",
       "      <td>2018-10-25 00:00:00</td>\n",
       "      <td>Владикавказ</td>\n",
       "      <td>Всеволод</td>\n",
       "      <td>Акимчин</td>\n",
       "      <td>2018-07-19</td>\n",
       "      <td>smart</td>\n",
       "      <td>September</td>\n",
       "      <td>22.0</td>\n",
       "      <td>44.0</td>\n",
       "      <td>471.0</td>\n",
       "      <td>59.0</td>\n",
       "      <td>50</td>\n",
       "      <td>500</td>\n",
       "      <td>550</td>\n",
       "      <td>200</td>\n",
       "      <td>3</td>\n",
       "      <td>3</td>\n",
       "      <td>15.0</td>\n",
       "    </tr>\n",
       "    <tr>\n",
       "      <th>3212</th>\n",
       "      <td>1499</td>\n",
       "      <td>35</td>\n",
       "      <td>0</td>\n",
       "      <td>Пермь</td>\n",
       "      <td>Гектор</td>\n",
       "      <td>Корнилов</td>\n",
       "      <td>2018-09-27</td>\n",
       "      <td>smart</td>\n",
       "      <td>December</td>\n",
       "      <td>13.0</td>\n",
       "      <td>66.0</td>\n",
       "      <td>492.0</td>\n",
       "      <td>69.0</td>\n",
       "      <td>50</td>\n",
       "      <td>500</td>\n",
       "      <td>550</td>\n",
       "      <td>200</td>\n",
       "      <td>3</td>\n",
       "      <td>3</td>\n",
       "      <td>15.0</td>\n",
       "    </tr>\n",
       "    <tr>\n",
       "      <th>3213</th>\n",
       "      <td>1499</td>\n",
       "      <td>35</td>\n",
       "      <td>0</td>\n",
       "      <td>Пермь</td>\n",
       "      <td>Гектор</td>\n",
       "      <td>Корнилов</td>\n",
       "      <td>2018-09-27</td>\n",
       "      <td>smart</td>\n",
       "      <td>November</td>\n",
       "      <td>18.0</td>\n",
       "      <td>59.0</td>\n",
       "      <td>612.0</td>\n",
       "      <td>74.0</td>\n",
       "      <td>50</td>\n",
       "      <td>500</td>\n",
       "      <td>550</td>\n",
       "      <td>200</td>\n",
       "      <td>3</td>\n",
       "      <td>3</td>\n",
       "      <td>15.0</td>\n",
       "    </tr>\n",
       "    <tr>\n",
       "      <th>3214</th>\n",
       "      <td>1499</td>\n",
       "      <td>35</td>\n",
       "      <td>0</td>\n",
       "      <td>Пермь</td>\n",
       "      <td>Гектор</td>\n",
       "      <td>Корнилов</td>\n",
       "      <td>2018-09-27</td>\n",
       "      <td>smart</td>\n",
       "      <td>October</td>\n",
       "      <td>18.0</td>\n",
       "      <td>48.0</td>\n",
       "      <td>449.0</td>\n",
       "      <td>68.0</td>\n",
       "      <td>50</td>\n",
       "      <td>500</td>\n",
       "      <td>550</td>\n",
       "      <td>200</td>\n",
       "      <td>3</td>\n",
       "      <td>3</td>\n",
       "      <td>15.0</td>\n",
       "    </tr>\n",
       "    <tr>\n",
       "      <th>3215</th>\n",
       "      <td>1499</td>\n",
       "      <td>35</td>\n",
       "      <td>0</td>\n",
       "      <td>Пермь</td>\n",
       "      <td>Гектор</td>\n",
       "      <td>Корнилов</td>\n",
       "      <td>2018-09-27</td>\n",
       "      <td>smart</td>\n",
       "      <td>September</td>\n",
       "      <td>2.0</td>\n",
       "      <td>11.0</td>\n",
       "      <td>70.0</td>\n",
       "      <td>9.0</td>\n",
       "      <td>50</td>\n",
       "      <td>500</td>\n",
       "      <td>550</td>\n",
       "      <td>200</td>\n",
       "      <td>3</td>\n",
       "      <td>3</td>\n",
       "      <td>15.0</td>\n",
       "    </tr>\n",
       "  </tbody>\n",
       "</table>\n",
       "<p>3216 rows × 20 columns</p>\n",
       "</div>"
      ],
      "text/plain": [
       "      user_id  age           churn_date         city first_name  last_name  \\\n",
       "0        1000   52                    0    Краснодар     Рафаил  Верещагин   \n",
       "1        1000   52                    0    Краснодар     Рафаил  Верещагин   \n",
       "2        1000   52                    0    Краснодар     Рафаил  Верещагин   \n",
       "3        1000   52                    0    Краснодар     Рафаил  Верещагин   \n",
       "4        1000   52                    0    Краснодар     Рафаил  Верещагин   \n",
       "...       ...  ...                  ...          ...        ...        ...   \n",
       "3211     1498   68  2018-10-25 00:00:00  Владикавказ   Всеволод    Акимчин   \n",
       "3212     1499   35                    0        Пермь     Гектор   Корнилов   \n",
       "3213     1499   35                    0        Пермь     Гектор   Корнилов   \n",
       "3214     1499   35                    0        Пермь     Гектор   Корнилов   \n",
       "3215     1499   35                    0        Пермь     Гектор   Корнилов   \n",
       "\n",
       "       reg_date tariff      month  internet_month  sms_month  \\\n",
       "0    2018-05-25  ultra     August            14.0       81.0   \n",
       "1    2018-05-25  ultra   December            10.0       70.0   \n",
       "2    2018-05-25  ultra       July            14.0       75.0   \n",
       "3    2018-05-25  ultra       June            23.0       60.0   \n",
       "4    2018-05-25  ultra        May             3.0       22.0   \n",
       "...         ...    ...        ...             ...        ...   \n",
       "3211 2018-07-19  smart  September            22.0       44.0   \n",
       "3212 2018-09-27  smart   December            13.0       66.0   \n",
       "3213 2018-09-27  smart   November            18.0       59.0   \n",
       "3214 2018-09-27  smart    October            18.0       48.0   \n",
       "3215 2018-09-27  smart  September             2.0       11.0   \n",
       "\n",
       "      month_calls_duration  calls_total_in_month  messages_included  \\\n",
       "0                    408.0                  52.0               1000   \n",
       "1                    333.0                  46.0               1000   \n",
       "2                    340.0                  47.0               1000   \n",
       "3                    172.0                  43.0               1000   \n",
       "4                    159.0                  22.0               1000   \n",
       "...                    ...                   ...                ...   \n",
       "3211                 471.0                  59.0                 50   \n",
       "3212                 492.0                  69.0                 50   \n",
       "3213                 612.0                  74.0                 50   \n",
       "3214                 449.0                  68.0                 50   \n",
       "3215                  70.0                   9.0                 50   \n",
       "\n",
       "      minutes_included  rub_monthly_fee  rub_per_gb  rub_per_message  \\\n",
       "0                 3000             1950         150                1   \n",
       "1                 3000             1950         150                1   \n",
       "2                 3000             1950         150                1   \n",
       "3                 3000             1950         150                1   \n",
       "4                 3000             1950         150                1   \n",
       "...                ...              ...         ...              ...   \n",
       "3211               500              550         200                3   \n",
       "3212               500              550         200                3   \n",
       "3213               500              550         200                3   \n",
       "3214               500              550         200                3   \n",
       "3215               500              550         200                3   \n",
       "\n",
       "      rub_per_minute  gb_per_month_included  \n",
       "0                  1                   30.0  \n",
       "1                  1                   30.0  \n",
       "2                  1                   30.0  \n",
       "3                  1                   30.0  \n",
       "4                  1                   30.0  \n",
       "...              ...                    ...  \n",
       "3211               3                   15.0  \n",
       "3212               3                   15.0  \n",
       "3213               3                   15.0  \n",
       "3214               3                   15.0  \n",
       "3215               3                   15.0  \n",
       "\n",
       "[3216 rows x 20 columns]"
      ]
     },
     "execution_count": 12,
     "metadata": {},
     "output_type": "execute_result"
    }
   ],
   "source": [
    "df = users.merge(df, on='user_id', how='left')\n",
    "df = df.merge(tariff, on='tariff')\n",
    "df.info()\n",
    "df = df.fillna(0)\n",
    "df.info()\n",
    "df"
   ]
  },
  {
   "cell_type": "code",
   "execution_count": 13,
   "metadata": {},
   "outputs": [
    {
     "name": "stdout",
     "output_type": "stream",
     "text": [
      "<class 'pandas.core.frame.DataFrame'>\n",
      "Int64Index: 3216 entries, 0 to 3215\n",
      "Data columns (total 20 columns):\n",
      " #   Column                 Non-Null Count  Dtype         \n",
      "---  ------                 --------------  -----         \n",
      " 0   user_id                3216 non-null   int64         \n",
      " 1   age                    3216 non-null   int64         \n",
      " 2   churn_date             3216 non-null   object        \n",
      " 3   city                   3216 non-null   object        \n",
      " 4   first_name             3216 non-null   object        \n",
      " 5   last_name              3216 non-null   object        \n",
      " 6   reg_date               3216 non-null   datetime64[ns]\n",
      " 7   tariff                 3216 non-null   object        \n",
      " 8   month                  3216 non-null   object        \n",
      " 9   internet_month         3216 non-null   int64         \n",
      " 10  sms_month              3216 non-null   int64         \n",
      " 11  month_calls_duration   3216 non-null   int64         \n",
      " 12  calls_total_in_month   3216 non-null   int64         \n",
      " 13  messages_included      3216 non-null   int64         \n",
      " 14  minutes_included       3216 non-null   int64         \n",
      " 15  rub_monthly_fee        3216 non-null   int64         \n",
      " 16  rub_per_gb             3216 non-null   int64         \n",
      " 17  rub_per_message        3216 non-null   int64         \n",
      " 18  rub_per_minute         3216 non-null   int64         \n",
      " 19  gb_per_month_included  3216 non-null   float64       \n",
      "dtypes: datetime64[ns](1), float64(1), int64(12), object(6)\n",
      "memory usage: 527.6+ KB\n"
     ]
    },
    {
     "data": {
      "text/html": [
       "<div>\n",
       "<style scoped>\n",
       "    .dataframe tbody tr th:only-of-type {\n",
       "        vertical-align: middle;\n",
       "    }\n",
       "\n",
       "    .dataframe tbody tr th {\n",
       "        vertical-align: top;\n",
       "    }\n",
       "\n",
       "    .dataframe thead th {\n",
       "        text-align: right;\n",
       "    }\n",
       "</style>\n",
       "<table border=\"1\" class=\"dataframe\">\n",
       "  <thead>\n",
       "    <tr style=\"text-align: right;\">\n",
       "      <th></th>\n",
       "      <th>user_id</th>\n",
       "      <th>age</th>\n",
       "      <th>churn_date</th>\n",
       "      <th>city</th>\n",
       "      <th>first_name</th>\n",
       "      <th>last_name</th>\n",
       "      <th>reg_date</th>\n",
       "      <th>tariff</th>\n",
       "      <th>month</th>\n",
       "      <th>internet_month</th>\n",
       "      <th>sms_month</th>\n",
       "      <th>month_calls_duration</th>\n",
       "      <th>calls_total_in_month</th>\n",
       "      <th>messages_included</th>\n",
       "      <th>minutes_included</th>\n",
       "      <th>rub_monthly_fee</th>\n",
       "      <th>rub_per_gb</th>\n",
       "      <th>rub_per_message</th>\n",
       "      <th>rub_per_minute</th>\n",
       "      <th>gb_per_month_included</th>\n",
       "    </tr>\n",
       "  </thead>\n",
       "  <tbody>\n",
       "    <tr>\n",
       "      <th>0</th>\n",
       "      <td>1000</td>\n",
       "      <td>52</td>\n",
       "      <td>0</td>\n",
       "      <td>Краснодар</td>\n",
       "      <td>Рафаил</td>\n",
       "      <td>Верещагин</td>\n",
       "      <td>2018-05-25</td>\n",
       "      <td>ultra</td>\n",
       "      <td>August</td>\n",
       "      <td>14</td>\n",
       "      <td>81</td>\n",
       "      <td>408</td>\n",
       "      <td>52</td>\n",
       "      <td>1000</td>\n",
       "      <td>3000</td>\n",
       "      <td>1950</td>\n",
       "      <td>150</td>\n",
       "      <td>1</td>\n",
       "      <td>1</td>\n",
       "      <td>30.0</td>\n",
       "    </tr>\n",
       "    <tr>\n",
       "      <th>1</th>\n",
       "      <td>1000</td>\n",
       "      <td>52</td>\n",
       "      <td>0</td>\n",
       "      <td>Краснодар</td>\n",
       "      <td>Рафаил</td>\n",
       "      <td>Верещагин</td>\n",
       "      <td>2018-05-25</td>\n",
       "      <td>ultra</td>\n",
       "      <td>December</td>\n",
       "      <td>10</td>\n",
       "      <td>70</td>\n",
       "      <td>333</td>\n",
       "      <td>46</td>\n",
       "      <td>1000</td>\n",
       "      <td>3000</td>\n",
       "      <td>1950</td>\n",
       "      <td>150</td>\n",
       "      <td>1</td>\n",
       "      <td>1</td>\n",
       "      <td>30.0</td>\n",
       "    </tr>\n",
       "    <tr>\n",
       "      <th>2</th>\n",
       "      <td>1000</td>\n",
       "      <td>52</td>\n",
       "      <td>0</td>\n",
       "      <td>Краснодар</td>\n",
       "      <td>Рафаил</td>\n",
       "      <td>Верещагин</td>\n",
       "      <td>2018-05-25</td>\n",
       "      <td>ultra</td>\n",
       "      <td>July</td>\n",
       "      <td>14</td>\n",
       "      <td>75</td>\n",
       "      <td>340</td>\n",
       "      <td>47</td>\n",
       "      <td>1000</td>\n",
       "      <td>3000</td>\n",
       "      <td>1950</td>\n",
       "      <td>150</td>\n",
       "      <td>1</td>\n",
       "      <td>1</td>\n",
       "      <td>30.0</td>\n",
       "    </tr>\n",
       "    <tr>\n",
       "      <th>3</th>\n",
       "      <td>1000</td>\n",
       "      <td>52</td>\n",
       "      <td>0</td>\n",
       "      <td>Краснодар</td>\n",
       "      <td>Рафаил</td>\n",
       "      <td>Верещагин</td>\n",
       "      <td>2018-05-25</td>\n",
       "      <td>ultra</td>\n",
       "      <td>June</td>\n",
       "      <td>23</td>\n",
       "      <td>60</td>\n",
       "      <td>172</td>\n",
       "      <td>43</td>\n",
       "      <td>1000</td>\n",
       "      <td>3000</td>\n",
       "      <td>1950</td>\n",
       "      <td>150</td>\n",
       "      <td>1</td>\n",
       "      <td>1</td>\n",
       "      <td>30.0</td>\n",
       "    </tr>\n",
       "    <tr>\n",
       "      <th>4</th>\n",
       "      <td>1000</td>\n",
       "      <td>52</td>\n",
       "      <td>0</td>\n",
       "      <td>Краснодар</td>\n",
       "      <td>Рафаил</td>\n",
       "      <td>Верещагин</td>\n",
       "      <td>2018-05-25</td>\n",
       "      <td>ultra</td>\n",
       "      <td>May</td>\n",
       "      <td>3</td>\n",
       "      <td>22</td>\n",
       "      <td>159</td>\n",
       "      <td>22</td>\n",
       "      <td>1000</td>\n",
       "      <td>3000</td>\n",
       "      <td>1950</td>\n",
       "      <td>150</td>\n",
       "      <td>1</td>\n",
       "      <td>1</td>\n",
       "      <td>30.0</td>\n",
       "    </tr>\n",
       "    <tr>\n",
       "      <th>...</th>\n",
       "      <td>...</td>\n",
       "      <td>...</td>\n",
       "      <td>...</td>\n",
       "      <td>...</td>\n",
       "      <td>...</td>\n",
       "      <td>...</td>\n",
       "      <td>...</td>\n",
       "      <td>...</td>\n",
       "      <td>...</td>\n",
       "      <td>...</td>\n",
       "      <td>...</td>\n",
       "      <td>...</td>\n",
       "      <td>...</td>\n",
       "      <td>...</td>\n",
       "      <td>...</td>\n",
       "      <td>...</td>\n",
       "      <td>...</td>\n",
       "      <td>...</td>\n",
       "      <td>...</td>\n",
       "      <td>...</td>\n",
       "    </tr>\n",
       "    <tr>\n",
       "      <th>3211</th>\n",
       "      <td>1498</td>\n",
       "      <td>68</td>\n",
       "      <td>2018-10-25 00:00:00</td>\n",
       "      <td>Владикавказ</td>\n",
       "      <td>Всеволод</td>\n",
       "      <td>Акимчин</td>\n",
       "      <td>2018-07-19</td>\n",
       "      <td>smart</td>\n",
       "      <td>September</td>\n",
       "      <td>22</td>\n",
       "      <td>44</td>\n",
       "      <td>471</td>\n",
       "      <td>59</td>\n",
       "      <td>50</td>\n",
       "      <td>500</td>\n",
       "      <td>550</td>\n",
       "      <td>200</td>\n",
       "      <td>3</td>\n",
       "      <td>3</td>\n",
       "      <td>15.0</td>\n",
       "    </tr>\n",
       "    <tr>\n",
       "      <th>3212</th>\n",
       "      <td>1499</td>\n",
       "      <td>35</td>\n",
       "      <td>0</td>\n",
       "      <td>Пермь</td>\n",
       "      <td>Гектор</td>\n",
       "      <td>Корнилов</td>\n",
       "      <td>2018-09-27</td>\n",
       "      <td>smart</td>\n",
       "      <td>December</td>\n",
       "      <td>13</td>\n",
       "      <td>66</td>\n",
       "      <td>492</td>\n",
       "      <td>69</td>\n",
       "      <td>50</td>\n",
       "      <td>500</td>\n",
       "      <td>550</td>\n",
       "      <td>200</td>\n",
       "      <td>3</td>\n",
       "      <td>3</td>\n",
       "      <td>15.0</td>\n",
       "    </tr>\n",
       "    <tr>\n",
       "      <th>3213</th>\n",
       "      <td>1499</td>\n",
       "      <td>35</td>\n",
       "      <td>0</td>\n",
       "      <td>Пермь</td>\n",
       "      <td>Гектор</td>\n",
       "      <td>Корнилов</td>\n",
       "      <td>2018-09-27</td>\n",
       "      <td>smart</td>\n",
       "      <td>November</td>\n",
       "      <td>18</td>\n",
       "      <td>59</td>\n",
       "      <td>612</td>\n",
       "      <td>74</td>\n",
       "      <td>50</td>\n",
       "      <td>500</td>\n",
       "      <td>550</td>\n",
       "      <td>200</td>\n",
       "      <td>3</td>\n",
       "      <td>3</td>\n",
       "      <td>15.0</td>\n",
       "    </tr>\n",
       "    <tr>\n",
       "      <th>3214</th>\n",
       "      <td>1499</td>\n",
       "      <td>35</td>\n",
       "      <td>0</td>\n",
       "      <td>Пермь</td>\n",
       "      <td>Гектор</td>\n",
       "      <td>Корнилов</td>\n",
       "      <td>2018-09-27</td>\n",
       "      <td>smart</td>\n",
       "      <td>October</td>\n",
       "      <td>18</td>\n",
       "      <td>48</td>\n",
       "      <td>449</td>\n",
       "      <td>68</td>\n",
       "      <td>50</td>\n",
       "      <td>500</td>\n",
       "      <td>550</td>\n",
       "      <td>200</td>\n",
       "      <td>3</td>\n",
       "      <td>3</td>\n",
       "      <td>15.0</td>\n",
       "    </tr>\n",
       "    <tr>\n",
       "      <th>3215</th>\n",
       "      <td>1499</td>\n",
       "      <td>35</td>\n",
       "      <td>0</td>\n",
       "      <td>Пермь</td>\n",
       "      <td>Гектор</td>\n",
       "      <td>Корнилов</td>\n",
       "      <td>2018-09-27</td>\n",
       "      <td>smart</td>\n",
       "      <td>September</td>\n",
       "      <td>2</td>\n",
       "      <td>11</td>\n",
       "      <td>70</td>\n",
       "      <td>9</td>\n",
       "      <td>50</td>\n",
       "      <td>500</td>\n",
       "      <td>550</td>\n",
       "      <td>200</td>\n",
       "      <td>3</td>\n",
       "      <td>3</td>\n",
       "      <td>15.0</td>\n",
       "    </tr>\n",
       "  </tbody>\n",
       "</table>\n",
       "<p>3216 rows × 20 columns</p>\n",
       "</div>"
      ],
      "text/plain": [
       "      user_id  age           churn_date         city first_name  last_name  \\\n",
       "0        1000   52                    0    Краснодар     Рафаил  Верещагин   \n",
       "1        1000   52                    0    Краснодар     Рафаил  Верещагин   \n",
       "2        1000   52                    0    Краснодар     Рафаил  Верещагин   \n",
       "3        1000   52                    0    Краснодар     Рафаил  Верещагин   \n",
       "4        1000   52                    0    Краснодар     Рафаил  Верещагин   \n",
       "...       ...  ...                  ...          ...        ...        ...   \n",
       "3211     1498   68  2018-10-25 00:00:00  Владикавказ   Всеволод    Акимчин   \n",
       "3212     1499   35                    0        Пермь     Гектор   Корнилов   \n",
       "3213     1499   35                    0        Пермь     Гектор   Корнилов   \n",
       "3214     1499   35                    0        Пермь     Гектор   Корнилов   \n",
       "3215     1499   35                    0        Пермь     Гектор   Корнилов   \n",
       "\n",
       "       reg_date tariff      month  internet_month  sms_month  \\\n",
       "0    2018-05-25  ultra     August              14         81   \n",
       "1    2018-05-25  ultra   December              10         70   \n",
       "2    2018-05-25  ultra       July              14         75   \n",
       "3    2018-05-25  ultra       June              23         60   \n",
       "4    2018-05-25  ultra        May               3         22   \n",
       "...         ...    ...        ...             ...        ...   \n",
       "3211 2018-07-19  smart  September              22         44   \n",
       "3212 2018-09-27  smart   December              13         66   \n",
       "3213 2018-09-27  smart   November              18         59   \n",
       "3214 2018-09-27  smart    October              18         48   \n",
       "3215 2018-09-27  smart  September               2         11   \n",
       "\n",
       "      month_calls_duration  calls_total_in_month  messages_included  \\\n",
       "0                      408                    52               1000   \n",
       "1                      333                    46               1000   \n",
       "2                      340                    47               1000   \n",
       "3                      172                    43               1000   \n",
       "4                      159                    22               1000   \n",
       "...                    ...                   ...                ...   \n",
       "3211                   471                    59                 50   \n",
       "3212                   492                    69                 50   \n",
       "3213                   612                    74                 50   \n",
       "3214                   449                    68                 50   \n",
       "3215                    70                     9                 50   \n",
       "\n",
       "      minutes_included  rub_monthly_fee  rub_per_gb  rub_per_message  \\\n",
       "0                 3000             1950         150                1   \n",
       "1                 3000             1950         150                1   \n",
       "2                 3000             1950         150                1   \n",
       "3                 3000             1950         150                1   \n",
       "4                 3000             1950         150                1   \n",
       "...                ...              ...         ...              ...   \n",
       "3211               500              550         200                3   \n",
       "3212               500              550         200                3   \n",
       "3213               500              550         200                3   \n",
       "3214               500              550         200                3   \n",
       "3215               500              550         200                3   \n",
       "\n",
       "      rub_per_minute  gb_per_month_included  \n",
       "0                  1                   30.0  \n",
       "1                  1                   30.0  \n",
       "2                  1                   30.0  \n",
       "3                  1                   30.0  \n",
       "4                  1                   30.0  \n",
       "...              ...                    ...  \n",
       "3211               3                   15.0  \n",
       "3212               3                   15.0  \n",
       "3213               3                   15.0  \n",
       "3214               3                   15.0  \n",
       "3215               3                   15.0  \n",
       "\n",
       "[3216 rows x 20 columns]"
      ]
     },
     "execution_count": 13,
     "metadata": {},
     "output_type": "execute_result"
    }
   ],
   "source": [
    "# изменим тип данных\n",
    "df['internet_month'] = df['internet_month'].astype(int)\n",
    "df['sms_month'] = df['sms_month'].astype(int)\n",
    "df['month_calls_duration'] = df['month_calls_duration'].astype(int)\n",
    "df['calls_total_in_month'] = df['calls_total_in_month'].astype(int)\n",
    "df.info()\n",
    "df"
   ]
  },
  {
   "cell_type": "code",
   "execution_count": 14,
   "metadata": {},
   "outputs": [
    {
     "data": {
      "text/html": [
       "<div>\n",
       "<style scoped>\n",
       "    .dataframe tbody tr th:only-of-type {\n",
       "        vertical-align: middle;\n",
       "    }\n",
       "\n",
       "    .dataframe tbody tr th {\n",
       "        vertical-align: top;\n",
       "    }\n",
       "\n",
       "    .dataframe thead th {\n",
       "        text-align: right;\n",
       "    }\n",
       "</style>\n",
       "<table border=\"1\" class=\"dataframe\">\n",
       "  <thead>\n",
       "    <tr style=\"text-align: right;\">\n",
       "      <th></th>\n",
       "      <th>user_id</th>\n",
       "      <th>age</th>\n",
       "      <th>churn_date</th>\n",
       "      <th>city</th>\n",
       "      <th>first_name</th>\n",
       "      <th>last_name</th>\n",
       "      <th>reg_date</th>\n",
       "      <th>tariff</th>\n",
       "      <th>month</th>\n",
       "      <th>internet_month</th>\n",
       "      <th>sms_month</th>\n",
       "      <th>month_calls_duration</th>\n",
       "      <th>calls_total_in_month</th>\n",
       "      <th>messages_included</th>\n",
       "      <th>minutes_included</th>\n",
       "      <th>rub_monthly_fee</th>\n",
       "      <th>rub_per_gb</th>\n",
       "      <th>rub_per_message</th>\n",
       "      <th>rub_per_minute</th>\n",
       "      <th>gb_per_month_included</th>\n",
       "    </tr>\n",
       "  </thead>\n",
       "  <tbody>\n",
       "    <tr>\n",
       "      <th>243</th>\n",
       "      <td>1128</td>\n",
       "      <td>51</td>\n",
       "      <td>2018-12-23 00:00:00</td>\n",
       "      <td>Волжский</td>\n",
       "      <td>Ксения</td>\n",
       "      <td>Агаева</td>\n",
       "      <td>2018-12-15</td>\n",
       "      <td>ultra</td>\n",
       "      <td>0</td>\n",
       "      <td>0</td>\n",
       "      <td>0</td>\n",
       "      <td>0</td>\n",
       "      <td>0</td>\n",
       "      <td>1000</td>\n",
       "      <td>3000</td>\n",
       "      <td>1950</td>\n",
       "      <td>150</td>\n",
       "      <td>1</td>\n",
       "      <td>1</td>\n",
       "      <td>30.0</td>\n",
       "    </tr>\n",
       "    <tr>\n",
       "      <th>2619</th>\n",
       "      <td>1371</td>\n",
       "      <td>50</td>\n",
       "      <td>2018-12-30 00:00:00</td>\n",
       "      <td>Омск</td>\n",
       "      <td>Ириней</td>\n",
       "      <td>Трофимов</td>\n",
       "      <td>2018-12-25</td>\n",
       "      <td>smart</td>\n",
       "      <td>0</td>\n",
       "      <td>0</td>\n",
       "      <td>0</td>\n",
       "      <td>0</td>\n",
       "      <td>0</td>\n",
       "      <td>50</td>\n",
       "      <td>500</td>\n",
       "      <td>550</td>\n",
       "      <td>200</td>\n",
       "      <td>3</td>\n",
       "      <td>3</td>\n",
       "      <td>15.0</td>\n",
       "    </tr>\n",
       "  </tbody>\n",
       "</table>\n",
       "</div>"
      ],
      "text/plain": [
       "      user_id  age           churn_date      city first_name last_name  \\\n",
       "243      1128   51  2018-12-23 00:00:00  Волжский     Ксения    Агаева   \n",
       "2619     1371   50  2018-12-30 00:00:00      Омск     Ириней  Трофимов   \n",
       "\n",
       "       reg_date tariff month  internet_month  sms_month  month_calls_duration  \\\n",
       "243  2018-12-15  ultra     0               0          0                     0   \n",
       "2619 2018-12-25  smart     0               0          0                     0   \n",
       "\n",
       "      calls_total_in_month  messages_included  minutes_included  \\\n",
       "243                      0               1000              3000   \n",
       "2619                     0                 50               500   \n",
       "\n",
       "      rub_monthly_fee  rub_per_gb  rub_per_message  rub_per_minute  \\\n",
       "243              1950         150                1               1   \n",
       "2619              550         200                3               3   \n",
       "\n",
       "      gb_per_month_included  \n",
       "243                    30.0  \n",
       "2619                   15.0  "
      ]
     },
     "execution_count": 14,
     "metadata": {},
     "output_type": "execute_result"
    }
   ],
   "source": [
    "# Комментарий ревьюера\n",
    "temp = df.copy()\n",
    "temp[(temp.user_id ==  1128) | (temp.user_id ==  1371)]"
   ]
  },
  {
   "cell_type": "markdown",
   "metadata": {},
   "source": [
    "### Напишем функцию, которая поможет нам рассчитать выручку"
   ]
  },
  {
   "cell_type": "code",
   "execution_count": 15,
   "metadata": {},
   "outputs": [],
   "source": [
    "def tariff_excess(row):\n",
    "    calls = (row['month_calls_duration'] - row['minutes_included']) * row['rub_per_minute']\n",
    "    messages = (row['sms_month'] - row['messages_included']) * row['rub_per_message']\n",
    "    internet = (row['internet_month'] - row['gb_per_month_included']) * row['rub_per_gb']\n",
    "    excess = 0\n",
    "    for val in [calls,messages,internet]:\n",
    "        if val > 0:\n",
    "            excess += val\n",
    "    return excess\n"
   ]
  },
  {
   "cell_type": "code",
   "execution_count": 16,
   "metadata": {},
   "outputs": [],
   "source": [
    "df['revenue'] = df.apply(lambda x: tariff_excess(x), axis =1) + df['rub_monthly_fee']"
   ]
  },
  {
   "cell_type": "code",
   "execution_count": 17,
   "metadata": {},
   "outputs": [
    {
     "data": {
      "text/html": [
       "<div>\n",
       "<style scoped>\n",
       "    .dataframe tbody tr th:only-of-type {\n",
       "        vertical-align: middle;\n",
       "    }\n",
       "\n",
       "    .dataframe tbody tr th {\n",
       "        vertical-align: top;\n",
       "    }\n",
       "\n",
       "    .dataframe thead th {\n",
       "        text-align: right;\n",
       "    }\n",
       "</style>\n",
       "<table border=\"1\" class=\"dataframe\">\n",
       "  <thead>\n",
       "    <tr style=\"text-align: right;\">\n",
       "      <th></th>\n",
       "      <th>user_id</th>\n",
       "      <th>age</th>\n",
       "      <th>churn_date</th>\n",
       "      <th>city</th>\n",
       "      <th>first_name</th>\n",
       "      <th>last_name</th>\n",
       "      <th>reg_date</th>\n",
       "      <th>tariff</th>\n",
       "      <th>month</th>\n",
       "      <th>internet_month</th>\n",
       "      <th>...</th>\n",
       "      <th>month_calls_duration</th>\n",
       "      <th>calls_total_in_month</th>\n",
       "      <th>messages_included</th>\n",
       "      <th>minutes_included</th>\n",
       "      <th>rub_monthly_fee</th>\n",
       "      <th>rub_per_gb</th>\n",
       "      <th>rub_per_message</th>\n",
       "      <th>rub_per_minute</th>\n",
       "      <th>gb_per_month_included</th>\n",
       "      <th>revenue</th>\n",
       "    </tr>\n",
       "  </thead>\n",
       "  <tbody>\n",
       "    <tr>\n",
       "      <th>0</th>\n",
       "      <td>1000</td>\n",
       "      <td>52</td>\n",
       "      <td>0</td>\n",
       "      <td>Краснодар</td>\n",
       "      <td>Рафаил</td>\n",
       "      <td>Верещагин</td>\n",
       "      <td>2018-05-25</td>\n",
       "      <td>ultra</td>\n",
       "      <td>August</td>\n",
       "      <td>14</td>\n",
       "      <td>...</td>\n",
       "      <td>408</td>\n",
       "      <td>52</td>\n",
       "      <td>1000</td>\n",
       "      <td>3000</td>\n",
       "      <td>1950</td>\n",
       "      <td>150</td>\n",
       "      <td>1</td>\n",
       "      <td>1</td>\n",
       "      <td>30.0</td>\n",
       "      <td>1950.0</td>\n",
       "    </tr>\n",
       "    <tr>\n",
       "      <th>1</th>\n",
       "      <td>1000</td>\n",
       "      <td>52</td>\n",
       "      <td>0</td>\n",
       "      <td>Краснодар</td>\n",
       "      <td>Рафаил</td>\n",
       "      <td>Верещагин</td>\n",
       "      <td>2018-05-25</td>\n",
       "      <td>ultra</td>\n",
       "      <td>December</td>\n",
       "      <td>10</td>\n",
       "      <td>...</td>\n",
       "      <td>333</td>\n",
       "      <td>46</td>\n",
       "      <td>1000</td>\n",
       "      <td>3000</td>\n",
       "      <td>1950</td>\n",
       "      <td>150</td>\n",
       "      <td>1</td>\n",
       "      <td>1</td>\n",
       "      <td>30.0</td>\n",
       "      <td>1950.0</td>\n",
       "    </tr>\n",
       "    <tr>\n",
       "      <th>2</th>\n",
       "      <td>1000</td>\n",
       "      <td>52</td>\n",
       "      <td>0</td>\n",
       "      <td>Краснодар</td>\n",
       "      <td>Рафаил</td>\n",
       "      <td>Верещагин</td>\n",
       "      <td>2018-05-25</td>\n",
       "      <td>ultra</td>\n",
       "      <td>July</td>\n",
       "      <td>14</td>\n",
       "      <td>...</td>\n",
       "      <td>340</td>\n",
       "      <td>47</td>\n",
       "      <td>1000</td>\n",
       "      <td>3000</td>\n",
       "      <td>1950</td>\n",
       "      <td>150</td>\n",
       "      <td>1</td>\n",
       "      <td>1</td>\n",
       "      <td>30.0</td>\n",
       "      <td>1950.0</td>\n",
       "    </tr>\n",
       "    <tr>\n",
       "      <th>3</th>\n",
       "      <td>1000</td>\n",
       "      <td>52</td>\n",
       "      <td>0</td>\n",
       "      <td>Краснодар</td>\n",
       "      <td>Рафаил</td>\n",
       "      <td>Верещагин</td>\n",
       "      <td>2018-05-25</td>\n",
       "      <td>ultra</td>\n",
       "      <td>June</td>\n",
       "      <td>23</td>\n",
       "      <td>...</td>\n",
       "      <td>172</td>\n",
       "      <td>43</td>\n",
       "      <td>1000</td>\n",
       "      <td>3000</td>\n",
       "      <td>1950</td>\n",
       "      <td>150</td>\n",
       "      <td>1</td>\n",
       "      <td>1</td>\n",
       "      <td>30.0</td>\n",
       "      <td>1950.0</td>\n",
       "    </tr>\n",
       "    <tr>\n",
       "      <th>4</th>\n",
       "      <td>1000</td>\n",
       "      <td>52</td>\n",
       "      <td>0</td>\n",
       "      <td>Краснодар</td>\n",
       "      <td>Рафаил</td>\n",
       "      <td>Верещагин</td>\n",
       "      <td>2018-05-25</td>\n",
       "      <td>ultra</td>\n",
       "      <td>May</td>\n",
       "      <td>3</td>\n",
       "      <td>...</td>\n",
       "      <td>159</td>\n",
       "      <td>22</td>\n",
       "      <td>1000</td>\n",
       "      <td>3000</td>\n",
       "      <td>1950</td>\n",
       "      <td>150</td>\n",
       "      <td>1</td>\n",
       "      <td>1</td>\n",
       "      <td>30.0</td>\n",
       "      <td>1950.0</td>\n",
       "    </tr>\n",
       "    <tr>\n",
       "      <th>...</th>\n",
       "      <td>...</td>\n",
       "      <td>...</td>\n",
       "      <td>...</td>\n",
       "      <td>...</td>\n",
       "      <td>...</td>\n",
       "      <td>...</td>\n",
       "      <td>...</td>\n",
       "      <td>...</td>\n",
       "      <td>...</td>\n",
       "      <td>...</td>\n",
       "      <td>...</td>\n",
       "      <td>...</td>\n",
       "      <td>...</td>\n",
       "      <td>...</td>\n",
       "      <td>...</td>\n",
       "      <td>...</td>\n",
       "      <td>...</td>\n",
       "      <td>...</td>\n",
       "      <td>...</td>\n",
       "      <td>...</td>\n",
       "      <td>...</td>\n",
       "    </tr>\n",
       "    <tr>\n",
       "      <th>3211</th>\n",
       "      <td>1498</td>\n",
       "      <td>68</td>\n",
       "      <td>2018-10-25 00:00:00</td>\n",
       "      <td>Владикавказ</td>\n",
       "      <td>Всеволод</td>\n",
       "      <td>Акимчин</td>\n",
       "      <td>2018-07-19</td>\n",
       "      <td>smart</td>\n",
       "      <td>September</td>\n",
       "      <td>22</td>\n",
       "      <td>...</td>\n",
       "      <td>471</td>\n",
       "      <td>59</td>\n",
       "      <td>50</td>\n",
       "      <td>500</td>\n",
       "      <td>550</td>\n",
       "      <td>200</td>\n",
       "      <td>3</td>\n",
       "      <td>3</td>\n",
       "      <td>15.0</td>\n",
       "      <td>1950.0</td>\n",
       "    </tr>\n",
       "    <tr>\n",
       "      <th>3212</th>\n",
       "      <td>1499</td>\n",
       "      <td>35</td>\n",
       "      <td>0</td>\n",
       "      <td>Пермь</td>\n",
       "      <td>Гектор</td>\n",
       "      <td>Корнилов</td>\n",
       "      <td>2018-09-27</td>\n",
       "      <td>smart</td>\n",
       "      <td>December</td>\n",
       "      <td>13</td>\n",
       "      <td>...</td>\n",
       "      <td>492</td>\n",
       "      <td>69</td>\n",
       "      <td>50</td>\n",
       "      <td>500</td>\n",
       "      <td>550</td>\n",
       "      <td>200</td>\n",
       "      <td>3</td>\n",
       "      <td>3</td>\n",
       "      <td>15.0</td>\n",
       "      <td>598.0</td>\n",
       "    </tr>\n",
       "    <tr>\n",
       "      <th>3213</th>\n",
       "      <td>1499</td>\n",
       "      <td>35</td>\n",
       "      <td>0</td>\n",
       "      <td>Пермь</td>\n",
       "      <td>Гектор</td>\n",
       "      <td>Корнилов</td>\n",
       "      <td>2018-09-27</td>\n",
       "      <td>smart</td>\n",
       "      <td>November</td>\n",
       "      <td>18</td>\n",
       "      <td>...</td>\n",
       "      <td>612</td>\n",
       "      <td>74</td>\n",
       "      <td>50</td>\n",
       "      <td>500</td>\n",
       "      <td>550</td>\n",
       "      <td>200</td>\n",
       "      <td>3</td>\n",
       "      <td>3</td>\n",
       "      <td>15.0</td>\n",
       "      <td>1513.0</td>\n",
       "    </tr>\n",
       "    <tr>\n",
       "      <th>3214</th>\n",
       "      <td>1499</td>\n",
       "      <td>35</td>\n",
       "      <td>0</td>\n",
       "      <td>Пермь</td>\n",
       "      <td>Гектор</td>\n",
       "      <td>Корнилов</td>\n",
       "      <td>2018-09-27</td>\n",
       "      <td>smart</td>\n",
       "      <td>October</td>\n",
       "      <td>18</td>\n",
       "      <td>...</td>\n",
       "      <td>449</td>\n",
       "      <td>68</td>\n",
       "      <td>50</td>\n",
       "      <td>500</td>\n",
       "      <td>550</td>\n",
       "      <td>200</td>\n",
       "      <td>3</td>\n",
       "      <td>3</td>\n",
       "      <td>15.0</td>\n",
       "      <td>1150.0</td>\n",
       "    </tr>\n",
       "    <tr>\n",
       "      <th>3215</th>\n",
       "      <td>1499</td>\n",
       "      <td>35</td>\n",
       "      <td>0</td>\n",
       "      <td>Пермь</td>\n",
       "      <td>Гектор</td>\n",
       "      <td>Корнилов</td>\n",
       "      <td>2018-09-27</td>\n",
       "      <td>smart</td>\n",
       "      <td>September</td>\n",
       "      <td>2</td>\n",
       "      <td>...</td>\n",
       "      <td>70</td>\n",
       "      <td>9</td>\n",
       "      <td>50</td>\n",
       "      <td>500</td>\n",
       "      <td>550</td>\n",
       "      <td>200</td>\n",
       "      <td>3</td>\n",
       "      <td>3</td>\n",
       "      <td>15.0</td>\n",
       "      <td>550.0</td>\n",
       "    </tr>\n",
       "  </tbody>\n",
       "</table>\n",
       "<p>3216 rows × 21 columns</p>\n",
       "</div>"
      ],
      "text/plain": [
       "      user_id  age           churn_date         city first_name  last_name  \\\n",
       "0        1000   52                    0    Краснодар     Рафаил  Верещагин   \n",
       "1        1000   52                    0    Краснодар     Рафаил  Верещагин   \n",
       "2        1000   52                    0    Краснодар     Рафаил  Верещагин   \n",
       "3        1000   52                    0    Краснодар     Рафаил  Верещагин   \n",
       "4        1000   52                    0    Краснодар     Рафаил  Верещагин   \n",
       "...       ...  ...                  ...          ...        ...        ...   \n",
       "3211     1498   68  2018-10-25 00:00:00  Владикавказ   Всеволод    Акимчин   \n",
       "3212     1499   35                    0        Пермь     Гектор   Корнилов   \n",
       "3213     1499   35                    0        Пермь     Гектор   Корнилов   \n",
       "3214     1499   35                    0        Пермь     Гектор   Корнилов   \n",
       "3215     1499   35                    0        Пермь     Гектор   Корнилов   \n",
       "\n",
       "       reg_date tariff      month  internet_month  ...  month_calls_duration  \\\n",
       "0    2018-05-25  ultra     August              14  ...                   408   \n",
       "1    2018-05-25  ultra   December              10  ...                   333   \n",
       "2    2018-05-25  ultra       July              14  ...                   340   \n",
       "3    2018-05-25  ultra       June              23  ...                   172   \n",
       "4    2018-05-25  ultra        May               3  ...                   159   \n",
       "...         ...    ...        ...             ...  ...                   ...   \n",
       "3211 2018-07-19  smart  September              22  ...                   471   \n",
       "3212 2018-09-27  smart   December              13  ...                   492   \n",
       "3213 2018-09-27  smart   November              18  ...                   612   \n",
       "3214 2018-09-27  smart    October              18  ...                   449   \n",
       "3215 2018-09-27  smart  September               2  ...                    70   \n",
       "\n",
       "      calls_total_in_month  messages_included  minutes_included  \\\n",
       "0                       52               1000              3000   \n",
       "1                       46               1000              3000   \n",
       "2                       47               1000              3000   \n",
       "3                       43               1000              3000   \n",
       "4                       22               1000              3000   \n",
       "...                    ...                ...               ...   \n",
       "3211                    59                 50               500   \n",
       "3212                    69                 50               500   \n",
       "3213                    74                 50               500   \n",
       "3214                    68                 50               500   \n",
       "3215                     9                 50               500   \n",
       "\n",
       "      rub_monthly_fee  rub_per_gb  rub_per_message  rub_per_minute  \\\n",
       "0                1950         150                1               1   \n",
       "1                1950         150                1               1   \n",
       "2                1950         150                1               1   \n",
       "3                1950         150                1               1   \n",
       "4                1950         150                1               1   \n",
       "...               ...         ...              ...             ...   \n",
       "3211              550         200                3               3   \n",
       "3212              550         200                3               3   \n",
       "3213              550         200                3               3   \n",
       "3214              550         200                3               3   \n",
       "3215              550         200                3               3   \n",
       "\n",
       "      gb_per_month_included  revenue  \n",
       "0                      30.0   1950.0  \n",
       "1                      30.0   1950.0  \n",
       "2                      30.0   1950.0  \n",
       "3                      30.0   1950.0  \n",
       "4                      30.0   1950.0  \n",
       "...                     ...      ...  \n",
       "3211                   15.0   1950.0  \n",
       "3212                   15.0    598.0  \n",
       "3213                   15.0   1513.0  \n",
       "3214                   15.0   1150.0  \n",
       "3215                   15.0    550.0  \n",
       "\n",
       "[3216 rows x 21 columns]"
      ]
     },
     "execution_count": 17,
     "metadata": {},
     "output_type": "execute_result"
    }
   ],
   "source": [
    "df"
   ]
  },
  {
   "cell_type": "markdown",
   "metadata": {},
   "source": [
    "### Сколько минут разговора, сколько сообщений и какой объём интернет-трафика требуется пользователям каждого тарифа в месяц?"
   ]
  },
  {
   "cell_type": "code",
   "execution_count": 18,
   "metadata": {},
   "outputs": [],
   "source": [
    "smart = df[df['tariff'] == 'smart']\n",
    "ultra = df[df['tariff'] == 'ultra']\n",
    "# отфильтровали каждый тариф отдельно"
   ]
  },
  {
   "cell_type": "markdown",
   "metadata": {},
   "source": [
    "#### минуты разговора"
   ]
  },
  {
   "cell_type": "code",
   "execution_count": 19,
   "metadata": {},
   "outputs": [
    {
     "data": {
      "text/html": [
       "<div>\n",
       "<style scoped>\n",
       "    .dataframe tbody tr th:only-of-type {\n",
       "        vertical-align: middle;\n",
       "    }\n",
       "\n",
       "    .dataframe tbody tr th {\n",
       "        vertical-align: top;\n",
       "    }\n",
       "\n",
       "    .dataframe thead tr th {\n",
       "        text-align: left;\n",
       "    }\n",
       "\n",
       "    .dataframe thead tr:last-of-type th {\n",
       "        text-align: right;\n",
       "    }\n",
       "</style>\n",
       "<table border=\"1\" class=\"dataframe\">\n",
       "  <thead>\n",
       "    <tr>\n",
       "      <th></th>\n",
       "      <th colspan=\"3\" halign=\"left\">month_calls_duration</th>\n",
       "    </tr>\n",
       "    <tr>\n",
       "      <th></th>\n",
       "      <th>mean</th>\n",
       "      <th>var</th>\n",
       "      <th>std</th>\n",
       "    </tr>\n",
       "    <tr>\n",
       "      <th>tariff</th>\n",
       "      <th></th>\n",
       "      <th></th>\n",
       "      <th></th>\n",
       "    </tr>\n",
       "  </thead>\n",
       "  <tbody>\n",
       "    <tr>\n",
       "      <th>smart</th>\n",
       "      <td>418.0</td>\n",
       "      <td>36281.0</td>\n",
       "      <td>190.0</td>\n",
       "    </tr>\n",
       "    <tr>\n",
       "      <th>ultra</th>\n",
       "      <td>526.0</td>\n",
       "      <td>101052.0</td>\n",
       "      <td>318.0</td>\n",
       "    </tr>\n",
       "  </tbody>\n",
       "</table>\n",
       "</div>"
      ],
      "text/plain": [
       "       month_calls_duration                 \n",
       "                       mean       var    std\n",
       "tariff                                      \n",
       "smart                 418.0   36281.0  190.0\n",
       "ultra                 526.0  101052.0  318.0"
      ]
     },
     "execution_count": 19,
     "metadata": {},
     "output_type": "execute_result"
    }
   ],
   "source": [
    "df.groupby('tariff').agg({'month_calls_duration': ['mean','var','std']}).round()"
   ]
  },
  {
   "cell_type": "markdown",
   "metadata": {},
   "source": [
    "Все показатели в тарифе Ultra больше чем в Smart"
   ]
  },
  {
   "cell_type": "markdown",
   "metadata": {},
   "source": [
    "#### количество смс"
   ]
  },
  {
   "cell_type": "code",
   "execution_count": 20,
   "metadata": {},
   "outputs": [
    {
     "data": {
      "text/html": [
       "<div>\n",
       "<style scoped>\n",
       "    .dataframe tbody tr th:only-of-type {\n",
       "        vertical-align: middle;\n",
       "    }\n",
       "\n",
       "    .dataframe tbody tr th {\n",
       "        vertical-align: top;\n",
       "    }\n",
       "\n",
       "    .dataframe thead tr th {\n",
       "        text-align: left;\n",
       "    }\n",
       "\n",
       "    .dataframe thead tr:last-of-type th {\n",
       "        text-align: right;\n",
       "    }\n",
       "</style>\n",
       "<table border=\"1\" class=\"dataframe\">\n",
       "  <thead>\n",
       "    <tr>\n",
       "      <th></th>\n",
       "      <th colspan=\"3\" halign=\"left\">sms_month</th>\n",
       "    </tr>\n",
       "    <tr>\n",
       "      <th></th>\n",
       "      <th>mean</th>\n",
       "      <th>var</th>\n",
       "      <th>std</th>\n",
       "    </tr>\n",
       "    <tr>\n",
       "      <th>tariff</th>\n",
       "      <th></th>\n",
       "      <th></th>\n",
       "      <th></th>\n",
       "    </tr>\n",
       "  </thead>\n",
       "  <tbody>\n",
       "    <tr>\n",
       "      <th>smart</th>\n",
       "      <td>33.0</td>\n",
       "      <td>797.0</td>\n",
       "      <td>28.0</td>\n",
       "    </tr>\n",
       "    <tr>\n",
       "      <th>ultra</th>\n",
       "      <td>49.0</td>\n",
       "      <td>2285.0</td>\n",
       "      <td>48.0</td>\n",
       "    </tr>\n",
       "  </tbody>\n",
       "</table>\n",
       "</div>"
      ],
      "text/plain": [
       "       sms_month              \n",
       "            mean     var   std\n",
       "tariff                        \n",
       "smart       33.0   797.0  28.0\n",
       "ultra       49.0  2285.0  48.0"
      ]
     },
     "execution_count": 20,
     "metadata": {},
     "output_type": "execute_result"
    }
   ],
   "source": [
    "df.groupby('tariff').agg({'sms_month': ['mean','var','std']}).round()"
   ]
  },
  {
   "cell_type": "markdown",
   "metadata": {},
   "source": [
    "Среднее значение не сильно отличается, как и отклонение. А вот дисперсия в тарифе Ultra намного больше чем в smart"
   ]
  },
  {
   "cell_type": "markdown",
   "metadata": {},
   "source": [
    "#### объём интернет-трафика"
   ]
  },
  {
   "cell_type": "code",
   "execution_count": 21,
   "metadata": {},
   "outputs": [
    {
     "data": {
      "text/html": [
       "<div>\n",
       "<style scoped>\n",
       "    .dataframe tbody tr th:only-of-type {\n",
       "        vertical-align: middle;\n",
       "    }\n",
       "\n",
       "    .dataframe tbody tr th {\n",
       "        vertical-align: top;\n",
       "    }\n",
       "\n",
       "    .dataframe thead tr th {\n",
       "        text-align: left;\n",
       "    }\n",
       "\n",
       "    .dataframe thead tr:last-of-type th {\n",
       "        text-align: right;\n",
       "    }\n",
       "</style>\n",
       "<table border=\"1\" class=\"dataframe\">\n",
       "  <thead>\n",
       "    <tr>\n",
       "      <th></th>\n",
       "      <th colspan=\"3\" halign=\"left\">internet_month</th>\n",
       "    </tr>\n",
       "    <tr>\n",
       "      <th></th>\n",
       "      <th>mean</th>\n",
       "      <th>var</th>\n",
       "      <th>std</th>\n",
       "    </tr>\n",
       "    <tr>\n",
       "      <th>tariff</th>\n",
       "      <th></th>\n",
       "      <th></th>\n",
       "      <th></th>\n",
       "    </tr>\n",
       "  </thead>\n",
       "  <tbody>\n",
       "    <tr>\n",
       "      <th>smart</th>\n",
       "      <td>16.0</td>\n",
       "      <td>33.0</td>\n",
       "      <td>6.0</td>\n",
       "    </tr>\n",
       "    <tr>\n",
       "      <th>ultra</th>\n",
       "      <td>19.0</td>\n",
       "      <td>97.0</td>\n",
       "      <td>10.0</td>\n",
       "    </tr>\n",
       "  </tbody>\n",
       "</table>\n",
       "</div>"
      ],
      "text/plain": [
       "       internet_month            \n",
       "                 mean   var   std\n",
       "tariff                           \n",
       "smart            16.0  33.0   6.0\n",
       "ultra            19.0  97.0  10.0"
      ]
     },
     "execution_count": 21,
     "metadata": {},
     "output_type": "execute_result"
    }
   ],
   "source": [
    "df.groupby('tariff').agg({'internet_month': ['mean','var','std']}).round()"
   ]
  },
  {
   "cell_type": "markdown",
   "metadata": {},
   "source": [
    "Показатели не сильно отличаются, однако в Ultra все значения больше."
   ]
  },
  {
   "cell_type": "markdown",
   "metadata": {},
   "source": [
    "#### Выручка"
   ]
  },
  {
   "cell_type": "code",
   "execution_count": 22,
   "metadata": {},
   "outputs": [
    {
     "data": {
      "text/html": [
       "<div>\n",
       "<style scoped>\n",
       "    .dataframe tbody tr th:only-of-type {\n",
       "        vertical-align: middle;\n",
       "    }\n",
       "\n",
       "    .dataframe tbody tr th {\n",
       "        vertical-align: top;\n",
       "    }\n",
       "\n",
       "    .dataframe thead tr th {\n",
       "        text-align: left;\n",
       "    }\n",
       "\n",
       "    .dataframe thead tr:last-of-type th {\n",
       "        text-align: right;\n",
       "    }\n",
       "</style>\n",
       "<table border=\"1\" class=\"dataframe\">\n",
       "  <thead>\n",
       "    <tr>\n",
       "      <th></th>\n",
       "      <th colspan=\"3\" halign=\"left\">excess</th>\n",
       "    </tr>\n",
       "    <tr>\n",
       "      <th></th>\n",
       "      <th>mean</th>\n",
       "      <th>var</th>\n",
       "      <th>std</th>\n",
       "    </tr>\n",
       "    <tr>\n",
       "      <th>tariff</th>\n",
       "      <th></th>\n",
       "      <th></th>\n",
       "      <th></th>\n",
       "    </tr>\n",
       "  </thead>\n",
       "  <tbody>\n",
       "    <tr>\n",
       "      <th>smart</th>\n",
       "      <td>740.0</td>\n",
       "      <td>669731.0</td>\n",
       "      <td>818.0</td>\n",
       "    </tr>\n",
       "    <tr>\n",
       "      <th>ultra</th>\n",
       "      <td>120.0</td>\n",
       "      <td>141388.0</td>\n",
       "      <td>376.0</td>\n",
       "    </tr>\n",
       "  </tbody>\n",
       "</table>\n",
       "</div>"
      ],
      "text/plain": [
       "       excess                 \n",
       "         mean       var    std\n",
       "tariff                        \n",
       "smart   740.0  669731.0  818.0\n",
       "ultra   120.0  141388.0  376.0"
      ]
     },
     "execution_count": 22,
     "metadata": {},
     "output_type": "execute_result"
    }
   ],
   "source": [
    "df['excess'] = df.apply(lambda x: tariff_excess(x),axis= 1)\n",
    "df.groupby('tariff').agg({'excess': ['mean','var','std']}).round()"
   ]
  },
  {
   "cell_type": "markdown",
   "metadata": {},
   "source": [
    "Владельцы тарифа смарт доплачивают гораздо чаще, это можно обьяснить  маленьким количеством доступных опций"
   ]
  },
  {
   "cell_type": "code",
   "execution_count": 23,
   "metadata": {},
   "outputs": [
    {
     "data": {
      "text/html": [
       "<div>\n",
       "<style scoped>\n",
       "    .dataframe tbody tr th:only-of-type {\n",
       "        vertical-align: middle;\n",
       "    }\n",
       "\n",
       "    .dataframe tbody tr th {\n",
       "        vertical-align: top;\n",
       "    }\n",
       "\n",
       "    .dataframe thead tr th {\n",
       "        text-align: left;\n",
       "    }\n",
       "\n",
       "    .dataframe thead tr:last-of-type th {\n",
       "        text-align: right;\n",
       "    }\n",
       "</style>\n",
       "<table border=\"1\" class=\"dataframe\">\n",
       "  <thead>\n",
       "    <tr>\n",
       "      <th></th>\n",
       "      <th colspan=\"4\" halign=\"left\">revenue</th>\n",
       "    </tr>\n",
       "    <tr>\n",
       "      <th></th>\n",
       "      <th>mean</th>\n",
       "      <th>var</th>\n",
       "      <th>std</th>\n",
       "      <th>sum</th>\n",
       "    </tr>\n",
       "    <tr>\n",
       "      <th>tariff</th>\n",
       "      <th></th>\n",
       "      <th></th>\n",
       "      <th></th>\n",
       "      <th></th>\n",
       "    </tr>\n",
       "  </thead>\n",
       "  <tbody>\n",
       "    <tr>\n",
       "      <th>smart</th>\n",
       "      <td>1290.0</td>\n",
       "      <td>669731.0</td>\n",
       "      <td>818.0</td>\n",
       "      <td>2875901.0</td>\n",
       "    </tr>\n",
       "    <tr>\n",
       "      <th>ultra</th>\n",
       "      <td>2070.0</td>\n",
       "      <td>141388.0</td>\n",
       "      <td>376.0</td>\n",
       "      <td>2041050.0</td>\n",
       "    </tr>\n",
       "  </tbody>\n",
       "</table>\n",
       "</div>"
      ],
      "text/plain": [
       "       revenue                            \n",
       "          mean       var    std        sum\n",
       "tariff                                    \n",
       "smart   1290.0  669731.0  818.0  2875901.0\n",
       "ultra   2070.0  141388.0  376.0  2041050.0"
      ]
     },
     "execution_count": 23,
     "metadata": {},
     "output_type": "execute_result"
    }
   ],
   "source": [
    "df.groupby('tariff').agg({'revenue': ['mean','var','std','sum']}).round()"
   ]
  },
  {
   "cell_type": "markdown",
   "metadata": {},
   "source": [
    "Тариф смарт приносит больше выручки чем ultra, вероятнее это связано с тем, что многим приходится докупать доп пакеты услуг"
   ]
  },
  {
   "cell_type": "markdown",
   "metadata": {},
   "source": [
    "### Построим гистограммы"
   ]
  },
  {
   "cell_type": "code",
   "execution_count": 24,
   "metadata": {},
   "outputs": [
    {
     "data": {
      "image/png": "[encoded data removed]",
      "text/plain": [
       "<Figure size 432x288 with 1 Axes>"
      ]
     },
     "metadata": {
      "needs_background": "light"
     },
     "output_type": "display_data"
    }
   ],
   "source": [
    "# гистограмма по среднему времени разгова в месяц\n",
    "plt.hist(smart.month_calls_duration, alpha=0.5, bins=[0, 100, 200, 300, 400, 500, 600, 700, 800, 900, 1000, 1100, 1200, 1300, 1400])\n",
    "plt.hist(ultra.month_calls_duration, alpha=0.5, bins=[0, 100, 200, 300, 400, 500, 600, 700, 800, 900, 1000, 1100, 1200, 1300, 1400])\n",
    "plt.legend(['smart', 'ultra'])\n",
    "plt.title('Среднее время разговоров в месяц')\n",
    "plt.grid(True)\n",
    "plt.xlabel('Минуты')\n",
    "plt.ylabel('Кол-во абонентов')\n",
    "plt.show()"
   ]
  },
  {
   "cell_type": "code",
   "execution_count": 25,
   "metadata": {},
   "outputs": [
    {
     "data": {
      "image/png": "[encoded data removed]",
      "text/plain": [
       "<Figure size 432x288 with 1 Axes>"
      ]
     },
     "metadata": {
      "needs_background": "light"
     },
     "output_type": "display_data"
    }
   ],
   "source": [
    "# гистограмма по среднему колличеству смс в месяц\n",
    "plt.hist(smart.sms_month, alpha=0.5, bins=15)\n",
    "plt.hist(ultra.sms_month, alpha=0.5, bins=15)\n",
    "plt.legend(['smart', 'ultra'])\n",
    "plt.title('Среднее количество смс в месяц')\n",
    "plt.grid(True)\n",
    "plt.xlabel('Смс')\n",
    "plt.ylabel('Кол-во абонентов')\n",
    "plt.show()"
   ]
  },
  {
   "cell_type": "code",
   "execution_count": 26,
   "metadata": {},
   "outputs": [
    {
     "data": {
      "image/png": "[encoded data removed]",
      "text/plain": [
       "<Figure size 432x288 with 1 Axes>"
      ]
     },
     "metadata": {
      "needs_background": "light"
     },
     "output_type": "display_data"
    }
   ],
   "source": [
    "# гистограмма по среднему количеству использованного трафиа в месяц\n",
    "plt.hist(smart.internet_month, alpha=0.5, bins=15)\n",
    "plt.hist(ultra.internet_month, alpha=0.5, bins=15)\n",
    "plt.legend(['smart', 'ultra'])\n",
    "plt.title('Среднее количество использованного трафика в месяц')\n",
    "plt.grid(True)\n",
    "plt.xlabel('Трафик')\n",
    "plt.ylabel('Кол-во абонентов')\n",
    "plt.show()"
   ]
  },
  {
   "cell_type": "code",
   "execution_count": 27,
   "metadata": {},
   "outputs": [
    {
     "data": {
      "image/png": "[encoded data removed]",
      "text/plain": [
       "<Figure size 432x288 with 1 Axes>"
      ]
     },
     "metadata": {
      "needs_background": "light"
     },
     "output_type": "display_data"
    }
   ],
   "source": [
    "# гистограмма по средней сумме платы за тариф в месяц\n",
    "plt.hist(smart.revenue, alpha=0.5, bins=15)\n",
    "plt.hist(ultra.revenue, alpha=0.5, bins=15)\n",
    "plt.legend(['smart', 'ultra'])\n",
    "plt.title('Средняя сумма платы за тариф в месяц')\n",
    "plt.grid(True)\n",
    "plt.xlabel('Расходы')\n",
    "plt.ylabel('Кол-во абонентов')\n",
    "plt.show()"
   ]
  },
  {
   "cell_type": "markdown",
   "metadata": {},
   "source": [
    "#### Вывод\n",
    "    Пользователи тарифа ultra, в отличии от пользователей smart, редко расходуют сверх тарифа. Сообщения не пользуются большой популярностью в обоих тарифах. Пользователи тарифа ultra используют больше минут и интернета чем smart пользователи, при этом вторым приходится часто доплачивать за доп услуги тарифа. Стабильная выручка идет от тарифа Ultra."
   ]
  },
  {
   "cell_type": "markdown",
   "metadata": {},
   "source": [
    "## Проверка гипотез "
   ]
  },
  {
   "cell_type": "markdown",
   "metadata": {},
   "source": [
    "   1) средняя выручка пользователей тарифов «Ультра» и «Смарт» различаются;\n",
    "\n",
    "   2) средняя выручка пользователей из Москвы отличается от выручки пользователей из других регионов."
   ]
  },
  {
   "cell_type": "markdown",
   "metadata": {},
   "source": [
    "### 1 гипотеза\n",
    "H0 = средняя выручка пользователей тарифов «Ультра» и «Смарт» не различаются\n",
    "\n",
    "H1 = средняя выручка пользователей тарифов «Ультра» и «Смарт» различаются"
   ]
  },
  {
   "cell_type": "code",
   "execution_count": 28,
   "metadata": {},
   "outputs": [
    {
     "name": "stdout",
     "output_type": "stream",
     "text": [
      "p-значение: 1.927011394420941e-250\n",
      "Отвергаем нулевую гипотезу\n"
     ]
    }
   ],
   "source": [
    "# делаем срезы по таблице в зависимости от тарифа\n",
    "ultra = df[df['tariff'] == 'ultra']\n",
    "smart = df[df['tariff'] == 'smart']\n",
    "\n",
    "#возьмем из этих таблицы только столбец cash\n",
    "ultra = ultra['revenue']\n",
    "smart = smart['revenue']\n",
    "\n",
    "# уровень статистической значимости будет равен 5%\n",
    "alpha = 0.05 \n",
    "# для проверки гипотез выбран t-test, так как генеральные совокупности не зависят друг от друга\n",
    "\n",
    "results = st.ttest_ind(ultra, smart, equal_var=False) # параметр equal_var=False, т.к. дисперсия сильно различается\n",
    "print('p-значение:', results.pvalue)\n",
    "if results.pvalue < alpha:\n",
    "    print(\"Отвергаем нулевую гипотезу\")\n",
    "else:\n",
    "    print(\"Не получилось отвергнуть нулевую гипотезу\") "
   ]
  },
  {
   "cell_type": "markdown",
   "metadata": {},
   "source": [
    "Вывод: верна гипотеза H1: выручка пользователей тарифов \"смарт\" и \"ультра\" различается."
   ]
  },
  {
   "cell_type": "markdown",
   "metadata": {},
   "source": [
    "### 2 гипотеза\n",
    "Н0: выручка пользователей из Москвы не отличается от выручки пользователей из других регионов\n",
    "    \n",
    "H1: выручка пользователей из Москвы отличается от выручки пользователей из других регионов"
   ]
  },
  {
   "cell_type": "code",
   "execution_count": 29,
   "metadata": {},
   "outputs": [
    {
     "name": "stdout",
     "output_type": "stream",
     "text": [
      "p-значение: 0.5216952110000278\n",
      "Не получилось отвергнуть нулевую гипотезу\n"
     ]
    }
   ],
   "source": [
    "# делаем срезы по таблице в зависимости от региона\n",
    "moscow = df.query('city == \"Москва\"')\n",
    "NOT_moscow = df.query('city != \"Москва\"')\n",
    "#возьмем из этих таблицы только столбец cash\n",
    "moscow = moscow['revenue']\n",
    "NOT_moscow = NOT_moscow['revenue']\n",
    "\n",
    "# уровень статистической значимости будет равен 5%\n",
    "alpha = 0.05\n",
    "# для проверки гипотез выбран t-test, так как генеральные совокупности не зависят друг от друга\n",
    "results = st.ttest_ind(moscow, NOT_moscow, equal_var=False) # параметр equal_var=False, т.к. дисперсия сильно различается\n",
    "print('p-значение:', results.pvalue)\n",
    "\n",
    "if results.pvalue < alpha:\n",
    "    print(\"Отвергаем нулевую гипотезу\")\n",
    "else:\n",
    "    print(\"Не получилось отвергнуть нулевую гипотезу\") "
   ]
  },
  {
   "cell_type": "markdown",
   "metadata": {},
   "source": [
    "Вывод: верна гипотеза Н0: выручка пользователей из Москвы не отличается от выручки пользователей из других регионов"
   ]
  },
  {
   "cell_type": "markdown",
   "metadata": {},
   "source": [
    "## Вывод"
   ]
  },
  {
   "cell_type": "markdown",
   "metadata": {},
   "source": [
    "Завершив исследования, можно сделать следущие выводы:\n",
    "\n",
    "- Пользвателям тарифа \"смарт\", в отличии от \"ультра\" чаще приходится покупать дополнительные услуги, т к \"пакета\"не хватает\n",
    "\n",
    "- Стандартное отклонение по тарифу smart больше, чем по тарифу ultra.\n",
    "\n",
    "- Средние выручки пользователей тарифов «Ультра» и «Смарт» не равны.\n",
    "\n",
    "- Средняя выручка пользователей из Москвы почти не разлчается выручке пользователей из других регионов\n"
   ]
  },
  {
   "cell_type": "markdown",
   "metadata": {},
   "source": [
    "## Какой тариф выбрать?\n",
    "- С точки зрения оператора, выгодней чтобы люди пользвались тарифом ultra, т к с этого тарифа идет стабильная выручка. Хотя пользователям тарифа smart и приходится иногда брать услуги сверх \"пакета\", эта выручка очень нестабильна\n",
    "- Для пользователя также выгодней тариф ultra. Хотя этот \"пакет услуг\" дороже, чем в тарифе smart, на графках нашего исследования видно, что пользователи smart часто берут доп.услуги, от чего ежемесячная плата становится больше. Около 70% людей, рассчитывают на то, что \"пакета\" smart им будет достаточно."
   ]
  }
 ],
 "metadata": {
  "ExecuteTimeLog": [
   {
    "duration": 60,
    "start_time": "2022-07-17T13:01:19.650Z"
   },
   {
    "duration": 2,
    "start_time": "2022-07-17T13:03:10.638Z"
   },
   {
    "duration": 1250,
    "start_time": "2022-07-17T13:03:48.299Z"
   },
   {
    "duration": 1041,
    "start_time": "2022-07-17T13:23:45.671Z"
   },
   {
    "duration": 19,
    "start_time": "2022-07-17T13:23:52.766Z"
   },
   {
    "duration": 22,
    "start_time": "2022-07-17T13:24:05.561Z"
   },
   {
    "duration": 132,
    "start_time": "2022-07-17T13:29:39.164Z"
   },
   {
    "duration": 148,
    "start_time": "2022-07-17T13:30:08.081Z"
   },
   {
    "duration": 114,
    "start_time": "2022-07-17T13:30:54.802Z"
   },
   {
    "duration": 67,
    "start_time": "2022-07-17T13:31:23.734Z"
   },
   {
    "duration": 43,
    "start_time": "2022-07-17T13:31:42.822Z"
   },
   {
    "duration": 8,
    "start_time": "2022-07-17T13:31:54.465Z"
   },
   {
    "duration": 20,
    "start_time": "2022-07-17T13:32:23.565Z"
   },
   {
    "duration": 32,
    "start_time": "2022-07-17T13:33:03.112Z"
   },
   {
    "duration": 58,
    "start_time": "2022-07-17T13:33:30.249Z"
   },
   {
    "duration": 3,
    "start_time": "2022-07-17T13:35:53.217Z"
   },
   {
    "duration": 486,
    "start_time": "2022-07-17T13:35:53.486Z"
   },
   {
    "duration": 163,
    "start_time": "2022-07-17T13:35:53.975Z"
   },
   {
    "duration": 123,
    "start_time": "2022-07-17T13:35:54.139Z"
   },
   {
    "duration": 98,
    "start_time": "2022-07-17T13:35:54.265Z"
   },
   {
    "duration": 54,
    "start_time": "2022-07-17T13:35:54.430Z"
   },
   {
    "duration": 40,
    "start_time": "2022-07-17T13:35:54.683Z"
   },
   {
    "duration": 3,
    "start_time": "2022-07-17T13:41:16.342Z"
   },
   {
    "duration": 52,
    "start_time": "2022-07-21T18:10:39.052Z"
   },
   {
    "duration": 9,
    "start_time": "2022-07-21T18:10:39.460Z"
   },
   {
    "duration": 1323,
    "start_time": "2022-07-21T18:10:45.441Z"
   },
   {
    "duration": 1531,
    "start_time": "2022-07-21T18:10:46.767Z"
   },
   {
    "duration": 192,
    "start_time": "2022-07-21T18:10:48.300Z"
   },
   {
    "duration": 155,
    "start_time": "2022-07-21T18:10:48.495Z"
   },
   {
    "duration": 107,
    "start_time": "2022-07-21T18:10:48.653Z"
   },
   {
    "duration": 68,
    "start_time": "2022-07-21T18:10:48.762Z"
   },
   {
    "duration": 44,
    "start_time": "2022-07-21T18:10:48.832Z"
   },
   {
    "duration": 131,
    "start_time": "2022-07-21T18:10:48.878Z"
   },
   {
    "duration": 0,
    "start_time": "2022-07-21T18:10:49.010Z"
   },
   {
    "duration": 9,
    "start_time": "2022-07-21T18:11:53.263Z"
   },
   {
    "duration": 111,
    "start_time": "2022-07-21T18:11:56.776Z"
   },
   {
    "duration": 3,
    "start_time": "2022-07-21T18:12:05.578Z"
   },
   {
    "duration": 528,
    "start_time": "2022-07-21T18:12:05.781Z"
   },
   {
    "duration": 201,
    "start_time": "2022-07-21T18:12:06.311Z"
   },
   {
    "duration": 184,
    "start_time": "2022-07-21T18:12:06.514Z"
   },
   {
    "duration": 135,
    "start_time": "2022-07-21T18:12:06.704Z"
   },
   {
    "duration": 70,
    "start_time": "2022-07-21T18:12:06.841Z"
   },
   {
    "duration": 46,
    "start_time": "2022-07-21T18:12:06.913Z"
   },
   {
    "duration": 48,
    "start_time": "2022-07-21T18:12:07.522Z"
   },
   {
    "duration": 78,
    "start_time": "2022-07-21T18:12:07.772Z"
   },
   {
    "duration": 9,
    "start_time": "2022-07-21T18:12:08.007Z"
   },
   {
    "duration": 1246,
    "start_time": "2022-07-21T18:13:09.054Z"
   },
   {
    "duration": 551,
    "start_time": "2022-07-21T18:13:10.303Z"
   },
   {
    "duration": 201,
    "start_time": "2022-07-21T18:13:10.856Z"
   },
   {
    "duration": 198,
    "start_time": "2022-07-21T18:13:11.059Z"
   },
   {
    "duration": 113,
    "start_time": "2022-07-21T18:13:11.259Z"
   },
   {
    "duration": 70,
    "start_time": "2022-07-21T18:13:11.374Z"
   },
   {
    "duration": 84,
    "start_time": "2022-07-21T18:13:11.446Z"
   },
   {
    "duration": 198,
    "start_time": "2022-07-21T18:13:11.533Z"
   },
   {
    "duration": 0,
    "start_time": "2022-07-21T18:13:11.733Z"
   },
   {
    "duration": 0,
    "start_time": "2022-07-21T18:13:11.735Z"
   },
   {
    "duration": 13,
    "start_time": "2022-07-21T18:13:45.333Z"
   },
   {
    "duration": 47,
    "start_time": "2022-07-21T18:13:45.612Z"
   },
   {
    "duration": 17,
    "start_time": "2022-07-21T18:13:46.410Z"
   },
   {
    "duration": 266,
    "start_time": "2022-07-21T18:13:46.611Z"
   },
   {
    "duration": 41,
    "start_time": "2022-07-21T18:13:46.879Z"
   },
   {
    "duration": 4,
    "start_time": "2022-07-21T18:13:51.229Z"
   },
   {
    "duration": 528,
    "start_time": "2022-07-21T18:13:51.428Z"
   },
   {
    "duration": 173,
    "start_time": "2022-07-21T18:13:51.958Z"
   },
   {
    "duration": 161,
    "start_time": "2022-07-21T18:13:52.133Z"
   },
   {
    "duration": 126,
    "start_time": "2022-07-21T18:13:52.306Z"
   },
   {
    "duration": 71,
    "start_time": "2022-07-21T18:13:52.434Z"
   },
   {
    "duration": 50,
    "start_time": "2022-07-21T18:13:52.508Z"
   },
   {
    "duration": 60,
    "start_time": "2022-07-21T18:13:53.127Z"
   },
   {
    "duration": 232,
    "start_time": "2022-07-21T18:13:53.330Z"
   },
   {
    "duration": 42,
    "start_time": "2022-07-21T18:13:53.565Z"
   },
   {
    "duration": 39,
    "start_time": "2022-07-21T18:18:06.889Z"
   },
   {
    "duration": 45,
    "start_time": "2022-07-21T18:20:37.670Z"
   },
   {
    "duration": 31,
    "start_time": "2022-07-21T18:21:08.137Z"
   },
   {
    "duration": 1132,
    "start_time": "2022-07-21T18:21:38.362Z"
   },
   {
    "duration": 514,
    "start_time": "2022-07-21T18:21:39.497Z"
   },
   {
    "duration": 206,
    "start_time": "2022-07-21T18:21:40.013Z"
   },
   {
    "duration": 151,
    "start_time": "2022-07-21T18:21:40.221Z"
   },
   {
    "duration": 98,
    "start_time": "2022-07-21T18:21:40.374Z"
   },
   {
    "duration": 66,
    "start_time": "2022-07-21T18:21:40.474Z"
   },
   {
    "duration": 76,
    "start_time": "2022-07-21T18:21:40.542Z"
   },
   {
    "duration": 56,
    "start_time": "2022-07-21T18:21:40.620Z"
   },
   {
    "duration": 243,
    "start_time": "2022-07-21T18:21:40.677Z"
   },
   {
    "duration": 29,
    "start_time": "2022-07-21T18:21:40.922Z"
   },
   {
    "duration": 55,
    "start_time": "2022-07-21T18:21:40.952Z"
   },
   {
    "duration": 61,
    "start_time": "2022-07-21T18:21:41.009Z"
   },
   {
    "duration": 115,
    "start_time": "2022-07-21T18:21:54.177Z"
   },
   {
    "duration": 3,
    "start_time": "2022-07-21T18:22:03.566Z"
   },
   {
    "duration": 511,
    "start_time": "2022-07-21T18:22:03.798Z"
   },
   {
    "duration": 172,
    "start_time": "2022-07-21T18:22:04.312Z"
   },
   {
    "duration": 149,
    "start_time": "2022-07-21T18:22:04.486Z"
   },
   {
    "duration": 105,
    "start_time": "2022-07-21T18:22:04.638Z"
   },
   {
    "duration": 73,
    "start_time": "2022-07-21T18:22:04.745Z"
   },
   {
    "duration": 46,
    "start_time": "2022-07-21T18:22:04.827Z"
   },
   {
    "duration": 58,
    "start_time": "2022-07-21T18:22:05.448Z"
   },
   {
    "duration": 228,
    "start_time": "2022-07-21T18:22:05.635Z"
   },
   {
    "duration": 44,
    "start_time": "2022-07-21T18:22:05.866Z"
   },
   {
    "duration": 41,
    "start_time": "2022-07-21T18:22:06.233Z"
   },
   {
    "duration": 100,
    "start_time": "2022-07-21T18:22:06.421Z"
   },
   {
    "duration": 20,
    "start_time": "2022-07-21T18:23:04.760Z"
   },
   {
    "duration": 16,
    "start_time": "2022-07-21T18:23:43.696Z"
   },
   {
    "duration": 141,
    "start_time": "2022-07-21T18:27:15.438Z"
   },
   {
    "duration": 47,
    "start_time": "2022-07-21T18:57:36.334Z"
   },
   {
    "duration": 72,
    "start_time": "2022-07-21T18:58:51.937Z"
   },
   {
    "duration": 46,
    "start_time": "2022-07-21T18:58:57.436Z"
   },
   {
    "duration": 46,
    "start_time": "2022-07-21T18:59:07.478Z"
   },
   {
    "duration": 11,
    "start_time": "2022-07-21T18:59:52.361Z"
   },
   {
    "duration": 23,
    "start_time": "2022-07-21T18:59:57.422Z"
   },
   {
    "duration": 208,
    "start_time": "2022-07-21T18:59:57.798Z"
   },
   {
    "duration": 305,
    "start_time": "2022-07-21T18:59:58.012Z"
   },
   {
    "duration": 222,
    "start_time": "2022-07-21T18:59:58.318Z"
   },
   {
    "duration": 215,
    "start_time": "2022-07-21T18:59:58.542Z"
   },
   {
    "duration": 8,
    "start_time": "2022-07-21T19:03:59.276Z"
   },
   {
    "duration": 15,
    "start_time": "2022-07-21T19:05:51.186Z"
   },
   {
    "duration": 95,
    "start_time": "2022-07-21T19:06:37.661Z"
   },
   {
    "duration": 92,
    "start_time": "2022-07-21T19:12:04.865Z"
   },
   {
    "duration": 90,
    "start_time": "2022-07-21T19:12:10.173Z"
   },
   {
    "duration": 56,
    "start_time": "2022-07-21T19:12:25.979Z"
   },
   {
    "duration": 23,
    "start_time": "2022-07-21T19:25:14.668Z"
   },
   {
    "duration": 1136,
    "start_time": "2022-07-21T19:26:00.034Z"
   },
   {
    "duration": 492,
    "start_time": "2022-07-21T19:26:01.173Z"
   },
   {
    "duration": 181,
    "start_time": "2022-07-21T19:26:01.667Z"
   },
   {
    "duration": 135,
    "start_time": "2022-07-21T19:26:01.850Z"
   },
   {
    "duration": 122,
    "start_time": "2022-07-21T19:26:01.987Z"
   },
   {
    "duration": 56,
    "start_time": "2022-07-21T19:26:02.111Z"
   },
   {
    "duration": 70,
    "start_time": "2022-07-21T19:26:02.169Z"
   },
   {
    "duration": 80,
    "start_time": "2022-07-21T19:26:02.241Z"
   },
   {
    "duration": 255,
    "start_time": "2022-07-21T19:26:02.323Z"
   },
   {
    "duration": 40,
    "start_time": "2022-07-21T19:26:02.580Z"
   },
   {
    "duration": 44,
    "start_time": "2022-07-21T19:26:02.621Z"
   },
   {
    "duration": 126,
    "start_time": "2022-07-21T19:26:02.667Z"
   },
   {
    "duration": 26,
    "start_time": "2022-07-21T19:26:02.795Z"
   },
   {
    "duration": 166,
    "start_time": "2022-07-21T19:26:02.824Z"
   },
   {
    "duration": 37,
    "start_time": "2022-07-21T19:26:02.992Z"
   },
   {
    "duration": 50,
    "start_time": "2022-07-21T19:26:03.031Z"
   },
   {
    "duration": 38,
    "start_time": "2022-07-21T19:26:03.083Z"
   },
   {
    "duration": 223,
    "start_time": "2022-07-21T19:26:03.123Z"
   },
   {
    "duration": 227,
    "start_time": "2022-07-21T19:26:03.348Z"
   },
   {
    "duration": 217,
    "start_time": "2022-07-21T19:26:03.577Z"
   },
   {
    "duration": 214,
    "start_time": "2022-07-21T19:26:03.796Z"
   },
   {
    "duration": 8,
    "start_time": "2022-07-21T19:26:04.012Z"
   },
   {
    "duration": 13,
    "start_time": "2022-07-21T19:26:04.022Z"
   },
   {
    "duration": 1191,
    "start_time": "2022-07-21T19:47:18.386Z"
   },
   {
    "duration": 536,
    "start_time": "2022-07-21T19:47:19.579Z"
   },
   {
    "duration": 208,
    "start_time": "2022-07-21T19:47:20.117Z"
   },
   {
    "duration": 157,
    "start_time": "2022-07-21T19:47:20.327Z"
   },
   {
    "duration": 103,
    "start_time": "2022-07-21T19:47:20.486Z"
   },
   {
    "duration": 61,
    "start_time": "2022-07-21T19:47:20.591Z"
   },
   {
    "duration": 67,
    "start_time": "2022-07-21T19:47:20.654Z"
   },
   {
    "duration": 63,
    "start_time": "2022-07-21T19:47:20.723Z"
   },
   {
    "duration": 266,
    "start_time": "2022-07-21T19:47:20.788Z"
   },
   {
    "duration": 31,
    "start_time": "2022-07-21T19:47:21.057Z"
   },
   {
    "duration": 60,
    "start_time": "2022-07-21T19:47:21.090Z"
   },
   {
    "duration": 126,
    "start_time": "2022-07-21T19:47:21.152Z"
   },
   {
    "duration": 17,
    "start_time": "2022-07-21T19:47:21.279Z"
   },
   {
    "duration": 163,
    "start_time": "2022-07-21T19:47:21.310Z"
   },
   {
    "duration": 46,
    "start_time": "2022-07-21T19:47:21.475Z"
   },
   {
    "duration": 49,
    "start_time": "2022-07-21T19:47:21.523Z"
   },
   {
    "duration": 40,
    "start_time": "2022-07-21T19:47:21.574Z"
   },
   {
    "duration": 243,
    "start_time": "2022-07-21T19:47:21.616Z"
   },
   {
    "duration": 302,
    "start_time": "2022-07-21T19:47:21.861Z"
   },
   {
    "duration": 228,
    "start_time": "2022-07-21T19:47:22.166Z"
   },
   {
    "duration": 217,
    "start_time": "2022-07-21T19:47:22.396Z"
   },
   {
    "duration": 9,
    "start_time": "2022-07-21T19:47:22.615Z"
   },
   {
    "duration": 13,
    "start_time": "2022-07-21T19:47:22.626Z"
   },
   {
    "duration": 1242,
    "start_time": "2022-07-21T20:03:19.683Z"
   },
   {
    "duration": 537,
    "start_time": "2022-07-21T20:03:20.927Z"
   },
   {
    "duration": 198,
    "start_time": "2022-07-21T20:03:21.466Z"
   },
   {
    "duration": 161,
    "start_time": "2022-07-21T20:03:21.666Z"
   },
   {
    "duration": 136,
    "start_time": "2022-07-21T20:03:21.830Z"
   },
   {
    "duration": 80,
    "start_time": "2022-07-21T20:03:21.968Z"
   },
   {
    "duration": 81,
    "start_time": "2022-07-21T20:03:22.050Z"
   },
   {
    "duration": 87,
    "start_time": "2022-07-21T20:03:22.133Z"
   },
   {
    "duration": 249,
    "start_time": "2022-07-21T20:03:22.223Z"
   },
   {
    "duration": 49,
    "start_time": "2022-07-21T20:03:22.474Z"
   },
   {
    "duration": 55,
    "start_time": "2022-07-21T20:03:22.525Z"
   },
   {
    "duration": 104,
    "start_time": "2022-07-21T20:03:22.582Z"
   },
   {
    "duration": 32,
    "start_time": "2022-07-21T20:03:22.688Z"
   },
   {
    "duration": 161,
    "start_time": "2022-07-21T20:03:22.724Z"
   },
   {
    "duration": 36,
    "start_time": "2022-07-21T20:03:22.887Z"
   },
   {
    "duration": 57,
    "start_time": "2022-07-21T20:03:22.925Z"
   },
   {
    "duration": 42,
    "start_time": "2022-07-21T20:03:22.984Z"
   },
   {
    "duration": 233,
    "start_time": "2022-07-21T20:03:23.028Z"
   },
   {
    "duration": 244,
    "start_time": "2022-07-21T20:03:23.264Z"
   },
   {
    "duration": 227,
    "start_time": "2022-07-21T20:03:23.510Z"
   },
   {
    "duration": 219,
    "start_time": "2022-07-21T20:03:23.739Z"
   },
   {
    "duration": 9,
    "start_time": "2022-07-21T20:03:23.960Z"
   },
   {
    "duration": 14,
    "start_time": "2022-07-21T20:03:23.971Z"
   },
   {
    "duration": 1158,
    "start_time": "2022-07-22T16:49:17.422Z"
   },
   {
    "duration": 995,
    "start_time": "2022-07-22T16:49:33.770Z"
   },
   {
    "duration": 227,
    "start_time": "2022-07-22T16:52:56.088Z"
   },
   {
    "duration": 30,
    "start_time": "2022-07-22T16:52:59.392Z"
   },
   {
    "duration": 36,
    "start_time": "2022-07-22T16:53:41.190Z"
   },
   {
    "duration": 99,
    "start_time": "2022-07-22T16:54:15.724Z"
   },
   {
    "duration": 11,
    "start_time": "2022-07-22T16:55:22.917Z"
   },
   {
    "duration": 11,
    "start_time": "2022-07-22T16:55:33.265Z"
   },
   {
    "duration": 996,
    "start_time": "2022-07-22T16:55:42.032Z"
   },
   {
    "duration": 11,
    "start_time": "2022-07-22T16:55:43.681Z"
   },
   {
    "duration": 11,
    "start_time": "2022-07-22T16:55:45.013Z"
   },
   {
    "duration": 13,
    "start_time": "2022-07-22T16:56:02.715Z"
   },
   {
    "duration": 48,
    "start_time": "2022-07-23T09:50:13.117Z"
   },
   {
    "duration": 1263,
    "start_time": "2022-07-23T09:50:26.544Z"
   },
   {
    "duration": 1046,
    "start_time": "2022-07-23T09:50:27.809Z"
   },
   {
    "duration": 178,
    "start_time": "2022-07-23T09:50:28.857Z"
   },
   {
    "duration": 153,
    "start_time": "2022-07-23T09:50:29.037Z"
   },
   {
    "duration": 98,
    "start_time": "2022-07-23T09:50:29.192Z"
   },
   {
    "duration": 43,
    "start_time": "2022-07-23T09:50:29.291Z"
   },
   {
    "duration": 45,
    "start_time": "2022-07-23T09:50:29.541Z"
   },
   {
    "duration": 63,
    "start_time": "2022-07-23T09:50:31.042Z"
   },
   {
    "duration": 222,
    "start_time": "2022-07-23T09:50:31.737Z"
   },
   {
    "duration": 33,
    "start_time": "2022-07-23T09:50:32.043Z"
   },
   {
    "duration": 42,
    "start_time": "2022-07-23T09:50:33.041Z"
   },
   {
    "duration": 77,
    "start_time": "2022-07-23T09:50:33.843Z"
   },
   {
    "duration": 14,
    "start_time": "2022-07-23T09:50:34.277Z"
   },
   {
    "duration": 130,
    "start_time": "2022-07-23T09:50:34.883Z"
   },
   {
    "duration": 32,
    "start_time": "2022-07-23T09:50:35.742Z"
   },
   {
    "duration": 51,
    "start_time": "2022-07-23T09:50:36.521Z"
   },
   {
    "duration": 21,
    "start_time": "2022-07-23T09:50:37.274Z"
   },
   {
    "duration": 193,
    "start_time": "2022-07-23T09:50:37.978Z"
   },
   {
    "duration": 195,
    "start_time": "2022-07-23T09:50:38.321Z"
   },
   {
    "duration": 197,
    "start_time": "2022-07-23T09:50:38.649Z"
   },
   {
    "duration": 207,
    "start_time": "2022-07-23T09:50:38.945Z"
   },
   {
    "duration": 8,
    "start_time": "2022-07-23T09:50:40.301Z"
   },
   {
    "duration": 16,
    "start_time": "2022-07-23T09:50:41.204Z"
   },
   {
    "duration": 1025,
    "start_time": "2022-07-23T10:00:47.067Z"
   },
   {
    "duration": 472,
    "start_time": "2022-07-23T10:00:48.094Z"
   },
   {
    "duration": 182,
    "start_time": "2022-07-23T10:00:48.568Z"
   },
   {
    "duration": 135,
    "start_time": "2022-07-23T10:00:48.752Z"
   },
   {
    "duration": 92,
    "start_time": "2022-07-23T10:00:48.889Z"
   },
   {
    "duration": 42,
    "start_time": "2022-07-23T10:00:48.983Z"
   },
   {
    "duration": 61,
    "start_time": "2022-07-23T10:00:49.026Z"
   },
   {
    "duration": 77,
    "start_time": "2022-07-23T10:00:49.088Z"
   },
   {
    "duration": 222,
    "start_time": "2022-07-23T10:00:49.167Z"
   },
   {
    "duration": 25,
    "start_time": "2022-07-23T10:00:49.391Z"
   },
   {
    "duration": 49,
    "start_time": "2022-07-23T10:00:49.418Z"
   },
   {
    "duration": 93,
    "start_time": "2022-07-23T10:00:49.469Z"
   },
   {
    "duration": 21,
    "start_time": "2022-07-23T10:00:49.563Z"
   },
   {
    "duration": 191,
    "start_time": "2022-07-23T10:00:49.588Z"
   },
   {
    "duration": 39,
    "start_time": "2022-07-23T10:00:49.781Z"
   },
   {
    "duration": 63,
    "start_time": "2022-07-23T10:00:49.822Z"
   },
   {
    "duration": 20,
    "start_time": "2022-07-23T10:00:49.886Z"
   },
   {
    "duration": 197,
    "start_time": "2022-07-23T10:00:49.908Z"
   },
   {
    "duration": 194,
    "start_time": "2022-07-23T10:00:50.106Z"
   },
   {
    "duration": 197,
    "start_time": "2022-07-23T10:00:50.301Z"
   },
   {
    "duration": 204,
    "start_time": "2022-07-23T10:00:50.500Z"
   },
   {
    "duration": 11,
    "start_time": "2022-07-23T10:00:50.707Z"
   },
   {
    "duration": 26,
    "start_time": "2022-07-23T10:00:50.720Z"
   },
   {
    "duration": 1110,
    "start_time": "2022-07-23T10:12:31.564Z"
   },
   {
    "duration": 472,
    "start_time": "2022-07-23T10:12:32.676Z"
   },
   {
    "duration": 174,
    "start_time": "2022-07-23T10:12:33.149Z"
   },
   {
    "duration": 151,
    "start_time": "2022-07-23T10:12:33.324Z"
   },
   {
    "duration": 102,
    "start_time": "2022-07-23T10:12:33.477Z"
   },
   {
    "duration": 41,
    "start_time": "2022-07-23T10:12:33.581Z"
   },
   {
    "duration": 63,
    "start_time": "2022-07-23T10:12:33.623Z"
   },
   {
    "duration": 74,
    "start_time": "2022-07-23T10:12:33.687Z"
   },
   {
    "duration": 208,
    "start_time": "2022-07-23T10:12:33.762Z"
   },
   {
    "duration": 26,
    "start_time": "2022-07-23T10:12:33.971Z"
   },
   {
    "duration": 34,
    "start_time": "2022-07-23T10:12:33.998Z"
   },
   {
    "duration": 91,
    "start_time": "2022-07-23T10:12:34.034Z"
   },
   {
    "duration": 34,
    "start_time": "2022-07-23T10:12:34.126Z"
   },
   {
    "duration": 132,
    "start_time": "2022-07-23T10:12:34.163Z"
   },
   {
    "duration": 26,
    "start_time": "2022-07-23T10:12:34.296Z"
   },
   {
    "duration": 60,
    "start_time": "2022-07-23T10:12:34.324Z"
   },
   {
    "duration": 21,
    "start_time": "2022-07-23T10:12:34.385Z"
   },
   {
    "duration": 208,
    "start_time": "2022-07-23T10:12:34.408Z"
   },
   {
    "duration": 233,
    "start_time": "2022-07-23T10:12:34.618Z"
   },
   {
    "duration": 192,
    "start_time": "2022-07-23T10:12:34.853Z"
   },
   {
    "duration": 190,
    "start_time": "2022-07-23T10:12:35.047Z"
   },
   {
    "duration": 23,
    "start_time": "2022-07-23T10:12:35.239Z"
   },
   {
    "duration": 20,
    "start_time": "2022-07-23T10:12:35.265Z"
   },
   {
    "duration": 9,
    "start_time": "2022-07-23T10:16:44.651Z"
   },
   {
    "duration": 1033,
    "start_time": "2022-07-23T11:18:01.756Z"
   },
   {
    "duration": 436,
    "start_time": "2022-07-23T11:18:02.791Z"
   },
   {
    "duration": 155,
    "start_time": "2022-07-23T11:18:03.229Z"
   },
   {
    "duration": 125,
    "start_time": "2022-07-23T11:18:03.386Z"
   },
   {
    "duration": 85,
    "start_time": "2022-07-23T11:18:03.513Z"
   },
   {
    "duration": 40,
    "start_time": "2022-07-23T11:18:03.600Z"
   },
   {
    "duration": 55,
    "start_time": "2022-07-23T11:18:03.642Z"
   },
   {
    "duration": 72,
    "start_time": "2022-07-23T11:18:03.698Z"
   },
   {
    "duration": 212,
    "start_time": "2022-07-23T11:18:03.772Z"
   },
   {
    "duration": 27,
    "start_time": "2022-07-23T11:18:03.985Z"
   },
   {
    "duration": 54,
    "start_time": "2022-07-23T11:18:04.013Z"
   },
   {
    "duration": 69,
    "start_time": "2022-07-23T11:18:04.069Z"
   },
   {
    "duration": 31,
    "start_time": "2022-07-23T11:18:04.139Z"
   },
   {
    "duration": 134,
    "start_time": "2022-07-23T11:18:04.172Z"
   },
   {
    "duration": 25,
    "start_time": "2022-07-23T11:18:04.307Z"
   },
   {
    "duration": 53,
    "start_time": "2022-07-23T11:18:04.334Z"
   },
   {
    "duration": 19,
    "start_time": "2022-07-23T11:18:04.388Z"
   },
   {
    "duration": 220,
    "start_time": "2022-07-23T11:18:04.409Z"
   },
   {
    "duration": 221,
    "start_time": "2022-07-23T11:18:04.631Z"
   },
   {
    "duration": 196,
    "start_time": "2022-07-23T11:18:04.854Z"
   },
   {
    "duration": 216,
    "start_time": "2022-07-23T11:18:05.052Z"
   },
   {
    "duration": 18,
    "start_time": "2022-07-23T11:18:05.270Z"
   },
   {
    "duration": 51,
    "start_time": "2022-07-23T11:18:05.290Z"
   },
   {
    "duration": 1063,
    "start_time": "2022-07-24T01:23:34.918Z"
   },
   {
    "duration": 995,
    "start_time": "2022-07-24T01:23:35.983Z"
   },
   {
    "duration": 161,
    "start_time": "2022-07-24T01:23:36.980Z"
   },
   {
    "duration": 127,
    "start_time": "2022-07-24T01:23:37.145Z"
   },
   {
    "duration": 86,
    "start_time": "2022-07-24T01:23:37.273Z"
   },
   {
    "duration": 40,
    "start_time": "2022-07-24T01:23:37.361Z"
   },
   {
    "duration": 60,
    "start_time": "2022-07-24T01:23:37.402Z"
   },
   {
    "duration": 55,
    "start_time": "2022-07-24T01:23:37.463Z"
   },
   {
    "duration": 219,
    "start_time": "2022-07-24T01:23:37.519Z"
   },
   {
    "duration": 27,
    "start_time": "2022-07-24T01:23:37.740Z"
   },
   {
    "duration": 32,
    "start_time": "2022-07-24T01:23:37.769Z"
   },
   {
    "duration": 84,
    "start_time": "2022-07-24T01:23:37.802Z"
   },
   {
    "duration": 15,
    "start_time": "2022-07-24T01:23:37.888Z"
   },
   {
    "duration": 138,
    "start_time": "2022-07-24T01:23:37.905Z"
   },
   {
    "duration": 26,
    "start_time": "2022-07-24T01:23:38.046Z"
   },
   {
    "duration": 42,
    "start_time": "2022-07-24T01:23:38.074Z"
   },
   {
    "duration": 43,
    "start_time": "2022-07-24T01:23:38.118Z"
   },
   {
    "duration": 197,
    "start_time": "2022-07-24T01:23:38.163Z"
   },
   {
    "duration": 198,
    "start_time": "2022-07-24T01:23:38.361Z"
   },
   {
    "duration": 189,
    "start_time": "2022-07-24T01:23:38.561Z"
   },
   {
    "duration": 188,
    "start_time": "2022-07-24T01:23:38.752Z"
   },
   {
    "duration": 10,
    "start_time": "2022-07-24T01:23:38.946Z"
   },
   {
    "duration": 16,
    "start_time": "2022-07-24T01:23:38.958Z"
   },
   {
    "duration": 21,
    "start_time": "2022-07-24T01:49:31.640Z"
   },
   {
    "duration": 1138,
    "start_time": "2022-07-24T01:49:53.259Z"
   },
   {
    "duration": 492,
    "start_time": "2022-07-24T01:49:54.398Z"
   },
   {
    "duration": 179,
    "start_time": "2022-07-24T01:49:54.892Z"
   },
   {
    "duration": 134,
    "start_time": "2022-07-24T01:49:55.073Z"
   },
   {
    "duration": 96,
    "start_time": "2022-07-24T01:49:55.209Z"
   },
   {
    "duration": 61,
    "start_time": "2022-07-24T01:49:55.306Z"
   },
   {
    "duration": 41,
    "start_time": "2022-07-24T01:49:55.368Z"
   },
   {
    "duration": 81,
    "start_time": "2022-07-24T01:49:55.410Z"
   },
   {
    "duration": 235,
    "start_time": "2022-07-24T01:49:55.493Z"
   },
   {
    "duration": 34,
    "start_time": "2022-07-24T01:49:55.730Z"
   },
   {
    "duration": 42,
    "start_time": "2022-07-24T01:49:55.766Z"
   },
   {
    "duration": 96,
    "start_time": "2022-07-24T01:49:55.810Z"
   },
   {
    "duration": 13,
    "start_time": "2022-07-24T01:49:55.908Z"
   },
   {
    "duration": 25,
    "start_time": "2022-07-24T01:49:55.924Z"
   },
   {
    "duration": 143,
    "start_time": "2022-07-24T01:49:55.951Z"
   },
   {
    "duration": 23,
    "start_time": "2022-07-24T01:49:56.096Z"
   },
   {
    "duration": 61,
    "start_time": "2022-07-24T01:49:56.120Z"
   },
   {
    "duration": 19,
    "start_time": "2022-07-24T01:49:56.183Z"
   },
   {
    "duration": 209,
    "start_time": "2022-07-24T01:49:56.204Z"
   },
   {
    "duration": 205,
    "start_time": "2022-07-24T01:49:56.414Z"
   },
   {
    "duration": 199,
    "start_time": "2022-07-24T01:49:56.621Z"
   },
   {
    "duration": 194,
    "start_time": "2022-07-24T01:49:56.822Z"
   },
   {
    "duration": 8,
    "start_time": "2022-07-24T01:49:57.017Z"
   },
   {
    "duration": 19,
    "start_time": "2022-07-24T01:49:57.026Z"
   },
   {
    "duration": 4,
    "start_time": "2022-07-24T01:51:45.079Z"
   },
   {
    "duration": 5,
    "start_time": "2022-07-24T01:51:53.674Z"
   },
   {
    "duration": 4,
    "start_time": "2022-07-24T01:52:16.967Z"
   },
   {
    "duration": 4,
    "start_time": "2022-07-24T01:53:00.208Z"
   },
   {
    "duration": 3,
    "start_time": "2022-07-24T01:53:39.898Z"
   },
   {
    "duration": 4,
    "start_time": "2022-07-24T01:53:58.230Z"
   },
   {
    "duration": 44,
    "start_time": "2022-07-25T08:24:11.351Z"
   },
   {
    "duration": 1266,
    "start_time": "2022-07-25T08:24:21.338Z"
   },
   {
    "duration": 981,
    "start_time": "2022-07-25T08:24:22.606Z"
   },
   {
    "duration": 163,
    "start_time": "2022-07-25T08:24:23.589Z"
   },
   {
    "duration": 137,
    "start_time": "2022-07-25T08:24:23.754Z"
   },
   {
    "duration": 103,
    "start_time": "2022-07-25T08:24:23.894Z"
   },
   {
    "duration": 57,
    "start_time": "2022-07-25T08:24:23.999Z"
   },
   {
    "duration": 37,
    "start_time": "2022-07-25T08:24:24.057Z"
   },
   {
    "duration": 125,
    "start_time": "2022-07-25T08:24:24.096Z"
   },
   {
    "duration": 0,
    "start_time": "2022-07-25T08:24:24.223Z"
   },
   {
    "duration": 0,
    "start_time": "2022-07-25T08:24:24.224Z"
   },
   {
    "duration": 0,
    "start_time": "2022-07-25T08:24:24.225Z"
   },
   {
    "duration": 0,
    "start_time": "2022-07-25T08:24:24.228Z"
   },
   {
    "duration": 0,
    "start_time": "2022-07-25T08:24:24.229Z"
   },
   {
    "duration": 0,
    "start_time": "2022-07-25T08:24:24.230Z"
   },
   {
    "duration": 0,
    "start_time": "2022-07-25T08:24:24.246Z"
   },
   {
    "duration": 0,
    "start_time": "2022-07-25T08:24:24.247Z"
   },
   {
    "duration": 0,
    "start_time": "2022-07-25T08:24:24.249Z"
   },
   {
    "duration": 0,
    "start_time": "2022-07-25T08:24:24.250Z"
   },
   {
    "duration": 0,
    "start_time": "2022-07-25T08:24:24.252Z"
   },
   {
    "duration": 0,
    "start_time": "2022-07-25T08:24:24.253Z"
   },
   {
    "duration": 0,
    "start_time": "2022-07-25T08:24:24.254Z"
   },
   {
    "duration": 0,
    "start_time": "2022-07-25T08:24:24.256Z"
   },
   {
    "duration": 0,
    "start_time": "2022-07-25T08:24:24.257Z"
   },
   {
    "duration": 0,
    "start_time": "2022-07-25T08:24:24.258Z"
   },
   {
    "duration": 0,
    "start_time": "2022-07-25T08:24:24.259Z"
   },
   {
    "duration": 3,
    "start_time": "2022-07-25T08:24:49.735Z"
   },
   {
    "duration": 471,
    "start_time": "2022-07-25T08:24:51.099Z"
   },
   {
    "duration": 157,
    "start_time": "2022-07-25T08:24:51.708Z"
   },
   {
    "duration": 111,
    "start_time": "2022-07-25T08:24:52.354Z"
   },
   {
    "duration": 76,
    "start_time": "2022-07-25T08:24:52.708Z"
   },
   {
    "duration": 42,
    "start_time": "2022-07-25T08:24:53.026Z"
   },
   {
    "duration": 39,
    "start_time": "2022-07-25T08:24:53.354Z"
   },
   {
    "duration": 19,
    "start_time": "2022-07-25T08:24:55.524Z"
   },
   {
    "duration": 137,
    "start_time": "2022-07-25T08:26:31.459Z"
   },
   {
    "duration": 70,
    "start_time": "2022-07-25T08:26:46.007Z"
   },
   {
    "duration": 869,
    "start_time": "2022-07-25T08:28:22.456Z"
   },
   {
    "duration": 11,
    "start_time": "2022-07-25T08:31:33.778Z"
   },
   {
    "duration": 12,
    "start_time": "2022-07-25T08:32:48.459Z"
   },
   {
    "duration": 46,
    "start_time": "2022-07-25T08:33:53.252Z"
   },
   {
    "duration": 196,
    "start_time": "2022-07-25T08:38:49.520Z"
   },
   {
    "duration": 24,
    "start_time": "2022-07-25T08:40:59.630Z"
   },
   {
    "duration": 37,
    "start_time": "2022-07-25T09:30:32.232Z"
   },
   {
    "duration": 20,
    "start_time": "2022-07-25T11:24:23.467Z"
   },
   {
    "duration": 15,
    "start_time": "2022-07-25T12:25:42.241Z"
   },
   {
    "duration": 17,
    "start_time": "2022-07-25T12:26:21.508Z"
   },
   {
    "duration": 11,
    "start_time": "2022-07-25T12:32:24.643Z"
   },
   {
    "duration": 10,
    "start_time": "2022-07-25T12:33:13.989Z"
   },
   {
    "duration": 12,
    "start_time": "2022-07-25T12:33:22.878Z"
   },
   {
    "duration": 9,
    "start_time": "2022-07-25T12:34:14.701Z"
   },
   {
    "duration": 1031,
    "start_time": "2022-07-25T12:34:21.560Z"
   },
   {
    "duration": 454,
    "start_time": "2022-07-25T12:34:22.593Z"
   },
   {
    "duration": 172,
    "start_time": "2022-07-25T12:34:23.052Z"
   },
   {
    "duration": 130,
    "start_time": "2022-07-25T12:34:23.226Z"
   },
   {
    "duration": 93,
    "start_time": "2022-07-25T12:34:23.357Z"
   },
   {
    "duration": 47,
    "start_time": "2022-07-25T12:34:23.452Z"
   },
   {
    "duration": 64,
    "start_time": "2022-07-25T12:34:23.500Z"
   },
   {
    "duration": 104,
    "start_time": "2022-07-25T12:34:23.565Z"
   },
   {
    "duration": 0,
    "start_time": "2022-07-25T12:34:23.671Z"
   },
   {
    "duration": 0,
    "start_time": "2022-07-25T12:34:23.672Z"
   },
   {
    "duration": 0,
    "start_time": "2022-07-25T12:34:23.673Z"
   },
   {
    "duration": 0,
    "start_time": "2022-07-25T12:34:23.674Z"
   },
   {
    "duration": 0,
    "start_time": "2022-07-25T12:34:23.675Z"
   },
   {
    "duration": 0,
    "start_time": "2022-07-25T12:34:23.676Z"
   },
   {
    "duration": 0,
    "start_time": "2022-07-25T12:34:23.677Z"
   },
   {
    "duration": 0,
    "start_time": "2022-07-25T12:34:23.678Z"
   },
   {
    "duration": 0,
    "start_time": "2022-07-25T12:34:23.679Z"
   },
   {
    "duration": 0,
    "start_time": "2022-07-25T12:34:23.680Z"
   },
   {
    "duration": 0,
    "start_time": "2022-07-25T12:34:23.681Z"
   },
   {
    "duration": 0,
    "start_time": "2022-07-25T12:34:23.681Z"
   },
   {
    "duration": 0,
    "start_time": "2022-07-25T12:34:23.682Z"
   },
   {
    "duration": 0,
    "start_time": "2022-07-25T12:34:23.683Z"
   },
   {
    "duration": 0,
    "start_time": "2022-07-25T12:34:23.684Z"
   },
   {
    "duration": 0,
    "start_time": "2022-07-25T12:34:23.685Z"
   },
   {
    "duration": 0,
    "start_time": "2022-07-25T12:34:23.686Z"
   },
   {
    "duration": 86,
    "start_time": "2022-07-25T12:34:48.190Z"
   },
   {
    "duration": 987,
    "start_time": "2022-07-25T12:35:11.897Z"
   },
   {
    "duration": 464,
    "start_time": "2022-07-25T12:35:12.886Z"
   },
   {
    "duration": 176,
    "start_time": "2022-07-25T12:35:13.352Z"
   },
   {
    "duration": 134,
    "start_time": "2022-07-25T12:35:13.530Z"
   },
   {
    "duration": 97,
    "start_time": "2022-07-25T12:35:13.666Z"
   },
   {
    "duration": 41,
    "start_time": "2022-07-25T12:35:13.766Z"
   },
   {
    "duration": 60,
    "start_time": "2022-07-25T12:35:13.809Z"
   },
   {
    "duration": 52,
    "start_time": "2022-07-25T12:35:13.870Z"
   },
   {
    "duration": 0,
    "start_time": "2022-07-25T12:35:13.924Z"
   },
   {
    "duration": 0,
    "start_time": "2022-07-25T12:35:13.925Z"
   },
   {
    "duration": 0,
    "start_time": "2022-07-25T12:35:13.926Z"
   },
   {
    "duration": 0,
    "start_time": "2022-07-25T12:35:13.927Z"
   },
   {
    "duration": 0,
    "start_time": "2022-07-25T12:35:13.928Z"
   },
   {
    "duration": 0,
    "start_time": "2022-07-25T12:35:13.929Z"
   },
   {
    "duration": 0,
    "start_time": "2022-07-25T12:35:13.930Z"
   },
   {
    "duration": 0,
    "start_time": "2022-07-25T12:35:13.931Z"
   },
   {
    "duration": 0,
    "start_time": "2022-07-25T12:35:13.932Z"
   },
   {
    "duration": 0,
    "start_time": "2022-07-25T12:35:13.933Z"
   },
   {
    "duration": 0,
    "start_time": "2022-07-25T12:35:13.934Z"
   },
   {
    "duration": 0,
    "start_time": "2022-07-25T12:35:13.935Z"
   },
   {
    "duration": 0,
    "start_time": "2022-07-25T12:35:13.936Z"
   },
   {
    "duration": 0,
    "start_time": "2022-07-25T12:35:13.937Z"
   },
   {
    "duration": 0,
    "start_time": "2022-07-25T12:35:13.938Z"
   },
   {
    "duration": 0,
    "start_time": "2022-07-25T12:35:13.939Z"
   },
   {
    "duration": 0,
    "start_time": "2022-07-25T12:35:13.940Z"
   },
   {
    "duration": 5,
    "start_time": "2022-07-25T12:35:44.676Z"
   },
   {
    "duration": 477,
    "start_time": "2022-07-25T12:35:45.606Z"
   },
   {
    "duration": 147,
    "start_time": "2022-07-25T12:35:46.244Z"
   },
   {
    "duration": 115,
    "start_time": "2022-07-25T12:35:46.972Z"
   },
   {
    "duration": 74,
    "start_time": "2022-07-25T12:35:47.203Z"
   },
   {
    "duration": 41,
    "start_time": "2022-07-25T12:35:47.556Z"
   },
   {
    "duration": 39,
    "start_time": "2022-07-25T12:35:47.842Z"
   },
   {
    "duration": 62,
    "start_time": "2022-07-25T12:35:49.125Z"
   },
   {
    "duration": 62,
    "start_time": "2022-07-25T12:36:24.083Z"
   },
   {
    "duration": 56,
    "start_time": "2022-07-25T12:36:33.863Z"
   },
   {
    "duration": 200,
    "start_time": "2022-07-25T12:36:39.605Z"
   },
   {
    "duration": 54,
    "start_time": "2022-07-25T12:36:44.587Z"
   },
   {
    "duration": 64,
    "start_time": "2022-07-25T12:36:52.278Z"
   },
   {
    "duration": 62,
    "start_time": "2022-07-25T12:37:02.555Z"
   },
   {
    "duration": 103,
    "start_time": "2022-07-25T12:37:11.916Z"
   },
   {
    "duration": 56,
    "start_time": "2022-07-25T12:37:36.468Z"
   },
   {
    "duration": 13,
    "start_time": "2022-07-25T12:37:43.816Z"
   },
   {
    "duration": 15,
    "start_time": "2022-07-25T12:37:47.315Z"
   },
   {
    "duration": 14,
    "start_time": "2022-07-25T12:37:50.890Z"
   },
   {
    "duration": 208,
    "start_time": "2022-07-25T12:37:53.722Z"
   },
   {
    "duration": 27,
    "start_time": "2022-07-25T12:37:58.546Z"
   },
   {
    "duration": 1384,
    "start_time": "2022-07-25T12:39:01.770Z"
   },
   {
    "duration": 1077,
    "start_time": "2022-07-25T12:41:51.113Z"
   },
   {
    "duration": 1042,
    "start_time": "2022-07-25T12:58:02.005Z"
   },
   {
    "duration": 1052,
    "start_time": "2022-07-25T12:58:45.766Z"
   },
   {
    "duration": 2121,
    "start_time": "2022-07-25T13:00:30.363Z"
   },
   {
    "duration": 1449,
    "start_time": "2022-07-25T13:01:33.571Z"
   },
   {
    "duration": 3,
    "start_time": "2022-07-25T13:01:49.461Z"
   },
   {
    "duration": 537,
    "start_time": "2022-07-25T13:01:50.686Z"
   },
   {
    "duration": 169,
    "start_time": "2022-07-25T13:01:51.307Z"
   },
   {
    "duration": 119,
    "start_time": "2022-07-25T13:01:52.167Z"
   },
   {
    "duration": 85,
    "start_time": "2022-07-25T13:01:52.562Z"
   },
   {
    "duration": 44,
    "start_time": "2022-07-25T13:01:52.975Z"
   },
   {
    "duration": 40,
    "start_time": "2022-07-25T13:01:53.370Z"
   },
   {
    "duration": 74,
    "start_time": "2022-07-25T13:01:57.231Z"
   },
   {
    "duration": 1444,
    "start_time": "2022-07-25T13:06:11.929Z"
   },
   {
    "duration": 3,
    "start_time": "2022-07-25T13:06:34.066Z"
   },
   {
    "duration": 514,
    "start_time": "2022-07-25T13:06:34.759Z"
   },
   {
    "duration": 162,
    "start_time": "2022-07-25T13:06:35.276Z"
   },
   {
    "duration": 123,
    "start_time": "2022-07-25T13:06:35.865Z"
   },
   {
    "duration": 90,
    "start_time": "2022-07-25T13:06:36.133Z"
   },
   {
    "duration": 46,
    "start_time": "2022-07-25T13:06:36.333Z"
   },
   {
    "duration": 42,
    "start_time": "2022-07-25T13:06:36.584Z"
   },
   {
    "duration": 79,
    "start_time": "2022-07-25T13:06:38.494Z"
   },
   {
    "duration": 1418,
    "start_time": "2022-07-25T13:07:09.017Z"
   },
   {
    "duration": 224,
    "start_time": "2022-07-25T13:07:12.797Z"
   },
   {
    "duration": 38,
    "start_time": "2022-07-25T13:07:38.175Z"
   },
   {
    "duration": 237,
    "start_time": "2022-07-25T13:08:13.409Z"
   },
   {
    "duration": 27,
    "start_time": "2022-07-25T13:08:14.864Z"
   },
   {
    "duration": 35,
    "start_time": "2022-07-25T13:08:19.760Z"
   },
   {
    "duration": 11,
    "start_time": "2022-07-25T13:08:31.008Z"
   },
   {
    "duration": 3,
    "start_time": "2022-07-25T13:09:08.330Z"
   },
   {
    "duration": 504,
    "start_time": "2022-07-25T13:09:10.972Z"
   },
   {
    "duration": 172,
    "start_time": "2022-07-25T13:09:12.214Z"
   },
   {
    "duration": 129,
    "start_time": "2022-07-25T13:09:14.385Z"
   },
   {
    "duration": 81,
    "start_time": "2022-07-25T13:09:15.063Z"
   },
   {
    "duration": 42,
    "start_time": "2022-07-25T13:09:15.809Z"
   },
   {
    "duration": 40,
    "start_time": "2022-07-25T13:09:16.784Z"
   },
   {
    "duration": 61,
    "start_time": "2022-07-25T13:09:22.678Z"
   },
   {
    "duration": 221,
    "start_time": "2022-07-25T13:09:30.682Z"
   },
   {
    "duration": 27,
    "start_time": "2022-07-25T13:09:39.712Z"
   },
   {
    "duration": 34,
    "start_time": "2022-07-25T13:09:53.688Z"
   },
   {
    "duration": 38,
    "start_time": "2022-07-25T13:09:58.832Z"
   },
   {
    "duration": 10,
    "start_time": "2022-07-25T13:10:38.330Z"
   },
   {
    "duration": 70,
    "start_time": "2022-07-25T13:10:41.412Z"
   },
   {
    "duration": 3,
    "start_time": "2022-07-25T13:13:09.632Z"
   },
   {
    "duration": 468,
    "start_time": "2022-07-25T13:13:10.842Z"
   },
   {
    "duration": 150,
    "start_time": "2022-07-25T13:13:12.233Z"
   },
   {
    "duration": 107,
    "start_time": "2022-07-25T13:13:19.982Z"
   },
   {
    "duration": 80,
    "start_time": "2022-07-25T13:13:20.793Z"
   },
   {
    "duration": 42,
    "start_time": "2022-07-25T13:13:21.387Z"
   },
   {
    "duration": 39,
    "start_time": "2022-07-25T13:13:22.185Z"
   },
   {
    "duration": 88,
    "start_time": "2022-07-25T13:13:27.451Z"
   },
   {
    "duration": 192,
    "start_time": "2022-07-25T13:13:31.574Z"
   },
   {
    "duration": 26,
    "start_time": "2022-07-25T13:13:33.229Z"
   },
   {
    "duration": 35,
    "start_time": "2022-07-25T13:13:35.533Z"
   },
   {
    "duration": 135,
    "start_time": "2022-07-25T13:13:41.247Z"
   },
   {
    "duration": 112,
    "start_time": "2022-07-25T13:13:46.828Z"
   },
   {
    "duration": 25,
    "start_time": "2022-07-25T13:14:01.391Z"
   },
   {
    "duration": 4,
    "start_time": "2022-07-25T13:14:54.366Z"
   },
   {
    "duration": 484,
    "start_time": "2022-07-25T13:14:54.372Z"
   },
   {
    "duration": 152,
    "start_time": "2022-07-25T13:14:54.858Z"
   },
   {
    "duration": 134,
    "start_time": "2022-07-25T13:14:55.012Z"
   },
   {
    "duration": 76,
    "start_time": "2022-07-25T13:14:55.148Z"
   },
   {
    "duration": 57,
    "start_time": "2022-07-25T13:14:55.226Z"
   },
   {
    "duration": 71,
    "start_time": "2022-07-25T13:14:55.284Z"
   },
   {
    "duration": 59,
    "start_time": "2022-07-25T13:14:55.357Z"
   },
   {
    "duration": 212,
    "start_time": "2022-07-25T13:14:55.417Z"
   },
   {
    "duration": 34,
    "start_time": "2022-07-25T13:14:55.630Z"
   },
   {
    "duration": 35,
    "start_time": "2022-07-25T13:14:55.667Z"
   },
   {
    "duration": 88,
    "start_time": "2022-07-25T13:14:55.704Z"
   },
   {
    "duration": 60,
    "start_time": "2022-07-25T13:14:55.794Z"
   },
   {
    "duration": 0,
    "start_time": "2022-07-25T13:14:55.856Z"
   },
   {
    "duration": 0,
    "start_time": "2022-07-25T13:14:55.858Z"
   },
   {
    "duration": 0,
    "start_time": "2022-07-25T13:14:55.859Z"
   },
   {
    "duration": 0,
    "start_time": "2022-07-25T13:14:55.860Z"
   },
   {
    "duration": 0,
    "start_time": "2022-07-25T13:14:55.861Z"
   },
   {
    "duration": 0,
    "start_time": "2022-07-25T13:14:55.862Z"
   },
   {
    "duration": 0,
    "start_time": "2022-07-25T13:14:55.863Z"
   },
   {
    "duration": 0,
    "start_time": "2022-07-25T13:14:55.865Z"
   },
   {
    "duration": 0,
    "start_time": "2022-07-25T13:14:55.866Z"
   },
   {
    "duration": 0,
    "start_time": "2022-07-25T13:14:55.867Z"
   },
   {
    "duration": 0,
    "start_time": "2022-07-25T13:14:55.869Z"
   },
   {
    "duration": 0,
    "start_time": "2022-07-25T13:14:55.870Z"
   },
   {
    "duration": 235,
    "start_time": "2022-07-25T13:15:15.368Z"
   },
   {
    "duration": 21,
    "start_time": "2022-07-25T13:17:28.083Z"
   },
   {
    "duration": 45,
    "start_time": "2022-07-25T13:26:25.194Z"
   },
   {
    "duration": 1181,
    "start_time": "2022-07-26T08:25:24.224Z"
   },
   {
    "duration": 1229,
    "start_time": "2022-07-26T08:25:25.407Z"
   },
   {
    "duration": 169,
    "start_time": "2022-07-26T08:25:26.638Z"
   },
   {
    "duration": 123,
    "start_time": "2022-07-26T08:25:27.396Z"
   },
   {
    "duration": 79,
    "start_time": "2022-07-26T08:25:27.903Z"
   },
   {
    "duration": 43,
    "start_time": "2022-07-26T08:25:28.422Z"
   },
   {
    "duration": 37,
    "start_time": "2022-07-26T08:25:28.890Z"
   },
   {
    "duration": 105,
    "start_time": "2022-07-26T08:25:31.687Z"
   },
   {
    "duration": 261,
    "start_time": "2022-07-26T08:25:36.377Z"
   },
   {
    "duration": 29,
    "start_time": "2022-07-26T08:25:38.097Z"
   },
   {
    "duration": 39,
    "start_time": "2022-07-26T08:25:40.437Z"
   },
   {
    "duration": 75,
    "start_time": "2022-07-26T08:25:41.804Z"
   },
   {
    "duration": 34,
    "start_time": "2022-07-26T08:25:43.486Z"
   },
   {
    "duration": 18,
    "start_time": "2022-07-26T08:25:46.128Z"
   },
   {
    "duration": 4,
    "start_time": "2022-07-26T08:25:47.242Z"
   },
   {
    "duration": 1433,
    "start_time": "2022-07-26T08:25:47.851Z"
   },
   {
    "duration": 12,
    "start_time": "2022-07-26T08:25:49.373Z"
   },
   {
    "duration": 1264,
    "start_time": "2022-07-26T08:28:46.412Z"
   },
   {
    "duration": 5,
    "start_time": "2022-07-26T09:00:40.572Z"
   },
   {
    "duration": 4,
    "start_time": "2022-07-26T09:01:17.560Z"
   },
   {
    "duration": 114,
    "start_time": "2022-07-26T09:04:53.136Z"
   },
   {
    "duration": 1378,
    "start_time": "2022-07-26T09:05:44.026Z"
   },
   {
    "duration": 1395,
    "start_time": "2022-07-26T09:08:15.408Z"
   },
   {
    "duration": 3,
    "start_time": "2022-07-26T09:09:40.954Z"
   },
   {
    "duration": 482,
    "start_time": "2022-07-26T09:09:41.835Z"
   },
   {
    "duration": 153,
    "start_time": "2022-07-26T09:09:42.357Z"
   },
   {
    "duration": 110,
    "start_time": "2022-07-26T09:09:42.937Z"
   },
   {
    "duration": 79,
    "start_time": "2022-07-26T09:09:43.182Z"
   },
   {
    "duration": 49,
    "start_time": "2022-07-26T09:09:43.502Z"
   },
   {
    "duration": 45,
    "start_time": "2022-07-26T09:09:43.815Z"
   },
   {
    "duration": 63,
    "start_time": "2022-07-26T09:09:45.183Z"
   },
   {
    "duration": 227,
    "start_time": "2022-07-26T09:09:46.137Z"
   },
   {
    "duration": 27,
    "start_time": "2022-07-26T09:09:46.743Z"
   },
   {
    "duration": 36,
    "start_time": "2022-07-26T09:09:48.668Z"
   },
   {
    "duration": 78,
    "start_time": "2022-07-26T09:09:49.771Z"
   },
   {
    "duration": 1431,
    "start_time": "2022-07-26T09:09:51.153Z"
   },
   {
    "duration": 17,
    "start_time": "2022-07-26T09:10:11.914Z"
   },
   {
    "duration": 4,
    "start_time": "2022-07-26T09:10:12.953Z"
   },
   {
    "duration": 1343,
    "start_time": "2022-07-26T09:10:13.852Z"
   },
   {
    "duration": 1645,
    "start_time": "2022-07-26T09:11:35.217Z"
   },
   {
    "duration": 0,
    "start_time": "2022-07-26T09:11:36.864Z"
   },
   {
    "duration": 4,
    "start_time": "2022-07-26T09:11:37.511Z"
   },
   {
    "duration": 1391,
    "start_time": "2022-07-26T09:11:37.980Z"
   },
   {
    "duration": 102,
    "start_time": "2022-07-26T09:12:39.756Z"
   },
   {
    "duration": 18,
    "start_time": "2022-07-26T09:12:41.879Z"
   },
   {
    "duration": 4,
    "start_time": "2022-07-26T09:12:42.943Z"
   },
   {
    "duration": 99,
    "start_time": "2022-07-26T09:12:43.539Z"
   },
   {
    "duration": 27,
    "start_time": "2022-07-26T09:13:10.956Z"
   },
   {
    "duration": 9,
    "start_time": "2022-07-26T09:16:23.656Z"
   },
   {
    "duration": 13,
    "start_time": "2022-07-26T09:17:07.809Z"
   },
   {
    "duration": 7,
    "start_time": "2022-07-26T09:24:51.005Z"
   },
   {
    "duration": 50,
    "start_time": "2022-07-26T09:25:12.551Z"
   },
   {
    "duration": 6,
    "start_time": "2022-07-26T09:28:51.917Z"
   },
   {
    "duration": 8,
    "start_time": "2022-07-26T09:54:54.999Z"
   },
   {
    "duration": 13,
    "start_time": "2022-07-26T09:59:54.936Z"
   },
   {
    "duration": 22,
    "start_time": "2022-07-26T10:00:05.436Z"
   },
   {
    "duration": 28,
    "start_time": "2022-07-26T10:02:03.370Z"
   },
   {
    "duration": 22,
    "start_time": "2022-07-26T10:02:44.147Z"
   },
   {
    "duration": 23,
    "start_time": "2022-07-26T10:02:54.234Z"
   },
   {
    "duration": 28,
    "start_time": "2022-07-26T10:03:04.897Z"
   },
   {
    "duration": 16,
    "start_time": "2022-07-26T10:04:37.332Z"
   },
   {
    "duration": 16,
    "start_time": "2022-07-26T10:04:40.861Z"
   },
   {
    "duration": 14,
    "start_time": "2022-07-26T10:47:05.934Z"
   },
   {
    "duration": 10,
    "start_time": "2022-07-26T10:48:35.767Z"
   },
   {
    "duration": 1830,
    "start_time": "2022-07-26T10:50:18.199Z"
   },
   {
    "duration": 2128,
    "start_time": "2022-07-26T10:51:14.262Z"
   },
   {
    "duration": 10,
    "start_time": "2022-07-26T11:06:22.240Z"
   },
   {
    "duration": 14,
    "start_time": "2022-07-26T11:08:01.780Z"
   },
   {
    "duration": 1221,
    "start_time": "2022-07-26T18:45:32.955Z"
   },
   {
    "duration": 1268,
    "start_time": "2022-07-26T18:45:34.178Z"
   },
   {
    "duration": 175,
    "start_time": "2022-07-26T18:45:35.448Z"
   },
   {
    "duration": 146,
    "start_time": "2022-07-26T18:45:35.626Z"
   },
   {
    "duration": 93,
    "start_time": "2022-07-26T18:45:35.774Z"
   },
   {
    "duration": 43,
    "start_time": "2022-07-26T18:45:35.869Z"
   },
   {
    "duration": 44,
    "start_time": "2022-07-26T18:45:35.931Z"
   },
   {
    "duration": 76,
    "start_time": "2022-07-26T18:45:35.977Z"
   },
   {
    "duration": 223,
    "start_time": "2022-07-26T18:45:36.530Z"
   },
   {
    "duration": 28,
    "start_time": "2022-07-26T18:45:36.980Z"
   },
   {
    "duration": 53,
    "start_time": "2022-07-26T18:45:37.715Z"
   },
   {
    "duration": 68,
    "start_time": "2022-07-26T18:45:38.148Z"
   },
   {
    "duration": 41,
    "start_time": "2022-07-26T18:45:38.599Z"
   },
   {
    "duration": 18,
    "start_time": "2022-07-26T18:45:39.318Z"
   },
   {
    "duration": 3,
    "start_time": "2022-07-26T18:45:40.396Z"
   },
   {
    "duration": 120,
    "start_time": "2022-07-26T18:45:40.958Z"
   },
   {
    "duration": 22,
    "start_time": "2022-07-26T18:45:41.254Z"
   },
   {
    "duration": 5,
    "start_time": "2022-07-26T18:45:42.689Z"
   },
   {
    "duration": 14,
    "start_time": "2022-07-26T18:45:43.364Z"
   },
   {
    "duration": 18,
    "start_time": "2022-07-26T18:45:44.136Z"
   },
   {
    "duration": 26,
    "start_time": "2022-07-26T18:45:44.818Z"
   },
   {
    "duration": 111,
    "start_time": "2022-07-26T18:45:47.708Z"
   },
   {
    "duration": 10,
    "start_time": "2022-07-26T18:45:48.250Z"
   },
   {
    "duration": 9,
    "start_time": "2022-07-26T18:45:49.594Z"
   },
   {
    "duration": 13,
    "start_time": "2022-07-26T18:45:51.938Z"
   },
   {
    "duration": 14,
    "start_time": "2022-07-26T18:45:52.350Z"
   },
   {
    "duration": 8,
    "start_time": "2022-07-26T18:45:54.621Z"
   },
   {
    "duration": 14,
    "start_time": "2022-07-26T18:45:59.877Z"
   },
   {
    "duration": 18,
    "start_time": "2022-07-26T18:51:25.091Z"
   },
   {
    "duration": 12,
    "start_time": "2022-07-26T18:55:00.548Z"
   },
   {
    "duration": 26,
    "start_time": "2022-07-26T18:56:53.499Z"
   },
   {
    "duration": 108,
    "start_time": "2022-07-26T18:57:32.966Z"
   },
   {
    "duration": 131,
    "start_time": "2022-07-26T18:57:47.596Z"
   },
   {
    "duration": 109,
    "start_time": "2022-07-26T18:58:21.291Z"
   },
   {
    "duration": 2,
    "start_time": "2022-07-26T18:59:16.799Z"
   },
   {
    "duration": 16,
    "start_time": "2022-07-26T19:09:48.634Z"
   },
   {
    "duration": 74,
    "start_time": "2022-07-26T19:12:21.831Z"
   },
   {
    "duration": 13,
    "start_time": "2022-07-26T19:13:07.319Z"
   },
   {
    "duration": 1174,
    "start_time": "2022-07-27T09:26:36.948Z"
   },
   {
    "duration": 1524,
    "start_time": "2022-07-27T09:26:38.124Z"
   },
   {
    "duration": 147,
    "start_time": "2022-07-27T09:26:39.649Z"
   },
   {
    "duration": 112,
    "start_time": "2022-07-27T09:26:39.798Z"
   },
   {
    "duration": 84,
    "start_time": "2022-07-27T09:26:39.912Z"
   },
   {
    "duration": 61,
    "start_time": "2022-07-27T09:26:39.998Z"
   },
   {
    "duration": 35,
    "start_time": "2022-07-27T09:26:40.060Z"
   },
   {
    "duration": 56,
    "start_time": "2022-07-27T09:26:40.451Z"
   },
   {
    "duration": 191,
    "start_time": "2022-07-27T09:26:41.233Z"
   },
   {
    "duration": 24,
    "start_time": "2022-07-27T09:26:41.708Z"
   },
   {
    "duration": 36,
    "start_time": "2022-07-27T09:26:42.817Z"
   },
   {
    "duration": 68,
    "start_time": "2022-07-27T09:26:43.451Z"
   },
   {
    "duration": 36,
    "start_time": "2022-07-27T09:26:43.935Z"
   },
   {
    "duration": 18,
    "start_time": "2022-07-27T09:26:46.700Z"
   },
   {
    "duration": 4,
    "start_time": "2022-07-27T09:26:48.090Z"
   },
   {
    "duration": 106,
    "start_time": "2022-07-27T09:26:48.686Z"
   },
   {
    "duration": 25,
    "start_time": "2022-07-27T09:26:49.066Z"
   },
   {
    "duration": 6,
    "start_time": "2022-07-27T09:26:50.380Z"
   },
   {
    "duration": 15,
    "start_time": "2022-07-27T09:26:51.075Z"
   },
   {
    "duration": 15,
    "start_time": "2022-07-27T09:26:52.012Z"
   },
   {
    "duration": 15,
    "start_time": "2022-07-27T09:26:52.850Z"
   },
   {
    "duration": 134,
    "start_time": "2022-07-27T09:26:53.699Z"
   },
   {
    "duration": 17,
    "start_time": "2022-07-27T09:26:54.189Z"
   },
   {
    "duration": 333,
    "start_time": "2022-07-27T09:26:55.442Z"
   },
   {
    "duration": 10,
    "start_time": "2022-07-27T09:26:55.795Z"
   },
   {
    "duration": 158,
    "start_time": "2022-07-27T09:27:39.077Z"
   },
   {
    "duration": 8,
    "start_time": "2022-07-27T09:28:08.350Z"
   },
   {
    "duration": 11,
    "start_time": "2022-07-27T09:28:10.911Z"
   },
   {
    "duration": 11,
    "start_time": "2022-07-27T09:33:49.352Z"
   },
   {
    "duration": 10,
    "start_time": "2022-07-27T09:35:52.616Z"
   },
   {
    "duration": 11,
    "start_time": "2022-07-27T09:36:10.926Z"
   },
   {
    "duration": 10,
    "start_time": "2022-07-27T09:36:32.700Z"
   },
   {
    "duration": 7,
    "start_time": "2022-07-27T09:40:08.030Z"
   },
   {
    "duration": 8,
    "start_time": "2022-07-27T09:41:09.559Z"
   },
   {
    "duration": 12,
    "start_time": "2022-07-27T10:04:50.808Z"
   },
   {
    "duration": 35,
    "start_time": "2022-07-27T10:05:05.150Z"
   },
   {
    "duration": 32,
    "start_time": "2022-07-27T10:05:46.768Z"
   },
   {
    "duration": 6,
    "start_time": "2022-07-27T10:06:36.259Z"
   },
   {
    "duration": 15,
    "start_time": "2022-07-27T10:06:36.866Z"
   },
   {
    "duration": 21,
    "start_time": "2022-07-27T10:06:37.424Z"
   },
   {
    "duration": 15,
    "start_time": "2022-07-27T10:06:38.448Z"
   },
   {
    "duration": 116,
    "start_time": "2022-07-27T10:06:39.426Z"
   },
   {
    "duration": 28,
    "start_time": "2022-07-27T10:06:39.831Z"
   },
   {
    "duration": 176,
    "start_time": "2022-07-27T10:06:40.869Z"
   },
   {
    "duration": 34,
    "start_time": "2022-07-27T10:06:42.691Z"
   },
   {
    "duration": 208,
    "start_time": "2022-07-27T10:07:24.964Z"
   },
   {
    "duration": 294,
    "start_time": "2022-07-27T10:09:25.861Z"
   },
   {
    "duration": 216,
    "start_time": "2022-07-27T10:10:27.286Z"
   },
   {
    "duration": 163,
    "start_time": "2022-07-27T10:10:57.993Z"
   },
   {
    "duration": 184,
    "start_time": "2022-07-27T10:11:03.576Z"
   },
   {
    "duration": 2,
    "start_time": "2022-07-27T10:47:54.997Z"
   },
   {
    "duration": 475,
    "start_time": "2022-07-27T10:47:55.486Z"
   },
   {
    "duration": 166,
    "start_time": "2022-07-27T10:47:55.964Z"
   },
   {
    "duration": 101,
    "start_time": "2022-07-27T10:47:56.405Z"
   },
   {
    "duration": 67,
    "start_time": "2022-07-27T10:47:56.640Z"
   },
   {
    "duration": 42,
    "start_time": "2022-07-27T10:47:56.837Z"
   },
   {
    "duration": 34,
    "start_time": "2022-07-27T10:47:57.090Z"
   },
   {
    "duration": 64,
    "start_time": "2022-07-27T10:47:58.237Z"
   },
   {
    "duration": 200,
    "start_time": "2022-07-27T10:47:58.908Z"
   },
   {
    "duration": 28,
    "start_time": "2022-07-27T10:47:59.241Z"
   },
   {
    "duration": 33,
    "start_time": "2022-07-27T10:47:59.907Z"
   },
   {
    "duration": 78,
    "start_time": "2022-07-27T10:48:00.350Z"
   },
   {
    "duration": 37,
    "start_time": "2022-07-27T10:48:00.794Z"
   },
   {
    "duration": 19,
    "start_time": "2022-07-27T10:48:01.439Z"
   },
   {
    "duration": 3,
    "start_time": "2022-07-27T10:48:02.097Z"
   },
   {
    "duration": 107,
    "start_time": "2022-07-27T10:48:02.299Z"
   },
   {
    "duration": 28,
    "start_time": "2022-07-27T10:48:02.563Z"
   },
   {
    "duration": 7,
    "start_time": "2022-07-27T10:48:03.225Z"
   },
   {
    "duration": 14,
    "start_time": "2022-07-27T10:48:03.707Z"
   },
   {
    "duration": 14,
    "start_time": "2022-07-27T10:48:04.394Z"
   },
   {
    "duration": 16,
    "start_time": "2022-07-27T10:48:05.046Z"
   },
   {
    "duration": 124,
    "start_time": "2022-07-27T10:48:05.666Z"
   },
   {
    "duration": 20,
    "start_time": "2022-07-27T10:48:06.079Z"
   },
   {
    "duration": 174,
    "start_time": "2022-07-27T10:48:07.120Z"
   },
   {
    "duration": 181,
    "start_time": "2022-07-27T10:48:07.540Z"
   },
   {
    "duration": 254,
    "start_time": "2022-07-27T10:48:07.973Z"
   },
   {
    "duration": 248,
    "start_time": "2022-07-27T10:48:08.229Z"
   },
   {
    "duration": 9,
    "start_time": "2022-07-27T10:48:10.040Z"
   },
   {
    "duration": 10,
    "start_time": "2022-07-27T10:48:11.713Z"
   },
   {
    "duration": 1136,
    "start_time": "2022-07-28T00:02:23.458Z"
   },
   {
    "duration": 996,
    "start_time": "2022-07-28T00:02:24.596Z"
   },
   {
    "duration": 149,
    "start_time": "2022-07-28T00:02:25.593Z"
   },
   {
    "duration": 107,
    "start_time": "2022-07-28T00:02:25.744Z"
   },
   {
    "duration": 83,
    "start_time": "2022-07-28T00:02:25.853Z"
   },
   {
    "duration": 59,
    "start_time": "2022-07-28T00:02:25.938Z"
   },
   {
    "duration": 34,
    "start_time": "2022-07-28T00:02:25.998Z"
   },
   {
    "duration": 79,
    "start_time": "2022-07-28T00:02:26.033Z"
   },
   {
    "duration": 200,
    "start_time": "2022-07-28T00:02:26.114Z"
   },
   {
    "duration": 23,
    "start_time": "2022-07-28T00:02:26.317Z"
   },
   {
    "duration": 46,
    "start_time": "2022-07-28T00:02:26.342Z"
   },
   {
    "duration": 61,
    "start_time": "2022-07-28T00:02:26.389Z"
   },
   {
    "duration": 47,
    "start_time": "2022-07-28T00:02:26.451Z"
   },
   {
    "duration": 15,
    "start_time": "2022-07-28T00:02:26.499Z"
   },
   {
    "duration": 3,
    "start_time": "2022-07-28T00:02:26.516Z"
   },
   {
    "duration": 107,
    "start_time": "2022-07-28T00:02:26.520Z"
   },
   {
    "duration": 21,
    "start_time": "2022-07-28T00:02:26.629Z"
   },
   {
    "duration": 4,
    "start_time": "2022-07-28T00:02:26.651Z"
   },
   {
    "duration": 26,
    "start_time": "2022-07-28T00:02:26.657Z"
   },
   {
    "duration": 12,
    "start_time": "2022-07-28T00:02:26.684Z"
   },
   {
    "duration": 13,
    "start_time": "2022-07-28T00:02:26.697Z"
   },
   {
    "duration": 116,
    "start_time": "2022-07-28T00:02:26.712Z"
   },
   {
    "duration": 15,
    "start_time": "2022-07-28T00:02:26.829Z"
   },
   {
    "duration": 178,
    "start_time": "2022-07-28T00:02:26.856Z"
   },
   {
    "duration": 160,
    "start_time": "2022-07-28T00:02:27.036Z"
   },
   {
    "duration": 158,
    "start_time": "2022-07-28T00:02:27.197Z"
   },
   {
    "duration": 185,
    "start_time": "2022-07-28T00:02:27.356Z"
   },
   {
    "duration": 8,
    "start_time": "2022-07-28T00:02:27.545Z"
   },
   {
    "duration": 90,
    "start_time": "2022-07-28T00:02:27.554Z"
   },
   {
    "duration": 48,
    "start_time": "2022-07-28T05:52:55.093Z"
   },
   {
    "duration": 7,
    "start_time": "2022-07-28T05:54:30.751Z"
   },
   {
    "duration": 1269,
    "start_time": "2022-07-28T05:58:28.033Z"
   },
   {
    "duration": 970,
    "start_time": "2022-07-28T05:58:29.304Z"
   },
   {
    "duration": 221,
    "start_time": "2022-07-28T05:58:30.276Z"
   },
   {
    "duration": 144,
    "start_time": "2022-07-28T05:58:30.499Z"
   },
   {
    "duration": 123,
    "start_time": "2022-07-28T05:58:30.645Z"
   },
   {
    "duration": 48,
    "start_time": "2022-07-28T05:58:30.770Z"
   },
   {
    "duration": 74,
    "start_time": "2022-07-28T05:58:30.820Z"
   },
   {
    "duration": 83,
    "start_time": "2022-07-28T05:58:31.364Z"
   },
   {
    "duration": 50,
    "start_time": "2022-07-28T05:58:32.820Z"
   },
   {
    "duration": 57,
    "start_time": "2022-07-28T05:58:33.335Z"
   },
   {
    "duration": 3,
    "start_time": "2022-07-28T05:58:50.500Z"
   },
   {
    "duration": 451,
    "start_time": "2022-07-28T05:58:51.403Z"
   },
   {
    "duration": 160,
    "start_time": "2022-07-28T05:58:56.988Z"
   },
   {
    "duration": 109,
    "start_time": "2022-07-28T05:58:59.237Z"
   },
   {
    "duration": 79,
    "start_time": "2022-07-28T05:58:59.833Z"
   },
   {
    "duration": 48,
    "start_time": "2022-07-28T05:59:00.336Z"
   },
   {
    "duration": 54,
    "start_time": "2022-07-28T05:59:02.452Z"
   },
   {
    "duration": 105,
    "start_time": "2022-07-28T05:59:06.352Z"
   },
   {
    "duration": 49,
    "start_time": "2022-07-28T05:59:09.935Z"
   },
   {
    "duration": 201,
    "start_time": "2022-07-28T05:59:21.524Z"
   },
   {
    "duration": 32,
    "start_time": "2022-07-28T05:59:23.140Z"
   },
   {
    "duration": 36,
    "start_time": "2022-07-28T05:59:30.457Z"
   },
   {
    "duration": 71,
    "start_time": "2022-07-28T05:59:37.607Z"
   },
   {
    "duration": 47,
    "start_time": "2022-07-28T05:59:38.646Z"
   },
   {
    "duration": 18,
    "start_time": "2022-07-28T05:59:39.682Z"
   },
   {
    "duration": 4,
    "start_time": "2022-07-28T05:59:43.249Z"
   },
   {
    "duration": 119,
    "start_time": "2022-07-28T05:59:43.834Z"
   },
   {
    "duration": 24,
    "start_time": "2022-07-28T05:59:43.955Z"
   },
   {
    "duration": 6,
    "start_time": "2022-07-28T05:59:45.334Z"
   },
   {
    "duration": 16,
    "start_time": "2022-07-28T05:59:45.841Z"
   },
   {
    "duration": 15,
    "start_time": "2022-07-28T05:59:46.942Z"
   },
   {
    "duration": 16,
    "start_time": "2022-07-28T05:59:47.757Z"
   },
   {
    "duration": 105,
    "start_time": "2022-07-28T05:59:48.931Z"
   },
   {
    "duration": 18,
    "start_time": "2022-07-28T05:59:49.488Z"
   },
   {
    "duration": 192,
    "start_time": "2022-07-28T05:59:51.030Z"
   },
   {
    "duration": 195,
    "start_time": "2022-07-28T05:59:53.106Z"
   },
   {
    "duration": 170,
    "start_time": "2022-07-28T05:59:53.462Z"
   },
   {
    "duration": 180,
    "start_time": "2022-07-28T05:59:54.081Z"
   },
   {
    "duration": 10,
    "start_time": "2022-07-28T05:59:57.347Z"
   },
   {
    "duration": 75,
    "start_time": "2022-07-28T06:00:03.822Z"
   },
   {
    "duration": 1019,
    "start_time": "2022-07-28T06:01:25.367Z"
   },
   {
    "duration": 1087,
    "start_time": "2022-07-28T06:02:44.882Z"
   },
   {
    "duration": 816,
    "start_time": "2022-07-28T06:06:31.626Z"
   },
   {
    "duration": 1064,
    "start_time": "2022-07-28T06:08:38.991Z"
   },
   {
    "duration": 3,
    "start_time": "2022-07-28T06:09:05.098Z"
   },
   {
    "duration": 535,
    "start_time": "2022-07-28T06:09:06.285Z"
   },
   {
    "duration": 144,
    "start_time": "2022-07-28T06:09:07.600Z"
   },
   {
    "duration": 112,
    "start_time": "2022-07-28T06:09:08.473Z"
   },
   {
    "duration": 80,
    "start_time": "2022-07-28T06:09:09.004Z"
   },
   {
    "duration": 54,
    "start_time": "2022-07-28T06:09:09.905Z"
   },
   {
    "duration": 54,
    "start_time": "2022-07-28T06:09:10.416Z"
   },
   {
    "duration": 68,
    "start_time": "2022-07-28T06:09:13.975Z"
   },
   {
    "duration": 974,
    "start_time": "2022-07-28T06:09:18.859Z"
   },
   {
    "duration": 205,
    "start_time": "2022-07-28T06:09:53.056Z"
   },
   {
    "duration": 32,
    "start_time": "2022-07-28T06:09:55.295Z"
   },
   {
    "duration": 237,
    "start_time": "2022-07-28T06:12:18.273Z"
   },
   {
    "duration": 883,
    "start_time": "2022-07-28T06:13:06.074Z"
   },
   {
    "duration": 3,
    "start_time": "2022-07-28T06:13:33.650Z"
   },
   {
    "duration": 529,
    "start_time": "2022-07-28T06:13:34.440Z"
   },
   {
    "duration": 196,
    "start_time": "2022-07-28T06:13:35.232Z"
   },
   {
    "duration": 147,
    "start_time": "2022-07-28T06:13:35.954Z"
   },
   {
    "duration": 128,
    "start_time": "2022-07-28T06:13:36.290Z"
   },
   {
    "duration": 54,
    "start_time": "2022-07-28T06:13:36.861Z"
   },
   {
    "duration": 51,
    "start_time": "2022-07-28T06:13:37.242Z"
   },
   {
    "duration": 121,
    "start_time": "2022-07-28T06:13:40.430Z"
   },
   {
    "duration": 987,
    "start_time": "2022-07-28T06:14:55.735Z"
   },
   {
    "duration": 3,
    "start_time": "2022-07-28T06:15:11.388Z"
   },
   {
    "duration": 448,
    "start_time": "2022-07-28T06:15:12.008Z"
   },
   {
    "duration": 187,
    "start_time": "2022-07-28T06:15:12.630Z"
   },
   {
    "duration": 110,
    "start_time": "2022-07-28T06:15:13.170Z"
   },
   {
    "duration": 73,
    "start_time": "2022-07-28T06:15:13.342Z"
   },
   {
    "duration": 50,
    "start_time": "2022-07-28T06:15:13.704Z"
   },
   {
    "duration": 41,
    "start_time": "2022-07-28T06:15:14.172Z"
   },
   {
    "duration": 59,
    "start_time": "2022-07-28T06:15:18.410Z"
   },
   {
    "duration": 189,
    "start_time": "2022-07-28T06:15:29.108Z"
   },
   {
    "duration": 28,
    "start_time": "2022-07-28T06:15:32.637Z"
   },
   {
    "duration": 37,
    "start_time": "2022-07-28T06:15:41.769Z"
   },
   {
    "duration": 79,
    "start_time": "2022-07-28T06:15:53.637Z"
   },
   {
    "duration": 39,
    "start_time": "2022-07-28T06:16:27.753Z"
   },
   {
    "duration": 26,
    "start_time": "2022-07-28T06:16:45.922Z"
   },
   {
    "duration": 4,
    "start_time": "2022-07-28T06:16:47.364Z"
   },
   {
    "duration": 122,
    "start_time": "2022-07-28T06:16:47.892Z"
   },
   {
    "duration": 26,
    "start_time": "2022-07-28T06:16:51.409Z"
   },
   {
    "duration": 6,
    "start_time": "2022-07-28T06:16:54.975Z"
   },
   {
    "duration": 16,
    "start_time": "2022-07-28T06:16:55.822Z"
   },
   {
    "duration": 17,
    "start_time": "2022-07-28T06:16:57.935Z"
   },
   {
    "duration": 17,
    "start_time": "2022-07-28T06:17:00.023Z"
   },
   {
    "duration": 106,
    "start_time": "2022-07-28T06:17:01.023Z"
   },
   {
    "duration": 17,
    "start_time": "2022-07-28T06:17:01.757Z"
   },
   {
    "duration": 183,
    "start_time": "2022-07-28T06:17:04.046Z"
   },
   {
    "duration": 209,
    "start_time": "2022-07-28T06:17:06.588Z"
   },
   {
    "duration": 190,
    "start_time": "2022-07-28T06:17:07.575Z"
   },
   {
    "duration": 188,
    "start_time": "2022-07-28T06:17:08.523Z"
   },
   {
    "duration": 16,
    "start_time": "2022-07-28T06:17:11.940Z"
   },
   {
    "duration": 14,
    "start_time": "2022-07-28T06:17:17.632Z"
   },
   {
    "duration": 8,
    "start_time": "2022-07-28T06:26:54.794Z"
   },
   {
    "duration": 10,
    "start_time": "2022-07-28T06:30:50.841Z"
   },
   {
    "duration": 10,
    "start_time": "2022-07-28T06:31:11.998Z"
   },
   {
    "duration": 3,
    "start_time": "2022-07-28T06:31:54.922Z"
   },
   {
    "duration": 561,
    "start_time": "2022-07-28T06:31:55.960Z"
   },
   {
    "duration": 175,
    "start_time": "2022-07-28T06:31:56.860Z"
   },
   {
    "duration": 136,
    "start_time": "2022-07-28T06:32:00.056Z"
   },
   {
    "duration": 116,
    "start_time": "2022-07-28T06:32:00.654Z"
   },
   {
    "duration": 58,
    "start_time": "2022-07-28T06:32:01.831Z"
   },
   {
    "duration": 41,
    "start_time": "2022-07-28T06:32:04.805Z"
   },
   {
    "duration": 74,
    "start_time": "2022-07-28T06:32:13.554Z"
   },
   {
    "duration": 193,
    "start_time": "2022-07-28T06:32:40.310Z"
   },
   {
    "duration": 29,
    "start_time": "2022-07-28T06:32:54.373Z"
   },
   {
    "duration": 104,
    "start_time": "2022-07-28T06:33:39.585Z"
   },
   {
    "duration": 234,
    "start_time": "2022-07-28T06:34:23.220Z"
   },
   {
    "duration": 232,
    "start_time": "2022-07-28T06:34:46.609Z"
   },
   {
    "duration": 36,
    "start_time": "2022-07-28T06:34:49.838Z"
   },
   {
    "duration": 48,
    "start_time": "2022-07-28T06:34:53.375Z"
   },
   {
    "duration": 1230,
    "start_time": "2022-07-28T06:36:31.252Z"
   },
   {
    "duration": 245,
    "start_time": "2022-07-28T06:36:54.821Z"
   },
   {
    "duration": 25,
    "start_time": "2022-07-28T06:37:07.332Z"
   },
   {
    "duration": 60,
    "start_time": "2022-07-28T06:37:26.534Z"
   },
   {
    "duration": 72,
    "start_time": "2022-07-28T06:37:32.387Z"
   },
   {
    "duration": 908,
    "start_time": "2022-07-28T06:37:37.119Z"
   },
   {
    "duration": 43,
    "start_time": "2022-07-28T06:38:00.253Z"
   },
   {
    "duration": 15,
    "start_time": "2022-07-28T06:38:09.892Z"
   },
   {
    "duration": 4,
    "start_time": "2022-07-28T06:38:11.064Z"
   },
   {
    "duration": 102,
    "start_time": "2022-07-28T06:38:12.530Z"
   },
   {
    "duration": 42,
    "start_time": "2022-07-28T06:38:13.151Z"
   },
   {
    "duration": 10,
    "start_time": "2022-07-28T06:38:15.376Z"
   },
   {
    "duration": 21,
    "start_time": "2022-07-28T06:38:16.690Z"
   },
   {
    "duration": 14,
    "start_time": "2022-07-28T06:38:19.145Z"
   },
   {
    "duration": 16,
    "start_time": "2022-07-28T06:38:21.904Z"
   },
   {
    "duration": 134,
    "start_time": "2022-07-28T06:38:23.649Z"
   },
   {
    "duration": 17,
    "start_time": "2022-07-28T06:38:24.648Z"
   },
   {
    "duration": 194,
    "start_time": "2022-07-28T06:38:26.888Z"
   },
   {
    "duration": 187,
    "start_time": "2022-07-28T06:38:28.368Z"
   },
   {
    "duration": 13,
    "start_time": "2022-07-28T06:38:29.252Z"
   },
   {
    "duration": 226,
    "start_time": "2022-07-28T06:38:29.556Z"
   },
   {
    "duration": 281,
    "start_time": "2022-07-28T06:38:51.096Z"
   },
   {
    "duration": 214,
    "start_time": "2022-07-28T06:38:52.733Z"
   },
   {
    "duration": 10,
    "start_time": "2022-07-28T06:38:57.144Z"
   },
   {
    "duration": 14,
    "start_time": "2022-07-28T06:39:12.733Z"
   },
   {
    "duration": 1113,
    "start_time": "2022-07-28T22:11:20.006Z"
   },
   {
    "duration": 1054,
    "start_time": "2022-07-28T22:11:21.121Z"
   },
   {
    "duration": 170,
    "start_time": "2022-07-28T22:11:22.179Z"
   },
   {
    "duration": 152,
    "start_time": "2022-07-28T22:11:22.351Z"
   },
   {
    "duration": 105,
    "start_time": "2022-07-28T22:11:22.505Z"
   },
   {
    "duration": 68,
    "start_time": "2022-07-28T22:11:22.612Z"
   },
   {
    "duration": 52,
    "start_time": "2022-07-28T22:11:22.682Z"
   },
   {
    "duration": 86,
    "start_time": "2022-07-28T22:11:22.736Z"
   },
   {
    "duration": 238,
    "start_time": "2022-07-28T22:11:22.824Z"
   },
   {
    "duration": 26,
    "start_time": "2022-07-28T22:11:23.073Z"
   },
   {
    "duration": 41,
    "start_time": "2022-07-28T22:11:23.100Z"
   },
   {
    "duration": 88,
    "start_time": "2022-07-28T22:11:23.143Z"
   },
   {
    "duration": 51,
    "start_time": "2022-07-28T22:11:23.232Z"
   },
   {
    "duration": 15,
    "start_time": "2022-07-28T22:11:23.286Z"
   },
   {
    "duration": 24,
    "start_time": "2022-07-28T22:11:23.302Z"
   },
   {
    "duration": 121,
    "start_time": "2022-07-28T22:11:23.328Z"
   },
   {
    "duration": 35,
    "start_time": "2022-07-28T22:11:23.451Z"
   },
   {
    "duration": 22,
    "start_time": "2022-07-28T22:11:23.487Z"
   },
   {
    "duration": 23,
    "start_time": "2022-07-28T22:11:23.511Z"
   },
   {
    "duration": 51,
    "start_time": "2022-07-28T22:11:23.536Z"
   },
   {
    "duration": 39,
    "start_time": "2022-07-28T22:11:23.588Z"
   },
   {
    "duration": 161,
    "start_time": "2022-07-28T22:11:23.629Z"
   },
   {
    "duration": 15,
    "start_time": "2022-07-28T22:11:23.792Z"
   },
   {
    "duration": 227,
    "start_time": "2022-07-28T22:11:23.808Z"
   },
   {
    "duration": 202,
    "start_time": "2022-07-28T22:11:24.036Z"
   },
   {
    "duration": 196,
    "start_time": "2022-07-28T22:11:24.239Z"
   },
   {
    "duration": 210,
    "start_time": "2022-07-28T22:11:24.437Z"
   },
   {
    "duration": 12,
    "start_time": "2022-07-28T22:11:24.649Z"
   },
   {
    "duration": 37,
    "start_time": "2022-07-28T22:11:24.664Z"
   }
  ],
  "kernelspec": {
   "display_name": "Python 3 (ipykernel)",
   "language": "python",
   "name": "python3"
  },
  "language_info": {
   "codemirror_mode": {
    "name": "ipython",
    "version": 3
   },
   "file_extension": ".py",
   "mimetype": "text/x-python",
   "name": "python",
   "nbconvert_exporter": "python",
   "pygments_lexer": "ipython3",
   "version": "3.9.12"
  },
  "toc": {
   "base_numbering": 1,
   "nav_menu": {},
   "number_sections": true,
   "sideBar": true,
   "skip_h1_title": true,
   "title_cell": "Table of Contents",
   "title_sidebar": "Contents",
   "toc_cell": false,
   "toc_position": {
    "height": "432px",
    "left": "52px",
    "top": "111.125px",
    "width": "206.672px"
   },
   "toc_section_display": true,
   "toc_window_display": true
  }
 },
 "nbformat": 4,
 "nbformat_minor": 2
}
