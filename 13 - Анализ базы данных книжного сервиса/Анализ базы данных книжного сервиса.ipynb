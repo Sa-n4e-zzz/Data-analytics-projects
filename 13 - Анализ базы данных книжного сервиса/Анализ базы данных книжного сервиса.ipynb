{
 "cells": [
  {
   "cell_type": "markdown",
   "metadata": {},
   "source": [
    "# Финальный проект по SQL\n",
    "\n",
    "**Описание проекта**\n",
    "\n",
    "Коронавирус застал мир врасплох, изменив привычный порядок вещей. В свободное время жители городов больше не выходят на улицу, не посещают кафе и торговые центры. Зато стало больше времени для книг. Это заметили стартаперы — и бросились создавать приложения для тех, кто любит читать.\n",
    "Ваша компания решила быть на волне и купила крупный сервис для чтения книг по подписке. Ваша первая задача как аналитика — проанализировать базу данных. В ней — информация о книгах, издательствах, авторах, а также пользовательские обзоры книг. Эти данные помогут сформулировать ценностное предложение для нового продукта.\n",
    "\n",
    "**Задачи:**\n",
    "- Посчитать, сколько книг вышло после 1 января 2000 года;\n",
    "- Для каждой книги посчитать количество обзоров и среднюю оценку;\n",
    "- Определить издательство, которое выпустило наибольшее число книг толще 50 страниц;\n",
    "- Определить автора с самой высокой средней оценкой книг — учитывайте только книги с 50 и более оценками;\n",
    "- Посчитать среднее количество обзоров от пользователей, которые поставили больше 50 оценок.\n",
    "\n",
    "**Описание данных:**\n",
    "\n",
    "**Таблица `books`**\n",
    "\n",
    "Содержит данные о книгах:\n",
    "\n",
    "- `book_id` — идентификатор книги;\n",
    "- `author_id` — идентификатор автора;\n",
    "- `title` — название книги;\n",
    "- `num_pages` — количество страниц;\n",
    "- `publication_date` — дата публикации книги;\n",
    "- `publisher_id` — идентификатор издателя.\n",
    "\n",
    "**Таблица `authors`**\n",
    "\n",
    "Содержит данные об авторах:\n",
    "\n",
    "- `author_id` — идентификатор автора;\n",
    "- `author` — имя автора.\n",
    "\n",
    "**Таблица `publishers`**\n",
    "\n",
    "Содержит данные об издательствах:\n",
    "\n",
    "- `publisher_id` — идентификатор издательства;\n",
    "- `publisher` — название издательства;\n",
    "\n",
    "**Таблица `ratings`**\n",
    "\n",
    "Содержит данные о пользовательских оценках книг:\n",
    "\n",
    "- `rating_id` — идентификатор оценки;\n",
    "- `book_id` — идентификатор книги;\n",
    "- `username` — имя пользователя, оставившего оценку;\n",
    "- `rating` — оценка книги.\n",
    "\n",
    "**Таблица `reviews`**\n",
    "\n",
    "Содержит данные о пользовательских обзорах на книги:\n",
    "\n",
    "- `review_id` — идентификатор обзора;\n",
    "- `book_id` — идентификатор книги;\n",
    "- `username` — имя пользователя, написавшего обзор;\n",
    "- `text` — текст обзора."
   ]
  },
  {
   "cell_type": "markdown",
   "metadata": {},
   "source": [
    "## Импортируем библиотеки"
   ]
  },
  {
   "cell_type": "code",
   "execution_count": 1,
   "metadata": {},
   "outputs": [],
   "source": [
    "import pandas as pd\n",
    "from sqlalchemy import create_engine"
   ]
  },
  {
   "cell_type": "markdown",
   "metadata": {},
   "source": [
    "## Прочитаем файл"
   ]
  },
  {
   "cell_type": "code",
   "execution_count": 2,
   "metadata": {},
   "outputs": [],
   "source": [
    "# устанавливаем параметры\n",
    "db_config = {'user': 'praktikum_student', # имя пользователя\n",
    "'pwd': 'Sdf4$2;d-d30pp', # пароль\n",
    "'host': 'rc1b-wcoijxj3yxfsf3fs.mdb.yandexcloud.net',\n",
    "'port': 6432, # порт подключения\n",
    "'db': 'data-analyst-final-project-db'} # название базы данных\n",
    "connection_string = 'postgresql://{}:{}@{}:{}/{}'.format(db_config['user'],\n",
    " db_config['pwd'],\n",
    " db_config['host'],\n",
    " db_config['port'],\n",
    " db_config['db'])\n",
    "# сохраняем коннектор\n",
    "engine = create_engine(connection_string, connect_args={'sslmode':'require'}) "
   ]
  },
  {
   "cell_type": "markdown",
   "metadata": {},
   "source": [
    "## Изучим таблицы"
   ]
  },
  {
   "cell_type": "markdown",
   "metadata": {},
   "source": [
    "### Выведем таблицу books"
   ]
  },
  {
   "cell_type": "code",
   "execution_count": 3,
   "metadata": {},
   "outputs": [
    {
     "data": {
      "text/html": [
       "<div>\n",
       "<style scoped>\n",
       "    .dataframe tbody tr th:only-of-type {\n",
       "        vertical-align: middle;\n",
       "    }\n",
       "\n",
       "    .dataframe tbody tr th {\n",
       "        vertical-align: top;\n",
       "    }\n",
       "\n",
       "    .dataframe thead th {\n",
       "        text-align: right;\n",
       "    }\n",
       "</style>\n",
       "<table border=\"1\" class=\"dataframe\">\n",
       "  <thead>\n",
       "    <tr style=\"text-align: right;\">\n",
       "      <th></th>\n",
       "      <th>book_id</th>\n",
       "      <th>author_id</th>\n",
       "      <th>title</th>\n",
       "      <th>num_pages</th>\n",
       "      <th>publication_date</th>\n",
       "      <th>publisher_id</th>\n",
       "    </tr>\n",
       "  </thead>\n",
       "  <tbody>\n",
       "    <tr>\n",
       "      <th>0</th>\n",
       "      <td>1</td>\n",
       "      <td>546</td>\n",
       "      <td>'Salem's Lot</td>\n",
       "      <td>594</td>\n",
       "      <td>2005-11-01</td>\n",
       "      <td>93</td>\n",
       "    </tr>\n",
       "    <tr>\n",
       "      <th>1</th>\n",
       "      <td>2</td>\n",
       "      <td>465</td>\n",
       "      <td>1 000 Places to See Before You Die</td>\n",
       "      <td>992</td>\n",
       "      <td>2003-05-22</td>\n",
       "      <td>336</td>\n",
       "    </tr>\n",
       "    <tr>\n",
       "      <th>2</th>\n",
       "      <td>3</td>\n",
       "      <td>407</td>\n",
       "      <td>13 Little Blue Envelopes (Little Blue Envelope...</td>\n",
       "      <td>322</td>\n",
       "      <td>2010-12-21</td>\n",
       "      <td>135</td>\n",
       "    </tr>\n",
       "    <tr>\n",
       "      <th>3</th>\n",
       "      <td>4</td>\n",
       "      <td>82</td>\n",
       "      <td>1491: New Revelations of the Americas Before C...</td>\n",
       "      <td>541</td>\n",
       "      <td>2006-10-10</td>\n",
       "      <td>309</td>\n",
       "    </tr>\n",
       "    <tr>\n",
       "      <th>4</th>\n",
       "      <td>5</td>\n",
       "      <td>125</td>\n",
       "      <td>1776</td>\n",
       "      <td>386</td>\n",
       "      <td>2006-07-04</td>\n",
       "      <td>268</td>\n",
       "    </tr>\n",
       "  </tbody>\n",
       "</table>\n",
       "</div>"
      ],
      "text/plain": [
       "   book_id  author_id                                              title  \\\n",
       "0        1        546                                       'Salem's Lot   \n",
       "1        2        465                 1 000 Places to See Before You Die   \n",
       "2        3        407  13 Little Blue Envelopes (Little Blue Envelope...   \n",
       "3        4         82  1491: New Revelations of the Americas Before C...   \n",
       "4        5        125                                               1776   \n",
       "\n",
       "   num_pages publication_date  publisher_id  \n",
       "0        594       2005-11-01            93  \n",
       "1        992       2003-05-22           336  \n",
       "2        322       2010-12-21           135  \n",
       "3        541       2006-10-10           309  \n",
       "4        386       2006-07-04           268  "
      ]
     },
     "execution_count": 3,
     "metadata": {},
     "output_type": "execute_result"
    }
   ],
   "source": [
    "query = '''\n",
    "SELECT *\n",
    "FROM books\n",
    "LIMIT 5\n",
    "'''\n",
    "pd.io.sql.read_sql(query, con = engine)"
   ]
  },
  {
   "cell_type": "markdown",
   "metadata": {},
   "source": [
    "### Выведем таблицу authors"
   ]
  },
  {
   "cell_type": "code",
   "execution_count": 4,
   "metadata": {},
   "outputs": [
    {
     "data": {
      "text/html": [
       "<div>\n",
       "<style scoped>\n",
       "    .dataframe tbody tr th:only-of-type {\n",
       "        vertical-align: middle;\n",
       "    }\n",
       "\n",
       "    .dataframe tbody tr th {\n",
       "        vertical-align: top;\n",
       "    }\n",
       "\n",
       "    .dataframe thead th {\n",
       "        text-align: right;\n",
       "    }\n",
       "</style>\n",
       "<table border=\"1\" class=\"dataframe\">\n",
       "  <thead>\n",
       "    <tr style=\"text-align: right;\">\n",
       "      <th></th>\n",
       "      <th>author_id</th>\n",
       "      <th>author</th>\n",
       "    </tr>\n",
       "  </thead>\n",
       "  <tbody>\n",
       "    <tr>\n",
       "      <th>0</th>\n",
       "      <td>1</td>\n",
       "      <td>A.S. Byatt</td>\n",
       "    </tr>\n",
       "    <tr>\n",
       "      <th>1</th>\n",
       "      <td>2</td>\n",
       "      <td>Aesop/Laura Harris/Laura Gibbs</td>\n",
       "    </tr>\n",
       "    <tr>\n",
       "      <th>2</th>\n",
       "      <td>3</td>\n",
       "      <td>Agatha Christie</td>\n",
       "    </tr>\n",
       "    <tr>\n",
       "      <th>3</th>\n",
       "      <td>4</td>\n",
       "      <td>Alan Brennert</td>\n",
       "    </tr>\n",
       "    <tr>\n",
       "      <th>4</th>\n",
       "      <td>5</td>\n",
       "      <td>Alan Moore/David   Lloyd</td>\n",
       "    </tr>\n",
       "  </tbody>\n",
       "</table>\n",
       "</div>"
      ],
      "text/plain": [
       "   author_id                          author\n",
       "0          1                      A.S. Byatt\n",
       "1          2  Aesop/Laura Harris/Laura Gibbs\n",
       "2          3                 Agatha Christie\n",
       "3          4                   Alan Brennert\n",
       "4          5        Alan Moore/David   Lloyd"
      ]
     },
     "execution_count": 4,
     "metadata": {},
     "output_type": "execute_result"
    }
   ],
   "source": [
    "query = '''\n",
    "SELECT *\n",
    "FROM authors\n",
    "LIMIT 5\n",
    "'''\n",
    "pd.io.sql.read_sql(query, con = engine)"
   ]
  },
  {
   "cell_type": "markdown",
   "metadata": {},
   "source": [
    "### Выведем таблицу publishers"
   ]
  },
  {
   "cell_type": "code",
   "execution_count": 5,
   "metadata": {},
   "outputs": [
    {
     "data": {
      "text/html": [
       "<div>\n",
       "<style scoped>\n",
       "    .dataframe tbody tr th:only-of-type {\n",
       "        vertical-align: middle;\n",
       "    }\n",
       "\n",
       "    .dataframe tbody tr th {\n",
       "        vertical-align: top;\n",
       "    }\n",
       "\n",
       "    .dataframe thead th {\n",
       "        text-align: right;\n",
       "    }\n",
       "</style>\n",
       "<table border=\"1\" class=\"dataframe\">\n",
       "  <thead>\n",
       "    <tr style=\"text-align: right;\">\n",
       "      <th></th>\n",
       "      <th>publisher_id</th>\n",
       "      <th>publisher</th>\n",
       "    </tr>\n",
       "  </thead>\n",
       "  <tbody>\n",
       "    <tr>\n",
       "      <th>0</th>\n",
       "      <td>1</td>\n",
       "      <td>Ace</td>\n",
       "    </tr>\n",
       "    <tr>\n",
       "      <th>1</th>\n",
       "      <td>2</td>\n",
       "      <td>Ace Book</td>\n",
       "    </tr>\n",
       "    <tr>\n",
       "      <th>2</th>\n",
       "      <td>3</td>\n",
       "      <td>Ace Books</td>\n",
       "    </tr>\n",
       "    <tr>\n",
       "      <th>3</th>\n",
       "      <td>4</td>\n",
       "      <td>Ace Hardcover</td>\n",
       "    </tr>\n",
       "    <tr>\n",
       "      <th>4</th>\n",
       "      <td>5</td>\n",
       "      <td>Addison Wesley Publishing Company</td>\n",
       "    </tr>\n",
       "  </tbody>\n",
       "</table>\n",
       "</div>"
      ],
      "text/plain": [
       "   publisher_id                          publisher\n",
       "0             1                                Ace\n",
       "1             2                           Ace Book\n",
       "2             3                          Ace Books\n",
       "3             4                      Ace Hardcover\n",
       "4             5  Addison Wesley Publishing Company"
      ]
     },
     "execution_count": 5,
     "metadata": {},
     "output_type": "execute_result"
    }
   ],
   "source": [
    "query = '''\n",
    "SELECT *\n",
    "FROM publishers\n",
    "LIMIT 5\n",
    "'''\n",
    "pd.io.sql.read_sql(query, con = engine)"
   ]
  },
  {
   "cell_type": "markdown",
   "metadata": {},
   "source": [
    "### Выведем таблицу ratings"
   ]
  },
  {
   "cell_type": "code",
   "execution_count": 6,
   "metadata": {},
   "outputs": [
    {
     "data": {
      "text/html": [
       "<div>\n",
       "<style scoped>\n",
       "    .dataframe tbody tr th:only-of-type {\n",
       "        vertical-align: middle;\n",
       "    }\n",
       "\n",
       "    .dataframe tbody tr th {\n",
       "        vertical-align: top;\n",
       "    }\n",
       "\n",
       "    .dataframe thead th {\n",
       "        text-align: right;\n",
       "    }\n",
       "</style>\n",
       "<table border=\"1\" class=\"dataframe\">\n",
       "  <thead>\n",
       "    <tr style=\"text-align: right;\">\n",
       "      <th></th>\n",
       "      <th>rating_id</th>\n",
       "      <th>book_id</th>\n",
       "      <th>username</th>\n",
       "      <th>rating</th>\n",
       "    </tr>\n",
       "  </thead>\n",
       "  <tbody>\n",
       "    <tr>\n",
       "      <th>0</th>\n",
       "      <td>1</td>\n",
       "      <td>1</td>\n",
       "      <td>ryanfranco</td>\n",
       "      <td>4</td>\n",
       "    </tr>\n",
       "    <tr>\n",
       "      <th>1</th>\n",
       "      <td>2</td>\n",
       "      <td>1</td>\n",
       "      <td>grantpatricia</td>\n",
       "      <td>2</td>\n",
       "    </tr>\n",
       "    <tr>\n",
       "      <th>2</th>\n",
       "      <td>3</td>\n",
       "      <td>1</td>\n",
       "      <td>brandtandrea</td>\n",
       "      <td>5</td>\n",
       "    </tr>\n",
       "    <tr>\n",
       "      <th>3</th>\n",
       "      <td>4</td>\n",
       "      <td>2</td>\n",
       "      <td>lorichen</td>\n",
       "      <td>3</td>\n",
       "    </tr>\n",
       "    <tr>\n",
       "      <th>4</th>\n",
       "      <td>5</td>\n",
       "      <td>2</td>\n",
       "      <td>mariokeller</td>\n",
       "      <td>2</td>\n",
       "    </tr>\n",
       "  </tbody>\n",
       "</table>\n",
       "</div>"
      ],
      "text/plain": [
       "   rating_id  book_id       username  rating\n",
       "0          1        1     ryanfranco       4\n",
       "1          2        1  grantpatricia       2\n",
       "2          3        1   brandtandrea       5\n",
       "3          4        2       lorichen       3\n",
       "4          5        2    mariokeller       2"
      ]
     },
     "execution_count": 6,
     "metadata": {},
     "output_type": "execute_result"
    }
   ],
   "source": [
    "query = '''\n",
    "SELECT *\n",
    "FROM ratings\n",
    "LIMIT 5\n",
    "'''\n",
    "pd.io.sql.read_sql(query, con = engine)"
   ]
  },
  {
   "cell_type": "markdown",
   "metadata": {},
   "source": [
    "### Выведем таблицу reviews"
   ]
  },
  {
   "cell_type": "code",
   "execution_count": 7,
   "metadata": {},
   "outputs": [
    {
     "data": {
      "text/html": [
       "<div>\n",
       "<style scoped>\n",
       "    .dataframe tbody tr th:only-of-type {\n",
       "        vertical-align: middle;\n",
       "    }\n",
       "\n",
       "    .dataframe tbody tr th {\n",
       "        vertical-align: top;\n",
       "    }\n",
       "\n",
       "    .dataframe thead th {\n",
       "        text-align: right;\n",
       "    }\n",
       "</style>\n",
       "<table border=\"1\" class=\"dataframe\">\n",
       "  <thead>\n",
       "    <tr style=\"text-align: right;\">\n",
       "      <th></th>\n",
       "      <th>review_id</th>\n",
       "      <th>book_id</th>\n",
       "      <th>username</th>\n",
       "      <th>text</th>\n",
       "    </tr>\n",
       "  </thead>\n",
       "  <tbody>\n",
       "    <tr>\n",
       "      <th>0</th>\n",
       "      <td>1</td>\n",
       "      <td>1</td>\n",
       "      <td>brandtandrea</td>\n",
       "      <td>Mention society tell send professor analysis. ...</td>\n",
       "    </tr>\n",
       "    <tr>\n",
       "      <th>1</th>\n",
       "      <td>2</td>\n",
       "      <td>1</td>\n",
       "      <td>ryanfranco</td>\n",
       "      <td>Foot glass pretty audience hit themselves. Amo...</td>\n",
       "    </tr>\n",
       "    <tr>\n",
       "      <th>2</th>\n",
       "      <td>3</td>\n",
       "      <td>2</td>\n",
       "      <td>lorichen</td>\n",
       "      <td>Listen treat keep worry. Miss husband tax but ...</td>\n",
       "    </tr>\n",
       "    <tr>\n",
       "      <th>3</th>\n",
       "      <td>4</td>\n",
       "      <td>3</td>\n",
       "      <td>johnsonamanda</td>\n",
       "      <td>Finally month interesting blue could nature cu...</td>\n",
       "    </tr>\n",
       "    <tr>\n",
       "      <th>4</th>\n",
       "      <td>5</td>\n",
       "      <td>3</td>\n",
       "      <td>scotttamara</td>\n",
       "      <td>Nation purpose heavy give wait song will. List...</td>\n",
       "    </tr>\n",
       "  </tbody>\n",
       "</table>\n",
       "</div>"
      ],
      "text/plain": [
       "   review_id  book_id       username  \\\n",
       "0          1        1   brandtandrea   \n",
       "1          2        1     ryanfranco   \n",
       "2          3        2       lorichen   \n",
       "3          4        3  johnsonamanda   \n",
       "4          5        3    scotttamara   \n",
       "\n",
       "                                                text  \n",
       "0  Mention society tell send professor analysis. ...  \n",
       "1  Foot glass pretty audience hit themselves. Amo...  \n",
       "2  Listen treat keep worry. Miss husband tax but ...  \n",
       "3  Finally month interesting blue could nature cu...  \n",
       "4  Nation purpose heavy give wait song will. List...  "
      ]
     },
     "execution_count": 7,
     "metadata": {},
     "output_type": "execute_result"
    }
   ],
   "source": [
    "query = '''\n",
    "SELECT *\n",
    "FROM reviews\n",
    "LIMIT 5\n",
    "'''\n",
    "pd.io.sql.read_sql(query, con = engine)"
   ]
  },
  {
   "cell_type": "markdown",
   "metadata": {},
   "source": [
    "Данные содержат информацию, представленную в тз, можем приступать к выполнению задания."
   ]
  },
  {
   "cell_type": "markdown",
   "metadata": {},
   "source": [
    "## Выполним задание"
   ]
  },
  {
   "cell_type": "markdown",
   "metadata": {},
   "source": [
    "### Посчитайте, сколько книг вышло после 1 января 2000 года"
   ]
  },
  {
   "cell_type": "code",
   "execution_count": 8,
   "metadata": {},
   "outputs": [
    {
     "data": {
      "text/html": [
       "<div>\n",
       "<style scoped>\n",
       "    .dataframe tbody tr th:only-of-type {\n",
       "        vertical-align: middle;\n",
       "    }\n",
       "\n",
       "    .dataframe tbody tr th {\n",
       "        vertical-align: top;\n",
       "    }\n",
       "\n",
       "    .dataframe thead th {\n",
       "        text-align: right;\n",
       "    }\n",
       "</style>\n",
       "<table border=\"1\" class=\"dataframe\">\n",
       "  <thead>\n",
       "    <tr style=\"text-align: right;\">\n",
       "      <th></th>\n",
       "      <th>count</th>\n",
       "    </tr>\n",
       "  </thead>\n",
       "  <tbody>\n",
       "    <tr>\n",
       "      <th>0</th>\n",
       "      <td>821</td>\n",
       "    </tr>\n",
       "  </tbody>\n",
       "</table>\n",
       "</div>"
      ],
      "text/plain": [
       "   count\n",
       "0    821"
      ]
     },
     "execution_count": 8,
     "metadata": {},
     "output_type": "execute_result"
    }
   ],
   "source": [
    "query = '''\n",
    "SELECT COUNT(book_id)\n",
    "FROM books\n",
    "WHERE publication_date >= '2000-01-01'\n",
    "'''\n",
    "pd.io.sql.read_sql(query, con = engine)"
   ]
  },
  {
   "cell_type": "markdown",
   "metadata": {},
   "source": [
    "После 1 января 2000 года вышло 821 книг."
   ]
  },
  {
   "cell_type": "markdown",
   "metadata": {},
   "source": [
    "### Для каждой книги посчитайте количество обзоров и среднюю оценку"
   ]
  },
  {
   "cell_type": "code",
   "execution_count": 9,
   "metadata": {
    "scrolled": false
   },
   "outputs": [
    {
     "data": {
      "text/html": [
       "<div>\n",
       "<style scoped>\n",
       "    .dataframe tbody tr th:only-of-type {\n",
       "        vertical-align: middle;\n",
       "    }\n",
       "\n",
       "    .dataframe tbody tr th {\n",
       "        vertical-align: top;\n",
       "    }\n",
       "\n",
       "    .dataframe thead th {\n",
       "        text-align: right;\n",
       "    }\n",
       "</style>\n",
       "<table border=\"1\" class=\"dataframe\">\n",
       "  <thead>\n",
       "    <tr style=\"text-align: right;\">\n",
       "      <th></th>\n",
       "      <th>book_id</th>\n",
       "      <th>title</th>\n",
       "      <th>review_count</th>\n",
       "      <th>avg_rating</th>\n",
       "    </tr>\n",
       "  </thead>\n",
       "  <tbody>\n",
       "    <tr>\n",
       "      <th>0</th>\n",
       "      <td>652</td>\n",
       "      <td>The Body in the Library (Miss Marple  #3)</td>\n",
       "      <td>2.0</td>\n",
       "      <td>4.500000</td>\n",
       "    </tr>\n",
       "    <tr>\n",
       "      <th>1</th>\n",
       "      <td>273</td>\n",
       "      <td>Galápagos</td>\n",
       "      <td>2.0</td>\n",
       "      <td>4.500000</td>\n",
       "    </tr>\n",
       "    <tr>\n",
       "      <th>2</th>\n",
       "      <td>51</td>\n",
       "      <td>A Tree Grows in Brooklyn</td>\n",
       "      <td>5.0</td>\n",
       "      <td>4.250000</td>\n",
       "    </tr>\n",
       "    <tr>\n",
       "      <th>3</th>\n",
       "      <td>951</td>\n",
       "      <td>Undaunted Courage: The Pioneering First Missio...</td>\n",
       "      <td>2.0</td>\n",
       "      <td>4.000000</td>\n",
       "    </tr>\n",
       "    <tr>\n",
       "      <th>4</th>\n",
       "      <td>839</td>\n",
       "      <td>The Prophet</td>\n",
       "      <td>4.0</td>\n",
       "      <td>4.285714</td>\n",
       "    </tr>\n",
       "    <tr>\n",
       "      <th>...</th>\n",
       "      <td>...</td>\n",
       "      <td>...</td>\n",
       "      <td>...</td>\n",
       "      <td>...</td>\n",
       "    </tr>\n",
       "    <tr>\n",
       "      <th>995</th>\n",
       "      <td>672</td>\n",
       "      <td>The Cat in the Hat and Other Dr. Seuss Favorites</td>\n",
       "      <td>NaN</td>\n",
       "      <td>5.000000</td>\n",
       "    </tr>\n",
       "    <tr>\n",
       "      <th>996</th>\n",
       "      <td>83</td>\n",
       "      <td>Anne Rice's The Vampire Lestat: A Graphic Novel</td>\n",
       "      <td>NaN</td>\n",
       "      <td>3.666667</td>\n",
       "    </tr>\n",
       "    <tr>\n",
       "      <th>997</th>\n",
       "      <td>221</td>\n",
       "      <td>Essential Tales and Poems</td>\n",
       "      <td>NaN</td>\n",
       "      <td>4.000000</td>\n",
       "    </tr>\n",
       "    <tr>\n",
       "      <th>998</th>\n",
       "      <td>387</td>\n",
       "      <td>Leonardo's Notebooks</td>\n",
       "      <td>NaN</td>\n",
       "      <td>4.000000</td>\n",
       "    </tr>\n",
       "    <tr>\n",
       "      <th>999</th>\n",
       "      <td>808</td>\n",
       "      <td>The Natural Way to Draw</td>\n",
       "      <td>NaN</td>\n",
       "      <td>3.000000</td>\n",
       "    </tr>\n",
       "  </tbody>\n",
       "</table>\n",
       "<p>1000 rows × 4 columns</p>\n",
       "</div>"
      ],
      "text/plain": [
       "     book_id                                              title  review_count  \\\n",
       "0        652          The Body in the Library (Miss Marple  #3)           2.0   \n",
       "1        273                                          Galápagos           2.0   \n",
       "2         51                           A Tree Grows in Brooklyn           5.0   \n",
       "3        951  Undaunted Courage: The Pioneering First Missio...           2.0   \n",
       "4        839                                        The Prophet           4.0   \n",
       "..       ...                                                ...           ...   \n",
       "995      672   The Cat in the Hat and Other Dr. Seuss Favorites           NaN   \n",
       "996       83    Anne Rice's The Vampire Lestat: A Graphic Novel           NaN   \n",
       "997      221                          Essential Tales and Poems           NaN   \n",
       "998      387                               Leonardo's Notebooks           NaN   \n",
       "999      808                            The Natural Way to Draw           NaN   \n",
       "\n",
       "     avg_rating  \n",
       "0      4.500000  \n",
       "1      4.500000  \n",
       "2      4.250000  \n",
       "3      4.000000  \n",
       "4      4.285714  \n",
       "..          ...  \n",
       "995    5.000000  \n",
       "996    3.666667  \n",
       "997    4.000000  \n",
       "998    4.000000  \n",
       "999    3.000000  \n",
       "\n",
       "[1000 rows x 4 columns]"
      ]
     },
     "execution_count": 9,
     "metadata": {},
     "output_type": "execute_result"
    }
   ],
   "source": [
    "query = '''\n",
    "WITH\n",
    "books_review_counts AS\n",
    "  (SELECT book_id,\n",
    "          COUNT(review_id) AS review_count\n",
    "   FROM reviews\n",
    "   GROUP BY book_id),\n",
    " \n",
    "books_avg_ratings AS \n",
    "  (SELECT book_id,\n",
    "          AVG(rating) AS avg_rating\n",
    "   FROM ratings\n",
    "   GROUP BY book_id)\n",
    "\n",
    "SELECT books.book_id,\n",
    "       books.title,\n",
    "       books_review_counts.review_count,\n",
    "       books_avg_ratings.avg_rating\n",
    "FROM books\n",
    "LEFT JOIN books_review_counts ON books.book_id = books_review_counts.book_id\n",
    "LEFT JOIN books_avg_ratings ON books.book_id = books_avg_ratings.book_id\n",
    "'''\n",
    "\n",
    "pd.io.sql.read_sql(query, con = engine) "
   ]
  },
  {
   "cell_type": "markdown",
   "metadata": {},
   "source": [
    "Не на все книги пользователи написали отзыв."
   ]
  },
  {
   "cell_type": "markdown",
   "metadata": {},
   "source": [
    "### Определите издательство, которое выпустило наибольшее число книг толще 50 страниц — так вы исключите из анализа брошюры"
   ]
  },
  {
   "cell_type": "code",
   "execution_count": 10,
   "metadata": {},
   "outputs": [
    {
     "data": {
      "text/html": [
       "<div>\n",
       "<style scoped>\n",
       "    .dataframe tbody tr th:only-of-type {\n",
       "        vertical-align: middle;\n",
       "    }\n",
       "\n",
       "    .dataframe tbody tr th {\n",
       "        vertical-align: top;\n",
       "    }\n",
       "\n",
       "    .dataframe thead th {\n",
       "        text-align: right;\n",
       "    }\n",
       "</style>\n",
       "<table border=\"1\" class=\"dataframe\">\n",
       "  <thead>\n",
       "    <tr style=\"text-align: right;\">\n",
       "      <th></th>\n",
       "      <th>publisher</th>\n",
       "      <th>count</th>\n",
       "    </tr>\n",
       "  </thead>\n",
       "  <tbody>\n",
       "    <tr>\n",
       "      <th>0</th>\n",
       "      <td>Penguin Books</td>\n",
       "      <td>42</td>\n",
       "    </tr>\n",
       "  </tbody>\n",
       "</table>\n",
       "</div>"
      ],
      "text/plain": [
       "       publisher  count\n",
       "0  Penguin Books     42"
      ]
     },
     "execution_count": 10,
     "metadata": {},
     "output_type": "execute_result"
    }
   ],
   "source": [
    "query = '''\n",
    "SELECT publishers.publisher,\n",
    "       COUNT(books.book_id)\n",
    "FROM books \n",
    "LEFT JOIN publishers ON books.publisher_id = publishers.publisher_id\n",
    "WHERE books.num_pages > 50\n",
    "GROUP BY publishers.publisher_id\n",
    "ORDER BY COUNT(books.book_id) DESC\n",
    "LIMIT 1\n",
    "'''\n",
    "pd.io.sql.read_sql(query, con = engine)"
   ]
  },
  {
   "cell_type": "markdown",
   "metadata": {},
   "source": [
    "Больше всего книг толще 50 страниц выпустило издательство \"Penguin Books\"."
   ]
  },
  {
   "cell_type": "markdown",
   "metadata": {},
   "source": [
    "### Определите автора с самой высокой средней оценкой книг — учитывайте только книги с 50 и более оценками"
   ]
  },
  {
   "cell_type": "code",
   "execution_count": 11,
   "metadata": {},
   "outputs": [
    {
     "data": {
      "text/html": [
       "<div>\n",
       "<style scoped>\n",
       "    .dataframe tbody tr th:only-of-type {\n",
       "        vertical-align: middle;\n",
       "    }\n",
       "\n",
       "    .dataframe tbody tr th {\n",
       "        vertical-align: top;\n",
       "    }\n",
       "\n",
       "    .dataframe thead th {\n",
       "        text-align: right;\n",
       "    }\n",
       "</style>\n",
       "<table border=\"1\" class=\"dataframe\">\n",
       "  <thead>\n",
       "    <tr style=\"text-align: right;\">\n",
       "      <th></th>\n",
       "      <th>author</th>\n",
       "      <th>avg</th>\n",
       "    </tr>\n",
       "  </thead>\n",
       "  <tbody>\n",
       "    <tr>\n",
       "      <th>0</th>\n",
       "      <td>J.K. Rowling/Mary GrandPré</td>\n",
       "      <td>4.283844</td>\n",
       "    </tr>\n",
       "  </tbody>\n",
       "</table>\n",
       "</div>"
      ],
      "text/plain": [
       "                       author       avg\n",
       "0  J.K. Rowling/Mary GrandPré  4.283844"
      ]
     },
     "execution_count": 11,
     "metadata": {},
     "output_type": "execute_result"
    }
   ],
   "source": [
    "query = '''\n",
    "WITH \n",
    "a AS (\n",
    "SELECT authors.author,\n",
    "       AVG(ratings.rating) AS avg_rating\n",
    "FROM books \n",
    "LEFT JOIN authors ON books.author_id = authors.author_id\n",
    "LEFT JOIN ratings ON ratings.book_id = books.book_id\n",
    "GROUP BY authors.author_id, books.book_id\n",
    "HAVING COUNT(ratings.rating_id) >= 50)\n",
    "\n",
    "SELECT a.author,\n",
    "       AVG(a.avg_rating)\n",
    "FROM a\n",
    "GROUP BY a.author\n",
    "ORDER BY AVG(a.avg_rating) DESC\n",
    "LIMIT 1\n",
    "'''\n",
    "pd.io.sql.read_sql(query, con = engine)"
   ]
  },
  {
   "cell_type": "markdown",
   "metadata": {},
   "source": [
    "Самая высокий показатель среднего рейтинга книг у дуэта J.K. Rowling/Mary GrandPré."
   ]
  },
  {
   "cell_type": "markdown",
   "metadata": {},
   "source": [
    "### Посчитайте среднее количество обзоров от пользователей, которые поставили больше 50 оценок"
   ]
  },
  {
   "cell_type": "code",
   "execution_count": 12,
   "metadata": {},
   "outputs": [
    {
     "data": {
      "text/html": [
       "<div>\n",
       "<style scoped>\n",
       "    .dataframe tbody tr th:only-of-type {\n",
       "        vertical-align: middle;\n",
       "    }\n",
       "\n",
       "    .dataframe tbody tr th {\n",
       "        vertical-align: top;\n",
       "    }\n",
       "\n",
       "    .dataframe thead th {\n",
       "        text-align: right;\n",
       "    }\n",
       "</style>\n",
       "<table border=\"1\" class=\"dataframe\">\n",
       "  <thead>\n",
       "    <tr style=\"text-align: right;\">\n",
       "      <th></th>\n",
       "      <th>avg</th>\n",
       "    </tr>\n",
       "  </thead>\n",
       "  <tbody>\n",
       "    <tr>\n",
       "      <th>0</th>\n",
       "      <td>24.333333</td>\n",
       "    </tr>\n",
       "  </tbody>\n",
       "</table>\n",
       "</div>"
      ],
      "text/plain": [
       "         avg\n",
       "0  24.333333"
      ]
     },
     "execution_count": 12,
     "metadata": {},
     "output_type": "execute_result"
    }
   ],
   "source": [
    "query = '''\n",
    "WITH\n",
    "users AS (\n",
    "SELECT username\n",
    "FROM ratings\n",
    "GROUP BY username\n",
    "HAVING COUNT(rating_id) > 50\n",
    "),\n",
    "\n",
    "rev AS (\n",
    "SELECT COUNT(review_id) AS rev_id\n",
    "FROM reviews\n",
    "WHERE username IN (SELECT *\n",
    "                   FROM users)\n",
    "GROUP BY username\n",
    ") \n",
    "\n",
    "SELECT AVG(rev_id)\n",
    "FROM rev\n",
    "'''\n",
    "pd.io.sql.read_sql(query, con = engine)"
   ]
  },
  {
   "cell_type": "markdown",
   "metadata": {},
   "source": [
    "Пользователи, которые поставили больше 50 оценок в среднем пишут по 24 отзыва."
   ]
  },
  {
   "cell_type": "markdown",
   "metadata": {},
   "source": [
    "## Общий вывод"
   ]
  },
  {
   "cell_type": "markdown",
   "metadata": {},
   "source": [
    "- После 1 января 2000 года вышло 821 книг.\n",
    "- Не на все книги пользователи написали отзыв.\n",
    "- Больше всего книг толще 50 страниц выпустило издательство \"Penguin Books\".\n",
    "- Самая высокий показатель среднего рейтинга книг у дуэта J.K. Rowling/Mary GrandPré.\n",
    "- Пользователи, которые поставили больше 50 оценок в среднем пишут по 24 отзыва.\n",
    "\n",
    "Одним из наиболее удачных вариантов для нового продукты - это книги издания \"Penguin Books\", автором, которых является J.K. Rowling/Mary GrandPré."
   ]
  }
 ],
 "metadata": {
  "ExecuteTimeLog": [
   {
    "duration": 460,
    "start_time": "2022-12-07T15:14:13.150Z"
   },
   {
    "duration": 2,
    "start_time": "2022-12-07T15:14:29.527Z"
   },
   {
    "duration": 4777,
    "start_time": "2022-12-07T15:14:36.678Z"
   },
   {
    "duration": 2,
    "start_time": "2022-12-07T15:16:07.382Z"
   },
   {
    "duration": 3,
    "start_time": "2022-12-07T15:16:08.348Z"
   },
   {
    "duration": 78,
    "start_time": "2022-12-07T15:17:14.833Z"
   },
   {
    "duration": 3,
    "start_time": "2022-12-07T15:17:27.923Z"
   },
   {
    "duration": 6,
    "start_time": "2022-12-07T15:17:28.399Z"
   },
   {
    "duration": 10,
    "start_time": "2022-12-07T15:17:28.809Z"
   },
   {
    "duration": 3,
    "start_time": "2022-12-07T15:21:26.584Z"
   },
   {
    "duration": 6,
    "start_time": "2022-12-07T15:21:45.964Z"
   },
   {
    "duration": 3,
    "start_time": "2022-12-07T15:21:46.991Z"
   },
   {
    "duration": 2,
    "start_time": "2022-12-07T15:24:58.866Z"
   },
   {
    "duration": 4,
    "start_time": "2022-12-07T15:25:01.346Z"
   },
   {
    "duration": 311,
    "start_time": "2022-12-07T15:25:43.216Z"
   },
   {
    "duration": 76,
    "start_time": "2022-12-07T15:25:56.103Z"
   },
   {
    "duration": 77,
    "start_time": "2022-12-07T15:26:20.850Z"
   },
   {
    "duration": 80,
    "start_time": "2022-12-07T15:26:27.084Z"
   },
   {
    "duration": 77,
    "start_time": "2022-12-07T15:28:16.359Z"
   },
   {
    "duration": 75,
    "start_time": "2022-12-07T15:28:29.666Z"
   },
   {
    "duration": 155,
    "start_time": "2022-12-07T15:28:38.424Z"
   },
   {
    "duration": 77,
    "start_time": "2022-12-07T15:28:42.847Z"
   },
   {
    "duration": 78,
    "start_time": "2022-12-07T15:28:54.850Z"
   },
   {
    "duration": 77,
    "start_time": "2022-12-07T15:37:37.467Z"
   },
   {
    "duration": 187,
    "start_time": "2022-12-07T15:45:02.267Z"
   },
   {
    "duration": 126,
    "start_time": "2022-12-07T15:45:27.119Z"
   },
   {
    "duration": 129,
    "start_time": "2022-12-07T15:45:46.084Z"
   },
   {
    "duration": 101,
    "start_time": "2022-12-07T15:46:10.011Z"
   },
   {
    "duration": 126,
    "start_time": "2022-12-07T15:59:19.390Z"
   },
   {
    "duration": 111,
    "start_time": "2022-12-07T15:59:31.578Z"
   },
   {
    "duration": 136,
    "start_time": "2022-12-07T15:59:53.499Z"
   },
   {
    "duration": 110,
    "start_time": "2022-12-07T15:59:56.665Z"
   },
   {
    "duration": 111,
    "start_time": "2022-12-07T16:01:05.702Z"
   },
   {
    "duration": 110,
    "start_time": "2022-12-07T16:01:18.669Z"
   },
   {
    "duration": 113,
    "start_time": "2022-12-07T16:01:32.346Z"
   },
   {
    "duration": 113,
    "start_time": "2022-12-07T16:02:30.869Z"
   },
   {
    "duration": 85,
    "start_time": "2022-12-07T16:04:11.918Z"
   },
   {
    "duration": 126,
    "start_time": "2022-12-07T16:05:21.635Z"
   },
   {
    "duration": 85,
    "start_time": "2022-12-07T16:07:28.235Z"
   },
   {
    "duration": 2,
    "start_time": "2022-12-07T16:13:09.975Z"
   },
   {
    "duration": 128,
    "start_time": "2022-12-07T16:13:49.219Z"
   },
   {
    "duration": 75,
    "start_time": "2022-12-07T16:14:07.614Z"
   },
   {
    "duration": 78,
    "start_time": "2022-12-07T16:14:29.007Z"
   },
   {
    "duration": 83,
    "start_time": "2022-12-07T16:14:47.385Z"
   },
   {
    "duration": 645,
    "start_time": "2022-12-07T19:03:27.302Z"
   },
   {
    "duration": 16,
    "start_time": "2022-12-07T19:03:43.451Z"
   },
   {
    "duration": 123,
    "start_time": "2022-12-07T19:05:20.798Z"
   },
   {
    "duration": 15,
    "start_time": "2022-12-07T19:06:11.425Z"
   },
   {
    "duration": 153,
    "start_time": "2022-12-07T19:11:42.749Z"
   },
   {
    "duration": 17,
    "start_time": "2022-12-07T19:12:30.836Z"
   },
   {
    "duration": 163,
    "start_time": "2022-12-07T19:17:17.998Z"
   },
   {
    "duration": 13,
    "start_time": "2022-12-07T19:17:35.265Z"
   },
   {
    "duration": 126,
    "start_time": "2022-12-07T19:22:23.932Z"
   },
   {
    "duration": 124,
    "start_time": "2022-12-07T19:23:19.040Z"
   },
   {
    "duration": 13,
    "start_time": "2022-12-07T19:28:18.723Z"
   },
   {
    "duration": 19,
    "start_time": "2022-12-07T19:30:38.917Z"
   },
   {
    "duration": 140,
    "start_time": "2022-12-07T19:48:18.093Z"
   },
   {
    "duration": 21,
    "start_time": "2022-12-07T19:48:50.156Z"
   },
   {
    "duration": 21,
    "start_time": "2022-12-07T19:52:05.616Z"
   },
   {
    "duration": 21,
    "start_time": "2022-12-07T19:52:34.792Z"
   },
   {
    "duration": 21,
    "start_time": "2022-12-07T19:52:43.255Z"
   },
   {
    "duration": 21,
    "start_time": "2022-12-07T19:52:56.724Z"
   },
   {
    "duration": 480,
    "start_time": "2022-12-07T19:53:08.756Z"
   },
   {
    "duration": 11113,
    "start_time": "2022-12-07T19:53:09.238Z"
   },
   {
    "duration": 40,
    "start_time": "2022-12-07T19:53:20.352Z"
   },
   {
    "duration": 10,
    "start_time": "2022-12-07T19:53:20.393Z"
   },
   {
    "duration": 9,
    "start_time": "2022-12-07T19:53:20.405Z"
   },
   {
    "duration": 12,
    "start_time": "2022-12-07T19:53:20.416Z"
   },
   {
    "duration": 12,
    "start_time": "2022-12-07T19:53:20.430Z"
   },
   {
    "duration": 10,
    "start_time": "2022-12-07T19:53:20.443Z"
   },
   {
    "duration": 21,
    "start_time": "2022-12-07T19:53:20.454Z"
   },
   {
    "duration": 31,
    "start_time": "2022-12-07T19:53:20.477Z"
   },
   {
    "duration": 14,
    "start_time": "2022-12-07T19:53:20.510Z"
   },
   {
    "duration": 12,
    "start_time": "2022-12-07T19:53:20.525Z"
   },
   {
    "duration": 511,
    "start_time": "2022-12-07T19:57:41.851Z"
   },
   {
    "duration": 11578,
    "start_time": "2022-12-07T19:57:42.363Z"
   },
   {
    "duration": 44,
    "start_time": "2022-12-07T19:57:53.943Z"
   },
   {
    "duration": 11,
    "start_time": "2022-12-07T19:57:53.989Z"
   },
   {
    "duration": 9,
    "start_time": "2022-12-07T19:57:54.002Z"
   },
   {
    "duration": 14,
    "start_time": "2022-12-07T19:57:54.013Z"
   },
   {
    "duration": 11,
    "start_time": "2022-12-07T19:57:54.029Z"
   },
   {
    "duration": 9,
    "start_time": "2022-12-07T19:57:54.042Z"
   },
   {
    "duration": 23,
    "start_time": "2022-12-07T19:57:54.052Z"
   },
   {
    "duration": 11,
    "start_time": "2022-12-07T19:57:54.078Z"
   },
   {
    "duration": 26,
    "start_time": "2022-12-07T19:57:54.090Z"
   },
   {
    "duration": 13,
    "start_time": "2022-12-07T19:57:54.117Z"
   },
   {
    "duration": 532,
    "start_time": "2022-12-08T07:00:05.968Z"
   },
   {
    "duration": 8605,
    "start_time": "2022-12-08T07:00:06.502Z"
   },
   {
    "duration": 302,
    "start_time": "2022-12-08T07:00:15.109Z"
   },
   {
    "duration": 76,
    "start_time": "2022-12-08T07:00:15.413Z"
   },
   {
    "duration": 79,
    "start_time": "2022-12-08T07:00:15.491Z"
   },
   {
    "duration": 78,
    "start_time": "2022-12-08T07:00:15.572Z"
   },
   {
    "duration": 76,
    "start_time": "2022-12-08T07:00:15.651Z"
   },
   {
    "duration": 76,
    "start_time": "2022-12-08T07:00:15.729Z"
   },
   {
    "duration": 87,
    "start_time": "2022-12-08T07:00:15.807Z"
   },
   {
    "duration": 88,
    "start_time": "2022-12-08T07:00:15.896Z"
   },
   {
    "duration": 86,
    "start_time": "2022-12-08T07:00:15.986Z"
   },
   {
    "duration": 82,
    "start_time": "2022-12-08T07:00:16.074Z"
   },
   {
    "duration": 112,
    "start_time": "2022-12-08T07:00:48.250Z"
   },
   {
    "duration": 84,
    "start_time": "2022-12-08T07:00:50.518Z"
   },
   {
    "duration": 81,
    "start_time": "2022-12-08T07:01:48.292Z"
   },
   {
    "duration": 80,
    "start_time": "2022-12-08T07:01:51.219Z"
   },
   {
    "duration": 47,
    "start_time": "2022-12-08T10:48:48.461Z"
   },
   {
    "duration": 483,
    "start_time": "2022-12-08T10:48:59.015Z"
   },
   {
    "duration": 5937,
    "start_time": "2022-12-08T10:48:59.500Z"
   },
   {
    "duration": 258,
    "start_time": "2022-12-08T10:49:05.439Z"
   },
   {
    "duration": 72,
    "start_time": "2022-12-08T10:49:05.699Z"
   },
   {
    "duration": 71,
    "start_time": "2022-12-08T10:49:05.773Z"
   },
   {
    "duration": 74,
    "start_time": "2022-12-08T10:49:05.846Z"
   },
   {
    "duration": 73,
    "start_time": "2022-12-08T10:49:05.922Z"
   },
   {
    "duration": 77,
    "start_time": "2022-12-08T10:49:05.997Z"
   },
   {
    "duration": 105,
    "start_time": "2022-12-08T10:49:06.076Z"
   },
   {
    "duration": 73,
    "start_time": "2022-12-08T10:49:06.183Z"
   },
   {
    "duration": 85,
    "start_time": "2022-12-08T10:49:06.257Z"
   },
   {
    "duration": 82,
    "start_time": "2022-12-08T10:49:06.344Z"
   },
   {
    "duration": 100,
    "start_time": "2022-12-08T10:56:11.782Z"
   },
   {
    "duration": 106,
    "start_time": "2022-12-08T11:00:24.182Z"
   },
   {
    "duration": 122,
    "start_time": "2022-12-08T11:03:58.097Z"
   },
   {
    "duration": 73,
    "start_time": "2022-12-08T11:04:02.465Z"
   },
   {
    "duration": 97,
    "start_time": "2022-12-08T11:04:40.996Z"
   },
   {
    "duration": 283,
    "start_time": "2022-12-08T11:05:27.381Z"
   },
   {
    "duration": 295,
    "start_time": "2022-12-08T11:05:47.897Z"
   },
   {
    "duration": 135,
    "start_time": "2022-12-08T11:09:42.333Z"
   },
   {
    "duration": 102,
    "start_time": "2022-12-08T11:10:15.661Z"
   },
   {
    "duration": 101,
    "start_time": "2022-12-08T11:10:44.938Z"
   },
   {
    "duration": 108,
    "start_time": "2022-12-08T11:11:12.862Z"
   },
   {
    "duration": 214,
    "start_time": "2022-12-08T11:11:24.456Z"
   },
   {
    "duration": 112,
    "start_time": "2022-12-08T11:12:01.898Z"
   },
   {
    "duration": 107,
    "start_time": "2022-12-08T11:12:27.347Z"
   },
   {
    "duration": 251,
    "start_time": "2022-12-08T11:30:33.648Z"
   },
   {
    "duration": 222,
    "start_time": "2022-12-08T11:31:09.473Z"
   },
   {
    "duration": 200,
    "start_time": "2022-12-08T11:31:24.891Z"
   },
   {
    "duration": 505,
    "start_time": "2022-12-08T11:31:44.000Z"
   },
   {
    "duration": 5321,
    "start_time": "2022-12-08T11:31:44.507Z"
   },
   {
    "duration": 259,
    "start_time": "2022-12-08T11:31:49.832Z"
   },
   {
    "duration": 74,
    "start_time": "2022-12-08T11:31:50.094Z"
   },
   {
    "duration": 71,
    "start_time": "2022-12-08T11:31:50.170Z"
   },
   {
    "duration": 72,
    "start_time": "2022-12-08T11:31:50.243Z"
   },
   {
    "duration": 74,
    "start_time": "2022-12-08T11:31:50.318Z"
   },
   {
    "duration": 70,
    "start_time": "2022-12-08T11:31:50.395Z"
   },
   {
    "duration": 189,
    "start_time": "2022-12-08T11:31:50.467Z"
   },
   {
    "duration": 74,
    "start_time": "2022-12-08T11:31:50.658Z"
   },
   {
    "duration": 76,
    "start_time": "2022-12-08T11:31:50.733Z"
   },
   {
    "duration": 74,
    "start_time": "2022-12-08T11:31:50.810Z"
   },
   {
    "duration": 104,
    "start_time": "2022-12-08T12:02:31.393Z"
   },
   {
    "duration": 548,
    "start_time": "2022-12-08T12:03:05.629Z"
   },
   {
    "duration": 5221,
    "start_time": "2022-12-08T12:03:06.179Z"
   },
   {
    "duration": 283,
    "start_time": "2022-12-08T12:03:11.402Z"
   },
   {
    "duration": 77,
    "start_time": "2022-12-08T12:03:11.687Z"
   },
   {
    "duration": 75,
    "start_time": "2022-12-08T12:03:11.767Z"
   },
   {
    "duration": 77,
    "start_time": "2022-12-08T12:03:11.843Z"
   },
   {
    "duration": 84,
    "start_time": "2022-12-08T12:03:11.922Z"
   },
   {
    "duration": 73,
    "start_time": "2022-12-08T12:03:12.009Z"
   },
   {
    "duration": 118,
    "start_time": "2022-12-08T12:03:12.083Z"
   },
   {
    "duration": 77,
    "start_time": "2022-12-08T12:03:12.203Z"
   },
   {
    "duration": 79,
    "start_time": "2022-12-08T12:03:12.282Z"
   },
   {
    "duration": 77,
    "start_time": "2022-12-08T12:03:12.363Z"
   },
   {
    "duration": 472,
    "start_time": "2023-01-25T19:46:13.833Z"
   },
   {
    "duration": 5156,
    "start_time": "2023-01-25T19:46:14.307Z"
   },
   {
    "duration": 290,
    "start_time": "2023-01-25T19:46:19.465Z"
   },
   {
    "duration": 76,
    "start_time": "2023-01-25T19:46:19.757Z"
   },
   {
    "duration": 76,
    "start_time": "2023-01-25T19:46:19.835Z"
   },
   {
    "duration": 162,
    "start_time": "2023-01-25T19:46:19.913Z"
   },
   {
    "duration": 78,
    "start_time": "2023-01-25T19:46:20.077Z"
   },
   {
    "duration": 76,
    "start_time": "2023-01-25T19:46:20.156Z"
   },
   {
    "duration": 109,
    "start_time": "2023-01-25T19:46:20.233Z"
   },
   {
    "duration": 77,
    "start_time": "2023-01-25T19:46:20.344Z"
   },
   {
    "duration": 83,
    "start_time": "2023-01-25T19:46:20.423Z"
   },
   {
    "duration": 79,
    "start_time": "2023-01-25T19:46:20.507Z"
   }
  ],
  "kernelspec": {
   "display_name": "Python 3 (ipykernel)",
   "language": "python",
   "name": "python3"
  },
  "language_info": {
   "codemirror_mode": {
    "name": "ipython",
    "version": 3
   },
   "file_extension": ".py",
   "mimetype": "text/x-python",
   "name": "python",
   "nbconvert_exporter": "python",
   "pygments_lexer": "ipython3",
   "version": "3.9.5"
  },
  "toc": {
   "base_numbering": 1,
   "nav_menu": {},
   "number_sections": true,
   "sideBar": true,
   "skip_h1_title": true,
   "title_cell": "Table of Contents",
   "title_sidebar": "Contents",
   "toc_cell": false,
   "toc_position": {},
   "toc_section_display": true,
   "toc_window_display": false
  }
 },
 "nbformat": 4,
 "nbformat_minor": 2
}
